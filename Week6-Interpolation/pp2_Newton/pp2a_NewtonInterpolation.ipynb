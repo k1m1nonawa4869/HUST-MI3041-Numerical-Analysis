{
 "cells": [
  {
   "cell_type": "code",
   "execution_count": 132,
   "id": "37d3234b",
   "metadata": {},
   "outputs": [],
   "source": [
    "import numpy as np\n",
    "import pandas as pd\n",
    "import math\n",
    "from typing import Tuple\n",
    "\n",
    "pd.set_option('display.precision', 12)  # Increase decimal precision\n",
    "pd.set_option('display.width', 300)     # Wider display\n",
    "pd.set_option('display.max_columns', None)  # Show all column"
   ]
  },
  {
   "cell_type": "code",
   "execution_count": 133,
   "id": "69bf4838",
   "metadata": {},
   "outputs": [],
   "source": [
    "def divided_differences(points, condition):\n",
    "    \"\"\"\n",
    "    points: list of (x_i, y_i) with x_i strictly increasing\n",
    "    condition: 1 -> forward (first elements of each column)\n",
    "               0 -> backward (last elements of each column)\n",
    "    returns: list of selected divided differences (length = len(points))\n",
    "    \"\"\"\n",
    "    x = np.array([p[0] for p in points], dtype=float)\n",
    "    y = np.array([p[1] for p in points], dtype=float)\n",
    "    m = len(points)\n",
    "    if m == 0:\n",
    "        return []\n",
    "    if not np.all(np.diff(x) > 0):\n",
    "        raise ValueError(\"x values must be strictly increasing.\")\n",
    "    table = np.full((m, m), np.nan, dtype=float)\n",
    "    table[:, 0] = y.copy()\n",
    "    for j in range(1, m):\n",
    "        for i in range(0, m - j):\n",
    "            table[i, j] = (table[i+1, j-1] - table[i, j-1]) / (x[i+j] - x[i])\n",
    "\n",
    "    # build DataFrame for display\n",
    "    data = {'x_i': x, 'y_i': table[:, 0]}\n",
    "    for j in range(1, m):\n",
    "        col_vals = [table[i, j] if i < m - j else np.nan for i in range(m)]\n",
    "        data[f'Order {j}'] = col_vals\n",
    "    df = pd.DataFrame(data)\n",
    "\n",
    "    # extract forward or backward selection\n",
    "    result = []\n",
    "    for j in range(m):\n",
    "        col = table[:m - j, j]\n",
    "        result.append(col[0] if condition == 1 else col[-1])\n",
    "    return df, result"
   ]
  },
  {
   "cell_type": "code",
   "execution_count": 134,
   "id": "689bccd7",
   "metadata": {},
   "outputs": [
    {
     "data": {
      "text/html": [
       "<style type=\"text/css\">\n",
       "</style>\n",
       "<table id=\"T_9ab5b\">\n",
       "  <thead>\n",
       "    <tr>\n",
       "      <th class=\"blank level0\" >&nbsp;</th>\n",
       "      <th id=\"T_9ab5b_level0_col0\" class=\"col_heading level0 col0\" >x_i</th>\n",
       "      <th id=\"T_9ab5b_level0_col1\" class=\"col_heading level0 col1\" >y_i</th>\n",
       "      <th id=\"T_9ab5b_level0_col2\" class=\"col_heading level0 col2\" >Order 1</th>\n",
       "      <th id=\"T_9ab5b_level0_col3\" class=\"col_heading level0 col3\" >Order 2</th>\n",
       "      <th id=\"T_9ab5b_level0_col4\" class=\"col_heading level0 col4\" >Order 3</th>\n",
       "      <th id=\"T_9ab5b_level0_col5\" class=\"col_heading level0 col5\" >Order 4</th>\n",
       "      <th id=\"T_9ab5b_level0_col6\" class=\"col_heading level0 col6\" >Order 5</th>\n",
       "    </tr>\n",
       "  </thead>\n",
       "  <tbody>\n",
       "    <tr>\n",
       "      <th id=\"T_9ab5b_level0_row0\" class=\"row_heading level0 row0\" >0</th>\n",
       "      <td id=\"T_9ab5b_row0_col0\" class=\"data row0 col0\" >1.200000</td>\n",
       "      <td id=\"T_9ab5b_row0_col1\" class=\"data row0 col1\" >0.724700</td>\n",
       "      <td id=\"T_9ab5b_row0_col2\" class=\"data row0 col2\" >-1.944000</td>\n",
       "      <td id=\"T_9ab5b_row0_col3\" class=\"data row0 col3\" >-0.104000</td>\n",
       "      <td id=\"T_9ab5b_row0_col4\" class=\"data row0 col4\" >0.332500</td>\n",
       "      <td id=\"T_9ab5b_row0_col5\" class=\"data row0 col5\" >-0.010648</td>\n",
       "      <td id=\"T_9ab5b_row0_col6\" class=\"data row0 col6\" >-0.015212</td>\n",
       "    </tr>\n",
       "    <tr>\n",
       "      <th id=\"T_9ab5b_level0_row1\" class=\"row_heading level0 row1\" >1</th>\n",
       "      <td id=\"T_9ab5b_row1_col0\" class=\"data row1 col0\" >1.500000</td>\n",
       "      <td id=\"T_9ab5b_row1_col1\" class=\"data row1 col1\" >0.141500</td>\n",
       "      <td id=\"T_9ab5b_row1_col2\" class=\"data row1 col2\" >-1.996000</td>\n",
       "      <td id=\"T_9ab5b_row1_col3\" class=\"data row1 col3\" >0.128750</td>\n",
       "      <td id=\"T_9ab5b_row1_col4\" class=\"data row1 col4\" >0.322917</td>\n",
       "      <td id=\"T_9ab5b_row1_col5\" class=\"data row1 col5\" >-0.028902</td>\n",
       "      <td id=\"T_9ab5b_row1_col6\" class=\"data row1 col6\" >nan</td>\n",
       "    </tr>\n",
       "    <tr>\n",
       "      <th id=\"T_9ab5b_level0_row2\" class=\"row_heading level0 row2\" >2</th>\n",
       "      <td id=\"T_9ab5b_row2_col0\" class=\"data row2 col0\" >1.700000</td>\n",
       "      <td id=\"T_9ab5b_row2_col1\" class=\"data row2 col1\" >-0.257700</td>\n",
       "      <td id=\"T_9ab5b_row2_col2\" class=\"data row2 col2\" >-1.944500</td>\n",
       "      <td id=\"T_9ab5b_row2_col3\" class=\"data row2 col3\" >0.322500</td>\n",
       "      <td id=\"T_9ab5b_row2_col4\" class=\"data row2 col4\" >0.296905</td>\n",
       "      <td id=\"T_9ab5b_row2_col5\" class=\"data row2 col5\" >nan</td>\n",
       "      <td id=\"T_9ab5b_row2_col6\" class=\"data row2 col6\" >nan</td>\n",
       "    </tr>\n",
       "    <tr>\n",
       "      <th id=\"T_9ab5b_level0_row3\" class=\"row_heading level0 row3\" >3</th>\n",
       "      <td id=\"T_9ab5b_row3_col0\" class=\"data row3 col0\" >1.900000</td>\n",
       "      <td id=\"T_9ab5b_row3_col1\" class=\"data row3 col1\" >-0.646600</td>\n",
       "      <td id=\"T_9ab5b_row3_col2\" class=\"data row3 col2\" >-1.815500</td>\n",
       "      <td id=\"T_9ab5b_row3_col3\" class=\"data row3 col3\" >0.530333</td>\n",
       "      <td id=\"T_9ab5b_row3_col4\" class=\"data row3 col4\" >nan</td>\n",
       "      <td id=\"T_9ab5b_row3_col5\" class=\"data row3 col5\" >nan</td>\n",
       "      <td id=\"T_9ab5b_row3_col6\" class=\"data row3 col6\" >nan</td>\n",
       "    </tr>\n",
       "    <tr>\n",
       "      <th id=\"T_9ab5b_level0_row4\" class=\"row_heading level0 row4\" >4</th>\n",
       "      <td id=\"T_9ab5b_row4_col0\" class=\"data row4 col0\" >2.100000</td>\n",
       "      <td id=\"T_9ab5b_row4_col1\" class=\"data row4 col1\" >-1.009700</td>\n",
       "      <td id=\"T_9ab5b_row4_col2\" class=\"data row4 col2\" >-1.550333</td>\n",
       "      <td id=\"T_9ab5b_row4_col3\" class=\"data row4 col3\" >nan</td>\n",
       "      <td id=\"T_9ab5b_row4_col4\" class=\"data row4 col4\" >nan</td>\n",
       "      <td id=\"T_9ab5b_row4_col5\" class=\"data row4 col5\" >nan</td>\n",
       "      <td id=\"T_9ab5b_row4_col6\" class=\"data row4 col6\" >nan</td>\n",
       "    </tr>\n",
       "    <tr>\n",
       "      <th id=\"T_9ab5b_level0_row5\" class=\"row_heading level0 row5\" >5</th>\n",
       "      <td id=\"T_9ab5b_row5_col0\" class=\"data row5 col0\" >2.400000</td>\n",
       "      <td id=\"T_9ab5b_row5_col1\" class=\"data row5 col1\" >-1.474800</td>\n",
       "      <td id=\"T_9ab5b_row5_col2\" class=\"data row5 col2\" >nan</td>\n",
       "      <td id=\"T_9ab5b_row5_col3\" class=\"data row5 col3\" >nan</td>\n",
       "      <td id=\"T_9ab5b_row5_col4\" class=\"data row5 col4\" >nan</td>\n",
       "      <td id=\"T_9ab5b_row5_col5\" class=\"data row5 col5\" >nan</td>\n",
       "      <td id=\"T_9ab5b_row5_col6\" class=\"data row5 col6\" >nan</td>\n",
       "    </tr>\n",
       "  </tbody>\n",
       "</table>\n"
      ],
      "text/plain": [
       "<pandas.io.formats.style.Styler at 0x1a2c307df90>"
      ]
     },
     "execution_count": 134,
     "metadata": {},
     "output_type": "execute_result"
    }
   ],
   "source": [
    "points = [(1.2, 0.7247), (1.5, 0.1415), (1.7, -0.2577), (1.9, -0.6466), (2.1, -1.0097), (2.4, -1.4748)]\n",
    "\n",
    "df, result = divided_differences(points, condition = 1)\n",
    "\n",
    "df.style"
   ]
  },
  {
   "cell_type": "code",
   "execution_count": 135,
   "id": "5ead6eb1",
   "metadata": {},
   "outputs": [
    {
     "name": "stdout",
     "output_type": "stream",
     "text": [
      "[np.float64(0.7247), np.float64(-1.944), np.float64(-0.10400000000000098), np.float64(0.33250000000000185), np.float64(-0.010648148148143766), np.float64(-0.01521164021166039)]\n"
     ]
    }
   ],
   "source": [
    "print(result)"
   ]
  },
  {
   "cell_type": "markdown",
   "id": "c4ffcb1d",
   "metadata": {},
   "source": [
    "# Newton Interpolation"
   ]
  },
  {
   "cell_type": "markdown",
   "id": "3855236e",
   "metadata": {},
   "source": [
    "## Algorithm"
   ]
  },
  {
   "cell_type": "markdown",
   "id": "f409fc33",
   "metadata": {},
   "source": [
    "\n",
    "- Divided Differences (Coefficients $\\mathbf{D}$)\n",
    "\n",
    "Given $m+1$ points $\\{(x_i, y_i)\\}_{i=0}^m$:\n",
    "\n",
    "1.  **Compute $j$-th order difference:**\n",
    "    $$f[x_i, \\dots, x_{i+j}] = \\frac{f[x_{i+1}, \\dots, x_{i+j}] - f[x_i, \\dots, x_{i+j-1}]}{x_{i+j} - x_i} \\quad \\text{for } j \\ge 1$$\n",
    "2.  **Base Case (0-th order):**\n",
    "    $$f[x_i] = y_i$$\n",
    "3.  **Select Interpolation Coefficients ($\\mathbf{D}$):**\n",
    "    * **Forward Newton (Condition 1):**\n",
    "        $$D_i = f[x_0, x_1, \\dots, x_i] \\quad \\text{for } i=0, \\dots, m$$\n",
    "    * **Backward Newton (Condition 0):**\n",
    "        $$D_i = f[x_{m-i}, x_{m-i+1}, \\dots, x_m] \\quad \\text{for } i=0, \\dots, m$$\n",
    "\n",
    "- Polynomial Construction\n",
    "\n",
    "The Newton interpolation polynomial $P_m(x)$ is given by:\n",
    "$$P_m(x) = \\sum_{i=0}^{m} D_i \\cdot B_i(x)$$\n",
    "where $B_i(x)$ is the basis polynomial.\n",
    "\n",
    "1.  **Basis Polynomial $B_i(x)$:**\n",
    "    * **Forward Form:** The nodes used are $x_0, x_1, \\dots, x_{i-1}$.\n",
    "        $$B_0(x) = 1$$\n",
    "        $$B_i(x) = \\prod_{k=0}^{i-1} (x - x_k) \\quad \\text{for } i \\ge 1$$\n",
    "    * **Backward Form:** The nodes used are $x_m, x_{m-1}, \\dots, x_{m-(i-1)}$.\n",
    "        $$B_0(x) = 1$$\n",
    "        $$B_i(x) = \\prod_{k=0}^{i-1} (x - x_{m-k}) \\quad \\text{for } i \\ge 1$$\n",
    "        * *(Note: The code handles the backward form by reversing $x$ and $D$, effectively using the forward structure on the reversed data.)*\n",
    "\n",
    "2.  **Expansion (Coefficient Generation):**\n",
    "    * Iteratively compute the expanded coefficients of $P_m(x)$ by performing the polynomial multiplication $B_i(x) = (x - x_k) B_{i-1}(x)$ and accumulating the components $D_i B_i(x)$.\n",
    "    * Final result is the array of coefficients $\\mathbf{N_{coeff}}$ for the standard form:\n",
    "        $$P_m(x) = a_0 + a_1 x + a_2 x^2 + \\dots + a_m x^m$$"
   ]
  },
  {
   "cell_type": "code",
   "execution_count": 136,
   "id": "26148621",
   "metadata": {},
   "outputs": [],
   "source": [
    "def newton_interpolation(points, condition):\n",
    "    \"\"\"\n",
    "    Build Newton interpolation polynomial coefficients (lowest -> highest).\n",
    "    Returns numpy array of coefficients [a0, a1, ..., a_n] (constant first).\n",
    "    \"\"\"\n",
    "    m = len(points)\n",
    "    if m == 0:\n",
    "        return np.array([])\n",
    "    x_arr = np.array([p[0] for p in points], dtype=float)\n",
    "    if not np.all(np.diff(x_arr) > 0):\n",
    "        raise ValueError(\"x values must be strictly increasing for the input points.\")\n",
    "    \n",
    "    # get divided differences (forward or backward)\n",
    "    tmp, D_list = divided_differences(points, condition=condition)\n",
    "    # for backward Newton, reverse x and D so loop is same shape\n",
    "    if condition == 0:\n",
    "        D_list = D_list[::-1]\n",
    "        x_arr = x_arr[::-1]\n",
    "    N_coeff = np.zeros(1, dtype=float)\n",
    "    steps = []\n",
    "    for i in range(m):\n",
    "        D_i = float(D_list[i])\n",
    "        # build B_{i-1}(x) using lowest-first coefficients\n",
    "        if i == 0:\n",
    "            B = np.array([1.0], dtype=float)\n",
    "        else:\n",
    "            B = np.array([1.0], dtype=float)\n",
    "            for k in range(i):\n",
    "                # (x - x_k) * B  -> x*B - x_k*B\n",
    "                xB = np.concatenate(([0.0], B))               # x * B (length len(B)+1)\n",
    "                aB = np.concatenate((x_arr[k] * B, [0.0]))    # x_k * B padded to same length\n",
    "                B = xB - aB\n",
    "        N_i = D_i * B\n",
    "        # add to total polynomial (pad if needed)\n",
    "        if len(N_coeff) < len(N_i):\n",
    "            N_coeff = np.pad(N_coeff, (0, len(N_i) - len(N_coeff)), constant_values=0.0)\n",
    "        N_coeff[:len(N_i)] += N_i\n",
    "        steps.append({\n",
    "            'i': i,\n",
    "            'D_i': D_i,\n",
    "            'B_(i-1) coeffs (low->high)': np.round(B, 8).tolist(),\n",
    "            'N_i coeffs (low->high)': np.round(N_i, 8).tolist()\n",
    "        })\n",
    "\n",
    "    step_pd = pd.DataFrame(steps)   \n",
    "    coeff_pd = pd.DataFrame({'Degree': list(range(len(N_coeff))), 'Coeff': N_coeff})\n",
    "\n",
    "    return step_pd, coeff_pd\n"
   ]
  },
  {
   "cell_type": "markdown",
   "id": "c586665a",
   "metadata": {},
   "source": [
    "## Result"
   ]
  },
  {
   "cell_type": "code",
   "execution_count": 137,
   "id": "c882a372",
   "metadata": {},
   "outputs": [],
   "source": [
    "points = [(1.2, 0.7247), (1.5, 0.1415), (1.7, -0.2577), (1.9, -0.6466), (2.1, -1.0097), (2.4, -1.4748)]\n",
    "step_pd, coeff_pd = newton_interpolation(points, condition=1)"
   ]
  },
  {
   "cell_type": "code",
   "execution_count": 138,
   "id": "3610b5bf",
   "metadata": {},
   "outputs": [
    {
     "data": {
      "text/html": [
       "<style type=\"text/css\">\n",
       "</style>\n",
       "<table id=\"T_94839\">\n",
       "  <thead>\n",
       "    <tr>\n",
       "      <th class=\"blank level0\" >&nbsp;</th>\n",
       "      <th id=\"T_94839_level0_col0\" class=\"col_heading level0 col0\" >i</th>\n",
       "      <th id=\"T_94839_level0_col1\" class=\"col_heading level0 col1\" >D_i</th>\n",
       "      <th id=\"T_94839_level0_col2\" class=\"col_heading level0 col2\" >B_(i-1) coeffs (low->high)</th>\n",
       "      <th id=\"T_94839_level0_col3\" class=\"col_heading level0 col3\" >N_i coeffs (low->high)</th>\n",
       "    </tr>\n",
       "  </thead>\n",
       "  <tbody>\n",
       "    <tr>\n",
       "      <th id=\"T_94839_level0_row0\" class=\"row_heading level0 row0\" >0</th>\n",
       "      <td id=\"T_94839_row0_col0\" class=\"data row0 col0\" >0</td>\n",
       "      <td id=\"T_94839_row0_col1\" class=\"data row0 col1\" >0.724700</td>\n",
       "      <td id=\"T_94839_row0_col2\" class=\"data row0 col2\" >[1.0]</td>\n",
       "      <td id=\"T_94839_row0_col3\" class=\"data row0 col3\" >[0.7247]</td>\n",
       "    </tr>\n",
       "    <tr>\n",
       "      <th id=\"T_94839_level0_row1\" class=\"row_heading level0 row1\" >1</th>\n",
       "      <td id=\"T_94839_row1_col0\" class=\"data row1 col0\" >1</td>\n",
       "      <td id=\"T_94839_row1_col1\" class=\"data row1 col1\" >-1.944000</td>\n",
       "      <td id=\"T_94839_row1_col2\" class=\"data row1 col2\" >[-1.2, 1.0]</td>\n",
       "      <td id=\"T_94839_row1_col3\" class=\"data row1 col3\" >[2.3328, -1.944]</td>\n",
       "    </tr>\n",
       "    <tr>\n",
       "      <th id=\"T_94839_level0_row2\" class=\"row_heading level0 row2\" >2</th>\n",
       "      <td id=\"T_94839_row2_col0\" class=\"data row2 col0\" >2</td>\n",
       "      <td id=\"T_94839_row2_col1\" class=\"data row2 col1\" >-0.104000</td>\n",
       "      <td id=\"T_94839_row2_col2\" class=\"data row2 col2\" >[1.8, -2.7, 1.0]</td>\n",
       "      <td id=\"T_94839_row2_col3\" class=\"data row2 col3\" >[-0.1872, 0.2808, -0.104]</td>\n",
       "    </tr>\n",
       "    <tr>\n",
       "      <th id=\"T_94839_level0_row3\" class=\"row_heading level0 row3\" >3</th>\n",
       "      <td id=\"T_94839_row3_col0\" class=\"data row3 col0\" >3</td>\n",
       "      <td id=\"T_94839_row3_col1\" class=\"data row3 col1\" >0.332500</td>\n",
       "      <td id=\"T_94839_row3_col2\" class=\"data row3 col2\" >[-3.06, 6.39, -4.4, 1.0]</td>\n",
       "      <td id=\"T_94839_row3_col3\" class=\"data row3 col3\" >[-1.01745, 2.124675, -1.463, 0.3325]</td>\n",
       "    </tr>\n",
       "    <tr>\n",
       "      <th id=\"T_94839_level0_row4\" class=\"row_heading level0 row4\" >4</th>\n",
       "      <td id=\"T_94839_row4_col0\" class=\"data row4 col0\" >4</td>\n",
       "      <td id=\"T_94839_row4_col1\" class=\"data row4 col1\" >-0.010648</td>\n",
       "      <td id=\"T_94839_row4_col2\" class=\"data row4 col2\" >[5.814, -15.201, 14.75, -6.3, 1.0]</td>\n",
       "      <td id=\"T_94839_row4_col3\" class=\"data row4 col3\" >[-0.06190833, 0.1618625, -0.15706019, 0.06708333, -0.01064815]</td>\n",
       "    </tr>\n",
       "    <tr>\n",
       "      <th id=\"T_94839_level0_row5\" class=\"row_heading level0 row5\" >5</th>\n",
       "      <td id=\"T_94839_row5_col0\" class=\"data row5 col0\" >5</td>\n",
       "      <td id=\"T_94839_row5_col1\" class=\"data row5 col1\" >-0.015212</td>\n",
       "      <td id=\"T_94839_row5_col2\" class=\"data row5 col2\" >[-12.2094, 37.7361, -46.176, 27.98, -8.4, 1.0]</td>\n",
       "      <td id=\"T_94839_row5_col3\" class=\"data row5 col3\" >[0.185725, -0.57402798, 0.7024127, -0.42562169, 0.12777778, -0.01521164]</td>\n",
       "    </tr>\n",
       "  </tbody>\n",
       "</table>\n"
      ],
      "text/plain": [
       "<pandas.io.formats.style.Styler at 0x1a2c307dd10>"
      ]
     },
     "execution_count": 138,
     "metadata": {},
     "output_type": "execute_result"
    }
   ],
   "source": [
    "step_pd.style"
   ]
  },
  {
   "cell_type": "code",
   "execution_count": 139,
   "id": "655b1786",
   "metadata": {},
   "outputs": [
    {
     "data": {
      "text/html": [
       "<style type=\"text/css\">\n",
       "</style>\n",
       "<table id=\"T_7b6cd\">\n",
       "  <thead>\n",
       "    <tr>\n",
       "      <th class=\"blank level0\" >&nbsp;</th>\n",
       "      <th id=\"T_7b6cd_level0_col0\" class=\"col_heading level0 col0\" >Degree</th>\n",
       "      <th id=\"T_7b6cd_level0_col1\" class=\"col_heading level0 col1\" >Coeff</th>\n",
       "    </tr>\n",
       "  </thead>\n",
       "  <tbody>\n",
       "    <tr>\n",
       "      <th id=\"T_7b6cd_level0_row0\" class=\"row_heading level0 row0\" >0</th>\n",
       "      <td id=\"T_7b6cd_row0_col0\" class=\"data row0 col0\" >0</td>\n",
       "      <td id=\"T_7b6cd_row0_col1\" class=\"data row0 col1\" >1.976667</td>\n",
       "    </tr>\n",
       "    <tr>\n",
       "      <th id=\"T_7b6cd_level0_row1\" class=\"row_heading level0 row1\" >1</th>\n",
       "      <td id=\"T_7b6cd_row1_col0\" class=\"data row1 col0\" >1</td>\n",
       "      <td id=\"T_7b6cd_row1_col1\" class=\"data row1 col1\" >0.049310</td>\n",
       "    </tr>\n",
       "    <tr>\n",
       "      <th id=\"T_7b6cd_level0_row2\" class=\"row_heading level0 row2\" >2</th>\n",
       "      <td id=\"T_7b6cd_row2_col0\" class=\"data row2 col0\" >2</td>\n",
       "      <td id=\"T_7b6cd_row2_col1\" class=\"data row2 col1\" >-1.021647</td>\n",
       "    </tr>\n",
       "    <tr>\n",
       "      <th id=\"T_7b6cd_level0_row3\" class=\"row_heading level0 row3\" >3</th>\n",
       "      <td id=\"T_7b6cd_row3_col0\" class=\"data row3 col0\" >3</td>\n",
       "      <td id=\"T_7b6cd_row3_col1\" class=\"data row3 col1\" >-0.026038</td>\n",
       "    </tr>\n",
       "    <tr>\n",
       "      <th id=\"T_7b6cd_level0_row4\" class=\"row_heading level0 row4\" >4</th>\n",
       "      <td id=\"T_7b6cd_row4_col0\" class=\"data row4 col0\" >4</td>\n",
       "      <td id=\"T_7b6cd_row4_col1\" class=\"data row4 col1\" >0.117130</td>\n",
       "    </tr>\n",
       "    <tr>\n",
       "      <th id=\"T_7b6cd_level0_row5\" class=\"row_heading level0 row5\" >5</th>\n",
       "      <td id=\"T_7b6cd_row5_col0\" class=\"data row5 col0\" >5</td>\n",
       "      <td id=\"T_7b6cd_row5_col1\" class=\"data row5 col1\" >-0.015212</td>\n",
       "    </tr>\n",
       "  </tbody>\n",
       "</table>\n"
      ],
      "text/plain": [
       "<pandas.io.formats.style.Styler at 0x1a2c307e350>"
      ]
     },
     "execution_count": 139,
     "metadata": {},
     "output_type": "execute_result"
    }
   ],
   "source": [
    "coeff_pd.style"
   ]
  }
 ],
 "metadata": {
  "kernelspec": {
   "display_name": "ds-env",
   "language": "python",
   "name": "python3"
  },
  "language_info": {
   "codemirror_mode": {
    "name": "ipython",
    "version": 3
   },
   "file_extension": ".py",
   "mimetype": "text/x-python",
   "name": "python",
   "nbconvert_exporter": "python",
   "pygments_lexer": "ipython3",
   "version": "3.13.3"
  }
 },
 "nbformat": 4,
 "nbformat_minor": 5
}
