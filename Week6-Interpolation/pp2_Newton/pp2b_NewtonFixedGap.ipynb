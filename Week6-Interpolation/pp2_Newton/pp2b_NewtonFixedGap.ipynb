{
 "cells": [
  {
   "cell_type": "code",
   "execution_count": 61,
   "id": "8105bca7",
   "metadata": {},
   "outputs": [],
   "source": [
    "import numpy as np\n",
    "import pandas as pd\n",
    "import math\n",
    "from typing import Tuple\n",
    "\n",
    "pd.set_option('display.precision', 12)  # Increase decimal precision\n",
    "pd.set_option('display.width', 300)     # Wider display\n",
    "pd.set_option('display.max_columns', None)  # Show all column"
   ]
  },
  {
   "cell_type": "code",
   "execution_count": 62,
   "id": "c20de5dd",
   "metadata": {},
   "outputs": [],
   "source": [
    "# --- Helper Function to Get Difference Table and Coefficients (MODIFIED) ---\n",
    "def EvenDifference(points, condition=1):\n",
    "    \"\"\"\n",
    "    Calculates the difference table and extracts coefficients.\n",
    "\n",
    "    Args:\n",
    "        points (list of tuples): A list of (x, y) data points.\n",
    "        condition (int): 1 for Forward (top diagonal), 0 for Backward (bottom diagonal).\n",
    "\n",
    "    Returns:\n",
    "        tuple: A tuple containing:\n",
    "            - pandas.DataFrame: The full difference table.\n",
    "            - list: The list of extracted coefficients.\n",
    "    \"\"\"\n",
    "    x_values = [p[0] for p in points]\n",
    "    y_values = [p[1] for p in points]\n",
    "    n = len(y_values)\n",
    "\n",
    "    # Internal calculation table\n",
    "    diff_calc_table = np.full((n, n), np.nan)\n",
    "    diff_calc_table[:, 0] = y_values\n",
    "    for j in range(1, n):\n",
    "        for i in range(n - j):\n",
    "            diff_calc_table[i, j] = diff_calc_table[i+1, j-1] - diff_calc_table[i, j-1]\n",
    "\n",
    "    # --- NEW: Format the output DataFrame ---\n",
    "    data = {\n",
    "        'x_i': x_values,\n",
    "        'y_i': y_values\n",
    "    }\n",
    "    for j in range(1, n):\n",
    "        data[f'Order {j}'] = diff_calc_table[:, j]\n",
    "    \n",
    "    df = pd.DataFrame(data)\n",
    "\n",
    "    # Extract coefficients (logic is unchanged)\n",
    "    if condition == 1:\n",
    "        coefficients = diff_calc_table[0, :].tolist()\n",
    "    else:\n",
    "        coeffs = []\n",
    "        for j in range(n):\n",
    "            coeffs.append(diff_calc_table[n-1-j, j])\n",
    "        coefficients = coeffs\n",
    "\n",
    "    return df, coefficients"
   ]
  },
  {
   "cell_type": "code",
   "execution_count": 63,
   "id": "cffbddf7",
   "metadata": {},
   "outputs": [],
   "source": [
    "scores = [(0.0, 1.0), (1.0, 4.0), (2.0, 13.0), (3.0, 34.0), (4.0, 73.0)]\n",
    "\n",
    "df, coeffs = EvenDifference(scores, condition = 1)"
   ]
  },
  {
   "cell_type": "code",
   "execution_count": 64,
   "id": "5f09568e",
   "metadata": {},
   "outputs": [
    {
     "data": {
      "application/vnd.microsoft.datawrangler.viewer.v0+json": {
       "columns": [
        {
         "name": "index",
         "rawType": "int64",
         "type": "integer"
        },
        {
         "name": "x_i",
         "rawType": "float64",
         "type": "float"
        },
        {
         "name": "y_i",
         "rawType": "float64",
         "type": "float"
        },
        {
         "name": "Order 1",
         "rawType": "float64",
         "type": "float"
        },
        {
         "name": "Order 2",
         "rawType": "float64",
         "type": "float"
        },
        {
         "name": "Order 3",
         "rawType": "float64",
         "type": "float"
        },
        {
         "name": "Order 4",
         "rawType": "float64",
         "type": "float"
        }
       ],
       "ref": "9e910002-57b0-4d74-8716-9695865ac1c4",
       "rows": [
        [
         "0",
         "0.0",
         "1.0",
         "3.0",
         "6.0",
         "6.0",
         "0.0"
        ],
        [
         "1",
         "1.0",
         "4.0",
         "9.0",
         "12.0",
         "6.0",
         null
        ],
        [
         "2",
         "2.0",
         "13.0",
         "21.0",
         "18.0",
         null,
         null
        ],
        [
         "3",
         "3.0",
         "34.0",
         "39.0",
         null,
         null,
         null
        ],
        [
         "4",
         "4.0",
         "73.0",
         null,
         null,
         null,
         null
        ]
       ],
       "shape": {
        "columns": 6,
        "rows": 5
       }
      },
      "text/html": [
       "<div>\n",
       "<style scoped>\n",
       "    .dataframe tbody tr th:only-of-type {\n",
       "        vertical-align: middle;\n",
       "    }\n",
       "\n",
       "    .dataframe tbody tr th {\n",
       "        vertical-align: top;\n",
       "    }\n",
       "\n",
       "    .dataframe thead th {\n",
       "        text-align: right;\n",
       "    }\n",
       "</style>\n",
       "<table border=\"1\" class=\"dataframe\">\n",
       "  <thead>\n",
       "    <tr style=\"text-align: right;\">\n",
       "      <th></th>\n",
       "      <th>x_i</th>\n",
       "      <th>y_i</th>\n",
       "      <th>Order 1</th>\n",
       "      <th>Order 2</th>\n",
       "      <th>Order 3</th>\n",
       "      <th>Order 4</th>\n",
       "    </tr>\n",
       "  </thead>\n",
       "  <tbody>\n",
       "    <tr>\n",
       "      <th>0</th>\n",
       "      <td>0.0</td>\n",
       "      <td>1.0</td>\n",
       "      <td>3.0</td>\n",
       "      <td>6.0</td>\n",
       "      <td>6.0</td>\n",
       "      <td>0.0</td>\n",
       "    </tr>\n",
       "    <tr>\n",
       "      <th>1</th>\n",
       "      <td>1.0</td>\n",
       "      <td>4.0</td>\n",
       "      <td>9.0</td>\n",
       "      <td>12.0</td>\n",
       "      <td>6.0</td>\n",
       "      <td>NaN</td>\n",
       "    </tr>\n",
       "    <tr>\n",
       "      <th>2</th>\n",
       "      <td>2.0</td>\n",
       "      <td>13.0</td>\n",
       "      <td>21.0</td>\n",
       "      <td>18.0</td>\n",
       "      <td>NaN</td>\n",
       "      <td>NaN</td>\n",
       "    </tr>\n",
       "    <tr>\n",
       "      <th>3</th>\n",
       "      <td>3.0</td>\n",
       "      <td>34.0</td>\n",
       "      <td>39.0</td>\n",
       "      <td>NaN</td>\n",
       "      <td>NaN</td>\n",
       "      <td>NaN</td>\n",
       "    </tr>\n",
       "    <tr>\n",
       "      <th>4</th>\n",
       "      <td>4.0</td>\n",
       "      <td>73.0</td>\n",
       "      <td>NaN</td>\n",
       "      <td>NaN</td>\n",
       "      <td>NaN</td>\n",
       "      <td>NaN</td>\n",
       "    </tr>\n",
       "  </tbody>\n",
       "</table>\n",
       "</div>"
      ],
      "text/plain": [
       "   x_i   y_i  Order 1  Order 2  Order 3  Order 4\n",
       "0  0.0   1.0      3.0      6.0      6.0      0.0\n",
       "1  1.0   4.0      9.0     12.0      6.0      NaN\n",
       "2  2.0  13.0     21.0     18.0      NaN      NaN\n",
       "3  3.0  34.0     39.0      NaN      NaN      NaN\n",
       "4  4.0  73.0      NaN      NaN      NaN      NaN"
      ]
     },
     "execution_count": 64,
     "metadata": {},
     "output_type": "execute_result"
    }
   ],
   "source": [
    "df"
   ]
  },
  {
   "cell_type": "code",
   "execution_count": 65,
   "id": "b2aa61c1",
   "metadata": {},
   "outputs": [
    {
     "data": {
      "text/plain": [
       "[1.0, 3.0, 6.0, 6.0, 0.0]"
      ]
     },
     "execution_count": 65,
     "metadata": {},
     "output_type": "execute_result"
    }
   ],
   "source": [
    "coeffs"
   ]
  },
  {
   "cell_type": "markdown",
   "id": "23a97487",
   "metadata": {},
   "source": [
    "## Newton Interpolation for Even-distributed Node"
   ]
  },
  {
   "cell_type": "markdown",
   "id": "84439c64",
   "metadata": {},
   "source": [
    "## Algorithm\n"
   ]
  },
  {
   "cell_type": "code",
   "execution_count": 66,
   "id": "3dd2ae56",
   "metadata": {},
   "outputs": [],
   "source": [
    "def NewtonInterpolation(points, condition=1):\n",
    "    \"\"\"\n",
    "    Constructs the Newton interpolation polynomial and returns the steps\n",
    "    and final coefficients as polished Pandas DataFrames.\n",
    "    \"\"\"\n",
    "    n = len(points) - 1\n",
    "    if n < 0:\n",
    "        return pd.DataFrame(), pd.DataFrame()\n",
    "\n",
    "    diff_table, diff_coeffs = EvenDifference(points, condition=condition)\n",
    "    print(\"--- Generated Difference Table ---\")\n",
    "    print(diff_table.to_string())\n",
    "    print(\"-\" * 30)\n",
    "\n",
    "    # --- NEW: Polished data structures for the output DataFrames ---\n",
    "    steps_data = []\n",
    "    N_coeffs_var = np.zeros(n + 1, dtype=float)\n",
    "    B_coeffs_prev = np.array([1.0])\n",
    "\n",
    "    for i in range(n + 1):\n",
    "        D_i = diff_coeffs[i] / math.factorial(i)\n",
    "        if i == 0:\n",
    "            B_coeffs = np.array([1.0], dtype=float)\n",
    "        else:\n",
    "            k = i - 1\n",
    "            varB = np.concatenate(([0.0], B_coeffs_prev))\n",
    "            kB = np.concatenate((k * B_coeffs_prev, [0.0]))\n",
    "            B_coeffs = varB - kB if condition == 1 else varB + kB\n",
    "        \n",
    "        B_coeffs_prev = B_coeffs.copy()\n",
    "        Ni_coeffs = D_i * B_coeffs\n",
    "        N_coeffs_var[:len(Ni_coeffs)] += Ni_coeffs\n",
    "\n",
    "        # Append the polished row of data for the steps DataFrame\n",
    "        steps_data.append({\n",
    "            'i': i,\n",
    "            'Diff Coeff': diff_coeffs[i],\n",
    "            'D_i': D_i,\n",
    "            'B_i Coeffs': B_coeffs.tolist(),\n",
    "            'N_i Coeffs': Ni_coeffs.tolist()\n",
    "        })\n",
    "\n",
    "    step_pd = pd.DataFrame(steps_data)\n",
    "    coeff_pd = pd.DataFrame({\n",
    "        'Degree': np.arange(n + 1),\n",
    "        'Coeff': N_coeffs_var\n",
    "    })\n",
    "\n",
    "    return step_pd, coeff_pd"
   ]
  },
  {
   "cell_type": "markdown",
   "id": "457874de",
   "metadata": {},
   "source": [
    "## Result"
   ]
  },
  {
   "cell_type": "code",
   "execution_count": 67,
   "id": "8cf1c547",
   "metadata": {},
   "outputs": [
    {
     "name": "stdout",
     "output_type": "stream",
     "text": [
      "--- Generated Difference Table ---\n",
      "   x_i   y_i  Order 1  Order 2  Order 3  Order 4\n",
      "0  0.0   1.0      3.0      6.0      6.0      0.0\n",
      "1  1.0   4.0      9.0     12.0      6.0      NaN\n",
      "2  2.0  13.0     21.0     18.0      NaN      NaN\n",
      "3  3.0  34.0     39.0      NaN      NaN      NaN\n",
      "4  4.0  73.0      NaN      NaN      NaN      NaN\n",
      "------------------------------\n"
     ]
    }
   ],
   "source": [
    "scores = [(0.0, 1.0), (1.0, 4.0), (2.0, 13.0), (3.0, 34.0), (4.0, 73.0)]\n",
    "\n",
    "step_df, final_coeff_df = NewtonInterpolation(input_points, condition=1)"
   ]
  },
  {
   "cell_type": "code",
   "execution_count": 68,
   "id": "3d2ce6ca",
   "metadata": {},
   "outputs": [
    {
     "data": {
      "text/html": [
       "<style type=\"text/css\">\n",
       "</style>\n",
       "<table id=\"T_2beb6\">\n",
       "  <thead>\n",
       "    <tr>\n",
       "      <th class=\"blank level0\" >&nbsp;</th>\n",
       "      <th id=\"T_2beb6_level0_col0\" class=\"col_heading level0 col0\" >i</th>\n",
       "      <th id=\"T_2beb6_level0_col1\" class=\"col_heading level0 col1\" >Diff Coeff</th>\n",
       "      <th id=\"T_2beb6_level0_col2\" class=\"col_heading level0 col2\" >D_i</th>\n",
       "      <th id=\"T_2beb6_level0_col3\" class=\"col_heading level0 col3\" >B_i Coeffs</th>\n",
       "      <th id=\"T_2beb6_level0_col4\" class=\"col_heading level0 col4\" >N_i Coeffs</th>\n",
       "    </tr>\n",
       "  </thead>\n",
       "  <tbody>\n",
       "    <tr>\n",
       "      <th id=\"T_2beb6_level0_row0\" class=\"row_heading level0 row0\" >0</th>\n",
       "      <td id=\"T_2beb6_row0_col0\" class=\"data row0 col0\" >0</td>\n",
       "      <td id=\"T_2beb6_row0_col1\" class=\"data row0 col1\" >1.000000</td>\n",
       "      <td id=\"T_2beb6_row0_col2\" class=\"data row0 col2\" >1.000000</td>\n",
       "      <td id=\"T_2beb6_row0_col3\" class=\"data row0 col3\" >[1.0]</td>\n",
       "      <td id=\"T_2beb6_row0_col4\" class=\"data row0 col4\" >[1.0]</td>\n",
       "    </tr>\n",
       "    <tr>\n",
       "      <th id=\"T_2beb6_level0_row1\" class=\"row_heading level0 row1\" >1</th>\n",
       "      <td id=\"T_2beb6_row1_col0\" class=\"data row1 col0\" >1</td>\n",
       "      <td id=\"T_2beb6_row1_col1\" class=\"data row1 col1\" >3.000000</td>\n",
       "      <td id=\"T_2beb6_row1_col2\" class=\"data row1 col2\" >3.000000</td>\n",
       "      <td id=\"T_2beb6_row1_col3\" class=\"data row1 col3\" >[0.0, 1.0]</td>\n",
       "      <td id=\"T_2beb6_row1_col4\" class=\"data row1 col4\" >[0.0, 3.0]</td>\n",
       "    </tr>\n",
       "    <tr>\n",
       "      <th id=\"T_2beb6_level0_row2\" class=\"row_heading level0 row2\" >2</th>\n",
       "      <td id=\"T_2beb6_row2_col0\" class=\"data row2 col0\" >2</td>\n",
       "      <td id=\"T_2beb6_row2_col1\" class=\"data row2 col1\" >6.000000</td>\n",
       "      <td id=\"T_2beb6_row2_col2\" class=\"data row2 col2\" >3.000000</td>\n",
       "      <td id=\"T_2beb6_row2_col3\" class=\"data row2 col3\" >[0.0, -1.0, 1.0]</td>\n",
       "      <td id=\"T_2beb6_row2_col4\" class=\"data row2 col4\" >[0.0, -3.0, 3.0]</td>\n",
       "    </tr>\n",
       "    <tr>\n",
       "      <th id=\"T_2beb6_level0_row3\" class=\"row_heading level0 row3\" >3</th>\n",
       "      <td id=\"T_2beb6_row3_col0\" class=\"data row3 col0\" >3</td>\n",
       "      <td id=\"T_2beb6_row3_col1\" class=\"data row3 col1\" >6.000000</td>\n",
       "      <td id=\"T_2beb6_row3_col2\" class=\"data row3 col2\" >1.000000</td>\n",
       "      <td id=\"T_2beb6_row3_col3\" class=\"data row3 col3\" >[0.0, 2.0, -3.0, 1.0]</td>\n",
       "      <td id=\"T_2beb6_row3_col4\" class=\"data row3 col4\" >[0.0, 2.0, -3.0, 1.0]</td>\n",
       "    </tr>\n",
       "    <tr>\n",
       "      <th id=\"T_2beb6_level0_row4\" class=\"row_heading level0 row4\" >4</th>\n",
       "      <td id=\"T_2beb6_row4_col0\" class=\"data row4 col0\" >4</td>\n",
       "      <td id=\"T_2beb6_row4_col1\" class=\"data row4 col1\" >0.000000</td>\n",
       "      <td id=\"T_2beb6_row4_col2\" class=\"data row4 col2\" >0.000000</td>\n",
       "      <td id=\"T_2beb6_row4_col3\" class=\"data row4 col3\" >[0.0, -6.0, 11.0, -6.0, 1.0]</td>\n",
       "      <td id=\"T_2beb6_row4_col4\" class=\"data row4 col4\" >[0.0, -0.0, 0.0, -0.0, 0.0]</td>\n",
       "    </tr>\n",
       "  </tbody>\n",
       "</table>\n"
      ],
      "text/plain": [
       "<pandas.io.formats.style.Styler at 0x242ab3e7890>"
      ]
     },
     "execution_count": 68,
     "metadata": {},
     "output_type": "execute_result"
    }
   ],
   "source": [
    "step_df.style"
   ]
  },
  {
   "cell_type": "code",
   "execution_count": 69,
   "id": "467c6db2",
   "metadata": {},
   "outputs": [
    {
     "data": {
      "text/html": [
       "<style type=\"text/css\">\n",
       "</style>\n",
       "<table id=\"T_19c09\">\n",
       "  <thead>\n",
       "    <tr>\n",
       "      <th class=\"blank level0\" >&nbsp;</th>\n",
       "      <th id=\"T_19c09_level0_col0\" class=\"col_heading level0 col0\" >Degree</th>\n",
       "      <th id=\"T_19c09_level0_col1\" class=\"col_heading level0 col1\" >Coeff</th>\n",
       "    </tr>\n",
       "  </thead>\n",
       "  <tbody>\n",
       "    <tr>\n",
       "      <th id=\"T_19c09_level0_row0\" class=\"row_heading level0 row0\" >0</th>\n",
       "      <td id=\"T_19c09_row0_col0\" class=\"data row0 col0\" >0</td>\n",
       "      <td id=\"T_19c09_row0_col1\" class=\"data row0 col1\" >1.000000</td>\n",
       "    </tr>\n",
       "    <tr>\n",
       "      <th id=\"T_19c09_level0_row1\" class=\"row_heading level0 row1\" >1</th>\n",
       "      <td id=\"T_19c09_row1_col0\" class=\"data row1 col0\" >1</td>\n",
       "      <td id=\"T_19c09_row1_col1\" class=\"data row1 col1\" >2.000000</td>\n",
       "    </tr>\n",
       "    <tr>\n",
       "      <th id=\"T_19c09_level0_row2\" class=\"row_heading level0 row2\" >2</th>\n",
       "      <td id=\"T_19c09_row2_col0\" class=\"data row2 col0\" >2</td>\n",
       "      <td id=\"T_19c09_row2_col1\" class=\"data row2 col1\" >0.000000</td>\n",
       "    </tr>\n",
       "    <tr>\n",
       "      <th id=\"T_19c09_level0_row3\" class=\"row_heading level0 row3\" >3</th>\n",
       "      <td id=\"T_19c09_row3_col0\" class=\"data row3 col0\" >3</td>\n",
       "      <td id=\"T_19c09_row3_col1\" class=\"data row3 col1\" >1.000000</td>\n",
       "    </tr>\n",
       "    <tr>\n",
       "      <th id=\"T_19c09_level0_row4\" class=\"row_heading level0 row4\" >4</th>\n",
       "      <td id=\"T_19c09_row4_col0\" class=\"data row4 col0\" >4</td>\n",
       "      <td id=\"T_19c09_row4_col1\" class=\"data row4 col1\" >0.000000</td>\n",
       "    </tr>\n",
       "  </tbody>\n",
       "</table>\n"
      ],
      "text/plain": [
       "<pandas.io.formats.style.Styler at 0x242ab3e74d0>"
      ]
     },
     "execution_count": 69,
     "metadata": {},
     "output_type": "execute_result"
    }
   ],
   "source": [
    "final_coeff_df.style"
   ]
  }
 ],
 "metadata": {
  "kernelspec": {
   "display_name": "ds-env",
   "language": "python",
   "name": "python3"
  },
  "language_info": {
   "codemirror_mode": {
    "name": "ipython",
    "version": 3
   },
   "file_extension": ".py",
   "mimetype": "text/x-python",
   "name": "python",
   "nbconvert_exporter": "python",
   "pygments_lexer": "ipython3",
   "version": "3.13.3"
  }
 },
 "nbformat": 4,
 "nbformat_minor": 5
}
