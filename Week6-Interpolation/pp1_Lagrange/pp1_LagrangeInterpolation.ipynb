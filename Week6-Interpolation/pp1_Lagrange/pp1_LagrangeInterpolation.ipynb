{
 "cells": [
  {
   "cell_type": "code",
   "execution_count": 129,
   "id": "3b231e94",
   "metadata": {},
   "outputs": [],
   "source": [
    "import numpy as np\n",
    "import pandas as pd\n",
    "import math\n",
    "from typing import Tuple\n",
    "\n",
    "pd.set_option('display.precision', 12)  # Increase decimal precision\n",
    "pd.set_option('display.width', 300)     # Wider display\n",
    "pd.set_option('display.max_columns', None)  # Show all column"
   ]
  },
  {
   "cell_type": "code",
   "execution_count": 130,
   "id": "6526c8f4",
   "metadata": {},
   "outputs": [],
   "source": [
    "# ------------------------------------------------------------\n",
    "# Helper function 1: w_function\n",
    "# Produce coefficient list of w_{n+1}(x) = Π (x - x_i)\n",
    "# ------------------------------------------------------------\n",
    "def w_function(x_points):\n",
    "    coeff = np.array([1.0])  # start with polynomial 1\n",
    "    for xi in x_points:\n",
    "        coeff = np.convolve(coeff, np.array([1.0, -xi]))  # multiply by (x - xi)\n",
    "    return coeff  # highest to lowest degree"
   ]
  },
  {
   "cell_type": "code",
   "execution_count": 131,
   "id": "c18bf8ef",
   "metadata": {},
   "outputs": [],
   "source": [
    "# ------------------------------------------------------------\n",
    "# Helper function 2: c_function\n",
    "# Produce coefficient list of C_i(x) = w_{n+1}(x) / (x - x_i)\n",
    "# ------------------------------------------------------------\n",
    "def c_function(w_coeffs, xi):\n",
    "    n = len(w_coeffs)\n",
    "    c_coeffs = np.zeros(n - 1)\n",
    "    remainder = 0.0\n",
    "    # Synthetic division by (x - xi)\n",
    "    for j in range(n - 1):\n",
    "        if j == 0:\n",
    "            c_coeffs[j] = w_coeffs[j]\n",
    "        else:\n",
    "            c_coeffs[j] = w_coeffs[j] + xi * c_coeffs[j - 1]\n",
    "    remainder = w_coeffs[-1] + xi * c_coeffs[-1]\n",
    "    # We expect remainder ≈ 0 if everything is correct\n",
    "    return c_coeffs\n"
   ]
  },
  {
   "cell_type": "markdown",
   "id": "9705c055",
   "metadata": {},
   "source": [
    "# Lagrange Interpolation"
   ]
  },
  {
   "cell_type": "markdown",
   "id": "77d8414f",
   "metadata": {},
   "source": [
    "## Algorithm"
   ]
  },
  {
   "cell_type": "markdown",
   "id": "e388da5c",
   "metadata": {},
   "source": [
    "- Algorithm: Lagrange Interpolation\n",
    "\n",
    "**Input:** $(x_0, y_0), (x_1, y_1), \\dots, (x_n, y_n)$  with $x_i$ increasing and distinct.\n",
    "\n",
    "**Output:** Coefficients of polynomial $L(x)$ passing through all given points.\n",
    "\n",
    "- Steps\n",
    "\n",
    "1. Compute the base polynomial $w_{n+1}(x) = \\prod_{i=0}^{n} (x - x_i)$  \n",
    "   → obtain coefficient list of $w_{n+1}(x)$.\n",
    "\n",
    "2. For each $i = 0, 1, \\dots, n$:\n",
    "   - Compute $D_i = \\dfrac{y_i}{\\prod_{k=0, k \\ne i}^{n} (x_i - x_k)}$\n",
    "   - Compute $C_i(x) = \\dfrac{w_{n+1}(x)}{(x - x_i)}$\n",
    "   - Form $L_i(x) = D_i \\cdot C_i(x)$\n",
    "\n",
    "3. Sum all sub-polynomials:  \n",
    "   $L(x) = \\sum_{i=0}^{n} L_i(x)$\n",
    "\n",
    "4. Return the coefficient list of $L(x)$ from lowest to highest degree."
   ]
  },
  {
   "cell_type": "code",
   "execution_count": 132,
   "id": "402a4a5f",
   "metadata": {},
   "outputs": [],
   "source": [
    "\n",
    "# ------------------------------------------------------------\n",
    "# Main function: lagrange_interpolation\n",
    "# ------------------------------------------------------------\n",
    "def lagrange_interpolation(points):\n",
    "    x_points = np.array([p[0] for p in points], dtype=float)\n",
    "    y_points = np.array([p[1] for p in points], dtype=float)\n",
    "    n = len(points) - 1\n",
    "\n",
    "    # Step 1: Compute w(x)\n",
    "    w_coeffs = w_function(x_points)\n",
    "\n",
    "    w_coeffs_df = pd.DataFrame({'Degree': list(range(len(w_coeffs)-1, -1, -1)), 'Coeff': w_coeffs})\n",
    "\n",
    "    # Step 2: Compute each L_i(x)\n",
    "    all_Li = []\n",
    "    table_data = []\n",
    "\n",
    "    for i in range(n + 1):\n",
    "        xi, yi = x_points[i], y_points[i]\n",
    "        \n",
    "        # D_i calculation\n",
    "        denom = np.prod([xi - xk for j, xk in enumerate(x_points) if j != i])\n",
    "        D_i = yi / denom\n",
    "        \n",
    "        # C_i(x)\n",
    "        C_i = c_function(w_coeffs, xi)\n",
    "        \n",
    "        # L_i(x) = D_i * C_i(x)\n",
    "        L_i = D_i * C_i\n",
    "        all_Li.append(L_i)\n",
    "        \n",
    "        # Store intermediate results\n",
    "        table_data.append({\n",
    "            'i': i,\n",
    "            'x_i': xi,\n",
    "            'y_i': yi,\n",
    "            'denom': denom,\n",
    "            'D_i': D_i,\n",
    "            'C_i(x) coeffs': C_i.tolist(),\n",
    "            'L_i(x) coeffs': L_i.tolist()\n",
    "        })\n",
    "\n",
    "    sub_lagrange_df = pd.DataFrame(table_data)\n",
    "\n",
    "    # Step 3: Sum all L_i(x)\n",
    "    max_len = max(len(Li) for Li in all_Li)\n",
    "    L_coeffs = np.zeros(max_len)\n",
    "    for Li in all_Li:\n",
    "        L_coeffs[-len(Li):] += Li  # align degrees\n",
    "\n",
    "    coeff_table = pd.DataFrame({\n",
    "        'Degree': list(range(len(L_coeffs))),\n",
    "        'Coeff': L_coeffs,\n",
    "    })\n",
    "\n",
    "    return w_coeffs_df, sub_lagrange_df, coeff_table"
   ]
  },
  {
   "cell_type": "markdown",
   "id": "d4d3edd1",
   "metadata": {},
   "source": [
    "## Result"
   ]
  },
  {
   "cell_type": "code",
   "execution_count": 133,
   "id": "7cfc038d",
   "metadata": {},
   "outputs": [],
   "source": [
    "# ------------------------------------------------------------\n",
    "# Example run\n",
    "# ------------------------------------------------------------\n",
    "#points = [(1, 17), (2, 17.5), (3, 76), (4, 210.5), (7, 1970)]\n",
    "points = [(1.2, 0.892), (1.5, 1.179), (1.7, 1.358), (1.8, 1.445), (2.1, 1.688), (2.3, 1.839)]\n",
    "w_coeffs_df, sub_lagrange_df, coeff_table = lagrange_interpolation(points)"
   ]
  },
  {
   "cell_type": "code",
   "execution_count": 140,
   "id": "23109edd",
   "metadata": {},
   "outputs": [
    {
     "data": {
      "text/html": [
       "<style type=\"text/css\">\n",
       "</style>\n",
       "<table id=\"T_084bf\">\n",
       "  <thead>\n",
       "    <tr>\n",
       "      <th id=\"T_084bf_level0_col0\" class=\"col_heading level0 col0\" >Degree</th>\n",
       "      <th id=\"T_084bf_level0_col1\" class=\"col_heading level0 col1\" >Coeff</th>\n",
       "    </tr>\n",
       "  </thead>\n",
       "  <tbody>\n",
       "    <tr>\n",
       "      <td id=\"T_084bf_row0_col0\" class=\"data row0 col0\" >6</td>\n",
       "      <td id=\"T_084bf_row0_col1\" class=\"data row0 col1\" >1.000000</td>\n",
       "    </tr>\n",
       "    <tr>\n",
       "      <td id=\"T_084bf_row1_col0\" class=\"data row1 col0\" >5</td>\n",
       "      <td id=\"T_084bf_row1_col1\" class=\"data row1 col1\" >-10.600000</td>\n",
       "    </tr>\n",
       "    <tr>\n",
       "      <td id=\"T_084bf_row2_col0\" class=\"data row2 col0\" >4</td>\n",
       "      <td id=\"T_084bf_row2_col1\" class=\"data row2 col1\" >46.420000</td>\n",
       "    </tr>\n",
       "    <tr>\n",
       "      <td id=\"T_084bf_row3_col0\" class=\"data row3 col0\" >3</td>\n",
       "      <td id=\"T_084bf_row3_col1\" class=\"data row3 col1\" >-107.472000</td>\n",
       "    </tr>\n",
       "    <tr>\n",
       "      <td id=\"T_084bf_row4_col0\" class=\"data row4 col0\" >2</td>\n",
       "      <td id=\"T_084bf_row4_col1\" class=\"data row4 col1\" >138.698100</td>\n",
       "    </tr>\n",
       "    <tr>\n",
       "      <td id=\"T_084bf_row5_col0\" class=\"data row5 col0\" >1</td>\n",
       "      <td id=\"T_084bf_row5_col1\" class=\"data row5 col1\" >-94.569660</td>\n",
       "    </tr>\n",
       "    <tr>\n",
       "      <td id=\"T_084bf_row6_col0\" class=\"data row6 col0\" >0</td>\n",
       "      <td id=\"T_084bf_row6_col1\" class=\"data row6 col1\" >26.603640</td>\n",
       "    </tr>\n",
       "  </tbody>\n",
       "</table>\n"
      ],
      "text/plain": [
       "<pandas.io.formats.style.Styler at 0x2577b6c8cd0>"
      ]
     },
     "execution_count": 140,
     "metadata": {},
     "output_type": "execute_result"
    }
   ],
   "source": [
    "w_coeffs_df.style.hide(axis=\"index\")"
   ]
  },
  {
   "cell_type": "code",
   "execution_count": 138,
   "id": "15bfd905",
   "metadata": {},
   "outputs": [
    {
     "data": {
      "text/html": [
       "<style type=\"text/css\">\n",
       "</style>\n",
       "<table id=\"T_5ddf2\">\n",
       "  <thead>\n",
       "    <tr>\n",
       "      <th id=\"T_5ddf2_level0_col0\" class=\"col_heading level0 col0\" >i</th>\n",
       "      <th id=\"T_5ddf2_level0_col1\" class=\"col_heading level0 col1\" >x_i</th>\n",
       "      <th id=\"T_5ddf2_level0_col2\" class=\"col_heading level0 col2\" >y_i</th>\n",
       "      <th id=\"T_5ddf2_level0_col3\" class=\"col_heading level0 col3\" >denom</th>\n",
       "      <th id=\"T_5ddf2_level0_col4\" class=\"col_heading level0 col4\" >D_i</th>\n",
       "      <th id=\"T_5ddf2_level0_col5\" class=\"col_heading level0 col5\" >C_i(x) coeffs</th>\n",
       "      <th id=\"T_5ddf2_level0_col6\" class=\"col_heading level0 col6\" >L_i(x) coeffs</th>\n",
       "    </tr>\n",
       "  </thead>\n",
       "  <tbody>\n",
       "    <tr>\n",
       "      <td id=\"T_5ddf2_row0_col0\" class=\"data row0 col0\" >0</td>\n",
       "      <td id=\"T_5ddf2_row0_col1\" class=\"data row0 col1\" >1.200000</td>\n",
       "      <td id=\"T_5ddf2_row0_col2\" class=\"data row0 col2\" >0.892000</td>\n",
       "      <td id=\"T_5ddf2_row0_col3\" class=\"data row0 col3\" >-0.089100</td>\n",
       "      <td id=\"T_5ddf2_row0_col4\" class=\"data row0 col4\" >-10.011223</td>\n",
       "      <td id=\"T_5ddf2_row0_col5\" class=\"data row0 col5\" >[1.0, -9.400000000000002, 35.14, -65.304, 60.33330000000001, -22.16969999999999]</td>\n",
       "      <td id=\"T_5ddf2_row0_col6\" class=\"data row0 col6\" >[-10.011223344556676, 94.10549943883278, -351.7943883277216, 653.7729292929292, -604.0101414141413, 221.94581818181805]</td>\n",
       "    </tr>\n",
       "    <tr>\n",
       "      <td id=\"T_5ddf2_row1_col0\" class=\"data row1 col0\" >1</td>\n",
       "      <td id=\"T_5ddf2_row1_col1\" class=\"data row1 col1\" >1.500000</td>\n",
       "      <td id=\"T_5ddf2_row1_col2\" class=\"data row1 col2\" >1.179000</td>\n",
       "      <td id=\"T_5ddf2_row1_col3\" class=\"data row1 col3\" >0.008640</td>\n",
       "      <td id=\"T_5ddf2_row1_col4\" class=\"data row1 col4\" >136.458333</td>\n",
       "      <td id=\"T_5ddf2_row1_col5\" class=\"data row1 col5\" >[1.0, -9.100000000000001, 32.769999999999996, -58.317000000000014, 51.222599999999986, -17.735760000000028]</td>\n",
       "      <td id=\"T_5ddf2_row1_col6\" class=\"data row1 col6\" >[136.45833333333334, -1241.7708333333337, 4471.739583333333, -7957.840625000003, 6989.750624999999, -2420.1922500000037]</td>\n",
       "    </tr>\n",
       "    <tr>\n",
       "      <td id=\"T_5ddf2_row2_col0\" class=\"data row2 col0\" >2</td>\n",
       "      <td id=\"T_5ddf2_row2_col1\" class=\"data row2 col1\" >1.700000</td>\n",
       "      <td id=\"T_5ddf2_row2_col2\" class=\"data row2 col2\" >1.358000</td>\n",
       "      <td id=\"T_5ddf2_row2_col3\" class=\"data row2 col3\" >-0.002400</td>\n",
       "      <td id=\"T_5ddf2_row2_col4\" class=\"data row2 col4\" >-565.833333</td>\n",
       "      <td id=\"T_5ddf2_row2_col5\" class=\"data row2 col5\" >[1.0, -8.900000000000002, 31.29, -54.27900000000001, 46.4238, -15.649200000000008]</td>\n",
       "      <td id=\"T_5ddf2_row2_col6\" class=\"data row2 col6\" >[-565.8333333333329, 5035.916666666664, -17704.924999999985, 30712.867499999982, -26268.13349999998, 8854.838999999998]</td>\n",
       "    </tr>\n",
       "    <tr>\n",
       "      <td id=\"T_5ddf2_row3_col0\" class=\"data row3 col0\" >3</td>\n",
       "      <td id=\"T_5ddf2_row3_col1\" class=\"data row3 col1\" >1.800000</td>\n",
       "      <td id=\"T_5ddf2_row3_col2\" class=\"data row3 col2\" >1.445000</td>\n",
       "      <td id=\"T_5ddf2_row3_col3\" class=\"data row3 col3\" >0.002700</td>\n",
       "      <td id=\"T_5ddf2_row3_col4\" class=\"data row3 col4\" >535.185185</td>\n",
       "      <td id=\"T_5ddf2_row3_col5\" class=\"data row3 col5\" >[1.0, -8.8, 30.58, -52.42800000000001, 44.32769999999999, -14.779800000000009]</td>\n",
       "      <td id=\"T_5ddf2_row3_col6\" class=\"data row3 col6\" >[535.1851851851849, -4709.629629629628, 16365.962962962953, -28058.68888888888, 23723.528333333317, -7909.93]</td>\n",
       "    </tr>\n",
       "    <tr>\n",
       "      <td id=\"T_5ddf2_row4_col0\" class=\"data row4 col0\" >4</td>\n",
       "      <td id=\"T_5ddf2_row4_col1\" class=\"data row4 col1\" >2.100000</td>\n",
       "      <td id=\"T_5ddf2_row4_col2\" class=\"data row4 col2\" >1.688000</td>\n",
       "      <td id=\"T_5ddf2_row4_col3\" class=\"data row4 col3\" >-0.012960</td>\n",
       "      <td id=\"T_5ddf2_row4_col4\" class=\"data row4 col4\" >-130.246914</td>\n",
       "      <td id=\"T_5ddf2_row4_col5\" class=\"data row4 col5\" >[1.0, -8.500000000000002, 28.569999999999997, -47.475000000000016, 39.00059999999998, -12.668400000000048]</td>\n",
       "      <td id=\"T_5ddf2_row4_col6\" class=\"data row4 col6\" >[-130.246913580247, 1107.0987654320998, -3721.1543209876563, 6183.472222222228, -5079.707777777778, 1650.0200000000073]</td>\n",
       "    </tr>\n",
       "    <tr>\n",
       "      <td id=\"T_5ddf2_row5_col0\" class=\"data row5 col0\" >5</td>\n",
       "      <td id=\"T_5ddf2_row5_col1\" class=\"data row5 col1\" >2.300000</td>\n",
       "      <td id=\"T_5ddf2_row5_col2\" class=\"data row5 col2\" >1.839000</td>\n",
       "      <td id=\"T_5ddf2_row5_col3\" class=\"data row5 col3\" >0.052800</td>\n",
       "      <td id=\"T_5ddf2_row5_col4\" class=\"data row5 col4\" >34.829545</td>\n",
       "      <td id=\"T_5ddf2_row5_col5\" class=\"data row5 col5\" >[1.0, -8.3, 27.330000000000002, -44.61300000000001, 36.0882, -11.5668]</td>\n",
       "      <td id=\"T_5ddf2_row5_col6\" class=\"data row5 col6\" >[34.82954545454554, -289.085227272728, 951.8914772727296, -1553.8505113636404, 1256.9356022727304, -402.86638636363733]</td>\n",
       "    </tr>\n",
       "  </tbody>\n",
       "</table>\n"
      ],
      "text/plain": [
       "<pandas.io.formats.style.Styler at 0x2577b6c8410>"
      ]
     },
     "execution_count": 138,
     "metadata": {},
     "output_type": "execute_result"
    }
   ],
   "source": [
    "sub_lagrange_df.style.hide(axis=\"index\")"
   ]
  },
  {
   "cell_type": "code",
   "execution_count": 139,
   "id": "c94885a9",
   "metadata": {},
   "outputs": [
    {
     "data": {
      "text/html": [
       "<style type=\"text/css\">\n",
       "</style>\n",
       "<table id=\"T_405fd\">\n",
       "  <thead>\n",
       "    <tr>\n",
       "      <th id=\"T_405fd_level0_col0\" class=\"col_heading level0 col0\" >Degree</th>\n",
       "      <th id=\"T_405fd_level0_col1\" class=\"col_heading level0 col1\" >Coeff</th>\n",
       "    </tr>\n",
       "  </thead>\n",
       "  <tbody>\n",
       "    <tr>\n",
       "      <td id=\"T_405fd_row0_col0\" class=\"data row0 col0\" >0</td>\n",
       "      <td id=\"T_405fd_row0_col1\" class=\"data row0 col1\" >0.381594</td>\n",
       "    </tr>\n",
       "    <tr>\n",
       "      <td id=\"T_405fd_row1_col0\" class=\"data row1 col0\" >1</td>\n",
       "      <td id=\"T_405fd_row1_col1\" class=\"data row1 col1\" >-3.364759</td>\n",
       "    </tr>\n",
       "    <tr>\n",
       "      <td id=\"T_405fd_row2_col0\" class=\"data row2 col0\" >2</td>\n",
       "      <td id=\"T_405fd_row2_col1\" class=\"data row2 col1\" >11.720314</td>\n",
       "    </tr>\n",
       "    <tr>\n",
       "      <td id=\"T_405fd_row3_col0\" class=\"data row3 col0\" >3</td>\n",
       "      <td id=\"T_405fd_row3_col1\" class=\"data row3 col1\" >-20.267374</td>\n",
       "    </tr>\n",
       "    <tr>\n",
       "      <td id=\"T_405fd_row4_col0\" class=\"data row4 col0\" >4</td>\n",
       "      <td id=\"T_405fd_row4_col1\" class=\"data row4 col1\" >18.363141</td>\n",
       "    </tr>\n",
       "    <tr>\n",
       "      <td id=\"T_405fd_row5_col0\" class=\"data row5 col0\" >5</td>\n",
       "      <td id=\"T_405fd_row5_col1\" class=\"data row5 col1\" >-6.183818</td>\n",
       "    </tr>\n",
       "  </tbody>\n",
       "</table>\n"
      ],
      "text/plain": [
       "<pandas.io.formats.style.Styler at 0x2577b6c8a50>"
      ]
     },
     "execution_count": 139,
     "metadata": {},
     "output_type": "execute_result"
    }
   ],
   "source": [
    "coeff_table.style.hide(axis=\"index\")"
   ]
  },
  {
   "cell_type": "code",
   "execution_count": null,
   "id": "0e7a3e8d",
   "metadata": {},
   "outputs": [],
   "source": []
  }
 ],
 "metadata": {
  "language_info": {
   "name": "python"
  }
 },
 "nbformat": 4,
 "nbformat_minor": 5
}
