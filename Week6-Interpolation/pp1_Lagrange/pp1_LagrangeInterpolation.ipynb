{
 "cells": [
  {
   "cell_type": "code",
   "execution_count": 51,
   "id": "3b231e94",
   "metadata": {},
   "outputs": [],
   "source": [
    "import numpy as np\n",
    "import pandas as pd\n",
    "import math\n",
    "from typing import Tuple\n",
    "\n",
    "pd.set_option('display.precision', 12)  # Increase decimal precision\n",
    "pd.set_option('display.width', 300)     # Wider display\n",
    "pd.set_option('display.max_columns', None)  # Show all column"
   ]
  },
  {
   "cell_type": "code",
   "execution_count": 52,
   "id": "6526c8f4",
   "metadata": {},
   "outputs": [],
   "source": [
    "# ------------------------------------------------------------\n",
    "# Helper function 1: w_function\n",
    "# Produce coefficient list of w_{n+1}(x) = Π (x - x_i)\n",
    "# ------------------------------------------------------------\n",
    "def w_function(x_points):\n",
    "    coeff = np.array([1.0])  # start with polynomial 1\n",
    "    for xi in x_points:\n",
    "        coeff = np.convolve(coeff, np.array([1.0, -xi]))  # multiply by (x - xi)\n",
    "    return coeff  # highest to lowest degree"
   ]
  },
  {
   "cell_type": "code",
   "execution_count": 53,
   "id": "c18bf8ef",
   "metadata": {},
   "outputs": [],
   "source": [
    "# ------------------------------------------------------------\n",
    "# Helper function 2: c_function\n",
    "# Produce coefficient list of C_i(x) = w_{n+1}(x) / (x - x_i)\n",
    "# ------------------------------------------------------------\n",
    "def c_function(w_coeffs, xi):\n",
    "    n = len(w_coeffs)\n",
    "    c_coeffs = np.zeros(n - 1)\n",
    "    remainder = 0.0\n",
    "    # Synthetic division by (x - xi)\n",
    "    for j in range(n - 1):\n",
    "        if j == 0:\n",
    "            c_coeffs[j] = w_coeffs[j]\n",
    "        else:\n",
    "            c_coeffs[j] = w_coeffs[j] + xi * c_coeffs[j - 1]\n",
    "    remainder = w_coeffs[-1] + xi * c_coeffs[-1]\n",
    "    # We expect remainder ≈ 0 if everything is correct\n",
    "    return c_coeffs\n"
   ]
  },
  {
   "cell_type": "markdown",
   "id": "9705c055",
   "metadata": {},
   "source": [
    "# Lagrange Interpolation"
   ]
  },
  {
   "cell_type": "markdown",
   "id": "77d8414f",
   "metadata": {},
   "source": [
    "## Algorithm"
   ]
  },
  {
   "cell_type": "markdown",
   "id": "e388da5c",
   "metadata": {},
   "source": [
    "- Algorithm: Lagrange Interpolation\n",
    "\n",
    "**Given:** $(x_0, y_0), (x_1, y_1), \\dots, (x_n, y_n)$  \n",
    "**Goal:** Find coefficients of polynomial $L(x)$ passing through all given points.\n",
    "\n",
    "- Steps\n",
    "\n",
    "1. Compute the base polynomial $w_{n+1}(x) = \\prod_{i=0}^{n} (x - x_i)$  \n",
    "   → obtain coefficient list of $w_{n+1}(x)$.\n",
    "\n",
    "2. For each $i = 0, 1, \\dots, n$:\n",
    "   - Compute $D_i = \\dfrac{y_i}{\\prod_{k=0, k \\ne i}^{n} (x_i - x_k)}$\n",
    "   - Compute $C_i(x) = \\dfrac{w_{n+1}(x)}{(x - x_i)}$\n",
    "   - Form $L_i(x) = D_i \\cdot C_i(x)$\n",
    "\n",
    "3. Sum all sub-polynomials:  \n",
    "   $L(x) = \\sum_{i=0}^{n} L_i(x)$\n",
    "\n",
    "4. Return the coefficient list of $L(x)$ from lowest to highest degree.\n",
    "\n",
    "**Condition:** All $x_i$ values must be distinct.  \n",
    "**Output:** Coefficients of $L(x)$.\n"
   ]
  },
  {
   "cell_type": "code",
   "execution_count": 54,
   "id": "402a4a5f",
   "metadata": {},
   "outputs": [],
   "source": [
    "\n",
    "# ------------------------------------------------------------\n",
    "# Main function: lagrange_interpolation\n",
    "# ------------------------------------------------------------\n",
    "def lagrange_interpolation(points):\n",
    "    x_points = np.array([p[0] for p in points], dtype=float)\n",
    "    y_points = np.array([p[1] for p in points], dtype=float)\n",
    "    n = len(points) - 1\n",
    "\n",
    "    # Step 1: Compute w(x)\n",
    "    w_coeffs = w_function(x_points)\n",
    "\n",
    "    w_coeffs_df = pd.DataFrame({'Degree': list(range(len(w_coeffs)-1, -1, -1)), 'Coeff': w_coeffs})\n",
    "\n",
    "    # Step 2: Compute each L_i(x)\n",
    "    all_Li = []\n",
    "    table_data = []\n",
    "\n",
    "    for i in range(n + 1):\n",
    "        xi, yi = x_points[i], y_points[i]\n",
    "        \n",
    "        # D_i calculation\n",
    "        denom = np.prod([xi - xk for j, xk in enumerate(x_points) if j != i])\n",
    "        D_i = yi / denom\n",
    "        \n",
    "        # C_i(x)\n",
    "        C_i = c_function(w_coeffs, xi)\n",
    "        \n",
    "        # L_i(x) = D_i * C_i(x)\n",
    "        L_i = D_i * C_i\n",
    "        all_Li.append(L_i)\n",
    "        \n",
    "        # Store intermediate results\n",
    "        table_data.append({\n",
    "            'i': i,\n",
    "            'x_i': xi,\n",
    "            'y_i': yi,\n",
    "            'denom': denom,\n",
    "            'D_i': D_i,\n",
    "            'C_i(x) coeffs': C_i.tolist(),\n",
    "            'L_i(x) coeffs': L_i.tolist()\n",
    "        })\n",
    "\n",
    "    sub_lagrange_df = pd.DataFrame(table_data)\n",
    "\n",
    "    # Step 3: Sum all L_i(x)\n",
    "    max_len = max(len(Li) for Li in all_Li)\n",
    "    L_coeffs = np.zeros(max_len)\n",
    "    for Li in all_Li:\n",
    "        L_coeffs[-len(Li):] += Li  # align degrees\n",
    "\n",
    "    coeff_table = pd.DataFrame({\n",
    "        'Degree': list(range(len(L_coeffs))),\n",
    "        'Coeff': L_coeffs,\n",
    "    })\n",
    "\n",
    "    return w_coeffs_df, sub_lagrange_df, L_coeffs"
   ]
  },
  {
   "cell_type": "markdown",
   "id": "d4d3edd1",
   "metadata": {},
   "source": [
    "## Result"
   ]
  },
  {
   "cell_type": "code",
   "execution_count": 55,
   "id": "7cfc038d",
   "metadata": {},
   "outputs": [],
   "source": [
    "# ------------------------------------------------------------\n",
    "# Example run\n",
    "# ------------------------------------------------------------\n",
    "points = [(1, 17), (2, 17.5), (3, 76), (4, 210.5), (7, 1970)]\n",
    "w_coeffs_df, sub_lagrange_df, L_coeffs = lagrange_interpolation(points)"
   ]
  },
  {
   "cell_type": "code",
   "execution_count": 56,
   "id": "23109edd",
   "metadata": {},
   "outputs": [
    {
     "data": {
      "application/vnd.microsoft.datawrangler.viewer.v0+json": {
       "columns": [
        {
         "name": "index",
         "rawType": "int64",
         "type": "integer"
        },
        {
         "name": "Degree",
         "rawType": "int64",
         "type": "integer"
        },
        {
         "name": "Coeff",
         "rawType": "float64",
         "type": "float"
        }
       ],
       "ref": "e098505b-c343-4e3e-b87d-8ad26114fcfc",
       "rows": [
        [
         "0",
         "5",
         "1.0"
        ],
        [
         "1",
         "4",
         "-17.0"
        ],
        [
         "2",
         "3",
         "105.0"
        ],
        [
         "3",
         "2",
         "-295.0"
        ],
        [
         "4",
         "1",
         "374.0"
        ],
        [
         "5",
         "0",
         "-168.0"
        ]
       ],
       "shape": {
        "columns": 2,
        "rows": 6
       }
      },
      "text/html": [
       "<div>\n",
       "<style scoped>\n",
       "    .dataframe tbody tr th:only-of-type {\n",
       "        vertical-align: middle;\n",
       "    }\n",
       "\n",
       "    .dataframe tbody tr th {\n",
       "        vertical-align: top;\n",
       "    }\n",
       "\n",
       "    .dataframe thead th {\n",
       "        text-align: right;\n",
       "    }\n",
       "</style>\n",
       "<table border=\"1\" class=\"dataframe\">\n",
       "  <thead>\n",
       "    <tr style=\"text-align: right;\">\n",
       "      <th></th>\n",
       "      <th>Degree</th>\n",
       "      <th>Coeff</th>\n",
       "    </tr>\n",
       "  </thead>\n",
       "  <tbody>\n",
       "    <tr>\n",
       "      <th>0</th>\n",
       "      <td>5</td>\n",
       "      <td>1.0</td>\n",
       "    </tr>\n",
       "    <tr>\n",
       "      <th>1</th>\n",
       "      <td>4</td>\n",
       "      <td>-17.0</td>\n",
       "    </tr>\n",
       "    <tr>\n",
       "      <th>2</th>\n",
       "      <td>3</td>\n",
       "      <td>105.0</td>\n",
       "    </tr>\n",
       "    <tr>\n",
       "      <th>3</th>\n",
       "      <td>2</td>\n",
       "      <td>-295.0</td>\n",
       "    </tr>\n",
       "    <tr>\n",
       "      <th>4</th>\n",
       "      <td>1</td>\n",
       "      <td>374.0</td>\n",
       "    </tr>\n",
       "    <tr>\n",
       "      <th>5</th>\n",
       "      <td>0</td>\n",
       "      <td>-168.0</td>\n",
       "    </tr>\n",
       "  </tbody>\n",
       "</table>\n",
       "</div>"
      ],
      "text/plain": [
       "   Degree  Coeff\n",
       "0       5    1.0\n",
       "1       4  -17.0\n",
       "2       3  105.0\n",
       "3       2 -295.0\n",
       "4       1  374.0\n",
       "5       0 -168.0"
      ]
     },
     "execution_count": 56,
     "metadata": {},
     "output_type": "execute_result"
    }
   ],
   "source": [
    "w_coeffs_df"
   ]
  },
  {
   "cell_type": "code",
   "execution_count": 57,
   "id": "15bfd905",
   "metadata": {},
   "outputs": [
    {
     "data": {
      "application/vnd.microsoft.datawrangler.viewer.v0+json": {
       "columns": [
        {
         "name": "index",
         "rawType": "int64",
         "type": "integer"
        },
        {
         "name": "i",
         "rawType": "int64",
         "type": "integer"
        },
        {
         "name": "x_i",
         "rawType": "float64",
         "type": "float"
        },
        {
         "name": "y_i",
         "rawType": "float64",
         "type": "float"
        },
        {
         "name": "denom",
         "rawType": "float64",
         "type": "float"
        },
        {
         "name": "D_i",
         "rawType": "float64",
         "type": "float"
        },
        {
         "name": "C_i(x) coeffs",
         "rawType": "object",
         "type": "unknown"
        },
        {
         "name": "L_i(x) coeffs",
         "rawType": "object",
         "type": "unknown"
        }
       ],
       "ref": "53969635-5a2c-4fd2-83a4-2723e49c5f88",
       "rows": [
        [
         "0",
         "0",
         "1.0",
         "17.0",
         "36.0",
         "0.4722222222222222",
         "[1.0, -16.0, 89.0, -206.0, 168.0]",
         "[0.4722222222222222, -7.555555555555555, 42.02777777777778, -97.27777777777777, 79.33333333333333]"
        ],
        [
         "1",
         "1",
         "2.0",
         "17.5",
         "-10.0",
         "-1.75",
         "[1.0, -15.0, 75.0, -145.0, 84.0]",
         "[-1.75, 26.25, -131.25, 253.75, -147.0]"
        ],
        [
         "2",
         "2",
         "3.0",
         "76.0",
         "8.0",
         "9.5",
         "[1.0, -14.0, 63.0, -106.0, 56.0]",
         "[9.5, -133.0, 598.5, -1007.0, 532.0]"
        ],
        [
         "3",
         "3",
         "4.0",
         "210.5",
         "-18.0",
         "-11.694444444444445",
         "[1.0, -13.0, 53.0, -83.0, 42.0]",
         "[-11.694444444444445, 152.02777777777777, -619.8055555555555, 970.6388888888889, -491.1666666666667]"
        ],
        [
         "4",
         "4",
         "7.0",
         "1970.0",
         "360.0",
         "5.472222222222222",
         "[1.0, -10.0, 35.0, -50.0, 24.0]",
         "[5.472222222222222, -54.72222222222222, 191.52777777777777, -273.61111111111114, 131.33333333333334]"
        ]
       ],
       "shape": {
        "columns": 7,
        "rows": 5
       }
      },
      "text/html": [
       "<div>\n",
       "<style scoped>\n",
       "    .dataframe tbody tr th:only-of-type {\n",
       "        vertical-align: middle;\n",
       "    }\n",
       "\n",
       "    .dataframe tbody tr th {\n",
       "        vertical-align: top;\n",
       "    }\n",
       "\n",
       "    .dataframe thead th {\n",
       "        text-align: right;\n",
       "    }\n",
       "</style>\n",
       "<table border=\"1\" class=\"dataframe\">\n",
       "  <thead>\n",
       "    <tr style=\"text-align: right;\">\n",
       "      <th></th>\n",
       "      <th>i</th>\n",
       "      <th>x_i</th>\n",
       "      <th>y_i</th>\n",
       "      <th>denom</th>\n",
       "      <th>D_i</th>\n",
       "      <th>C_i(x) coeffs</th>\n",
       "      <th>L_i(x) coeffs</th>\n",
       "    </tr>\n",
       "  </thead>\n",
       "  <tbody>\n",
       "    <tr>\n",
       "      <th>0</th>\n",
       "      <td>0</td>\n",
       "      <td>1.0</td>\n",
       "      <td>17.0</td>\n",
       "      <td>36.0</td>\n",
       "      <td>0.472222222222</td>\n",
       "      <td>[1.0, -16.0, 89.0, -206.0, 168.0]</td>\n",
       "      <td>[0.4722222222222222, -7.555555555555555, 42.02...</td>\n",
       "    </tr>\n",
       "    <tr>\n",
       "      <th>1</th>\n",
       "      <td>1</td>\n",
       "      <td>2.0</td>\n",
       "      <td>17.5</td>\n",
       "      <td>-10.0</td>\n",
       "      <td>-1.750000000000</td>\n",
       "      <td>[1.0, -15.0, 75.0, -145.0, 84.0]</td>\n",
       "      <td>[-1.75, 26.25, -131.25, 253.75, -147.0]</td>\n",
       "    </tr>\n",
       "    <tr>\n",
       "      <th>2</th>\n",
       "      <td>2</td>\n",
       "      <td>3.0</td>\n",
       "      <td>76.0</td>\n",
       "      <td>8.0</td>\n",
       "      <td>9.500000000000</td>\n",
       "      <td>[1.0, -14.0, 63.0, -106.0, 56.0]</td>\n",
       "      <td>[9.5, -133.0, 598.5, -1007.0, 532.0]</td>\n",
       "    </tr>\n",
       "    <tr>\n",
       "      <th>3</th>\n",
       "      <td>3</td>\n",
       "      <td>4.0</td>\n",
       "      <td>210.5</td>\n",
       "      <td>-18.0</td>\n",
       "      <td>-11.694444444444</td>\n",
       "      <td>[1.0, -13.0, 53.0, -83.0, 42.0]</td>\n",
       "      <td>[-11.694444444444445, 152.02777777777777, -619...</td>\n",
       "    </tr>\n",
       "    <tr>\n",
       "      <th>4</th>\n",
       "      <td>4</td>\n",
       "      <td>7.0</td>\n",
       "      <td>1970.0</td>\n",
       "      <td>360.0</td>\n",
       "      <td>5.472222222222</td>\n",
       "      <td>[1.0, -10.0, 35.0, -50.0, 24.0]</td>\n",
       "      <td>[5.472222222222222, -54.72222222222222, 191.52...</td>\n",
       "    </tr>\n",
       "  </tbody>\n",
       "</table>\n",
       "</div>"
      ],
      "text/plain": [
       "   i  x_i     y_i  denom              D_i                      C_i(x) coeffs                                      L_i(x) coeffs\n",
       "0  0  1.0    17.0   36.0   0.472222222222  [1.0, -16.0, 89.0, -206.0, 168.0]  [0.4722222222222222, -7.555555555555555, 42.02...\n",
       "1  1  2.0    17.5  -10.0  -1.750000000000   [1.0, -15.0, 75.0, -145.0, 84.0]            [-1.75, 26.25, -131.25, 253.75, -147.0]\n",
       "2  2  3.0    76.0    8.0   9.500000000000   [1.0, -14.0, 63.0, -106.0, 56.0]               [9.5, -133.0, 598.5, -1007.0, 532.0]\n",
       "3  3  4.0   210.5  -18.0 -11.694444444444    [1.0, -13.0, 53.0, -83.0, 42.0]  [-11.694444444444445, 152.02777777777777, -619...\n",
       "4  4  7.0  1970.0  360.0   5.472222222222    [1.0, -10.0, 35.0, -50.0, 24.0]  [5.472222222222222, -54.72222222222222, 191.52..."
      ]
     },
     "execution_count": 57,
     "metadata": {},
     "output_type": "execute_result"
    }
   ],
   "source": [
    "sub_lagrange_df"
   ]
  },
  {
   "cell_type": "code",
   "execution_count": 58,
   "id": "c94885a9",
   "metadata": {},
   "outputs": [
    {
     "data": {
      "text/plain": [
       "array([   2. ,  -17. ,   81. , -153.5,  104.5])"
      ]
     },
     "execution_count": 58,
     "metadata": {},
     "output_type": "execute_result"
    }
   ],
   "source": [
    "L_coeffs"
   ]
  }
 ],
 "metadata": {
  "language_info": {
   "name": "python"
  }
 },
 "nbformat": 4,
 "nbformat_minor": 5
}
