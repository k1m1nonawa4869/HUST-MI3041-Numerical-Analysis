{
 "cells": [
  {
   "cell_type": "code",
   "execution_count": 2,
   "id": "567a2d6e",
   "metadata": {},
   "outputs": [],
   "source": [
    "import numpy as np\n",
    "import pandas as pd\n",
    "from typing import Tuple\n",
    "\n",
    "pd.set_option('display.precision', 7)  # Increase decimal precision\n",
    "pd.set_option('display.width', 300)     # Wider display\n",
    "pd.set_option('display.max_columns', None)  # Show all column"
   ]
  },
  {
   "cell_type": "markdown",
   "id": "507c2101",
   "metadata": {},
   "source": [
    "# Choosing Chebyshev Nodes"
   ]
  },
  {
   "cell_type": "markdown",
   "id": "7d165eda",
   "metadata": {},
   "source": [
    "## Algorithm"
   ]
  },
  {
   "cell_type": "markdown",
   "id": "d9afd0e1",
   "metadata": {},
   "source": [
    "- Purpose: Select (n+1) interpolation points in [a, b] to minimize interpolation error.\n",
    "\n",
    "- Inputs\n",
    "   - a, b: range of interval\n",
    "   - n: degree of interpolation polynomial\n",
    "\n",
    "- Outputs\n",
    "   - $x_i$: (n+1) interpolation nodes in [a, b]\n",
    "\n",
    "- Steps\n",
    "1. Check if [a, b] = [-1, 1]\n",
    "   - If yes → condition = 1\n",
    "   - Otherwise → condition = 0\n",
    "\n",
    "2. For each i = 0, 1, 2, ..., n\n",
    "   - Compute $t_i = \\cos \\left( \\dfrac{\\pi (2i + 1)}{2n + 2} \\right)$\n",
    "\n",
    "3. If condition = 1\n",
    "   - $x_i = t_i$\n",
    "\n",
    "   Else\n",
    "   - $x_i = 0.5 * [ (b - a) t_i + (b + a) ]$\n",
    "\n",
    "4. Output $x_0, x_1, ..., x_n$ in descending order\n"
   ]
  },
  {
   "cell_type": "code",
   "execution_count": null,
   "id": "dcce79f0",
   "metadata": {},
   "outputs": [],
   "source": [
    "def choose_interpolation_points(a, b, n):\n",
    "\n",
    "    # Step 1: Check interval condition\n",
    "    condition = 1 if (a == -1 and b == 1) else 0\n",
    "\n",
    "    # Step 2: Compute t_i\n",
    "    i_values = np.arange(0, n + 1)\n",
    "    t_values = np.cos(np.pi * (2 * i_values + 1) / (2 * n + 2))\n",
    "\n",
    "    # Step 3: Compute x_i\n",
    "    if condition == 1:\n",
    "        x_values = t_values\n",
    "    else:\n",
    "        x_values = 0.5 * ((b - a) * t_values + (b + a))\n",
    "\n",
    "    # Step 4: Display results in pandas table\n",
    "    df = pd.DataFrame({\n",
    "        \"i\": i_values,\n",
    "        \"t_i (cos)\": t_values,\n",
    "        \"x_i (chosen point)\": x_values\n",
    "    })\n",
    "\n",
    "    return df, x_values"
   ]
  },
  {
   "cell_type": "markdown",
   "id": "31f2ac37",
   "metadata": {},
   "source": [
    "## Result"
   ]
  },
  {
   "cell_type": "code",
   "execution_count": 10,
   "id": "63921856",
   "metadata": {},
   "outputs": [
    {
     "data": {
      "text/html": [
       "<style type=\"text/css\">\n",
       "</style>\n",
       "<table id=\"T_a562f\">\n",
       "  <thead>\n",
       "    <tr>\n",
       "      <th id=\"T_a562f_level0_col0\" class=\"col_heading level0 col0\" >i</th>\n",
       "      <th id=\"T_a562f_level0_col1\" class=\"col_heading level0 col1\" >t_i (cos)</th>\n",
       "      <th id=\"T_a562f_level0_col2\" class=\"col_heading level0 col2\" >x_i (chosen point)</th>\n",
       "    </tr>\n",
       "  </thead>\n",
       "  <tbody>\n",
       "    <tr>\n",
       "      <td id=\"T_a562f_row0_col0\" class=\"data row0 col0\" >0</td>\n",
       "      <td id=\"T_a562f_row0_col1\" class=\"data row0 col1\" >0.987688</td>\n",
       "      <td id=\"T_a562f_row0_col2\" class=\"data row0 col2\" >0.987688</td>\n",
       "    </tr>\n",
       "    <tr>\n",
       "      <td id=\"T_a562f_row1_col0\" class=\"data row1 col0\" >1</td>\n",
       "      <td id=\"T_a562f_row1_col1\" class=\"data row1 col1\" >0.891007</td>\n",
       "      <td id=\"T_a562f_row1_col2\" class=\"data row1 col2\" >0.891007</td>\n",
       "    </tr>\n",
       "    <tr>\n",
       "      <td id=\"T_a562f_row2_col0\" class=\"data row2 col0\" >2</td>\n",
       "      <td id=\"T_a562f_row2_col1\" class=\"data row2 col1\" >0.707107</td>\n",
       "      <td id=\"T_a562f_row2_col2\" class=\"data row2 col2\" >0.707107</td>\n",
       "    </tr>\n",
       "    <tr>\n",
       "      <td id=\"T_a562f_row3_col0\" class=\"data row3 col0\" >3</td>\n",
       "      <td id=\"T_a562f_row3_col1\" class=\"data row3 col1\" >0.453990</td>\n",
       "      <td id=\"T_a562f_row3_col2\" class=\"data row3 col2\" >0.453990</td>\n",
       "    </tr>\n",
       "    <tr>\n",
       "      <td id=\"T_a562f_row4_col0\" class=\"data row4 col0\" >4</td>\n",
       "      <td id=\"T_a562f_row4_col1\" class=\"data row4 col1\" >0.156434</td>\n",
       "      <td id=\"T_a562f_row4_col2\" class=\"data row4 col2\" >0.156434</td>\n",
       "    </tr>\n",
       "    <tr>\n",
       "      <td id=\"T_a562f_row5_col0\" class=\"data row5 col0\" >5</td>\n",
       "      <td id=\"T_a562f_row5_col1\" class=\"data row5 col1\" >-0.156434</td>\n",
       "      <td id=\"T_a562f_row5_col2\" class=\"data row5 col2\" >-0.156434</td>\n",
       "    </tr>\n",
       "    <tr>\n",
       "      <td id=\"T_a562f_row6_col0\" class=\"data row6 col0\" >6</td>\n",
       "      <td id=\"T_a562f_row6_col1\" class=\"data row6 col1\" >-0.453990</td>\n",
       "      <td id=\"T_a562f_row6_col2\" class=\"data row6 col2\" >-0.453990</td>\n",
       "    </tr>\n",
       "    <tr>\n",
       "      <td id=\"T_a562f_row7_col0\" class=\"data row7 col0\" >7</td>\n",
       "      <td id=\"T_a562f_row7_col1\" class=\"data row7 col1\" >-0.707107</td>\n",
       "      <td id=\"T_a562f_row7_col2\" class=\"data row7 col2\" >-0.707107</td>\n",
       "    </tr>\n",
       "    <tr>\n",
       "      <td id=\"T_a562f_row8_col0\" class=\"data row8 col0\" >8</td>\n",
       "      <td id=\"T_a562f_row8_col1\" class=\"data row8 col1\" >-0.891007</td>\n",
       "      <td id=\"T_a562f_row8_col2\" class=\"data row8 col2\" >-0.891007</td>\n",
       "    </tr>\n",
       "    <tr>\n",
       "      <td id=\"T_a562f_row9_col0\" class=\"data row9 col0\" >9</td>\n",
       "      <td id=\"T_a562f_row9_col1\" class=\"data row9 col1\" >-0.987688</td>\n",
       "      <td id=\"T_a562f_row9_col2\" class=\"data row9 col2\" >-0.987688</td>\n",
       "    </tr>\n",
       "  </tbody>\n",
       "</table>\n"
      ],
      "text/plain": [
       "<pandas.io.formats.style.Styler at 0x2aa31219e80>"
      ]
     },
     "execution_count": 10,
     "metadata": {},
     "output_type": "execute_result"
    }
   ],
   "source": [
    "# Example run\n",
    "df, points = choose_interpolation_points(a=-1, b=1, n=9)\n",
    "\n",
    "df.style.hide(axis=\"index\")"
   ]
  },
  {
   "cell_type": "code",
   "execution_count": 11,
   "id": "d875ca1c",
   "metadata": {},
   "outputs": [
    {
     "data": {
      "text/html": [
       "<style type=\"text/css\">\n",
       "</style>\n",
       "<table id=\"T_a3bc6\">\n",
       "  <thead>\n",
       "    <tr>\n",
       "      <th id=\"T_a3bc6_level0_col0\" class=\"col_heading level0 col0\" >i</th>\n",
       "      <th id=\"T_a3bc6_level0_col1\" class=\"col_heading level0 col1\" >t_i (cos)</th>\n",
       "      <th id=\"T_a3bc6_level0_col2\" class=\"col_heading level0 col2\" >x_i (chosen point)</th>\n",
       "    </tr>\n",
       "  </thead>\n",
       "  <tbody>\n",
       "    <tr>\n",
       "      <td id=\"T_a3bc6_row0_col0\" class=\"data row0 col0\" >0</td>\n",
       "      <td id=\"T_a3bc6_row0_col1\" class=\"data row0 col1\" >0.992709</td>\n",
       "      <td id=\"T_a3bc6_row0_col2\" class=\"data row0 col2\" >5.989063</td>\n",
       "    </tr>\n",
       "    <tr>\n",
       "      <td id=\"T_a3bc6_row1_col0\" class=\"data row1 col0\" >1</td>\n",
       "      <td id=\"T_a3bc6_row1_col1\" class=\"data row1 col1\" >0.935016</td>\n",
       "      <td id=\"T_a3bc6_row1_col2\" class=\"data row1 col2\" >5.902524</td>\n",
       "    </tr>\n",
       "    <tr>\n",
       "      <td id=\"T_a3bc6_row2_col0\" class=\"data row2 col0\" >2</td>\n",
       "      <td id=\"T_a3bc6_row2_col1\" class=\"data row2 col1\" >0.822984</td>\n",
       "      <td id=\"T_a3bc6_row2_col2\" class=\"data row2 col2\" >5.734476</td>\n",
       "    </tr>\n",
       "    <tr>\n",
       "      <td id=\"T_a3bc6_row3_col0\" class=\"data row3 col0\" >3</td>\n",
       "      <td id=\"T_a3bc6_row3_col1\" class=\"data row3 col1\" >0.663123</td>\n",
       "      <td id=\"T_a3bc6_row3_col2\" class=\"data row3 col2\" >5.494684</td>\n",
       "    </tr>\n",
       "    <tr>\n",
       "      <td id=\"T_a3bc6_row4_col0\" class=\"data row4 col0\" >4</td>\n",
       "      <td id=\"T_a3bc6_row4_col1\" class=\"data row4 col1\" >0.464723</td>\n",
       "      <td id=\"T_a3bc6_row4_col2\" class=\"data row4 col2\" >5.197085</td>\n",
       "    </tr>\n",
       "    <tr>\n",
       "      <td id=\"T_a3bc6_row5_col0\" class=\"data row5 col0\" >5</td>\n",
       "      <td id=\"T_a3bc6_row5_col1\" class=\"data row5 col1\" >0.239316</td>\n",
       "      <td id=\"T_a3bc6_row5_col2\" class=\"data row5 col2\" >4.858973</td>\n",
       "    </tr>\n",
       "    <tr>\n",
       "      <td id=\"T_a3bc6_row6_col0\" class=\"data row6 col0\" >6</td>\n",
       "      <td id=\"T_a3bc6_row6_col1\" class=\"data row6 col1\" >-0.000000</td>\n",
       "      <td id=\"T_a3bc6_row6_col2\" class=\"data row6 col2\" >4.500000</td>\n",
       "    </tr>\n",
       "    <tr>\n",
       "      <td id=\"T_a3bc6_row7_col0\" class=\"data row7 col0\" >7</td>\n",
       "      <td id=\"T_a3bc6_row7_col1\" class=\"data row7 col1\" >-0.239316</td>\n",
       "      <td id=\"T_a3bc6_row7_col2\" class=\"data row7 col2\" >4.141027</td>\n",
       "    </tr>\n",
       "    <tr>\n",
       "      <td id=\"T_a3bc6_row8_col0\" class=\"data row8 col0\" >8</td>\n",
       "      <td id=\"T_a3bc6_row8_col1\" class=\"data row8 col1\" >-0.464723</td>\n",
       "      <td id=\"T_a3bc6_row8_col2\" class=\"data row8 col2\" >3.802915</td>\n",
       "    </tr>\n",
       "    <tr>\n",
       "      <td id=\"T_a3bc6_row9_col0\" class=\"data row9 col0\" >9</td>\n",
       "      <td id=\"T_a3bc6_row9_col1\" class=\"data row9 col1\" >-0.663123</td>\n",
       "      <td id=\"T_a3bc6_row9_col2\" class=\"data row9 col2\" >3.505316</td>\n",
       "    </tr>\n",
       "    <tr>\n",
       "      <td id=\"T_a3bc6_row10_col0\" class=\"data row10 col0\" >10</td>\n",
       "      <td id=\"T_a3bc6_row10_col1\" class=\"data row10 col1\" >-0.822984</td>\n",
       "      <td id=\"T_a3bc6_row10_col2\" class=\"data row10 col2\" >3.265524</td>\n",
       "    </tr>\n",
       "    <tr>\n",
       "      <td id=\"T_a3bc6_row11_col0\" class=\"data row11 col0\" >11</td>\n",
       "      <td id=\"T_a3bc6_row11_col1\" class=\"data row11 col1\" >-0.935016</td>\n",
       "      <td id=\"T_a3bc6_row11_col2\" class=\"data row11 col2\" >3.097476</td>\n",
       "    </tr>\n",
       "    <tr>\n",
       "      <td id=\"T_a3bc6_row12_col0\" class=\"data row12 col0\" >12</td>\n",
       "      <td id=\"T_a3bc6_row12_col1\" class=\"data row12 col1\" >-0.992709</td>\n",
       "      <td id=\"T_a3bc6_row12_col2\" class=\"data row12 col2\" >3.010937</td>\n",
       "    </tr>\n",
       "  </tbody>\n",
       "</table>\n"
      ],
      "text/plain": [
       "<pandas.io.formats.style.Styler at 0x2aa30b3e210>"
      ]
     },
     "execution_count": 11,
     "metadata": {},
     "output_type": "execute_result"
    }
   ],
   "source": [
    "df, points = choose_interpolation_points(a=3, b=6, n=12)\n",
    "\n",
    "df.style.hide(axis=\"index\")"
   ]
  }
 ],
 "metadata": {
  "kernelspec": {
   "display_name": "ds-env",
   "language": "python",
   "name": "python3"
  },
  "language_info": {
   "codemirror_mode": {
    "name": "ipython",
    "version": 3
   },
   "file_extension": ".py",
   "mimetype": "text/x-python",
   "name": "python",
   "nbconvert_exporter": "python",
   "pygments_lexer": "ipython3",
   "version": "3.13.3"
  }
 },
 "nbformat": 4,
 "nbformat_minor": 5
}
