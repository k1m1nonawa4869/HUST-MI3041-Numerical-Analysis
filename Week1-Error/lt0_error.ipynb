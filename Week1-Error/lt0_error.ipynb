{
 "cells": [
  {
   "cell_type": "markdown",
   "metadata": {},
   "source": [
    "# Các ví dụ về sai số"
   ]
  },
  {
   "cell_type": "markdown",
   "metadata": {
    "vscode": {
     "languageId": "plaintext"
    }
   },
   "source": [
    "# **Thí dụ 1.** Tính toán sai số \n",
    "Tìm sai số tuyệt đối và sai số tương đối giới hạn của thể tích hình cầu $V = \\frac{1}{6} \\pi d^3$ nếu đường kính $d = 3,7\\text{cm} ± 0,05\\text{cm}$ và $\\pi = 3,14$ ± 0,0016.\n",
    "\n",
    "**Giải:** Xem $d$ và $\\pi$ là các đối số của hàm $V$, thì:\n",
    "\n",
    "* $ \\frac{\\partial V}{\\partial \\pi} = \\frac{1}{6} d^3 = \\frac{1}{6} (3,7)^3 = 8,44 $\n",
    "\n",
    "* $ \\frac{\\partial V}{\\partial d} = \\frac{1}{2} \\pi d^2 = \\frac{1}{2} 3,14 (3,7)^2 = 21,5 $\n",
    "\n",
    "Theo công thức (2) ta được sai số tuyệt đối giới hạn:\n",
    "$ \\Delta_V = \\left| \\frac{\\partial V}{\\partial \\pi} \\right| \\Delta_{\\pi} + \\left| \\frac{\\partial V}{\\partial d} \\right| \\Delta_d = 8,44 \\cdot 0,0016 + 21,5 \\cdot 0,05 = 1,088 \\approx 1,1 \\text{cm}^3 $\n",
    "\n",
    "Vậy $ V = \\frac{1}{6} \\pi d^3 = \\frac{1}{6} \\cdot 3,14 \\cdot (3,7)^3 \\pm 1,1 = 27,4 \\pm 1,1 \\text{cm}^3 $\n",
    "\n",
    "Sai số tương đối: $ \\delta_V = \\frac{\\Delta_V}{|V|} = \\frac{1,088}{27,4} = 0,0397 \\approx 0,04 = 4\\% $\n",
    "\n"
   ]
  },
  {
   "cell_type": "markdown",
   "metadata": {},
   "source": [
    "# **Thí dụ 2.** Sai số ngược\n",
    "\n",
    "Cho hình trụ đứng, bán kính $R = 2\\text{m}$, chiều cao $H = 3\\text{m}$. Hỏi sai số tuyệt đối của $R$ và $H$ là bao nhiêu để thể tích $V$ hình trụ đạt sai số $0,1\\text{m}³$.\n",
    "\n",
    "**Giải:** Ta có $V = \\pi R^2 H$, $\\Delta_V = 0,1\\text{m}³, R = 2\\text{m}, H = 3\\text{m}$.\n",
    "\n",
    "Với $\\pi = 3,14$ thì:\n",
    "\n",
    "* $ \\frac{\\partial V}{\\partial \\pi} = R^2 H = 2^2 \\cdot 3 = 12 $\n",
    "\n",
    "* $ \\frac{\\partial V}{\\partial R} = 2 \\pi R H = 37,7 $\n",
    "\n",
    "* $ \\frac{\\partial V}{\\partial H} = \\pi R^2 = 12,6 $\n",
    "\n",
    "Ở đây $n = 3$ nên theo nguyên tắc ngang nhau ta được:\n",
    "\n",
    "* $ \\Delta_{\\pi} = \\frac{0,1}{3 \\cdot 12} < 0,003 $\n",
    "\n",
    "* $ \\Delta_{R} = \\frac{0,1}{3 \\cdot 37,7} < 0,001 $\n",
    "\n",
    "* $ \\Delta_{H} = \\frac{0,1}{3 \\cdot 12,6} < 0,003 $\n",
    "\n",
    "là sai số cần thiết của mỗi thành phần, để được hình trụ có thể tích đạt sai số tuyệt đối giới hạn không vượt quá $0,1\\text{m}³$.\n"
   ]
  },
  {
   "cell_type": "markdown",
   "metadata": {},
   "source": [
    "# **Thí dụ 3.** Sai số ngược điều chỉnh\n",
    "\n",
    "Hỏi phải đo bán kính $R = 30,5\\text{cm}$ có sai số tối đa là bao nhiêu, và lấy số $\\pi$ là bao nhiêu để được hình tròn có diện tích đạt sai số không quá $1\\%$ (sai số tương đối).\n",
    "\n",
    "**Giải:** Diện tích hình tròn $S = \\pi R^2$ nên:\n",
    "$ \\ln S = \\ln \\pi + 2 \\ln R $\n",
    "$ \\Rightarrow \\frac{\\Delta_S}{S} = \\frac{\\Delta_{\\pi}}{\\pi} + 2 \\frac{\\Delta_R}{R} = 1\\% = 0,01 $\n",
    "\n",
    "Theo nguyên tắc ảnh hưởng ngang nhau thì (vì có hai thành phần):\n",
    "\n",
    "* $ \\frac{\\Delta_{\\pi}}{\\pi} = \\frac{0,01}{2} = 0,005 $\n",
    "\n",
    "* $ 2 \\frac{\\Delta_R}{R} = \\frac{0,01}{2} = 0,005 $\n",
    "\n",
    "từ đó suy ra:\n",
    "\n",
    "* $ \\Delta_{\\pi} = 0,005 \\pi \\leq 0,016 $ với $\\pi \\approx 3,14$\n",
    "\n",
    "* $ \\Delta_R = \\frac{1}{2} \\cdot 0,005 \\cdot R \\leq 0,07\\text{cm}$ với $R = 30,5\\text{cm}$\n",
    "\n",
    "Rõ ràng đối với $R$ thì khó mà thực hiện được vì $\\Delta_R$ quá nhỏ, nên cần tăng $\\Delta_R$ lên một chút. \n",
    "\n",
    "Do tổng cả hai thành phần là $0,01$ thì khi $\\Delta_R$ tăng, $\\Delta_{\\pi}$ phải giảm, nghĩa là số $\\pi$ cần lấy nhỏ hơn.\n",
    "\n",
    "Nếu lấy: $ \\pi = 3,142 \\Rightarrow \\Delta_{\\pi} = 3,142 - 3,14 = 0,002 \\Rightarrow \\frac{\\Delta_{\\pi}}{\\pi} = \\frac{0,002}{3,142} \\approx 0,00013 $\n",
    "\n",
    "Khi đó:\n",
    "\n",
    "$ 2 \\frac{\\Delta_R}{R} = 0,01 - 0,00013 = 0,00987 $ $ \\Rightarrow \\Delta_R = \\frac{0,00987}{2} \\cdot 30,5 \\leq 0,15 \\text{cm}$\n",
    "\n",
    "Độ chính xác này có thể thực hiện được.\n"
   ]
  }
 ],
 "metadata": {
  "language_info": {
   "name": "python"
  }
 },
 "nbformat": 4,
 "nbformat_minor": 2
}
