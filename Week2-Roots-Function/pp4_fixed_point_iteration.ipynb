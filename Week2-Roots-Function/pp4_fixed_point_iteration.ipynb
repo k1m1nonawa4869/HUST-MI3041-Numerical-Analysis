{
 "cells": [
  {
   "cell_type": "code",
   "execution_count": 3,
   "metadata": {},
   "outputs": [],
   "source": [
    "import numpy as np\n",
    "import pandas as pd\n",
    "\n",
    "pd.set_option('display.precision', 15)  # Increase decimal precision\n",
    "pd.set_option('display.width', 150)     # Wider display\n",
    "pd.set_option('display.max_columns', None)  # Show all column"
   ]
  },
  {
   "cell_type": "markdown",
   "metadata": {},
   "source": [
    "# Phương pháp lặp đơn (Fixed-Point Interation)\n",
    "\n",
    "Điều kiện hội tụ:\n",
    "\n",
    "* $(a, b)$ là khoảng cách ly nghiệm của phương trình. \n",
    "\n",
    "* $|\\varphi'(x)| \\leq q < 1 \\ \\forall x \\in [a, b]$ --> đảm bảo nghiệm duy nhất"
   ]
  },
  {
   "cell_type": "markdown",
   "metadata": {},
   "source": [
    "# Thuật toán\n",
    "\n",
    "1. Tạo phương trình lặp $x = \\varphi(x)$ tương đương với phương trình $f(x) = 0$.\n",
    "\n",
    "2. Công thức lặp tương ứng với phương trình lặp: $x_{k+1} = \\varphi(x_k)$\n",
    "\n",
    "3. Nếu $\\exists \\lim\\limits_{k \\to \\infty} x_k = \\alpha$ và $\\varphi(x)$ liên tục thì $\\alpha = \\varphi(\\alpha)$.\n"
   ]
  },
  {
   "cell_type": "markdown",
   "metadata": {},
   "source": [
    "# Áp dụng\n",
    "\n",
    "Note: Chọn các hàm $\\varphi$ ổn định trong tính toán"
   ]
  },
  {
   "cell_type": "markdown",
   "metadata": {},
   "source": [
    "## 1. Tiên nghiệm: \n",
    "Đánh giá sai số: $|x_n - x^*| \\leq \\dfrac{q^n}{1 - q} |x_1 - x_0| < \\epsilon$.  \n",
    "\n"
   ]
  },
  {
   "cell_type": "markdown",
   "metadata": {},
   "source": [
    "### 1.1. Số lần lặp"
   ]
  },
  {
   "cell_type": "code",
   "execution_count": 1,
   "metadata": {},
   "outputs": [],
   "source": [
    "def fixed_point_iteration_v1 (phi, dphi, a, b, x_0, q, n, rbl):\n",
    "    #Initial value\n",
    "    x = x_0; results = [];\n",
    "    results.append({\n",
    "        'n': 0,\n",
    "        'x_n': x_0,\n",
    "        'f(x_n)': f(x_0),\n",
    "        'delta=q^n/(1-q) * |x_1-x_0|': None\n",
    "        }) \n",
    "    \n",
    "    # Fixed-point iteration\n",
    "    delta = 0; diff = 0; temp_q = q;\n",
    "    for i in range(n):\n",
    "        # Compute next iteration\n",
    "        x_new = phi(x)\n",
    "\n",
    "        if (i==0): \n",
    "            diff = abs(x_new - x)\n",
    "        delta = temp_q/(1-q) * diff\n",
    "        temp_q *= q\n",
    "        \n",
    "        results.append({\n",
    "            'n': i+1,\n",
    "            'x_n': x_new,\n",
    "            'f(x_n)': f(x_new),\n",
    "            'delta=q^n/(1-q) * |x_1-x_0|': delta\n",
    "        }) \n",
    "\n",
    "        # Prepare for next iteration\n",
    "        x = x_new\n",
    "        if (f(x_new) == 0): \n",
    "            break\n",
    "\n",
    "\t#Print the final result\n",
    "    df_results = pd.DataFrame(results)\n",
    "    print(df_results.to_string(index=False))\n",
    "\t\t\n",
    "    if rbl == None:\n",
    "        print(f\"The value of root is: {x}\")\n",
    "    else:\n",
    "        total_delta = delta + 0.5 * 10**(-rbl)\n",
    "        print(f\"The value of root with {rbl} decimal point is: {round(x, rbl)}\")\n",
    "        print(f\"Relative error is: {total_delta}\")"
   ]
  },
  {
   "cell_type": "code",
   "execution_count": 5,
   "metadata": {},
   "outputs": [
    {
     "name": "stdout",
     "output_type": "stream",
     "text": [
      " n               x_n            f(x_n)  delta=q^n/(1-q) * |x_1-x_0|\n",
      " 0 0.000000000000000 2.000000000000000                          NaN\n",
      " 1 0.117647058823529 0.000022537480887            0.049019607843137\n",
      " 2 0.117648384557699 0.000000001269874            0.014417531718570\n",
      " 3 0.117648384632398 0.000000000000071            0.004240450505462\n",
      " 4 0.117648384632402 0.000000000000000            0.001247191325136\n",
      "The value of root with 9 decimal point is: 0.117648385\n",
      "Relative error is: 0.0012471918251357945\n"
     ]
    }
   ],
   "source": [
    "f = lambda x: x**5 - 17*x + 2\n",
    "phi = lambda x: (x**5 + 2) / 17\n",
    "dphi = lambda x: 5*x**4 / 17\n",
    "\n",
    "a = 0\n",
    "b = 1\n",
    "x_0 = a\n",
    "q = max(np.abs(dphi(x)) for x in [a, b]) # Lipschitz constant (q<1)\n",
    "\n",
    "n = 15\n",
    "rbl = 9\n",
    "\n",
    "fixed_point_iteration_v1 (phi, dphi, a, b, x_0, q, n, rbl)"
   ]
  },
  {
   "cell_type": "markdown",
   "metadata": {},
   "source": [
    "### 1.2. Sai số tương đối\n",
    "\n",
    "Từ công thức sai số tiên nghiệm, suy ra Điều kiện dừng: $n > \\log_q \\left(\\epsilon \\cdot \\dfrac{1-q}{|x_1 - x_0|} \\right)$.  "
   ]
  },
  {
   "cell_type": "markdown",
   "metadata": {},
   "source": [
    "## 2. Hậu nghiệm - Sai số tương đối:\n",
    "\n",
    "Đánh giá sai số dựa trên công thức: $|x_n - x^*| \\leq \\dfrac{q}{1 - q} |x_n - x_{n-1}| < \\epsilon$.  "
   ]
  },
  {
   "cell_type": "markdown",
   "metadata": {},
   "source": [
    "### 2.1. Số lần lặp"
   ]
  },
  {
   "cell_type": "code",
   "execution_count": 122,
   "metadata": {},
   "outputs": [],
   "source": [
    "def fixed_point_iteration_v2 (phi, dphi, a, b, x_0, q, n, rbl):\n",
    "    #Initial value\n",
    "    x = x_0; results = [];\n",
    "    results.append({\n",
    "        'n': 0,\n",
    "        'x_n': x_0,\n",
    "        'f(x_n)': f(x_0),\n",
    "        'delta_x = q/(1-q) * |x_n - x|': None\n",
    "        }) \n",
    "    \n",
    "    # Fixed-point iteration\n",
    "    delta_x = 0;\n",
    "    for i in range(n):\n",
    "        # Compute next iteration\n",
    "        x_new = phi(x)\n",
    "        delta_x = q/(1-q) * abs(x_new - x)\n",
    "        \n",
    "        results.append({\n",
    "            'n': i+1,\n",
    "            'x_n': x_new,\n",
    "            'f(x_n)': f(x_new),\n",
    "            'delta_x = q/(1-q) * |x_n - x|': delta_x\n",
    "        }) \n",
    "\n",
    "        # Prepare for next iteration\n",
    "        x = x_new\n",
    "        if (f(x_new) == 0): \n",
    "            break\n",
    "\n",
    "\t#Print the final result\n",
    "    df_results = pd.DataFrame(results)\n",
    "    print(df_results.to_string(index=False))\n",
    "\t\t\n",
    "    if rbl == None:\n",
    "        print(f\"The value of root is: {x}\")\n",
    "    else:\n",
    "        total_delta = delta_x + 0.5 * 10**(-rbl)\n",
    "        print(f\"The value of root with {rbl} decimal point is: {round(x, rbl)}\")\n",
    "        print(f\"Relative error is: {total_delta}\")"
   ]
  },
  {
   "cell_type": "code",
   "execution_count": 123,
   "metadata": {},
   "outputs": [
    {
     "name": "stdout",
     "output_type": "stream",
     "text": [
      " n               x_n            f(x_n)  delta_x = q/(1-q) * |x_n - x|\n",
      " 0 0.000000000000000 2.000000000000000                            NaN\n",
      " 1 0.117647058823529 0.000022537480887              0.049019607843137\n",
      " 2 0.117648384557699 0.000000001269874              0.000000552389237\n",
      " 3 0.117648384632398 0.000000000000071              0.000000000031124\n",
      " 4 0.117648384632402 0.000000000000000              0.000000000000002\n",
      "The value of root with 9 decimal point is: 0.117648385\n",
      "Relative error is: 5.000017520707108e-10\n"
     ]
    }
   ],
   "source": [
    "f = lambda x: x**5 - 17*x + 2\n",
    "phi = lambda x: (x**5 + 2) / 17\n",
    "dphi = lambda x: 5*x**4 / 17\n",
    "\n",
    "a = 0\n",
    "b = 1\n",
    "x_0 = a\n",
    "q = max(np.abs(dphi(x)) for x in [a, b]) # Lipschitz constant (q<1)\n",
    "\n",
    "n = 15\n",
    "rbl = 9\n",
    "\n",
    "fixed_point_iteration_v2 (phi, dphi, a, b, x_0, q, n, rbl)"
   ]
  },
  {
   "cell_type": "markdown",
   "metadata": {},
   "source": [
    "### 2.2. Công thức mục tiêu\n",
    "\n",
    "Từ công thức sai số hậu nghiệm, ta có điều kiện dừng: $|x_n - x_{n-1}| \\leq \\dfrac{1-q}{q} \\epsilon $.  "
   ]
  },
  {
   "cell_type": "code",
   "execution_count": 124,
   "metadata": {},
   "outputs": [],
   "source": [
    "def fixed_point_recursion_absolute (f, phi, dphi, a, b, x_0, q, eps):\n",
    "    #Initial value\n",
    "    x = x_0; results = [];\n",
    "    results.append({\n",
    "        'n': 0,\n",
    "        'x_n': x_0,\n",
    "        'f(x_n)': f(x_0),\n",
    "        'delta_x=|x_new - x|': None\n",
    "        }) \n",
    "    \n",
    "    # Fixed-point iteration\n",
    "    i=0; new_eps = (1-q)/q * eps\n",
    "    print(f\"new_eps = {new_eps}\")\n",
    "    \n",
    "    while True:\n",
    "        # Compute next iteration\n",
    "        x_new = phi(x)\n",
    "        current_delta_x = abs(x_new - x)\n",
    "        \n",
    "        results.append({\n",
    "            'n': i+1,\n",
    "            'x_n': x_new,\n",
    "            'f(x_n)': f(x_new),\n",
    "            'delta_x=|x_new - x|': current_delta_x\n",
    "        }) \n",
    "\n",
    "        #stop condition \n",
    "        if (f(x) == 0): \n",
    "            break\n",
    "        elif current_delta_x < new_eps:\n",
    "            break\n",
    "        else:\n",
    "            i += 1\n",
    "            x = x_new  \n",
    "\n",
    "\t#Print the final result\n",
    "    df_results = pd.DataFrame(results)\n",
    "    print(df_results.to_string(index=False))\n",
    "\t\t\n",
    "    print(f\"The value of root with absolute error {eps} is: {x}\")"
   ]
  },
  {
   "cell_type": "code",
   "execution_count": 115,
   "metadata": {},
   "outputs": [
    {
     "name": "stdout",
     "output_type": "stream",
     "text": [
      "new_eps = 2.4e-08\n",
      " n               x_n            f(x_n)  delta_x=|x_new - x|\n",
      " 0 0.000000000000000 2.000000000000000                  NaN\n",
      " 1 0.117647058823529 0.000022537480887    0.117647058823529\n",
      " 2 0.117648384557699 0.000000001269874    0.000001325734170\n",
      " 3 0.117648384632398 0.000000000000071    0.000000000074698\n",
      "The value of root with absolute error 1e-08 is: 0.11764838455769926\n"
     ]
    }
   ],
   "source": [
    "f = lambda x: x**5 - 17*x + 2\n",
    "phi = lambda x: (x**5 + 2) / 17\n",
    "dphi = lambda x: 5*x**4 / 17\n",
    "\n",
    "a = 0\n",
    "b = 1\n",
    "x_0 = a\n",
    "q = max(np.abs(dphi(x)) for x in [a, b]) # Lipschitz constant (q<1)\n",
    "\n",
    "\n",
    "eps = 10**(-8)\n",
    "\n",
    "fixed_point_recursion_absolute (f, phi, dphi, a, b, x_0, q, eps)"
   ]
  },
  {
   "cell_type": "code",
   "execution_count": 116,
   "metadata": {},
   "outputs": [
    {
     "name": "stdout",
     "output_type": "stream",
     "text": [
      "new_eps = 4.1708636204415086e-08\n",
      " n                x_n            f(x_n)  delta_x=|x_new - x|\n",
      " 0 -2.000000000000000 4.000000000000000                  NaN\n",
      " 1 -2.047672511079219 0.810432688346729    0.047672511079219\n",
      " 2 -2.056810044249134 0.155338063888557    0.009137533169915\n",
      " 3 -2.058543047191897 0.029461050026967    0.001733002942763\n",
      " 4 -2.058871066946005 0.005576335819818    0.000328019754108\n",
      " 5 -2.058933130426983 0.001055079176624    0.000062063480978\n",
      " 6 -2.058944872401302 0.000199613563417    0.000011741974319\n",
      " 7 -2.058947093870170 0.000037764970763    0.000002221468868\n",
      " 8 -2.058947514149685 0.000007144751748    0.000000420279515\n",
      " 9 -2.058947593662294 0.000001351714324    0.000000079512609\n",
      "10 -2.058947608705269 0.000000255730555    0.000000015042975\n",
      "The value of root with absolute error 1e-08 is: -2.058947593662294\n"
     ]
    }
   ],
   "source": [
    "f = lambda x: x**5 - 17*x + 2\n",
    "phi = lambda x: -pow(2 - 17*x , 0.2)\n",
    "dphi = lambda x: 0.2 * 17 * pow(2 - 17*x, -0.8)\n",
    "\n",
    "a = -3\n",
    "b = -2\n",
    "x_0 = b\n",
    "q = max(np.abs(dphi(x)) for x in [a, b]) # Lipschitz constant (q<1)\n",
    "\n",
    "eps = 10**(-8)\n",
    "\n",
    "fixed_point_recursion_absolute (f, phi, dphi, a, b, x_0, q, eps)"
   ]
  },
  {
   "cell_type": "markdown",
   "metadata": {},
   "source": [
    "## 3. Hậu nghiệm - Sai số tuyệt đối:\n",
    "\n",
    "Đánh giá sai số dựa trên công thức: $\\dfrac{|x_n - x*|}{|x_n|} \\leq \\dfrac{q}{1 - q} \\cdot \\dfrac{|x_n - x_{n-1}|}{|x_n|} < \\eta$.  "
   ]
  },
  {
   "cell_type": "markdown",
   "metadata": {},
   "source": [
    "### 3.1. Công thức mục tiêu:\n",
    "\n",
    "Từ công thức sai số Hậu nghiệm, suy ra Điều kiện dừng: $\\dfrac{|x_n - x_{n-1}|}{|x_n|} < \\eta \\cdot \\dfrac{1-q}{q}$"
   ]
  },
  {
   "cell_type": "code",
   "execution_count": 117,
   "metadata": {},
   "outputs": [],
   "source": [
    "def fixed_point_recursion_relative (f, phi, dphi, a, b, x_0, q, eta):\n",
    "    #Initial value\n",
    "    x = x_0; results = [];\n",
    "    results.append({\n",
    "        'n': 0,\n",
    "        'x_n': x_0,\n",
    "        'f(x_n)': f(x_0),\n",
    "        'sigma_x=|x_n-x_(n-1)| / |x_n|': None\n",
    "        }) \n",
    "    \n",
    "    # Fixed-point iteration\n",
    "    i=0; new_eta = (1-q)/q * eta\n",
    "    print(f\"new_eta = {new_eta}\")\n",
    "    \n",
    "    while True:\n",
    "        # Compute next iteration\n",
    "        x_new = phi(x)\n",
    "        current_sigma_x = abs(x_new - x) / abs(x_new)\n",
    "        \n",
    "        results.append({\n",
    "            'n': i+1,\n",
    "            'x_n': x_new,\n",
    "            'f(x_n)': f(x_new),\n",
    "            'sigma_x=|x_n-x_(n-1)| / |x_n|': current_sigma_x\n",
    "        }) \n",
    "\n",
    "        #stop condition \n",
    "        if (f(x) == 0): \n",
    "            break\n",
    "        elif current_sigma_x < new_eta:\n",
    "            break\n",
    "        else:\n",
    "            i += 1\n",
    "            x = x_new  \n",
    "\n",
    "\t#Print the final result\n",
    "    df_results = pd.DataFrame(results)\n",
    "    print(df_results.to_string(index=False))\n",
    "\t\t\n",
    "    print(f\"The value of root with relative error {eps} is: {x}\")"
   ]
  },
  {
   "cell_type": "code",
   "execution_count": 118,
   "metadata": {},
   "outputs": [
    {
     "name": "stdout",
     "output_type": "stream",
     "text": [
      "new_eta = 4e-08\n",
      " n               x_n             f(x_n)  sigma_x=|x_n-x_(n-1)| / |x_n|\n",
      " 0 0.000000000000000 -1.000000000000000                            NaN\n",
      " 1 0.333333333333333  0.111111111111111              1.000000000000000\n",
      " 2 0.300000000000000 -0.010000000000000              0.111111111111111\n",
      " 3 0.303030303030303  0.000918273645546              0.010000000000000\n",
      " 4 0.302752293577982 -0.000084167999327              0.000918273645547\n",
      " 5 0.302777777777778  0.000007716049383              0.000084167999327\n",
      " 6 0.302775441547519 -0.000000707353148              0.000007716049383\n",
      " 7 0.302775655716832  0.000000064845254              0.000000707353148\n",
      " 8 0.302775636083269 -0.000000005944565              0.000000064845254\n",
      " 9 0.302775637883138  0.000000000544957              0.000000005944565\n",
      "The value of root with relative error 1e-08 is: 0.3027756360832691\n"
     ]
    }
   ],
   "source": [
    "f = lambda x: x**2 + 3*x - 1\n",
    "phi = lambda x: 1/(x+3)\n",
    "dphi = lambda x: -1/(x+3)**2\n",
    "\n",
    "a = 0\n",
    "b = 1\n",
    "x_0 = a\n",
    "q = max(np.abs(dphi(x)) for x in [a, b]) # Lipschitz constant (q<1)\n",
    "\n",
    "eta = 5 * 10**(-9)\n",
    "\n",
    "fixed_point_recursion_relative (f, phi, dphi, a, b, x_0, q, eta)"
   ]
  }
 ],
 "metadata": {
  "kernelspec": {
   "display_name": "base",
   "language": "python",
   "name": "python3"
  },
  "language_info": {
   "codemirror_mode": {
    "name": "ipython",
    "version": 3
   },
   "file_extension": ".py",
   "mimetype": "text/x-python",
   "name": "python",
   "nbconvert_exporter": "python",
   "pygments_lexer": "ipython3",
   "version": "3.12.9"
  }
 },
 "nbformat": 4,
 "nbformat_minor": 2
}
