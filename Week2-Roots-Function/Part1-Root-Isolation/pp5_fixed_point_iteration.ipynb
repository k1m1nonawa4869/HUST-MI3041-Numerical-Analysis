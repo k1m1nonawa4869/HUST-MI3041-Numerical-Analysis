{
 "cells": [
  {
   "cell_type": "code",
   "execution_count": 11,
   "metadata": {},
   "outputs": [],
   "source": [
    "import numpy as np\n",
    "import pandas as pd\n",
    "\n",
    "pd.set_option('display.precision', 15)  # Increase decimal precision\n",
    "pd.set_option('display.width', 150)     # Wider display\n",
    "pd.set_option('display.max_columns', None)  # Show all column"
   ]
  },
  {
   "cell_type": "markdown",
   "metadata": {},
   "source": [
    "# Phương pháp lặp đơn (Fixed-Point Interation)\n",
    "\n",
    "Điều kiện hội tụ:\n",
    "\n",
    "* $(a, b)$ là khoảng cách ly nghiệm của phương trình. \n",
    "\n",
    "* $|\\varphi'(x)| \\leq q < 1 \\ \\forall x \\in [a, b]$ --> đảm bảo nghiệm duy nhất\n",
    "\n",
    "Ánh xạ co không thảo mãn điều kiện --> tự co lại ánh xạ đến khi thoả mãn"
   ]
  },
  {
   "cell_type": "markdown",
   "metadata": {},
   "source": [
    "# Thuật toán\n",
    "\n",
    "1. Tạo phương trình lặp $x = \\varphi(x)$ tương đương với phương trình $f(x) = 0$.\n",
    "\n",
    "2. Công thức lặp tương ứng với phương trình lặp: $x_{k+1} = \\varphi(x_k)$\n",
    "\n",
    "3. Nếu $\\exists \\lim\\limits_{k \\to \\infty} x_k = \\alpha$ và $\\varphi(x)$ liên tục thì $\\alpha = \\varphi(\\alpha)$.\n"
   ]
  },
  {
   "cell_type": "markdown",
   "metadata": {},
   "source": [
    "# Áp dụng\n",
    "\n",
    "Note: Chọn các hàm $\\varphi$ ổn định trong tính toán"
   ]
  },
  {
   "cell_type": "markdown",
   "metadata": {},
   "source": [
    "## 1. Tiên nghiệm: \n",
    "Đánh giá sai số: $|x_n - x^*| \\leq \\dfrac{q^n}{1 - q} |x_1 - x_0| < \\epsilon$.  \n",
    "\n"
   ]
  },
  {
   "cell_type": "markdown",
   "metadata": {},
   "source": [
    "### 1.1. Số lần lặp"
   ]
  },
  {
   "cell_type": "code",
   "execution_count": 12,
   "metadata": {},
   "outputs": [],
   "source": [
    "def fixed_point_iteration_v1 (phi, dphi, a, b, x_0, q, n, rbl):\n",
    "    #Initial value\n",
    "    x = x_0; results = [];\n",
    "    results.append({\n",
    "        'n': 0,\n",
    "        'x_n': x_0,\n",
    "        'f(x_n)': f(x_0),\n",
    "        'delta=q^n/(1-q) * |x_1-x_0|': None\n",
    "        }) \n",
    "    \n",
    "    # Fixed-point iteration\n",
    "    delta = 0; diff = 0; temp_q = q;\n",
    "    for i in range(n):\n",
    "        # Compute next iteration\n",
    "        x_new = phi(x)\n",
    "\n",
    "        if (i==0): \n",
    "            diff = abs(x_new - x)\n",
    "        delta = temp_q/(1-q) * diff\n",
    "        temp_q *= q\n",
    "        \n",
    "        results.append({\n",
    "            'n': i+1,\n",
    "            'x_n': x_new,\n",
    "            'f(x_n)': f(x_new),\n",
    "            'delta=q^n/(1-q) * |x_1-x_0|': delta\n",
    "        }) \n",
    "\n",
    "        # Prepare for next iteration\n",
    "        x = x_new\n",
    "        if (f(x_new) == 0): \n",
    "            break\n",
    "\n",
    "\t#Print the final result\n",
    "    df_results = pd.DataFrame(results)\n",
    "    print(df_results.to_string(index=False))\n",
    "\t\t\n",
    "    if rbl == None:\n",
    "        print(f\"The value of root is: {x}\")\n",
    "    else:\n",
    "        total_delta = delta + 0.5 * 10**(-rbl)\n",
    "        print(f\"The value of root with {rbl} decimal point is: {round(x, rbl)}\")\n",
    "        print(f\"Relative error is: {total_delta}\")"
   ]
  },
  {
   "cell_type": "code",
   "execution_count": 13,
   "metadata": {},
   "outputs": [
    {
     "name": "stdout",
     "output_type": "stream",
     "text": [
      " n               x_n            f(x_n)  delta=q^n/(1-q) * |x_1-x_0|\n",
      " 0 0.000000000000000 2.000000000000000                          NaN\n",
      " 1 0.117647058823529 0.000022537480887            0.049019607843137\n",
      " 2 0.117648384557699 0.000000001269874            0.014417531718570\n",
      " 3 0.117648384632398 0.000000000000071            0.004240450505462\n",
      " 4 0.117648384632402 0.000000000000000            0.001247191325136\n",
      "The value of root with 9 decimal point is: 0.117648385\n",
      "Relative error is: 0.0012471918251357945\n"
     ]
    }
   ],
   "source": [
    "f = lambda x: x**5 - 17*x + 2\n",
    "phi = lambda x: (x**5 + 2) / 17\n",
    "dphi = lambda x: 5*x**4 / 17\n",
    "\n",
    "a = 0\n",
    "b = 1\n",
    "x_0 = a\n",
    "q = max(np.abs(dphi(x)) for x in [a, b]) # Lipschitz constant (q<1)\n",
    "\n",
    "n = 15\n",
    "rbl = 9\n",
    "\n",
    "fixed_point_iteration_v1 (phi, dphi, a, b, x_0, q, n, rbl)"
   ]
  },
  {
   "cell_type": "markdown",
   "metadata": {},
   "source": [
    "### 1.2. Sai số tương đối\n",
    "\n",
    "Từ công thức sai số tiên nghiệm, suy ra Điều kiện dừng: $n > \\log_q \\left(\\epsilon \\cdot \\dfrac{1-q}{|x_1 - x_0|} \\right)$.  "
   ]
  },
  {
   "cell_type": "markdown",
   "metadata": {},
   "source": [
    "## 2. Hậu nghiệm - Sai số tuyệt đối:\n",
    "\n",
    "Đánh giá sai số dựa trên công thức: $|x_n - x^*| \\leq \\dfrac{q}{1 - q} |x_n - x_{n-1}| < \\epsilon$.  "
   ]
  },
  {
   "cell_type": "markdown",
   "metadata": {},
   "source": [
    "### 2.1. Số lần lặp"
   ]
  },
  {
   "cell_type": "code",
   "execution_count": 14,
   "metadata": {},
   "outputs": [],
   "source": [
    "def fixed_point_iteration_v2 (phi, dphi, a, b, x_0, q, n, rbl):\n",
    "    #Initial value\n",
    "    x = x_0; results = [];\n",
    "    results.append({\n",
    "        'n': 0,\n",
    "        'x_n': x_0,\n",
    "        'f(x_n)': f(x_0),\n",
    "        'delta_x = q/(1-q) * |x_n - x|': None\n",
    "        }) \n",
    "    \n",
    "    # Fixed-point iteration\n",
    "    delta_x = 0;\n",
    "    for i in range(n):\n",
    "        # Compute next iteration\n",
    "        x_new = phi(x)\n",
    "        delta_x = q/(1-q) * abs(x_new - x)\n",
    "        \n",
    "        results.append({\n",
    "            'n': i+1,\n",
    "            'x_n': x_new,\n",
    "            'f(x_n)': f(x_new),\n",
    "            'delta_x = q/(1-q) * |x_n - x|': delta_x\n",
    "        }) \n",
    "\n",
    "        # Prepare for next iteration\n",
    "        x = x_new\n",
    "        if (f(x_new) == 0): \n",
    "            break\n",
    "\n",
    "\t#Print the final result\n",
    "    df_results = pd.DataFrame(results)\n",
    "    print(df_results.to_string(index=False))\n",
    "\t\t\n",
    "    if rbl == None:\n",
    "        print(f\"The value of root is: {x}\")\n",
    "    else:\n",
    "        total_delta = delta_x + 0.5 * 10**(-rbl)\n",
    "        print(f\"The value of root with {rbl} decimal point is: {round(x, rbl)}\")\n",
    "        print(f\"Relative error is: {total_delta}\")"
   ]
  },
  {
   "cell_type": "code",
   "execution_count": 15,
   "metadata": {},
   "outputs": [
    {
     "name": "stdout",
     "output_type": "stream",
     "text": [
      " n               x_n            f(x_n)  delta_x = q/(1-q) * |x_n - x|\n",
      " 0 0.000000000000000 2.000000000000000                            NaN\n",
      " 1 0.117647058823529 0.000022537480887              0.049019607843137\n",
      " 2 0.117648384557699 0.000000001269874              0.000000552389237\n",
      " 3 0.117648384632398 0.000000000000071              0.000000000031124\n",
      " 4 0.117648384632402 0.000000000000000              0.000000000000002\n",
      "The value of root with 9 decimal point is: 0.117648385\n",
      "Relative error is: 5.000017520707108e-10\n"
     ]
    }
   ],
   "source": [
    "f = lambda x: x**5 - 17*x + 2\n",
    "phi = lambda x: (x**5 + 2) / 17\n",
    "dphi = lambda x: 5*x**4 / 17\n",
    "\n",
    "a = 0\n",
    "b = 1\n",
    "x_0 = a\n",
    "q = max(np.abs(dphi(x)) for x in [a, b]) # Lipschitz constant (q<1)\n",
    "\n",
    "n = 15\n",
    "rbl = 9\n",
    "\n",
    "fixed_point_iteration_v2 (phi, dphi, a, b, x_0, q, n, rbl)"
   ]
  },
  {
   "cell_type": "markdown",
   "metadata": {},
   "source": [
    "### 2.2. Công thức mục tiêu\n",
    "\n",
    "Từ công thức sai số hậu nghiệm, ta có điều kiện dừng: $|x_n - x_{n-1}| \\leq \\dfrac{1-q}{q} \\epsilon $.  "
   ]
  },
  {
   "cell_type": "code",
   "execution_count": 16,
   "metadata": {},
   "outputs": [],
   "source": [
    "def fixed_point_recursion_absolute (f, phi, dphi, a, b, x_0, q, eps):\n",
    "    #Initial value\n",
    "    x = x_0; results = [];\n",
    "    results.append({\n",
    "        'n': 0,\n",
    "        'x_n': x_0,\n",
    "        'f(x_n)': f(x_0),\n",
    "        'delta_x=|x_new - x|': None\n",
    "        }) \n",
    "    \n",
    "    # Fixed-point iteration\n",
    "    i=0; new_eps = (1-q)/q * eps\n",
    "    print(f\"new_eps = {new_eps}\")\n",
    "    \n",
    "    while True:\n",
    "        # Compute next iteration\n",
    "        x_new = phi(x)\n",
    "        current_delta_x = abs(x_new - x)\n",
    "        \n",
    "        results.append({\n",
    "            'n': i+1,\n",
    "            'x_n': x_new,\n",
    "            'f(x_n)': f(x_new),\n",
    "            'delta_x=|x_new - x|': current_delta_x\n",
    "        }) \n",
    "\n",
    "        x = x_new  \n",
    "        #stop condition \n",
    "        if (f(x_new) == 0): \n",
    "            break\n",
    "        elif current_delta_x < new_eps:\n",
    "            break\n",
    "        else:\n",
    "            i += 1\n",
    "\n",
    "\t#Print the final result\n",
    "    df_results = pd.DataFrame(results)\n",
    "    print(df_results.to_string(index=False))\n",
    "\t\t\n",
    "    print(f\"The value of root with absolute error {eps} is: {x}\")"
   ]
  },
  {
   "cell_type": "code",
   "execution_count": 17,
   "metadata": {},
   "outputs": [
    {
     "name": "stdout",
     "output_type": "stream",
     "text": [
      "new_eps = 2.5816668673175056e-08\n",
      " n               x_n             f(x_n)  delta_x=|x_new - x|\n",
      " 0 2.000000000000000 -0.040000000000000                  NaN\n",
      " 1 1.960000000000000 -0.026202698209403    0.040000000000000\n",
      " 2 1.933797301790597 -0.016974349187362    0.026202698209403\n",
      " 3 1.916822952603235 -0.010916533309999    0.016974349187362\n",
      " 4 1.905906419293236 -0.006987763380521    0.010916533309999\n",
      " 5 1.898918655912715 -0.004459470883830    0.006987763380521\n",
      " 6 1.894459185028885 -0.002840481955769    0.004459470883830\n",
      " 7 1.891618703073116 -0.001807038263358    0.002840481955769\n",
      " 8 1.889811664809758 -0.001148690650563    0.001807038263358\n",
      " 9 1.888662974159196 -0.000729831934529    0.001148690650563\n",
      "10 1.887933142224666 -0.000463559392009    0.000729831934529\n",
      "11 1.887469582832657 -0.000294374856061    0.000463559392009\n",
      "12 1.887175207976596 -0.000186913496486    0.000294374856061\n",
      "13 1.886988294480110 -0.000118671230683    0.000186913496486\n",
      "14 1.886869623249427 -0.000075340396859    0.000118671230683\n",
      "15 1.886794282852567 -0.000047829537960    0.000075340396859\n",
      "16 1.886746453314607 -0.000030363754282    0.000047829537960\n",
      "17 1.886716089560325 -0.000019275650262    0.000030363754282\n",
      "18 1.886696813910063 -0.000012236549759    0.000019275650262\n",
      "19 1.886684577360304 -0.000007767953567    0.000012236549759\n",
      "20 1.886676809406737 -0.000004931202073    0.000007767953567\n",
      "21 1.886671878204664 -0.000003130387138    0.000004931202073\n",
      "22 1.886668747817526 -0.000001987205188    0.000003130387138\n",
      "23 1.886666760612338 -0.000001261499261    0.000001987205188\n",
      "24 1.886665499113077 -0.000000800812882    0.000001261499261\n",
      "25 1.886664698300195 -0.000000508364190    0.000000800812882\n",
      "26 1.886664189936005 -0.000000322714705    0.000000508364190\n",
      "27 1.886663867221300 -0.000000204862514    0.000000322714705\n",
      "28 1.886663662358785 -0.000000130048756    0.000000204862514\n",
      "29 1.886663532310029 -0.000000082556236    0.000000130048756\n",
      "30 1.886663449753793 -0.000000052407513    0.000000082556236\n",
      "31 1.886663397346280 -0.000000033268805    0.000000052407513\n",
      "32 1.886663364077475 -0.000000021119365    0.000000033268805\n",
      "33 1.886663342958110 -0.000000013406780    0.000000021119365\n",
      "The value of root with absolute error 5e-08 is: 1.8866633429581101\n"
     ]
    }
   ],
   "source": [
    "f = lambda x: (1.4)**x - x\n",
    "phi = lambda x: (1.4)**x\n",
    "dphi = lambda x: (1.4)**x * np.log(1.4)\n",
    "\n",
    "a = 1\n",
    "b = 2\n",
    "x_0 = b\n",
    "q = dphi(2)\n",
    "\n",
    "eps = 0.5 * 10**(-7)\n",
    "\n",
    "fixed_point_recursion_absolute (f, phi, dphi, a, b, x_0, q, eps)"
   ]
  },
  {
   "cell_type": "code",
   "execution_count": 18,
   "metadata": {},
   "outputs": [
    {
     "name": "stdout",
     "output_type": "stream",
     "text": [
      "new_eps = 4.1708636204415086e-08\n",
      " n                x_n            f(x_n)  delta_x=|x_new - x|\n",
      " 0 -2.000000000000000 4.000000000000000                  NaN\n",
      " 1 -2.047672511079219 0.810432688346729    0.047672511079219\n",
      " 2 -2.056810044249134 0.155338063888557    0.009137533169915\n",
      " 3 -2.058543047191897 0.029461050026967    0.001733002942763\n",
      " 4 -2.058871066946005 0.005576335819818    0.000328019754108\n",
      " 5 -2.058933130426983 0.001055079176624    0.000062063480978\n",
      " 6 -2.058944872401302 0.000199613563417    0.000011741974319\n",
      " 7 -2.058947093870170 0.000037764970763    0.000002221468868\n",
      " 8 -2.058947514149685 0.000007144751748    0.000000420279515\n",
      " 9 -2.058947593662294 0.000001351714324    0.000000079512609\n",
      "10 -2.058947608705269 0.000000255730555    0.000000015042975\n",
      "The value of root with absolute error 1e-08 is: -2.058947608705269\n"
     ]
    }
   ],
   "source": [
    "f = lambda x: x**5 - 17*x + 2\n",
    "phi = lambda x: -pow(2 - 17*x , 0.2)\n",
    "dphi = lambda x: 0.2 * 17 * pow(2 - 17*x, -0.8)\n",
    "\n",
    "a = -3\n",
    "b = -2\n",
    "x_0 = b\n",
    "q = max(np.abs(dphi(x)) for x in [a, b]) # Lipschitz constant (q<1)\n",
    "\n",
    "eps = 10**(-8)\n",
    "\n",
    "fixed_point_recursion_absolute (f, phi, dphi, a, b, x_0, q, eps)"
   ]
  },
  {
   "cell_type": "markdown",
   "metadata": {},
   "source": [
    "## 3. Hậu nghiệm - Sai số tuương đối:\n",
    "\n",
    "Đánh giá sai số dựa trên công thức: $\\dfrac{|x_n - x^*|}{|x_n|} \\leq \\dfrac{q}{1 - q} \\cdot \\dfrac{|x_n - x_{n-1}|}{|x_n|} < \\eta$.  "
   ]
  },
  {
   "cell_type": "markdown",
   "metadata": {},
   "source": [
    "### 3.1. Công thức mục tiêu:\n",
    "\n",
    "Từ công thức sai số Hậu nghiệm, suy ra Điều kiện dừng: $\\dfrac{|x_n - x_{n-1}|}{|x_n|} < \\eta \\cdot \\dfrac{1-q}{q}$"
   ]
  },
  {
   "cell_type": "code",
   "execution_count": 19,
   "metadata": {},
   "outputs": [],
   "source": [
    "def fixed_point_recursion_relative (f, phi, dphi, a, b, x_0, q, eta):\n",
    "    #Initial value\n",
    "    x = x_0; results = [];\n",
    "    results.append({\n",
    "        'n': 0,\n",
    "        'x_n': x_0,\n",
    "        'f(x_n)': f(x_0),\n",
    "        'sigma_x=|x_n-x_(n-1)| / |x_n|': None\n",
    "        }) \n",
    "    \n",
    "    # Fixed-point iteration\n",
    "    i=0; new_eta = (1-q)/q * eta\n",
    "    print(f\"new_eta = {new_eta}\")\n",
    "    \n",
    "    while True:\n",
    "        # Compute next iteration\n",
    "        x_new = phi(x)\n",
    "        current_sigma_x = abs(x_new - x) / abs(x_new)\n",
    "        \n",
    "        results.append({\n",
    "            'n': i+1,\n",
    "            'x_n': x_new,\n",
    "            'f(x_n)': f(x_new),\n",
    "            'sigma_x=|x_n-x_(n-1)| / |x_n|': current_sigma_x\n",
    "        }) \n",
    "\n",
    "        #stop condition \n",
    "        if (f(x) == 0): \n",
    "            break\n",
    "        elif current_sigma_x < new_eta:\n",
    "            break\n",
    "        else:\n",
    "            i += 1\n",
    "            x = x_new  \n",
    "\n",
    "\t#Print the final result\n",
    "    df_results = pd.DataFrame(results)\n",
    "    print(df_results.to_string(index=False))\n",
    "\t\t\n",
    "    print(f\"The value of root with relative error {eps} is: {x}\")"
   ]
  },
  {
   "cell_type": "code",
   "execution_count": 20,
   "metadata": {},
   "outputs": [
    {
     "name": "stdout",
     "output_type": "stream",
     "text": [
      "new_eta = 4e-08\n",
      " n               x_n             f(x_n)  sigma_x=|x_n-x_(n-1)| / |x_n|\n",
      " 0 0.000000000000000 -1.000000000000000                            NaN\n",
      " 1 0.333333333333333  0.111111111111111              1.000000000000000\n",
      " 2 0.300000000000000 -0.010000000000000              0.111111111111111\n",
      " 3 0.303030303030303  0.000918273645546              0.010000000000000\n",
      " 4 0.302752293577982 -0.000084167999327              0.000918273645547\n",
      " 5 0.302777777777778  0.000007716049383              0.000084167999327\n",
      " 6 0.302775441547519 -0.000000707353148              0.000007716049383\n",
      " 7 0.302775655716832  0.000000064845254              0.000000707353148\n",
      " 8 0.302775636083269 -0.000000005944565              0.000000064845254\n",
      " 9 0.302775637883138  0.000000000544957              0.000000005944565\n",
      "The value of root with relative error 1e-08 is: 0.3027756360832691\n"
     ]
    }
   ],
   "source": [
    "f = lambda x: x**2 + 3*x - 1\n",
    "phi = lambda x: 1/(x+3)\n",
    "dphi = lambda x: -1/(x+3)**2\n",
    "\n",
    "a = 0\n",
    "b = 1\n",
    "x_0 = a\n",
    "q = max(np.abs(dphi(x)) for x in [a, b]) # Lipschitz constant (q<1)\n",
    "\n",
    "eta = 5 * 10**(-9)\n",
    "\n",
    "fixed_point_recursion_relative (f, phi, dphi, a, b, x_0, q, eta)"
   ]
  }
 ],
 "metadata": {
  "kernelspec": {
   "display_name": "base",
   "language": "python",
   "name": "python3"
  },
  "language_info": {
   "codemirror_mode": {
    "name": "ipython",
    "version": 3
   },
   "file_extension": ".py",
   "mimetype": "text/x-python",
   "name": "python",
   "nbconvert_exporter": "python",
   "pygments_lexer": "ipython3",
   "version": "3.12.9"
  }
 },
 "nbformat": 4,
 "nbformat_minor": 2
}
