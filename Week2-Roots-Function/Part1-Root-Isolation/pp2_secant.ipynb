{
 "cells": [
  {
   "cell_type": "code",
   "execution_count": 2,
   "metadata": {},
   "outputs": [],
   "source": [
    "import numpy as np\n",
    "import pandas as pd\n",
    "\n",
    "pd.set_option('display.precision', 15)  # Increase decimal precision\n",
    "pd.set_option('display.width', 150)     # Wider display\n",
    "pd.set_option('display.max_columns', None)  # Show all column"
   ]
  },
  {
   "cell_type": "markdown",
   "metadata": {},
   "source": [
    "# Phương pháp Dây cung (Secant Method)\n",
    "\n",
    "# Điều kiện:\n",
    "\n",
    "* $(a,b)$ là khoảng cách ly nghiệm\n",
    "\n",
    "* $f'(x)$ xác định dấu không đổi trên $[a,b]$\n",
    "\n",
    "* $f''(x)$ xác định dấu không đổi trên $[a,b]$\n",
    "\n",
    "Điều kiện hội tụ:\n",
    "\n",
    "* Chọn đúng điểm mốc $d$ (điểm Fourier - $f(d) \\cdot f''(d) > 0$)\n",
    "    \n",
    "* Chọn đúng xuất phát ban đầu $x_0$ ($f(d) \\cdot f(x_0) < 0$)"
   ]
  },
  {
   "cell_type": "markdown",
   "metadata": {},
   "source": [
    "# Thuật toán:\n",
    "\n",
    "1. Kiểm tra input ban đầu có thỏa mãn điều kiện không\n",
    "\n",
    "2. Xác định điểm mốc $d$ và điểm xuất phát ban đầu $x_0$\n",
    "\n",
    "3. Xác định x theo công thức lặp: \n",
    "\n",
    "$\\quad x_{n+1} = x_n - \\dfrac{f(x_n) \\cdot (x_n - d)}{f(x_n) - f(d)} = \\dfrac{d \\cdot f(x_n) - x_n \\cdot f(d)}{f(x_n) - f(d)}$\n",
    "\n",
    "4. Lặp lại bước (3) cho đến khi:\n",
    "\n",
    "   a. $x_n$ là nghiệm của phương trình, hoặc\n",
    "\n",
    "   b. khoảng $[d, x_n]$ (hoặc $[x_n, d]$) thỏa mãn điều kiện dừng\n",
    "\n",
    "5. In giá trị $x_n$ (giá trị $x$ sau $n$ lần lặp)"
   ]
  },
  {
   "cell_type": "markdown",
   "metadata": {},
   "source": [
    "# Áp dụng"
   ]
  },
  {
   "cell_type": "markdown",
   "metadata": {},
   "source": [
    "## 1. Hậu nghiêm - Số lần lặp\n",
    "\n",
    "Đánh giá sai số theo 1 trong 2 công thức:\n",
    "+ $|x_n - x^*| \\leqslant \\dfrac{|f(x_n)|}{m_1}$ $\\quad\\quad$(1)\n",
    "\n",
    "+ $|x_n - x^*| \\leqslant \\dfrac{M_1 - m_1}{m_1} \\cdot |x_n - x_{n-1}| $ $\\quad\\quad$(2)\n",
    "\n",
    "với $m_1 = \\min\\limits_{[a,b]} |f'(x)|, \\quad M_1 = \\max\\limits_{[a,b]} |f'(x)|$"
   ]
  },
  {
   "cell_type": "markdown",
   "metadata": {},
   "source": [
    "### 1.1. Công thức 1\n",
    "\n"
   ]
  },
  {
   "cell_type": "code",
   "execution_count": 3,
   "metadata": {},
   "outputs": [],
   "source": [
    "def secant_iteration_v1 (f, df, a, b, n, rbl):\t\n",
    "\tM1 = max([np.abs(df(x)) for x in [a, b]]) #M1 is the maximum value of |f'(x)| in the interval [a,b]\n",
    "\tm1 = min([np.abs(df(x)) for x in [a, b]]) #m1 is the minimum value of |f'(x)| in the interval [a,b]\n",
    "\n",
    "\t# Error function\n",
    "\tif (f(a) * f(b) >= 0) or (M1 * m1 <= 0): \n",
    "\t\tprint(\"Can not find a root in the given interval\");\n",
    "\t\treturn 0;\n",
    "\n",
    "\t# Implementing Secant Method\n",
    "\tx = a; mrk = b;\n",
    "\n",
    "\tresults = [];\n",
    "\tfor i in range(n):\n",
    "\t\t# Calculate the next value of x\n",
    "\t\tx_new = (mrk * f(x) - x * f(mrk)) / (f(x) - f(mrk))\n",
    "\t\tdelta_x = abs(f(x_new))/ m1\n",
    "\n",
    "\t\tresults.append({\n",
    "            'n': i,\n",
    "\t\t\t'mrk': mrk,\n",
    "            'x_(n+1)': x_new,\n",
    "            'f(x_(n+1))': f(x_new),\n",
    "            'delta_x=|f(x_n)| / m_1': delta_x\n",
    "        })\n",
    "\t\t\n",
    "\t\t# Prepare for next iteration\n",
    "\t\tx = x_new\n",
    "\t\tif (f(x_new) == 0): \n",
    "\t\t\tbreak\n",
    "\t\telif (i == 0):\n",
    "\t\t\tif f(a) * f(x_new) < 0:\n",
    "\t\t\t\tmrk = a\n",
    "\t\t\telse:\n",
    "\t\t\t\tmrk = b\n",
    "\n",
    "\t# Print the final result\n",
    "\tdf_results = pd.DataFrame(results)\n",
    "\tprint(df_results.to_string(index=False))\n",
    "\n",
    "\tif rbl == None:\n",
    "\t\tprint(f\"The value of root is: {x}\")\n",
    "\telse:\n",
    "\t\ttotal_delta = delta_x + 0.5 * 10**(-rbl) #must calculate roundoff error\n",
    "\t\tprint(f\"The value of root with {rbl} decimal point is: {round(x, rbl)}\")\n",
    "\t\tprint(f\"Relative error is: {total_delta}\")"
   ]
  },
  {
   "cell_type": "code",
   "execution_count": 4,
   "metadata": {},
   "outputs": [
    {
     "name": "stdout",
     "output_type": "stream",
     "text": [
      " n  mrk           x_(n+1)         f(x_(n+1))  delta_x=|f(x_n)| / m_1\n",
      " 0    2 1.354838709677419 -7.435029421585015       1.487005884317003\n",
      " 1    2 1.529680628069611 -3.624633240286681       0.724926648057336\n",
      " 2    2 1.601839853218664 -1.453812878149883       0.290762575629977\n",
      " 3    2 1.628821087381766 -0.535188563101631       0.107037712620326\n",
      " 4    2 1.638494760856317 -0.190669278217582       0.038133855643516\n",
      " 5    2 1.641908612178906 -0.067130140804897       0.013426028160979\n",
      " 6    2 1.643106527631529 -0.023536232519628       0.004707246503926\n",
      " 7    2 1.643526030343380 -0.008239825857270       0.001647965171454\n",
      " 8    2 1.643672834033169 -0.002883205004572       0.000576641000914\n",
      " 9    2 1.643724194842391 -0.001008683129713       0.000201736625943\n",
      "10    2 1.643742162405922 -0.000352863397884       0.000070572679577\n",
      "11    2 1.643748447812582 -0.000123438003291       0.000024687600658\n",
      "12    2 1.643750646548026 -0.000043180514584       0.000008636102917\n",
      "13    2 1.643751415697885 -0.000015105168250       0.000003021033650\n",
      "14    2 1.643751684757422 -0.000005284001231       0.000001056800246\n",
      "15    2 1.643751778878224 -0.000001848417677       0.000000369683535\n",
      "16    2 1.643751811802996 -0.000000646602325       0.000000129320465\n",
      "17    2 1.643751823320541 -0.000000226190512       0.000000045238102\n",
      "18    2 1.643751827349539 -0.000000079124597       0.000000015824919\n",
      "19    2 1.643751828758939 -0.000000027678878       0.000000005535776\n",
      "The value of root with 9 decimal point is: 1.643751829\n",
      "Relative error is: 6.035775571274826e-09\n"
     ]
    }
   ],
   "source": [
    "f = lambda x: x ** 5 - 12; \n",
    "df = lambda x: 5 * (x ** 4)\n",
    "\n",
    "a = 1\n",
    "b = 2\n",
    "\n",
    "n = 20\n",
    "rbl = 9;\n",
    "secant_iteration_v1 (f, df, a, b, n, rbl)"
   ]
  },
  {
   "cell_type": "markdown",
   "metadata": {},
   "source": [
    "### 1.2. Công thức 2"
   ]
  },
  {
   "cell_type": "code",
   "execution_count": 5,
   "metadata": {},
   "outputs": [],
   "source": [
    "def secant_iteration_v2 (f, df, a, b, n, rbl):\t\n",
    "\tM1 = max([np.abs(df(x)) for x in [a, b]]) #M1 is the maximum value of |f'(x)| in the interval [a,b]\n",
    "\tm1 = min([np.abs(df(x)) for x in [a, b]]) #m1 is the minimum value of |f'(x)| in the interval [a,b]\n",
    "\n",
    "\t# Error function\n",
    "\tif (f(a) * f(b) >= 0) or (M1 * m1 <= 0): \n",
    "\t\tprint(\"Can not find a root in the given interval\");\n",
    "\t\treturn 0;\n",
    "\n",
    "\t# Implementing Secant Method\n",
    "\tx = a; mrk = b;\n",
    "\n",
    "\tresults = [];\n",
    "\tfor i in range(n):\n",
    "\t\t# Calculate the next value of x\n",
    "\t\tx_new = (mrk * f(x) - x * f(mrk)) / (f(x) - f(mrk))\n",
    "\t\tdelta_x = (M1 - m1) * abs(x - x_new) / m1\n",
    "\n",
    "\t\tresults.append({\n",
    "            'n': i,\n",
    "\t\t\t'mrk': mrk,\n",
    "            'x_(n+1)': x_new,\n",
    "            'f(x_(n+1))': f(x_new),\n",
    "            'delta_x=(M1 - m1)*(x-x_new)/m1': delta_x\n",
    "        })\n",
    "\t\t\n",
    "\t\t# Prepare for next iteration\n",
    "\t\tx = x_new\n",
    "\t\tif (f(x_new) == 0): \n",
    "\t\t\tbreak\n",
    "\t\telif (i == 0):\n",
    "\t\t\tif f(a) * f(x_new) < 0:\n",
    "\t\t\t\tmrk = a\n",
    "\t\t\telse:\n",
    "\t\t\t\tmrk = b\n",
    "\n",
    "\t# Print the final result\n",
    "\tdf_results = pd.DataFrame(results)\n",
    "\tprint(df_results.to_string(index=False))\n",
    "\n",
    "\tif rbl == None:\n",
    "\t\tprint(f\"The value of root is: {x}\")\n",
    "\telse:\n",
    "\t\ttotal_delta = delta_x + 0.5 * 10**(-rbl) #must calculate roundoff error\n",
    "\t\tprint(f\"The value of root with {rbl} decimal point is: {round(x, rbl)}\")\n",
    "\t\tprint(f\"Relative error is: {total_delta}\")"
   ]
  },
  {
   "cell_type": "code",
   "execution_count": 6,
   "metadata": {},
   "outputs": [
    {
     "name": "stdout",
     "output_type": "stream",
     "text": [
      " n  mrk           x_(n+1)         f(x_(n+1))  delta_x=(M1 - m1)*(x-x_new)/m1\n",
      " 0    2 1.354838709677419 -7.435029421585015               5.322580645161289\n",
      " 1    2 1.529680628069611 -3.624633240286681               2.622628775882871\n",
      " 2    2 1.601839853218664 -1.453812878149883               1.082388377235792\n",
      " 3    2 1.628821087381766 -0.535188563101631               0.404718512446542\n",
      " 4    2 1.638494760856317 -0.190669278217582               0.145105102118266\n",
      " 5    2 1.641908612178906 -0.067130140804897               0.051207769838835\n",
      " 6    2 1.643106527631529 -0.023536232519628               0.017968731789334\n",
      " 7    2 1.643526030343380 -0.008239825857270               0.006292540677775\n",
      " 8    2 1.643672834033169 -0.002883205004572               0.002202055346837\n",
      " 9    2 1.643724194842391 -0.001008683129713               0.000770412138328\n",
      "10    2 1.643742162405922 -0.000352863397884               0.000269513452962\n",
      "11    2 1.643748447812582 -0.000123438003291               0.000094281099904\n",
      "12    2 1.643750646548026 -0.000043180514584               0.000032981031649\n",
      "13    2 1.643751415697885 -0.000015105168250               0.000011537247890\n",
      "14    2 1.643751684757422 -0.000005284001231               0.000004035893056\n",
      "15    2 1.643751778878224 -0.000001848417677               0.000001411812024\n",
      "16    2 1.643751811802996 -0.000000646602325               0.000000493871587\n",
      "17    2 1.643751823320541 -0.000000226190512               0.000000172763177\n",
      "18    2 1.643751827349539 -0.000000079124597               0.000000060434967\n",
      "19    2 1.643751828758939 -0.000000027678878               0.000000021140999\n",
      "The value of root with 9 decimal point is: 1.643751829\n",
      "Relative error is: 2.1640998951452162e-08\n"
     ]
    }
   ],
   "source": [
    "f = lambda x: x ** 5 - 12; \n",
    "df = lambda x: 5 * (x ** 4)\n",
    "\n",
    "a = 1\n",
    "b = 2\n",
    "\n",
    "n = 20\n",
    "rbl = 9;\n",
    "secant_iteration_v2 (f, df, a, b, n, rbl)"
   ]
  },
  {
   "cell_type": "markdown",
   "metadata": {},
   "source": [
    "## 2. Hậu nghiệm - Sai số tuyệt đối"
   ]
  },
  {
   "cell_type": "markdown",
   "metadata": {},
   "source": [
    "Đánh giá sai số theo 1 trong 2 công thức:\n",
    "+ $|x_n - x^*| \\leqslant \\dfrac{|f(x_n)|}{m_1} < \\epsilon$ $\\quad\\quad(1)$\n",
    "\n",
    "+ $|x_n - x^*| \\leqslant \\dfrac{M_1 - m_1}{m_1} \\cdot |x_n - x_{n-1}| < \\epsilon$ $\\quad\\quad(2)$\n",
    "\n",
    "với $m_1 = \\min\\limits_{[a,b]} |f'(x)|, \\quad M_1 = \\max\\limits_{[a,b]} |f'(x)|$"
   ]
  },
  {
   "cell_type": "markdown",
   "metadata": {},
   "source": [
    "### 2.1. Công thức 1\n",
    "\n",
    "Từ công thức (1) suy ra Điều kiện dừng: $|f(x_n)| < m_1 \\epsilon $"
   ]
  },
  {
   "cell_type": "code",
   "execution_count": 7,
   "metadata": {},
   "outputs": [],
   "source": [
    "def secant_recursion_absolute_v1 (f, df, a, b, eps):\t\n",
    "\tM1 = max([np.abs(df(x)) for x in [a, b]]) #M1 is the maximum value of |f'(x)| in the interval [a,b]\n",
    "\tm1 = min([np.abs(df(x)) for x in [a, b]]) #m1 is the minimum value of |f'(x)| in the interval [a,b]\n",
    "\n",
    "\t# Error function\n",
    "\tif (f(a) * f(b) >= 0) or (M1 * m1 <= 0): \n",
    "\t\tprint(\"Can not find a root in the given interval\");\n",
    "\t\treturn 0;\n",
    "\n",
    "\t# Implementing Secant Method\n",
    "\tx = a; mrk = b; new_eps = m1*eps;\n",
    "\tprint(f\"delta_x = {new_eps}\")\n",
    "\n",
    "\tresults = []; i = 0; \n",
    "\twhile True:\n",
    "\t\t# Calculate the next value of x\n",
    "\t\tx_new = (mrk * f(x) - x * f(mrk)) / (f(x) - f(mrk))\n",
    "\t\tcurrent_delta_x = abs(f(x_new))\n",
    "\n",
    "\t\tresults.append({\n",
    "            'n': i,\n",
    "\t\t\t'mrk': mrk,\n",
    "            'x_(n+1)': x_new,\n",
    "            'f(x_(n+1))': f(x_new),\n",
    "            'delta_x=|f(x_n)|': current_delta_x\n",
    "        })\n",
    "\t\t\n",
    "\t\t# Prepare for next iteration\n",
    "\t\tx = x_new\n",
    "\t\tif (f(x_new) == 0): \n",
    "\t\t\tbreak\n",
    "\t\telif (i == 0):\n",
    "\t\t\tif f(a) * f(x_new) < 0:\n",
    "\t\t\t\tmrk = a\n",
    "\t\t\telse:\n",
    "\t\t\t\tmrk = b\n",
    "\t\t\t\t\n",
    "        # Stopping condition\n",
    "\t\tif current_delta_x < new_eps:\n",
    "\t\t\tbreak\n",
    "\t\telse:\n",
    "\t\t\ti += 1\n",
    "\n",
    "    # Print the final result\n",
    "\tdf_results = pd.DataFrame(results) \n",
    "\tprint(df_results.to_string(index=False))\n",
    "\n",
    "\tprint(f\"The value of root with absolute error {eps} is: {x}\")"
   ]
  },
  {
   "cell_type": "code",
   "execution_count": 8,
   "metadata": {},
   "outputs": [
    {
     "name": "stdout",
     "output_type": "stream",
     "text": [
      "delta_x = 1.6666666666666664e-08\n",
      " n  mrk           x_(n+1)        f(x_(n+1))  delta_x=|f(x_n)|\n",
      " 0    3 2.756792171024977 0.014067746909731 0.014067746909731\n",
      " 1    2 2.723617728992985 0.001961044002238 0.001961044002238\n",
      " 2    2 2.719022578401181 0.000272469551561 0.000272469551561\n",
      " 3    2 2.718384689674588 0.000037839810558 0.000037839810558\n",
      " 4    2 2.718296112392272 0.000005254751567 0.000005254751567\n",
      " 5    2 2.718283812023015 0.000000729712138 0.000000729712138\n",
      " 6    2 2.718282103910405 0.000000101332887 0.000000101332887\n",
      " 7    2 2.718281866710123 0.000000014071785 0.000000014071785\n",
      "The value of root with absolute error 5e-08 is: 2.718281866710123\n"
     ]
    }
   ],
   "source": [
    "f = lambda x: np.log(x) - 1 #approximate e\n",
    "df = lambda x: 1/x\n",
    "\n",
    "a = 2\n",
    "b = 3\n",
    "\n",
    "eps = 0.5 * pow(10, -7)\n",
    "\n",
    "secant_recursion_absolute_v1 (f, df, a, b, eps)"
   ]
  },
  {
   "cell_type": "code",
   "execution_count": 9,
   "metadata": {},
   "outputs": [
    {
     "name": "stdout",
     "output_type": "stream",
     "text": [
      "delta_x = 2.3348399552254093e-08\n",
      " n  mrk           x_(n+1)         f(x_(n+1))  delta_x=|f(x_n)|\n",
      " 0    4 3.109303785203571 -0.016015501450374 0.016015501450374\n",
      " 1    4 3.134180605448197 -0.003699173691322 0.003699173691322\n",
      " 2    4 3.139888637794978 -0.000851645144732 0.000851645144732\n",
      " 3    4 3.141200769225595 -0.000195922987937 0.000195922987937\n",
      " 4    4 3.141502522114125 -0.000045064722404 0.000045064722404\n",
      " 5    4 3.141571923418169 -0.000010365032095 0.000010365032095\n",
      " 6    4 3.141587885646036 -0.000002383969037 0.000002383969037\n",
      " 7    4 3.141591556960693 -0.000000548314400 0.000000548314400\n",
      " 8    4 3.141592401364576 -0.000000126112601 0.000000126112601\n",
      " 9    4 3.141592595577870 -0.000000029005961 0.000000029005961\n",
      "10    4 3.141592640247022 -0.000000006671385 0.000000006671385\n",
      "The value of root with absolute error 5e-08 is: 3.1415926402470222\n"
     ]
    }
   ],
   "source": [
    "f = lambda x: np.tan(x/4) - 1 #approximate pi\n",
    "df = lambda x: (1/4) * 1/(np.cos(x/4)**2)\n",
    "\n",
    "a = 3\n",
    "b = 4\n",
    "\n",
    "eps = 0.5 * pow(10, -7)\n",
    "\n",
    "secant_recursion_absolute_v1 (f, df, a, b, eps)"
   ]
  },
  {
   "cell_type": "markdown",
   "metadata": {},
   "source": [
    "### 2.2. Công thức 2\n",
    "\n",
    "Từ công thức (2) suy ra Điều kiện dừng: $|x_n - x_{n-1}| < \\epsilon \\dfrac{m_1}{M_1 - m_1}$"
   ]
  },
  {
   "cell_type": "code",
   "execution_count": 10,
   "metadata": {},
   "outputs": [],
   "source": [
    "def secant_recursion_absolute_v2 (f, df, a, b, eps):\t\n",
    "\tM1 = max([np.abs(df(x)) for x in [a, b]]) #M1 is the maximum value of |f'(x)| in the interval [a,b]\n",
    "\tm1 = min([np.abs(df(x)) for x in [a, b]]) #m1 is the minimum value of |f'(x)| in the interval [a,b]\n",
    "\n",
    "\t# Error function\n",
    "\tif (f(a) * f(b) >= 0) or (M1 * m1 <= 0): \n",
    "\t\tprint(\"Can not find a root in the given interval\");\n",
    "\t\treturn 0;\n",
    "\n",
    "\t# Implementing Secant Method\n",
    "\tx = a; mrk = b; new_eps = eps*m1/(M1 - m1);\n",
    "\tprint(f\"delta_x = {new_eps}\")\n",
    "\n",
    "\tresults = []; i = 0; \n",
    "\twhile True:\n",
    "\t\t# Calculate the next value of x\n",
    "\t\tx_new = (mrk * f(x) - x * f(mrk)) / (f(x) - f(mrk))\n",
    "\t\tcurrent_delta_x = abs(x - x_new)\n",
    "\n",
    "\t\tresults.append({\n",
    "            'n': i,\n",
    "\t\t\t'mrk': mrk,\n",
    "            'x_(n+1)': x_new,\n",
    "            'f(x_(n+1))': f(x_new),\n",
    "            'delta_x=|x_(n+1) - x_n|': current_delta_x\n",
    "        })\n",
    "\t\t\n",
    "\t\t# Prepare for next iteration\n",
    "\t\tx = x_new\n",
    "\t\tif (f(x_new) == 0): \n",
    "\t\t\tbreak\n",
    "\t\telif (i == 0):\n",
    "\t\t\tif f(a) * f(x_new) < 0:\n",
    "\t\t\t\tmrk = a\n",
    "\t\t\telse:\n",
    "\t\t\t\tmrk = b\n",
    "\t\t\t\t\n",
    "        # Stopping condition\n",
    "\t\tif current_delta_x < new_eps:\n",
    "\t\t\tbreak\n",
    "\t\telse:\n",
    "\t\t\ti += 1\n",
    "\n",
    "    # Print the final result\n",
    "\tdf_results = pd.DataFrame(results) \n",
    "\tprint(df_results.to_string(index=False))\n",
    "\n",
    "\tprint(f\"The value of root with absoulte error {eps} is: {x}\")"
   ]
  },
  {
   "cell_type": "code",
   "execution_count": 11,
   "metadata": {},
   "outputs": [
    {
     "name": "stdout",
     "output_type": "stream",
     "text": [
      "delta_x = 3.333333333333333e-08\n",
      " n  mrk           x_(n+1)         f(x_(n+1))  delta_x=|x_(n+1) - x_n|\n",
      " 0    2 1.516129032258065 -8.989109037847472        0.516129032258065\n",
      " 1    2 1.697443347951021 -2.907876413733710        0.181314315692957\n",
      " 2    2 1.746572420096993 -0.747020411714363        0.049129072145971\n",
      " 3    2 1.758594730993223 -0.179889751924819        0.012022310896231\n",
      " 4    2 1.761455511582849 -0.042633986796407        0.002860780589626\n",
      " 5    2 1.762131596806917 -0.010065952429237        0.000676085224068\n",
      " 6    2 1.762291114562438 -0.002374452888258        0.000159517755521\n",
      " 7    2 1.762328737176869 -0.000559989851265        0.000037622614431\n",
      " 8    2 1.762337609745307 -0.000132061138423        0.000008872568438\n",
      " 9    2 1.762339702124607 -0.000031143311904        0.000002092379300\n",
      "10    2 1.762340195558835 -0.000007344349665        0.000000493434228\n",
      "11    2 1.762340311922558 -0.000001731974969        0.000000116363723\n",
      "12    2 1.762340339363931 -0.000000408441448        0.000000027441372\n",
      "The value of root with absoulte error 5e-07 is: 1.7623403393639305\n"
     ]
    }
   ],
   "source": [
    "f = lambda x: x**5 - 17\n",
    "df = lambda x: 5 * x**4\n",
    "\n",
    "a = 1\n",
    "b = 2\n",
    "\n",
    "eps = 0.5 * pow(10, -6)\n",
    "\n",
    "secant_recursion_absolute_v2 (f, df, a, b, eps)"
   ]
  },
  {
   "cell_type": "code",
   "execution_count": 12,
   "metadata": {},
   "outputs": [
    {
     "name": "stdout",
     "output_type": "stream",
     "text": [
      "delta_x = 4.460252752041862e-09\n",
      " n  mrk            x_(n+1)         f(x_(n+1))  delta_x=|x_(n+1) - x_n|\n",
      " 0 -0.1 -0.312725808235359 -0.079248354484380        0.187274191764641\n",
      " 1 -0.5 -0.414743318153092 -0.014744698476805        0.102017509917733\n",
      " 2 -0.5 -0.430268039414401 -0.001696355068702        0.015524721261309\n",
      " 3 -0.5 -0.432009528876521 -0.000183203510066        0.001741489462120\n",
      " 4 -0.5 -0.432197087992088 -0.000019648493918        0.000187559115567\n",
      " 5 -0.5 -0.432217197656640 -0.000002105717064        0.000020109664552\n",
      " 6 -0.5 -0.432219352728558 -0.000000225650322        0.000002155071918\n",
      " 7 -0.5 -0.432219583666999 -0.000000024180661        0.000000230938441\n",
      " 8 -0.5 -0.432219608414325 -0.000000002591194        0.000000024747326\n",
      " 9 -0.5 -0.432219611066243 -0.000000000277672        0.000000002651918\n",
      "The value of root with absoulte error 5e-09 is: -0.4322196110662426\n"
     ]
    }
   ],
   "source": [
    "f = lambda x: np.e**x - np.cos(2*x)\n",
    "df = lambda x: np.e**x + 2*np.sin(2*x)\n",
    "\n",
    "a = -0.5\n",
    "b = -0.1\n",
    "\n",
    "eps = 0.5 * pow(10, -8)\n",
    "\n",
    "secant_recursion_absolute_v2 (f, df, a, b, eps)"
   ]
  },
  {
   "cell_type": "markdown",
   "metadata": {},
   "source": [
    "## 3. Hậu nghiệm - Sai số tương đối:\n",
    "\n",
    "Đánh giá sai số theo công thức: $\\dfrac{|x_n - x^*|}{|x_n|} \\leqslant \\dfrac{M_1 - m_1}{m_1} \\cdot \\dfrac{|x_n - x_{n-1}|}{|x_n|} < \\eta$\n",
    "\n",
    "với $m_1 = \\min\\limits_{[a,b]} |f'(x)|, \\quad M_1 = \\max\\limits_{[a,b]} |f'(x)|$"
   ]
  },
  {
   "cell_type": "markdown",
   "metadata": {},
   "source": [
    "### 3.1. Công thức mục tiêu:\n",
    "\n",
    "Từ công thức sai số hậu nghiệm, ta có Điều kiện dừng:  $\\dfrac{|x_n - x_{n-1}|}{|x_n|} < \\eta \\dfrac{m_1}{M_1 - m_1}$"
   ]
  },
  {
   "cell_type": "code",
   "execution_count": 20,
   "metadata": {},
   "outputs": [],
   "source": [
    "def secant_recursion_relative (f, df, a, b, eta):\t\n",
    "\tM1 = max([np.abs(df(x)) for x in [a, b]]) #M1 is the maximum value of |f'(x)| in the interval [a,b]\n",
    "\tm1 = min([np.abs(df(x)) for x in [a, b]]) #m1 is the minimum value of |f'(x)| in the interval [a,b]\n",
    "\n",
    "\t# Error function\n",
    "\tif (f(a) * f(b) >= 0) or (M1 * m1 <= 0): \n",
    "\t\tprint(\"Can not find a root in the given interval\");\n",
    "\t\treturn 0;\n",
    "\n",
    "\t# Implementing Secant Method\n",
    "\tx = a; mrk = b; new_eta = eta * m1/(M1 - m1);\n",
    "\tprint(f\"sigma_x = {new_eta}, m_1 = {m1}, M_1 = {M1}\")\n",
    "\n",
    "\tresults = []; i = 0;\n",
    "\twhile True:\n",
    "\t\t# Calculate the next value of x\n",
    "\t\tx_new = (mrk * f(x) - x * f(mrk)) / (f(x) - f(mrk))\n",
    "\t\tcurrent_sigma_x = abs(x - x_new)/abs(x_new)\n",
    "\n",
    "\t\tresults.append({\n",
    "            'n': i,\n",
    "\t\t\t'mrk': mrk,\n",
    "            'x_(n+1)': x_new,\n",
    "            'f(x_(n+1))': f(x_new),\n",
    "            'sigma_x=|x_(n+1)-x_n|/|x_n|': current_sigma_x\n",
    "        })\n",
    "\t\t\n",
    "\t\t# Prepare for next iteration\n",
    "\t\tx = x_new\n",
    "\t\tif (f(x_new) == 0): \n",
    "\t\t\tbreak\n",
    "\t\telif (i == 0):\n",
    "\t\t\tif f(a) * f(x_new) < 0:\n",
    "\t\t\t\tmrk = a\n",
    "\t\t\telse:\n",
    "\t\t\t\tmrk = b\n",
    "\t\t\t\t\n",
    "        # Stopping condition\n",
    "\t\tif current_sigma_x < new_eta:\n",
    "\t\t\tbreak\n",
    "\t\telse:\n",
    "\t\t\ti += 1\n",
    "\n",
    "    # Print the final result\n",
    "\tdf_results = pd.DataFrame(results) \n",
    "\tprint(df_results.to_string(index=False))\n",
    "\n",
    "\tprint(f\"The value of root with relative error {eta} is: {x}\")"
   ]
  },
  {
   "cell_type": "code",
   "execution_count": 14,
   "metadata": {},
   "outputs": [
    {
     "name": "stdout",
     "output_type": "stream",
     "text": [
      "sigma_x = 6.340579710144928e-05\n",
      " n  mrk            x_(n+1)        f(x_(n+1))  sigma_x=|x_(n+1)-x_n|/|x_n|\n",
      " 0   -2 -2.048951048951049 5.138543296012815            0.464163822525597\n",
      " 1   -3 -2.083576645173499 3.633621955959093            0.016618345335488\n",
      " 2   -3 -2.107424311490581 2.500536154289734            0.011316025058197\n",
      " 3   -3 -2.123539178923813 1.688293466358496            0.007588683831771\n",
      " 4   -3 -2.134286084419477 1.125129162756630            0.005035363147479\n",
      " 5   -3 -2.141389377440757 0.743280711796173            0.003317142176996\n",
      " 6   -3 -2.146056434654608 0.488176034016396            0.002174713180179\n",
      " 7   -3 -2.149110726939240 0.319399617813440            0.001421188888198\n",
      " 8   -3 -2.151104380882693 0.208449064921011            0.000926804836237\n",
      " 9   -3 -2.152403503655438 0.135816173304101            0.000603568415745\n",
      "10   -3 -2.153249110020282 0.088396961042743            0.000392711814397\n",
      "11   -3 -2.153799121682598 0.057493650009568            0.000255368133815\n",
      "12   -3 -2.154156699761031 0.037377054699983            0.000165994460140\n",
      "13   -3 -2.154389100090890 0.024291925274936            0.000107872960297\n",
      "14   -3 -2.154540113681930 0.015784665211313            0.000070090870010\n",
      "15   -3 -2.154638229509354 0.010255447141214            0.000045537030802\n",
      "The value of root with relative error 0.0005 is: -2.154638229509354\n"
     ]
    }
   ],
   "source": [
    "f = lambda x: x**5 - 3*x**3 + 2*x**2 - x + 5\n",
    "df = lambda x: 5*x**4 - 9*x**2 + 4*x - 1\n",
    "\n",
    "a = -3\n",
    "b = -2\n",
    "\n",
    "eta = 0.05 * pow(10, -2)\n",
    "\n",
    "secant_recursion_relative (f, df, a, b, eta)"
   ]
  },
  {
   "cell_type": "code",
   "execution_count": 15,
   "metadata": {},
   "outputs": [
    {
     "name": "stdout",
     "output_type": "stream",
     "text": [
      "sigma_x = 0.0010819767068693264\n",
      " n  mrk           x_(n+1)         f(x_(n+1))  sigma_x=|x_(n+1)-x_n|/|x_n|\n",
      " 0    1 0.612699836780282 -0.070813947873171            1.000000000000000\n",
      " 1    0 0.572181412090508 -0.007888272855300            0.070813947873171\n",
      " 2    0 0.567703214235785 -0.000877391979772            0.007888272855300\n",
      " 3    0 0.567205552633023 -0.000097572726128            0.000877391979772\n",
      "The value of root with relative error 0.0005 is: 0.5672055526330225\n"
     ]
    }
   ],
   "source": [
    "f = lambda x: np.e**(-x) - x\n",
    "df = lambda x: -np.e**(-x) - 1\n",
    "\n",
    "a = 0\n",
    "b = 1\n",
    "\n",
    "eta = 0.05 * pow(10, -2)\n",
    "\n",
    "secant_recursion_relative (f, df, a, b, eta)"
   ]
  },
  {
   "cell_type": "code",
   "execution_count": 21,
   "metadata": {},
   "outputs": [
    {
     "name": "stdout",
     "output_type": "stream",
     "text": [
      "sigma_x = 0.006582587479708893, m_1 = 3.0734033330119694, M_1 = 3.3068528194400546\n",
      " n  mrk           x_(n+1)         f(x_(n+1))  sigma_x=|x_(n+1)-x_n|/|x_n|\n",
      " 0    1 0.316603075415845 -0.026280379774505            1.000000000000000\n",
      " 1    0 0.308495691484825 -0.000437047622463            0.026280379774506\n",
      " 2    0 0.308360923076534 -0.000007294904439            0.000437047622463\n",
      "The value of root with relative error 0.0005 is: 0.308360923076534\n"
     ]
    }
   ],
   "source": [
    "f = lambda x: 2**x - 5*x + np.sin(x)\n",
    "df = lambda x: 2**x*np.log(2) - 5 + np.cos(x)\n",
    "\n",
    "a = 0\n",
    "b = 1\n",
    "\n",
    "eta = 0.05 * pow(10, -2)\n",
    "\n",
    "secant_recursion_relative (f, df, a, b, eta)"
   ]
  }
 ],
 "metadata": {
  "kernelspec": {
   "display_name": "base",
   "language": "python",
   "name": "python3"
  },
  "language_info": {
   "codemirror_mode": {
    "name": "ipython",
    "version": 3
   },
   "file_extension": ".py",
   "mimetype": "text/x-python",
   "name": "python",
   "nbconvert_exporter": "python",
   "pygments_lexer": "ipython3",
   "version": "3.12.9"
  }
 },
 "nbformat": 4,
 "nbformat_minor": 2
}
