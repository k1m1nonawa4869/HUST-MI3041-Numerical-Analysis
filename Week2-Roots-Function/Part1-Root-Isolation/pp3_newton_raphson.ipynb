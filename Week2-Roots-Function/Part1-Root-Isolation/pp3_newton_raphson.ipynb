{
 "cells": [
  {
   "cell_type": "code",
   "execution_count": 1,
   "metadata": {},
   "outputs": [],
   "source": [
    "import numpy as np\n",
    "import pandas as pd\n",
    "\n",
    "pd.set_option('display.precision', 15)  # Increase decimal precision\n",
    "pd.set_option('display.width', 150)     # Wider display\n",
    "pd.set_option('display.max_columns', None)  # Show all column"
   ]
  },
  {
   "cell_type": "markdown",
   "metadata": {},
   "source": [
    "# Phương pháp tiếp tuyến (Newton-Raphson)\n",
    "\n",
    "Điều kiện:\n",
    "\n",
    "* $(a,b)$ là khoảng cách ly nghiệm\n",
    "\n",
    "* $f'(x)$ xác định dấu không đổi trên $[a,b]$\n",
    "\n",
    "* $f''(x)$ xác định dấu không đổi trên $[a,b]$\n",
    "\n",
    "Điều kiện hội tụ:\n",
    "\n",
    "* Chọn đúng điểm xuất phát ban đầu $x_0$ (điểm Fourier - $f(x_0) \\cdot f''(x_0) > 0$)"
   ]
  },
  {
   "cell_type": "markdown",
   "metadata": {},
   "source": [
    "# Thuật toán:\n",
    "\n",
    "1. Chọn đúng điểm xuất phát ban đầu $x_0$ (điểm Fourier - $f(x_0) \\cdot f''(x_0) > 0$)\n",
    "\n",
    "2. Xác định $x$ theo công thức lặp: $x_{k+1} = x_k - \\dfrac{f(x_k)}{f'(x_k)}$\n",
    "\n",
    "3. Lặp lại bước (2) cho đến khi:\n",
    "\n",
    "   a. $x_n$ là nghiệm của phương trình, hoặc\n",
    "\n",
    "   b. dãy $\\{x_n\\}$ thỏa mãn điều kiện dừng\n",
    "\n",
    "5. In giá trị $x_n$ (giá trị $x$ sau $n$ lần lặp)"
   ]
  },
  {
   "cell_type": "markdown",
   "metadata": {},
   "source": [
    "# Áp dụng"
   ]
  },
  {
   "cell_type": "markdown",
   "metadata": {},
   "source": [
    "## 1. Hậu nghiêm - Số lần lặp\n",
    "\n",
    "Kiểm tra sai số theo 1 trong 2 công thức sai số sau:\n",
    "+ $|x_n - x^*| \\leqslant \\dfrac{|f(x_n)|}{m_1}$ $\\quad\\quad$ (1)\n",
    "\n",
    "+ $|x_n - x^*| \\leqslant \\dfrac{M_2}{2 m_1} \\cdot |x_n - x_{n-1}|^2$ $\\quad\\quad$ (2)\n",
    "\n",
    "với $m_1 = \\min\\limits_{[a,b]} |f'(x)|, \\quad M_2 = \\max\\limits_{[a,b]} |f''(x)|$"
   ]
  },
  {
   "cell_type": "markdown",
   "metadata": {},
   "source": [
    "### 1.1. Công thức 1"
   ]
  },
  {
   "cell_type": "code",
   "execution_count": 2,
   "metadata": {},
   "outputs": [],
   "source": [
    "def newton_iteration_v1 (f, df, d2f, a, b, n, rbl):\t\n",
    "\tM2 = max([np.abs(d2f(x)) for x in [a, b]]) #M2 is the maximum value of |f''(x)| in the interval [a,b]\n",
    "\tm1 = min([np.abs(df(x)) for x in [a, b]]) #m1 is the minimum value of |f'(x)| in the interval [a,b]\n",
    "\tprint (f\"m1 = {m1}, M2 = {M2}\")\n",
    "\n",
    "\t#Starting values\n",
    "\tif f(a) * d2f(a) > 0:\n",
    "\t\tx = a\n",
    "\telif f(b) * d2f(b) > 0:\n",
    "\t\tx = b\n",
    "\t\n",
    "\tresults = []\n",
    "\tresults.append({\n",
    "        'n': 0,\n",
    "        'x_n': x,\n",
    "        'f(x_n)': f(x),\n",
    "        'delta_x=|f(x_n)| / m_1': abs(f(x)) / m1\n",
    "    })\n",
    "\n",
    "\t#Newton's method\n",
    "\tx_new = 0; delta_x = 0;\n",
    "\tfor i in range(n):\n",
    "\t\t# calculate the next value of x\n",
    "\t\tx_new = x - f(x) / df(x)\n",
    "\t\tdelta_x = abs(f(x_new)) / m1\n",
    "\n",
    "\t\tresults.append({\n",
    "            'n': i+1,\n",
    "            'x_n': x_new,\n",
    "            'f(x_n)': f(x_new),\n",
    "            'delta_x=|f(x_n)| / m_1': delta_x\n",
    "        })\n",
    "\n",
    "\t\t# Prepare for next iteration\n",
    "\t\tx = x_new\n",
    "\t\tif (f(x_new) == 0): \n",
    "\t\t\tbreak\n",
    "\n",
    "\t#Print the final result\n",
    "\tdf_results = pd.DataFrame(results)\n",
    "\tprint(df_results.to_string(index=False))\n",
    "\n",
    "\tif rbl == None:\n",
    "\t\tprint(f\"The value of root is: {x}\")\n",
    "\telse:\n",
    "\t\ttotal_delta = delta_x + 0.5 * 10**(-rbl)\n",
    "\t\tprint(f\"The value of root with {rbl} decimal point is: {round(x, rbl)}\")\n",
    "\t\tprint(f\"Relative error is: {total_delta}\")"
   ]
  },
  {
   "cell_type": "code",
   "execution_count": 3,
   "metadata": {},
   "outputs": [
    {
     "name": "stdout",
     "output_type": "stream",
     "text": [
      "m1 = 32, M2 = 108\n",
      " n               x_n             f(x_n)  delta_x=|f(x_n)| / m_1\n",
      " 0 3.000000000000000 54.000000000000000       1.687500000000000\n",
      " 1 2.500000000000000 12.062500000000000       0.376953125000000\n",
      " 2 2.307000000000000  1.326334418000997       0.041447950562531\n",
      " 3 2.279994621743364  0.023107580939026       0.000722111904345\n",
      " 4 2.279507213327209  0.000007408717718       0.000000231522429\n",
      " 5 2.279507056954794  0.000000000000771       0.000000000000024\n",
      "The value of root with 9 decimal point is: 2.279507057\n",
      "Relative error is: 5.000240918396344e-10\n"
     ]
    }
   ],
   "source": [
    "f = lambda x: x**4-27\n",
    "df = lambda x: 4*x**3\n",
    "d2f = lambda x: 12*x**2\n",
    "\n",
    "a = 2\n",
    "b = 3\n",
    "\n",
    "n = 5\n",
    "rbl = 9\n",
    "\n",
    "newton_iteration_v1 (f, df, d2f, a, b, n, rbl);"
   ]
  },
  {
   "cell_type": "markdown",
   "metadata": {},
   "source": [
    "### 1.2. Công thức 2"
   ]
  },
  {
   "cell_type": "code",
   "execution_count": 4,
   "metadata": {},
   "outputs": [],
   "source": [
    "def newton_iteration_v2 (f, df, d2f, a, b, n, rbl):\t\n",
    "\tM2 = max([np.abs(d2f(x)) for x in [a, b]]) #M2 is the maximum value of |f''(x)| in the interval [a,b]\n",
    "\tm1 = min([np.abs(df(x)) for x in [a, b]]) #m1 is the minimum value of |f'(x)| in the interval [a,b]\n",
    "\tprint (f\"m1 = {m1}, M2 = {M2}\")\n",
    "\n",
    "\t#Starting values\n",
    "\tif f(a) * d2f(a) > 0:\n",
    "\t\tx = a\n",
    "\telif f(b) * d2f(b) > 0:\n",
    "\t\tx = b\n",
    "\t\n",
    "\tresults = []\n",
    "\tresults.append({\n",
    "        'n': 0,\n",
    "        'x_n': x,\n",
    "        'f(x_n)': f(x),\n",
    "        'delta_x=M_2/(2*m_1) * |x_n - x_(n-1)|^2': None\n",
    "    })\n",
    "\n",
    "\t#Newton's method\n",
    "\tx_new = 0; delta_x = 0;\n",
    "\tfor i in range(n):\n",
    "\t\t# calculate the next value of x\n",
    "\t\tx_new = x - f(x) / df(x)\n",
    "\t\tdelta_x = M2 / (2 * m1) * (x_new - x)**2\n",
    "\n",
    "\t\tresults.append({\n",
    "            'n': i+1,\n",
    "            'x_n': x_new,\n",
    "            'f(x_n)': f(x_new),\n",
    "            'delta=M_2/(2*m_1) * |x_n - x_(n-1)|^2': delta_x\n",
    "        })\n",
    "\n",
    "\t\t# Prepare for next iteration\n",
    "\t\tx = x_new\n",
    "\t\tif (f(x_new) == 0): \n",
    "\t\t\tbreak\n",
    "\n",
    "\t#Print the final result\n",
    "\tdf_results = pd.DataFrame(results)\n",
    "\tprint(df_results.to_string(index=False))\n",
    "\n",
    "\tif rbl == None:\n",
    "\t\tprint(f\"The value of root is: {x}\")\n",
    "\telse:\n",
    "\t\ttotal_delta = delta_x + 0.5 * 10**(-rbl)\n",
    "\t\tprint(f\"The value of root with {rbl} decimal point is: {round(x, rbl)}\")\n",
    "\t\tprint(f\"Relative error is: {total_delta}\")"
   ]
  },
  {
   "cell_type": "code",
   "execution_count": 5,
   "metadata": {},
   "outputs": [
    {
     "name": "stdout",
     "output_type": "stream",
     "text": [
      "m1 = 32, M2 = 108\n",
      " n               x_n             f(x_n)  delta_x=M_2/(2*m_1) * |x_n - x_(n-1)|^2  delta=M_2/(2*m_1) * |x_n - x_(n-1)|^2\n",
      " 0 3.000000000000000 54.000000000000000                                      NaN                                    NaN\n",
      " 1 2.500000000000000 12.062500000000000                                      NaN                      0.421875000000000\n",
      " 2 2.307000000000000  1.326334418000997                                      NaN                      0.062857687500000\n",
      " 3 2.279994621743364  0.023107580939026                                      NaN                      0.001230677642448\n",
      " 4 2.279507213327209  0.000007408717718                                      NaN                      0.000000400894252\n",
      " 5 2.279507056954794  0.000000000000771                                      NaN                      0.000000000000041\n",
      "The value of root with 9 decimal point is: 2.279507057\n",
      "Relative error is: 5.000412633105506e-10\n"
     ]
    }
   ],
   "source": [
    "f = lambda x: x**4-27\n",
    "df = lambda x: 4*x**3\n",
    "d2f = lambda x: 12*x**2\n",
    "\n",
    "a = 2\n",
    "b = 3\n",
    "\n",
    "n = 5\n",
    "rbl = 9\n",
    "\n",
    "newton_iteration_v2 (f, df, d2f, a, b, n, rbl);"
   ]
  },
  {
   "cell_type": "markdown",
   "metadata": {},
   "source": [
    "## 2. Hậu nghiệm - Sai số tương đối"
   ]
  },
  {
   "cell_type": "markdown",
   "metadata": {},
   "source": [
    "Thiết lập điều kiện dừng theo 1 trong 2 công thức sai số sau:\n",
    "+ $|x_n - x^*| \\leqslant \\dfrac{|f(x_n)|}{m_1} < \\epsilon$ $\\quad\\quad (1)$\n",
    "\n",
    "+ $|x_n - x^*| \\leqslant \\dfrac{M_2}{2 m_1} \\cdot |x_n - x_{n-1}|^2 < \\epsilon$ $\\quad\\quad (2)$\n",
    "\n",
    "với $m_1 = \\min\\limits_{[a,b]} |f'(x)|, \\quad M_2 = \\max\\limits_{[a,b]} |f''(x)|$\n"
   ]
  },
  {
   "cell_type": "markdown",
   "metadata": {},
   "source": [
    "### 2.1. Công thức 1\n",
    "\n",
    "Từ công thức (1) suy ra Điều kiện dừng: $f(x_n)| < m_1 \\epsilon$"
   ]
  },
  {
   "cell_type": "code",
   "execution_count": 6,
   "metadata": {},
   "outputs": [],
   "source": [
    "def newton_recursion_absolute_v1 (f, df, d2f, a, b, eps):\t\n",
    "\tM2 = max([np.abs(d2f(x)) for x in [a, b]]) #M2 is the maximum value of |f''(x)| in the interval [a,b]\n",
    "\tm1 = min([np.abs(df(x)) for x in [a, b]]) #m1 is the minimum value of |f'(x)| in the interval [a,b]\n",
    "\tprint (f\"m1 = {m1}, M2 = {M2}\")\n",
    "\n",
    "\t#Starting values\n",
    "\tif f(a) * d2f(a) > 0:\n",
    "\t\tx = a\n",
    "\telif f(b) * d2f(b) > 0:\n",
    "\t\tx = b\n",
    "\t\n",
    "\tresults = []\n",
    "\tresults.append({\n",
    "        'n': 0,\n",
    "        'x_n': x,\n",
    "        'f(x_n)': f(x),\n",
    "\t\t\"delta_x=|f(x_n)|\": abs(f(x))\n",
    "    })\n",
    "\n",
    "\t#Newton's method\n",
    "\tx_new = 0; new_eps = m1*eps;\n",
    "\tprint(f\"delta_x = {new_eps}\")\n",
    "\n",
    "\ti=0;\n",
    "\twhile True:\n",
    "\t\t# calculate the next value of x\n",
    "\t\tx_new = x - f(x) / df(x)\n",
    "\t\tcurrent_delta_x = abs(f(x_new))\n",
    "\n",
    "\t\tresults.append({\n",
    "            'n': i+1,\n",
    "            'x_n': x_new,\n",
    "            'f(x_n)': f(x_new),\n",
    "            'delta_x=|f(x_n)|': current_delta_x\n",
    "        })\n",
    "\t\t\n",
    "\t\t# update the value of interval \n",
    "\t\tx = x_new\n",
    "\t\tif (f(x_new) == 0): \n",
    "\t\t\tbreak\n",
    "\n",
    "\t\t#stop condition\n",
    "\t\tif current_delta_x < new_eps:\n",
    "\t\t\tbreak\n",
    "\t\telse:\n",
    "\t\t\ti += 1\n",
    "\n",
    "\t#Print the final result\n",
    "\tdf_results = pd.DataFrame(results)\n",
    "\tprint(df_results.to_string(index=False))\n",
    "\n",
    "\n",
    "\tprint(f\"The value of root with absolute error {eps} is: {x}\")"
   ]
  },
  {
   "cell_type": "code",
   "execution_count": 7,
   "metadata": {},
   "outputs": [
    {
     "name": "stdout",
     "output_type": "stream",
     "text": [
      "m1 = 4.0, M2 = 160.25\n",
      "delta_x = 4e-08\n",
      " n               x_n             f(x_n)   delta_x=|f(x_n)|\n",
      " 0 2.000000000000000 19.306852819440056 19.306852819440056\n",
      " 1 1.757146505415848  4.187275139066788  4.187275139066788\n",
      " 2 1.668237426251162  0.409029295346730  0.409029295346730\n",
      " 3 1.657509199354213  0.005330058958570  0.005330058958570\n",
      " 4 1.657365671196235  0.000000941752862  0.000000941752862\n",
      " 5 1.657365645827691  0.000000000000027  0.000000000000027\n",
      "The value of root with absolute error 1e-08 is: 1.6573656458276909\n"
     ]
    }
   ],
   "source": [
    "f = lambda x: x**5 - np.log(x) - 12\n",
    "df = lambda x: 5*x**4 - 1/x\n",
    "d2f = lambda x: 20*x**3 + 1/x**2\n",
    "\n",
    "a = 1\n",
    "b = 2\n",
    "\n",
    "eps = 10**(-8)\n",
    "\n",
    "newton_recursion_absolute_v1 (f, df, d2f, a, b, eps);"
   ]
  },
  {
   "cell_type": "markdown",
   "metadata": {},
   "source": [
    "### 2.2. Công thức 2\n",
    "\n",
    "Từ công thức (2) suy ra Điều kiện dừng: $|x_n - x_{n-1}| < \\sqrt{2 \\epsilon \\cdot \\dfrac{m_1}{M_2}}$"
   ]
  },
  {
   "cell_type": "code",
   "execution_count": 8,
   "metadata": {},
   "outputs": [],
   "source": [
    "def newton_recursion_absolute_v2 (f, df, d2f, a, b, eps):\t\n",
    "\tM2 = max([np.abs(d2f(x)) for x in [a, b]]) #M2 is the maximum value of |f''(x)| in the interval [a,b]\n",
    "\tm1 = min([np.abs(df(x)) for x in [a, b]]) #m1 is the minimum value of |f'(x)| in the interval [a,b]\n",
    "\tprint (f\"m1 = {m1}, M2 = {M2}\")\n",
    "\n",
    "\t#Starting values\n",
    "\tif f(a) * d2f(a) > 0:\n",
    "\t\tx = a\n",
    "\telif f(b) * d2f(b) > 0:\n",
    "\t\tx = b\n",
    "\t\n",
    "\tresults = []\n",
    "\tresults.append({\n",
    "        'n': 0,\n",
    "        'x_n': x,\n",
    "        'f(x_n)': f(x),\n",
    "        'delta_x=|x_n - x_(n-1)|': None\n",
    "    })\n",
    "\n",
    "\t#Newton's method\n",
    "\tx_new = 0; new_eps = np.sqrt(eps * 2 * m1 / M2);\n",
    "\tprint(f\"delta_x = {new_eps}\")\n",
    "\n",
    "\ti=0;\n",
    "\twhile True:\n",
    "\t\t# calculate the next value of x\n",
    "\t\tx_new = x - f(x) / df(x)\n",
    "\t\tcurrent_delta_x = abs(x-x_new)\n",
    "\n",
    "\t\tresults.append({\n",
    "            'n': i+1,\n",
    "            'x_n': x_new,\n",
    "            'f(x_n)': f(x_new),\n",
    "            'delta_x=|x_n - x_(n-1)|': current_delta_x\n",
    "        })\n",
    "\t\t\n",
    "\t\t# update the value of interval \n",
    "\t\tx = x_new\n",
    "\t\tif (f(x_new) == 0): \n",
    "\t\t\tbreak\n",
    "\n",
    "\t\t#stop condition\n",
    "\t\tif current_delta_x < new_eps:\n",
    "\t\t\tbreak\n",
    "\t\telse:\n",
    "\t\t\ti += 1\n",
    "\n",
    "\t#Print the final result\n",
    "\tdf_results = pd.DataFrame(results)\n",
    "\tprint(df_results.to_string(index=False))\n",
    "\n",
    "\n",
    "\tprint(f\"The value of root with absolute error {eps} is: {x}\")"
   ]
  },
  {
   "cell_type": "code",
   "execution_count": 9,
   "metadata": {},
   "outputs": [
    {
     "name": "stdout",
     "output_type": "stream",
     "text": [
      "m1 = 32, M2 = 108\n",
      "delta_x = 0.00017213259316477408\n",
      " n               x_n             f(x_n)  delta_x=|x_n - x_(n-1)|\n",
      " 0 3.000000000000000 54.000000000000000                      NaN\n",
      " 1 2.500000000000000 12.062500000000000        0.500000000000000\n",
      " 2 2.307000000000000  1.326334418000997        0.193000000000000\n",
      " 3 2.279994621743364  0.023107580939026        0.027005378256636\n",
      " 4 2.279507213327209  0.000007408717718        0.000487408416155\n",
      " 5 2.279507056954794  0.000000000000771        0.000000156372415\n",
      "The value of root with absolute error 5e-08 is: 2.279507056954794\n"
     ]
    }
   ],
   "source": [
    "f = lambda x: x**4-27\n",
    "df = lambda x: 4*x**3\n",
    "d2f = lambda x: 12*x**2\n",
    "\n",
    "a = 2\n",
    "b = 3\n",
    "\n",
    "eps = 0.5 * 10**(-7)\n",
    "\n",
    "newton_recursion_absolute_v2 (f, df, d2f, a, b, eps);"
   ]
  },
  {
   "cell_type": "markdown",
   "metadata": {},
   "source": [
    "## 3. Hậu nghiệm - Sai số tuyệt đối"
   ]
  },
  {
   "cell_type": "markdown",
   "metadata": {},
   "source": [
    "Thiết lập điều kiện dừng theo công thức sai số: $\\dfrac{|x_n - x^*|}{|x_n|} \\leqslant \\dfrac{M_2}{2 m_1} \\cdot \\dfrac{|x_n - x_{n-1}|^2}{|x_n|} < \\eta$\n",
    "\n",
    "với $m_1 = \\min\\limits_{[a,b]} |f'(x)|, \\quad M_2 = \\max\\limits_{[a,b]} |f''(x)|$"
   ]
  },
  {
   "cell_type": "markdown",
   "metadata": {},
   "source": [
    "### 3.1. Công thức mục tiêu\n",
    "Từ công thức sai số hậu nghiệm, ta có Điều kiện dừng: $\\dfrac{|x_n - x_{n-1}|^2}{|x_n|} < 2 \\eta \\cdot \\dfrac{m_1}{M_2}$"
   ]
  },
  {
   "cell_type": "code",
   "execution_count": 10,
   "metadata": {},
   "outputs": [],
   "source": [
    "def newton_recursion_relative (f, df, d2f, a, b, eta):\t\n",
    "\tM2 = max([np.abs(d2f(x)) for x in [a, b]]) #M2 is the maximum value of |f''(x)| in the interval [a,b]\n",
    "\tm1 = min([np.abs(df(x)) for x in [a, b]]) #m1 is the minimum value of |f'(x)| in the interval [a,b]\n",
    "\tprint (f\"m1 = {m1}, M2 = {M2}\")\n",
    "\n",
    "\t#Starting values\n",
    "\tif f(a) * d2f(a) > 0:\n",
    "\t\tx = a\n",
    "\telif f(b) * d2f(b) > 0:\n",
    "\t\tx = b\n",
    "\t\n",
    "\tresults = []\n",
    "\tresults.append({\n",
    "        'n': 0,\n",
    "        'x_n': x,\n",
    "        'f(x_n)': f(x),\n",
    "        'sigma_x=|x_n-x_(n-1)|^2/|x_n|': None\n",
    "    })\n",
    "\n",
    "\t#Newton's method\n",
    "\tx_new = 0; new_eta = 2 * eta * m1 / M2;\n",
    "\tprint(f\"sigma_x = {new_eta}\")\n",
    "\n",
    "\ti=0;\n",
    "\twhile True:\n",
    "\t\t# calculate the next value of x\n",
    "\t\tx_new = x - f(x) / df(x)\n",
    "\t\tcurrent_sigma_x = (x-x_new)**2 / abs(x_new)\n",
    "\n",
    "\t\tresults.append({\n",
    "            'n': i+1,\n",
    "            'x_n': x_new,\n",
    "            'f(x_n)': f(x_new),\n",
    "            'delta_x=|x_n - x_(n-1)|': current_sigma_x\n",
    "        })\n",
    "\t\t\n",
    "\t\t# update the value of interval \n",
    "\t\tx = x_new\n",
    "\t\tif (f(x_new) == 0): \n",
    "\t\t\tbreak\n",
    "\n",
    "\t\t#stop condition\n",
    "\t\tif current_sigma_x < new_eta:\n",
    "\t\t\tbreak\n",
    "\t\telse:\n",
    "\t\t\ti += 1\n",
    "\n",
    "\t#Print the final result\n",
    "\tdf_results = pd.DataFrame(results)\n",
    "\tprint(df_results.to_string(index=False))\n",
    "\n",
    "\n",
    "\tprint(f\"The value of root with relative error {eta} is: {x}\")"
   ]
  },
  {
   "cell_type": "code",
   "execution_count": 11,
   "metadata": {},
   "outputs": [
    {
     "name": "stdout",
     "output_type": "stream",
     "text": [
      "m1 = 32, M2 = 108\n",
      "sigma_x = 2.962962962962963e-08\n",
      " n               x_n             f(x_n)  sigma_x=|x_n-x_(n-1)|^2/|x_n|  delta_x=|x_n - x_(n-1)|\n",
      " 0 3.000000000000000 54.000000000000000                            NaN                      NaN\n",
      " 1 2.500000000000000 12.062500000000000                            NaN        0.100000000000000\n",
      " 2 2.307000000000000  1.326334418000997                            NaN        0.016146077156480\n",
      " 3 2.279994621743364  0.023107580939026                            NaN        0.000319864989079\n",
      " 4 2.279507213327209  0.000007408717718                            NaN        0.000000104218562\n",
      " 5 2.279507056954794  0.000000000000771                            NaN        0.000000000000011\n",
      "The value of root with relative error 5e-08 is: 2.279507056954794\n"
     ]
    }
   ],
   "source": [
    "f = lambda x: x**4-27\n",
    "df = lambda x: 4*x**3\n",
    "d2f = lambda x: 12*x**2\n",
    "\n",
    "a = 2\n",
    "b = 3\n",
    "\n",
    "eta = 0.5 * 10**(-7)\n",
    "\n",
    "newton_recursion_relative (f, df, d2f, a, b, eta);"
   ]
  }
 ],
 "metadata": {
  "kernelspec": {
   "display_name": "base",
   "language": "python",
   "name": "python3"
  },
  "language_info": {
   "codemirror_mode": {
    "name": "ipython",
    "version": 3
   },
   "file_extension": ".py",
   "mimetype": "text/x-python",
   "name": "python",
   "nbconvert_exporter": "python",
   "pygments_lexer": "ipython3",
   "version": "3.12.9"
  }
 },
 "nbformat": 4,
 "nbformat_minor": 2
}
