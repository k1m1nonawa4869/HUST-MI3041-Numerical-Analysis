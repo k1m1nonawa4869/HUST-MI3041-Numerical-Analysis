{
 "cells": [
  {
   "cell_type": "code",
   "execution_count": 1,
   "metadata": {},
   "outputs": [],
   "source": [
    "import numpy as np\n",
    "import pandas as pd\n",
    "\n",
    "pd.set_option('display.precision', 15)  # Increase decimal precision\n",
    "pd.set_option('display.width', 150)     # Wider display\n",
    "pd.set_option('display.max_columns', None)  # Show all column\n"
   ]
  },
  {
   "cell_type": "markdown",
   "metadata": {},
   "source": [
    "# Tìm nghiệm của đa thức $f(x) = \\sum\\limits_{i=0}^n a_i x^i = 0$\n"
   ]
  },
  {
   "cell_type": "code",
   "execution_count": 41,
   "metadata": {},
   "outputs": [],
   "source": [
    "def polynomial(coefficients, x):\n",
    "    return sum(c * x**i for i, c in enumerate(coefficients))\n",
    "\n",
    "def polynomial_derivative(coefficients, x):\n",
    "    return sum(i * c * x**(i-1) for i, c in enumerate(coefficients) if i > 0)"
   ]
  },
  {
   "cell_type": "markdown",
   "metadata": {},
   "source": [
    "# 1. Bán kính nghiệm\n",
    "\n",
    "* Bán kính phức: $R = 1 + \\dfrac{\\max |a_i|}{|a_n|}$\n",
    "\n",
    "* Cận trên của các nghiệm dương: Với $a_n > 0$, $a_k < 0$ (k lớn nhất có thể): $R_{upper} = 1 + \\sqrt[n-k] {\\dfrac{\\max\\limits_{a_i < 0} |a_i|}{|a_n|}}$\n",
    "\n",
    "* Cận dưới của các nghiệm âm $f(x) = 0$ $\\Leftrightarrow$ Cận trên của các nghiệm dương $f(-x) = 0$ "
   ]
  },
  {
   "cell_type": "code",
   "execution_count": 37,
   "metadata": {},
   "outputs": [],
   "source": [
    "def complex_radius(coefficients):\n",
    "    R = 1 + max(abs(coeff) for coeff in coefficients) / abs(coefficients[-1])\n",
    "    return R\n",
    "\n",
    "def real_radius(coefficients):\n",
    "    n = len(coefficients) - 1\n",
    "    negative_coefficients = [(i, abs(x)) for i, x in enumerate(coefficients) if x<0]\n",
    "    k = (max(negative_coefficients, key=lambda item: item[0]))[0] - 1\n",
    "    ratio = (max(negative_coefficients, key=lambda item: item[1]))[1] / abs(coefficients[-1])\n",
    "    \n",
    "    R = 1 + ratio**(1/(n-k)) if n!=k else 0\n",
    "    return R\n",
    "\n"
   ]
  },
  {
   "cell_type": "code",
   "execution_count": 39,
   "metadata": {},
   "outputs": [
    {
     "name": "stdout",
     "output_type": "stream",
     "text": [
      "Complex radius for roots: -9.0 -> 9.0\n",
      "Upper radius for real-value roots: 2.9129311827723887\n",
      "Lower radius for real-value roots: -9.0\n"
     ]
    }
   ],
   "source": [
    "# Example usage\n",
    "coefficients = [-3, -7, 8, -5, 2, 1]  # Coefficients of the polynomial x^3 - 6x^2 + 11x - 6\n",
    "radius = complex_radius(coefficients)\n",
    "upper_radius = real_radius(coefficients)\n",
    "lower_radius = -real_radius([-i for i in coefficients])\n",
    "print(f\"Complex radius for roots: {-radius} -> {radius}\")\n",
    "print(\"Upper radius for real-value roots:\", upper_radius)\n",
    "print(\"Lower radius for real-value roots:\", lower_radius)"
   ]
  },
  {
   "cell_type": "markdown",
   "metadata": {},
   "source": [
    "# 2. Các khoảng cách lý nghiệm"
   ]
  }
 ],
 "metadata": {
  "kernelspec": {
   "display_name": "base",
   "language": "python",
   "name": "python3"
  },
  "language_info": {
   "codemirror_mode": {
    "name": "ipython",
    "version": 3
   },
   "file_extension": ".py",
   "mimetype": "text/x-python",
   "name": "python",
   "nbconvert_exporter": "python",
   "pygments_lexer": "ipython3",
   "version": "3.12.9"
  }
 },
 "nbformat": 4,
 "nbformat_minor": 2
}
