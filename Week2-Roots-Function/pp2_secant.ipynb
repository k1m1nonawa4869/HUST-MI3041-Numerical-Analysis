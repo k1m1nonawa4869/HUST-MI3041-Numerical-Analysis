{
 "cells": [
  {
   "cell_type": "markdown",
   "metadata": {},
   "source": [
    "Phương pháp Dây cung Cải tiến - Secant method\n",
    "\n",
    "# Điều kiện:\n",
    "\n",
    "    - (a,b) là khoảng cách ly nghiệm\n",
    "\n",
    "    - f'(x) xác định dấu không đổi trên [a,b]\n",
    "\n",
    "    - f''(x) xác định dấu không đổi trên [a,b]\n",
    "\n",
    "Điều kiện hội tụ:\n",
    "\n",
    "    - Chọn đúng điểm mốc d (điểm Fourier - f(d) * f''(d) > 0)\n",
    "    \n",
    "    - Chọn đúng xuất phát ban đầu x_0 (f(d) * f(x_0) < 0)"
   ]
  },
  {
   "cell_type": "markdown",
   "metadata": {},
   "source": [
    "# Thuật toán:\n",
    "\n",
    "1. Chọn khoảng [a_0,b_0] ban đầu sao cho `f(a_0)*f(b_0) < 0`.\n",
    "\n",
    "2. Xác định x_0 theo công thức: \n",
    "\n",
    "`x_0 = a_0 - f(a_0) * (b_0 - a_0) / (f(b_0) - f(a_0))`\n",
    "\n",
    "--> `x_0 = (a_0 * f(b_0) - b_0 * f(a_0)) / (f(b_0) - f(a_0))`\n",
    "\n",
    "3. Xác định khoảng tiếp theo [a_1, b_1]:\n",
    "   \n",
    "   a. Nếu `f(a_0) * f(c_1) < 0`, giữ a_1 = a_0 và cập nhật `b_1 = c_1`.\n",
    "\n",
    "   b. Nếu `f(b_0) * f(c_1) < 0`, cập nhật `a_1 = c_1` và giữ b_1 = b_0.\n",
    "\n",
    "4. Lặp lại các bước (2) và (3) cho đến khi:\n",
    "\n",
    "   a. c_n là nghiệm của phương trình, hoặc\n",
    "\n",
    "   b. khoảng [a_n, b_n] thỏa mãn điều kiện dừng\n",
    "\n",
    "5. In giá trị `c_n` (giá trị c sau n lần lặp)"
   ]
  },
  {
   "cell_type": "markdown",
   "metadata": {},
   "source": [
    "# Áp dụng"
   ]
  },
  {
   "cell_type": "code",
   "execution_count": 4,
   "metadata": {},
   "outputs": [],
   "source": [
    "import math\n",
    "import pandas as pd\n",
    "\n",
    "pd.set_option('display.precision', 15)  # Increase decimal precision\n",
    "pd.set_option('display.width', 150)     # Wider display\n",
    "pd.set_option('display.max_columns', None)  # Show all column\n",
    "\n",
    "\n",
    "def f(x):\n",
    "    pass\n",
    "\n",
    "def sign(x):\n",
    "    value = f(x)\n",
    "    if value > 0:\n",
    "        return 1\n",
    "    elif value < 0:\n",
    "        return -1\n",
    "    else:\n",
    "        return 0"
   ]
  },
  {
   "cell_type": "markdown",
   "metadata": {},
   "source": [
    "## 1. Hậu nghiêm - Số lần lặp\n",
    "\n",
    "Kiểm tra sai số theo 1 trong 2 công thức sai số sau:\n",
    "+ `|x_n - x*| <= |f(x_n)| / m_1 < epsilon`\n",
    "+ `|x_n - x*| <= (M_1 - m_1)/m_1 * |x_n - x_(n-1)| < epsilon`\n",
    "\n",
    "với `m_1 = min[a,b] |f'(x)|`, `M_1 = max[a,b] |f'(x)|`"
   ]
  },
  {
   "cell_type": "markdown",
   "metadata": {},
   "source": [
    "### Công thức 1"
   ]
  },
  {
   "cell_type": "code",
   "execution_count": 22,
   "metadata": {},
   "outputs": [],
   "source": [
    "def secant_iteration_v1(a, b, n, M1, m1, rbl):\t#M1 and m1 are the maximum and minimum values of f'(x) in the interval [a,b]\n",
    "\n",
    "\tif (f(a) * f(b) >= 0): \n",
    "\t\tprint(\"Can not find a root in the given interval\");\n",
    "\t\treturn ;\n",
    "\n",
    "\ttemp_x = 0; results = [];\n",
    "\tfor i in range(n):\n",
    "\t\t# calculate the intermediate value \n",
    "\t\tx = ((a * f(b) - b * f(a)) / (f(b) - f(a)))\n",
    "\n",
    "\t\tresults.append({\n",
    "            'n': i,\n",
    "            'a_n': a,\n",
    "            'b_n': b,\n",
    "            'x_(n+1)': x,\n",
    "            'f(a_n)': f(a),\n",
    "            'f(b_n)': f(b),\n",
    "            'f(x_(n+1))': f(x),\n",
    "            'delta=(M_1 - m_1)/m_1 * |x_n - x_(n-1)|': (M1 - m1) * abs(x-temp_x) / m1\n",
    "        })\n",
    "\n",
    "\t\ttemp_x = x\n",
    "\t\t\n",
    "\t\t# update the value of interval \n",
    "\t\tif (f(x) == 0): \n",
    "\t\t\tbreak\n",
    "\t\telif (f(x) * sign(a) < 0):\n",
    "\t\t\tb = x\n",
    "\t\telse:\n",
    "\t\t\ta = x\n",
    "\n",
    "\t#Print the final result\n",
    "\tdf_results = pd.DataFrame(results)\n",
    "\tprint(df_results.to_string(index=False))\n",
    "\n",
    "\tif rbl == None:\n",
    "\t\tprint(f\"The value of root is: {x}\")\n",
    "\telse:\n",
    "\t\tprint(f\"The value of root is: {round(x, rbl)}\")"
   ]
  },
  {
   "cell_type": "code",
   "execution_count": 25,
   "metadata": {},
   "outputs": [
    {
     "name": "stdout",
     "output_type": "stream",
     "text": [
      " n  a_n               b_n           x_(n+1)             f(a_n)            f(b_n)        f(x_(n+1))  delta=(M_1 - m_1)/m_1 * |x_n - x_(n-1)|\n",
      " 0    2 3.000000000000000 2.756792171024977 -0.306852819440055 0.098612288668110 0.014067746909731                        1.378396085512489\n",
      " 1    2 2.756792171024977 2.723617728992985 -0.306852819440055 0.014067746909731 0.001961044002238                        0.016587221015996\n",
      " 2    2 2.723617728992985 2.719022578401181 -0.306852819440055 0.001961044002238 0.000272469551561                        0.002297575295902\n",
      " 3    2 2.719022578401181 2.718384689674588 -0.306852819440055 0.000272469551561 0.000037839810558                        0.000318944363296\n",
      " 4    2 2.718384689674588 2.718296112392272 -0.306852819440055 0.000037839810558 0.000005254751567                        0.000044288641158\n",
      "The value of root is: 2.7182961123922715\n"
     ]
    }
   ],
   "source": [
    "def f(x):\n",
    "\treturn math.log(x) - 1\n",
    "a = 2\n",
    "b = 3\n",
    "n = 5\n",
    "M1 = 1/2.0\n",
    "m1 = 1/3.0\n",
    "rbl = None;\n",
    "secant_iteration_v1 (a, b, n, M1, m1, rbl);"
   ]
  },
  {
   "cell_type": "markdown",
   "metadata": {},
   "source": [
    "### Công thức 2"
   ]
  },
  {
   "cell_type": "code",
   "execution_count": 21,
   "metadata": {},
   "outputs": [],
   "source": [
    "def secant_iteration_v2(a, b, n, M1, m1, rbl):\t#M1 and m1 are the maximum and minimum values of f'(x) in the interval [a,b]\n",
    "\n",
    "\tif (f(a) * f(b) >= 0): \n",
    "\t\tprint(\"Can not find a root in the given interval\");\n",
    "\t\treturn 0;\n",
    "\n",
    "\ttemp_x = 0; results = [];\n",
    "\tfor i in range(n):\n",
    "\t\t# calculate the intermediate value \n",
    "\t\tx = ((a * f(b) - b * f(a)) / (f(b) - f(a)))\n",
    "\n",
    "\t\tresults.append({\n",
    "            'n': i,\n",
    "            'a_n': a,\n",
    "            'b_n': b,\n",
    "            'x_(n+1)': x,\n",
    "            'f(a_n)': f(a),\n",
    "            'f(b_n)': f(b),\n",
    "            'f(x_(n+1))': f(x),\n",
    "            'delta=|f(x_n)| / m_1': abs(f(x))/ m1\n",
    "        })\n",
    "\n",
    "\t\ttemp_x = x\n",
    "\t\t\n",
    "\t\t# update the value of interval \n",
    "\t\tif (f(x) == 0): \n",
    "\t\t\tbreak\n",
    "\t\telif (f(x) * sign(a) < 0):\n",
    "\t\t\tb = x\n",
    "\t\telse:\n",
    "\t\t\ta = x\n",
    "\n",
    "\t#Print the final result\n",
    "\tdf_results = pd.DataFrame(results)\n",
    "\tprint(df_results.to_string(index=False))\n",
    "\n",
    "\tif rbl == None:\n",
    "\t\tprint(f\"The value of root is: {x}\")\n",
    "\telse:\n",
    "\t\tprint(f\"The value of root is: {round(x, rbl)}\")"
   ]
  },
  {
   "cell_type": "code",
   "execution_count": 24,
   "metadata": {},
   "outputs": [
    {
     "name": "stdout",
     "output_type": "stream",
     "text": [
      " n               a_n  b_n           x_(n+1)              f(a_n)  f(b_n)         f(x_(n+1))  delta=|f(x_n)| / m_1\n",
      " 0 1.000000000000000    2 1.354838709677419 -11.000000000000000      20 -7.435029421585015     1.487005884317003\n",
      " 1 1.354838709677419    2 1.529680628069611  -7.435029421585015      20 -3.624633240286681     0.724926648057336\n",
      " 2 1.529680628069611    2 1.601839853218664  -3.624633240286681      20 -1.453812878149883     0.290762575629977\n",
      " 3 1.601839853218664    2 1.628821087381766  -1.453812878149883      20 -0.535188563101631     0.107037712620326\n",
      " 4 1.628821087381766    2 1.638494760856317  -0.535188563101631      20 -0.190669278217582     0.038133855643516\n",
      " 5 1.638494760856317    2 1.641908612178906  -0.190669278217582      20 -0.067130140804897     0.013426028160979\n",
      " 6 1.641908612178906    2 1.643106527631529  -0.067130140804897      20 -0.023536232519628     0.004707246503926\n",
      " 7 1.643106527631529    2 1.643526030343380  -0.023536232519628      20 -0.008239825857270     0.001647965171454\n",
      " 8 1.643526030343380    2 1.643672834033169  -0.008239825857270      20 -0.002883205004572     0.000576641000914\n",
      " 9 1.643672834033169    2 1.643724194842391  -0.002883205004572      20 -0.001008683129713     0.000201736625943\n",
      "10 1.643724194842391    2 1.643742162405922  -0.001008683129713      20 -0.000352863397884     0.000070572679577\n",
      "11 1.643742162405922    2 1.643748447812582  -0.000352863397884      20 -0.000123438003291     0.000024687600658\n",
      "12 1.643748447812582    2 1.643750646548026  -0.000123438003291      20 -0.000043180514584     0.000008636102917\n",
      "13 1.643750646548026    2 1.643751415697885  -0.000043180514584      20 -0.000015105168250     0.000003021033650\n",
      "14 1.643751415697885    2 1.643751684757422  -0.000015105168250      20 -0.000005284001231     0.000001056800246\n",
      "15 1.643751684757422    2 1.643751778878224  -0.000005284001231      20 -0.000001848417677     0.000000369683535\n",
      "16 1.643751778878224    2 1.643751811802996  -0.000001848417677      20 -0.000000646602325     0.000000129320465\n",
      "17 1.643751811802996    2 1.643751823320541  -0.000000646602325      20 -0.000000226190512     0.000000045238102\n",
      "18 1.643751823320541    2 1.643751827349539  -0.000000226190512      20 -0.000000079124597     0.000000015824919\n",
      "19 1.643751827349539    2 1.643751828758939  -0.000000079124597      20 -0.000000027678878     0.000000005535776\n",
      "The value of root is: 1.643751828758939\n"
     ]
    }
   ],
   "source": [
    "def f(x):\n",
    "\treturn pow(x, 5) - 12; \n",
    "a = 1\n",
    "b = 2\n",
    "n = 20\n",
    "M1 = 80\n",
    "m1 = 5\n",
    "rbl = None;\n",
    "secant_iteration_v2 (a, b, n, M1, m1, rbl);"
   ]
  },
  {
   "cell_type": "markdown",
   "metadata": {},
   "source": [
    "## 2. Hậu nghiệm - Sai số tương đối"
   ]
  },
  {
   "cell_type": "markdown",
   "metadata": {},
   "source": [
    "Kiểm tra sai số theo 1 trong 2 công thức sai số sau:\n",
    "+ `|x_n - x*| <= |f(x_n)| / m_1 < epsilon`\n",
    "+ `|x_n - x*| <= (M_1 - m_1)/m_1 * |x_n - x_(n-1)| < epsilon`\n",
    "\n",
    "với `m_1 = min[a,b] |f'(x)|`, `M_1 = max[a,b] |f'(x)|`"
   ]
  },
  {
   "cell_type": "markdown",
   "metadata": {},
   "source": [
    "### Công thức 1:"
   ]
  },
  {
   "cell_type": "code",
   "execution_count": 26,
   "metadata": {},
   "outputs": [],
   "source": [
    "def secant_recursion_v1(a, b, E, M1, m1, rbl):\t#M1 and m1 are the maximum and minimum values of f'(x) in the interval [a,b]\n",
    "\n",
    "\tif (f(a) * f(b) >= 0): \n",
    "\t\tprint(\"Can not find a root in the given interval\");\n",
    "\t\treturn 0;\n",
    "\n",
    "\ti = 0; temp_x = 0; results = [];\n",
    "\tnew_E = E * m1 / (M1 - m1)\n",
    "\n",
    "\twhile True: \n",
    "\t\t# calculate the intermediate value \n",
    "\t\tx = ((a * f(b) - b * f(a)) / (f(b) - f(a)))\n",
    "\n",
    "\t\tresults.append({\n",
    "            'n': i,\n",
    "            'a_n': a,\n",
    "            'b_n': b,\n",
    "            'x_(n+1)': x,\n",
    "            'f(a_n)': f(a),\n",
    "            'f(b_n)': f(b),\n",
    "            'f(x_(n+1))': f(x),\n",
    "            'delta=|x_(n+1)-x_n|': abs(x-temp_x)\n",
    "        })\n",
    "\n",
    "\t\t# update the value of interval \n",
    "\t\tif (f(x) == 0): \n",
    "\t\t\tbreak\n",
    "\t\telif (f(x) * sign(a) < 0):\n",
    "\t\t\tb = x\n",
    "\t\telse:\n",
    "\t\t\ta = x\n",
    "\t\t\t\n",
    "\t\t# stopping rule\n",
    "\t\tif (i != 0) and (abs(x - temp_x) < new_E):\n",
    "\t\t\tbreak\n",
    "\t\telse:\n",
    "\t\t\ttemp_x = x\n",
    "\t\t\ti += 1\n",
    "\t\t\n",
    "\t#Print the final result\n",
    "\tdf_results = pd.DataFrame(results)\n",
    "\tprint(df_results.to_string(index=False))\n",
    "\n",
    "\tif rbl == None:\n",
    "\t\tprint(f\"The value of root is: {x}\")\n",
    "\telse:\n",
    "\t\tprint(f\"The value of root is: {round(x, rbl)}\")"
   ]
  },
  {
   "cell_type": "code",
   "execution_count": 27,
   "metadata": {},
   "outputs": [
    {
     "name": "stdout",
     "output_type": "stream",
     "text": [
      " n  a_n               b_n           x_(n+1)             f(a_n)            f(b_n)        f(x_(n+1))  delta=|x_(n+1)-x_n|\n",
      " 0    2 3.000000000000000 2.756792171024977 -0.306852819440055 0.098612288668110 0.014067746909731    2.756792171024977\n",
      " 1    2 2.756792171024977 2.723617728992985 -0.306852819440055 0.014067746909731 0.001961044002238    0.033174442031992\n",
      " 2    2 2.723617728992985 2.719022578401181 -0.306852819440055 0.001961044002238 0.000272469551561    0.004595150591805\n",
      " 3    2 2.719022578401181 2.718384689674588 -0.306852819440055 0.000272469551561 0.000037839810558    0.000637888726592\n",
      " 4    2 2.718384689674588 2.718296112392272 -0.306852819440055 0.000037839810558 0.000005254751567    0.000088577282317\n",
      " 5    2 2.718296112392272 2.718283812023015 -0.306852819440055 0.000005254751567 0.000000729712138    0.000012300369256\n",
      " 6    2 2.718283812023015 2.718282103910405 -0.306852819440055 0.000000729712138 0.000000101332887    0.000001708112610\n",
      " 7    2 2.718282103910405 2.718281866710123 -0.306852819440055 0.000000101332887 0.000000014071785    0.000000237200283\n",
      " 8    2 2.718281866710123 2.718281833770854 -0.306852819440055 0.000000014071785 0.000000001954105    0.000000032939269\n",
      "The value of root is: 2.718281833770854\n"
     ]
    }
   ],
   "source": [
    "def f(x):\n",
    "\treturn math.log(x) - 1\n",
    "a = 2\n",
    "b = 3\n",
    "E = 0.5 * (10**(-7))\n",
    "M1 = 1/2.0\n",
    "m1 = 1/3.0\n",
    "rbl = None\n",
    "secant_recursion_v1 (a, b, E, M1, m1, rbl)"
   ]
  },
  {
   "cell_type": "markdown",
   "metadata": {},
   "source": [
    "### Công thức 2"
   ]
  },
  {
   "cell_type": "code",
   "execution_count": 30,
   "metadata": {},
   "outputs": [],
   "source": [
    "def secant_recursion_v2(a, b, E, M1, m1, rbl):\t#M1 and m1 are the maximum and minimum values of f'(x) in the interval [a,b]\n",
    "\n",
    "\tif (f(a) * f(b) >= 0): \n",
    "\t\tprint(\"Can not find a root in the given interval\");\n",
    "\t\treturn 0;\n",
    "\n",
    "\ti = 0; temp_x = 0; results = [];\n",
    "\tnew_E = E * m1\n",
    "\n",
    "\twhile True: \n",
    "\t\t# calculate the intermediate value \n",
    "\t\tx = ((a * f(b) - b * f(a)) / (f(b) - f(a)))\n",
    "\n",
    "\t\tresults.append({\n",
    "            'n': i,\n",
    "            'a_n': a,\n",
    "            'b_n': b,\n",
    "            'x_(n+1)': x,\n",
    "            'f(a_n)': f(a),\n",
    "            'f(b_n)': f(b),\n",
    "            'f(x_(n+1))': f(x),\n",
    "            'delta=|x_(n+1)-x_n|': abs(x-temp_x)\n",
    "        })\n",
    "\n",
    "\t\t# update the value of interval \n",
    "\t\tif (f(x) == 0): \n",
    "\t\t\tbreak\n",
    "\t\telif (f(x) * sign(a) < 0):\n",
    "\t\t\tb = x\n",
    "\t\telse:\n",
    "\t\t\ta = x\n",
    "\t\t\t\n",
    "\t\t# stopping rule\n",
    "\t\tif (i != 0) and (abs(f(x)) < new_E):\n",
    "\t\t\tbreak\n",
    "\t\telse:\n",
    "\t\t\ttemp_x = x\n",
    "\t\t\ti += 1\n",
    "\t\t\n",
    "\t#Print the final result\n",
    "\tdf_results = pd.DataFrame(results)\n",
    "\tprint(df_results.to_string(index=False))\n",
    "\n",
    "\tif rbl == None:\n",
    "\t\tprint(f\"The value of root is: {x}\")\n",
    "\telse:\n",
    "\t\tprint(f\"The value of root is: {round(x, rbl)}\")"
   ]
  },
  {
   "cell_type": "code",
   "execution_count": 31,
   "metadata": {},
   "outputs": [
    {
     "name": "stdout",
     "output_type": "stream",
     "text": [
      " n               a_n  b_n           x_(n+1)              f(a_n)  f(b_n)         f(x_(n+1))  delta=|x_(n+1)-x_n|\n",
      " 0 1.000000000000000    2 1.354838709677419 -11.000000000000000      20 -7.435029421585015    1.354838709677419\n",
      " 1 1.354838709677419    2 1.529680628069611  -7.435029421585015      20 -3.624633240286681    0.174841918392191\n",
      " 2 1.529680628069611    2 1.601839853218664  -3.624633240286681      20 -1.453812878149883    0.072159225149053\n",
      " 3 1.601839853218664    2 1.628821087381766  -1.453812878149883      20 -0.535188563101631    0.026981234163103\n",
      " 4 1.628821087381766    2 1.638494760856317  -0.535188563101631      20 -0.190669278217582    0.009673673474551\n",
      " 5 1.638494760856317    2 1.641908612178906  -0.190669278217582      20 -0.067130140804897    0.003413851322589\n",
      " 6 1.641908612178906    2 1.643106527631529  -0.067130140804897      20 -0.023536232519628    0.001197915452622\n",
      " 7 1.643106527631529    2 1.643526030343380  -0.023536232519628      20 -0.008239825857270    0.000419502711852\n",
      " 8 1.643526030343380    2 1.643672834033169  -0.008239825857270      20 -0.002883205004572    0.000146803689789\n",
      " 9 1.643672834033169    2 1.643724194842391  -0.002883205004572      20 -0.001008683129713    0.000051360809222\n",
      "10 1.643724194842391    2 1.643742162405922  -0.001008683129713      20 -0.000352863397884    0.000017967563531\n",
      "The value of root is: 1.643742162405922\n"
     ]
    }
   ],
   "source": [
    "def f(x):\n",
    "\treturn pow(x, 5) - 12; \n",
    "a = 1\n",
    "b = 2\n",
    "E = 0.0001\n",
    "M1 = 80\n",
    "m1 = 5\n",
    "rbl = None\n",
    "secant_recursion_v2 (a, b, E, M1, m1, rbl)"
   ]
  }
 ],
 "metadata": {
  "kernelspec": {
   "display_name": "base",
   "language": "python",
   "name": "python3"
  },
  "language_info": {
   "codemirror_mode": {
    "name": "ipython",
    "version": 3
   },
   "file_extension": ".py",
   "mimetype": "text/x-python",
   "name": "python",
   "nbconvert_exporter": "python",
   "pygments_lexer": "ipython3",
   "version": "3.12.9"
  }
 },
 "nbformat": 4,
 "nbformat_minor": 2
}
