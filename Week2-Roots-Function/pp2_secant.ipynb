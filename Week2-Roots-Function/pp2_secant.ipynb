{
 "cells": [
  {
   "cell_type": "markdown",
   "metadata": {},
   "source": [
    "Phương pháp Dây cung Cải tiến - Secant method\n",
    "\n",
    "# Điều kiện:\n",
    "\n",
    "    - (a,b) là khoảng cách ly nghiệm\n",
    "\n",
    "    - f'(x) xác định dấu không đổi trên [a,b]\n",
    "\n",
    "    - f''(x) xác định dấu không đổi trên [a,b]\n",
    "\n",
    "Điều kiện hội tụ:\n",
    "\n",
    "    - Chọn đúng điểm mốc d (điểm Fourier - f(d) * f''(d) > 0)\n",
    "    \n",
    "    - Chọn đúng xuất phát ban đầu x_0 (f(d) * f(x_0) < 0)"
   ]
  },
  {
   "cell_type": "markdown",
   "metadata": {},
   "source": [
    "# Thuật toán:\n",
    "\n",
    "1. Chọn khoảng [a_0,b_0] ban đầu sao cho `f(a_0)*f(b_0) < 0`.\n",
    "\n",
    "2. Xác định x_0 theo công thức: \n",
    "\n",
    "`x_0 = a_0 - f(a_0) * (b_0 - a_0) / (f(b_0) - f(a_0))`\n",
    "\n",
    "--> `x_0 = (a_0 * f(b_0) - b_0 * f(a_0)) / (f(b_0) - f(a_0))`\n",
    "\n",
    "3. Xác định khoảng tiếp theo [a_1, b_1]:\n",
    "   \n",
    "   a. Nếu `f(a_0) * f(c_1) < 0`, giữ a_1 = a_0 và cập nhật `b_1 = c_1`.\n",
    "\n",
    "   b. Nếu `f(b_0) * f(c_1) < 0`, cập nhật `a_1 = c_1` và giữ b_1 = b_0.\n",
    "\n",
    "4. Lặp lại các bước (2) và (3) cho đến khi:\n",
    "\n",
    "   a. c_n là nghiệm của phương trình, hoặc\n",
    "\n",
    "   b. khoảng [a_n, b_n] thỏa mãn điều kiện dừng\n",
    "\n",
    "5. In giá trị `c_n` (giá trị c sau n lần lặp)"
   ]
  },
  {
   "cell_type": "markdown",
   "metadata": {},
   "source": [
    "# Áp dụng"
   ]
  },
  {
   "cell_type": "code",
   "execution_count": 1,
   "metadata": {},
   "outputs": [],
   "source": [
    "import math\n",
    "\n",
    "def f(x):\n",
    "    pass\n",
    "\n",
    "def sign(x):\n",
    "    value = f(x)\n",
    "    if value > 0:\n",
    "        return 1\n",
    "    elif value < 0:\n",
    "        return -1\n",
    "    else:\n",
    "        return 0"
   ]
  },
  {
   "cell_type": "markdown",
   "metadata": {},
   "source": [
    "## 1. Hậu nghiêm - Số lần lặp\n",
    "\n",
    "Kiểm tra sai số theo 1 trong 2 công thức sai số sau:\n",
    "+ `|x_n - x*| <= |f(x_n)| / m_1 < epsilon`\n",
    "+ `|x_n - x*| <= (M_1 - m_1)/m_1 * |x_n - x_(n-1)| < epsilon`\n",
    "\n",
    "với `m_1 = min[a,b] |f'(x)|`, `M_1 = max[a,b] |f'(x)|`"
   ]
  },
  {
   "cell_type": "code",
   "execution_count": 41,
   "metadata": {},
   "outputs": [],
   "source": [
    "def secant_iteration_v1(a, b, n, M1, m1):\t#M1 and m1 are the maximum and minimum values of f'(x) in the interval [a,b]\n",
    "\n",
    "\tif (f(a) * f(b) >= 0): \n",
    "\t\tprint(\"Can not find a root in the given interval\");\n",
    "\t\treturn 0;\n",
    "\n",
    "\ttemp_x = 0\n",
    "\tfor i in range(n):\n",
    "\t\t# calculate the intermediate value \n",
    "\t\tx = ((a * f(b) - b * f(a)) / (f(b) - f(a)))\n",
    "\n",
    "\t\tprint(f\"n={i:<2};a={a:<25};b={b:<25};x={x:<25};f(a)={f(a):<25};f(b)={f(b):<25};f(x)={f(x):<25};delta={(M1 - m1) * abs(x-temp_x) / m1:<25}\")\n",
    "\t\ttemp_x = x\n",
    "\t\t\n",
    "\t\t# update the value of interval \n",
    "\t\tif (f(x) == 0): \n",
    "\t\t\tbreak\n",
    "\t\telif (f(x) * sign(a) < 0):\n",
    "\t\t\tb = x\n",
    "\t\telse:\n",
    "\t\t\ta = x\n",
    "\n",
    "\t\t\n",
    "\tprint(f\"Root of the given equation: {x}\")\n",
    "\treturn x"
   ]
  },
  {
   "cell_type": "code",
   "execution_count": 50,
   "metadata": {},
   "outputs": [],
   "source": [
    "def secant_iteration_v2(a, b, n, M1, m1):\t#M1 and m1 are the maximum and minimum values of f'(x) in the interval [a,b]\n",
    "\n",
    "\tif (f(a) * f(b) >= 0): \n",
    "\t\tprint(\"Can not find a root in the given interval\");\n",
    "\t\treturn 0;\n",
    "\n",
    "\ttemp_x = 0\n",
    "\tfor i in range(n):\n",
    "\t\t# calculate the intermediate value \n",
    "\t\tx = ((a * f(b) - b * f(a)) / (f(b) - f(a)))\n",
    "\n",
    "\t\tprint(f\"n={i:<2};a={a:<25};b={b:<25};x={x:<25};f(a)={f(a):<25};f(b)={f(b):<25};f(x)={f(x):<25};delta={abs(f(x))/ m1:<25}\")\n",
    "\t\ttemp_x = x\n",
    "\t\t\n",
    "\t\t# update the value of interval \n",
    "\t\tif (f(x) == 0): \n",
    "\t\t\tbreak\n",
    "\t\telif (f(x) * sign(a) < 0):\n",
    "\t\t\tb = x\n",
    "\t\telse:\n",
    "\t\t\ta = x\n",
    "\n",
    "\t\t\n",
    "\tprint(f\"Root of the given equation: {x}\")\n",
    "\treturn x"
   ]
  },
  {
   "cell_type": "code",
   "execution_count": 42,
   "metadata": {},
   "outputs": [
    {
     "name": "stdout",
     "output_type": "stream",
     "text": [
      "n=0 ;a=2                        ;b=3                        ;x=2.756792171024977        ;f(a)=-0.3068528194400547      ;f(b)=0.09861228866810978      ;f(x)=0.01406774690973056      ;delta=1.3783960855124888       \n",
      "n=1 ;a=2                        ;b=2.756792171024977        ;x=2.7236177289929855       ;f(a)=-0.3068528194400547      ;f(b)=0.01406774690973056      ;f(x)=0.001961044002237511     ;delta=0.01658722101599586      \n",
      "n=2 ;a=2                        ;b=2.7236177289929855       ;x=2.7190225784011806       ;f(a)=-0.3068528194400547      ;f(b)=0.001961044002237511     ;f(x)=0.00027246955156079444   ;delta=0.0022975752959024658    \n",
      "n=3 ;a=2                        ;b=2.7190225784011806       ;x=2.7183846896745885       ;f(a)=-0.3068528194400547      ;f(b)=0.00027246955156079444   ;f(x)=3.783981055760499e-05    ;delta=0.00031894436329604764   \n",
      "n=4 ;a=2                        ;b=2.7183846896745885       ;x=2.7182961123922715       ;f(a)=-0.3068528194400547      ;f(b)=3.783981055760499e-05    ;f(x)=5.25475156676336e-06     ;delta=4.42886411584631e-05     \n",
      "Root of the given equation: 2.7182961123922715\n"
     ]
    }
   ],
   "source": [
    "def f(x):\n",
    "\treturn math.log(x) - 1\n",
    "a = 2\n",
    "b = 3\n",
    "n = 5\n",
    "M1 = 1/2.0\n",
    "m1 = 1/3.0\n",
    "secant_iteration_v1 (a, b, n, M1, m1);"
   ]
  },
  {
   "cell_type": "code",
   "execution_count": 51,
   "metadata": {},
   "outputs": [
    {
     "name": "stdout",
     "output_type": "stream",
     "text": [
      "n=0 ;a=1                        ;b=2                        ;x=1.3548387096774193       ;f(a)=-11                      ;f(b)=20                       ;f(x)=-7.435029421585015       ;delta=1.487005884317003        \n",
      "n=1 ;a=1.3548387096774193       ;b=2                        ;x=1.5296806280696107       ;f(a)=-7.435029421585015       ;f(b)=20                       ;f(x)=-3.6246332402866805      ;delta=0.7249266480573361       \n",
      "n=2 ;a=1.5296806280696107       ;b=2                        ;x=1.6018398532186635       ;f(a)=-3.6246332402866805      ;f(b)=20                       ;f(x)=-1.4538128781498827      ;delta=0.29076257562997654      \n",
      "n=3 ;a=1.6018398532186635       ;b=2                        ;x=1.6288210873817663       ;f(a)=-1.4538128781498827      ;f(b)=20                       ;f(x)=-0.5351885631016309      ;delta=0.10703771262032617      \n",
      "n=4 ;a=1.6288210873817663       ;b=2                        ;x=1.6384947608563174       ;f(a)=-0.5351885631016309      ;f(b)=20                       ;f(x)=-0.19066927821758206     ;delta=0.038133855643516415     \n",
      "n=5 ;a=1.6384947608563174       ;b=2                        ;x=1.6419086121789064       ;f(a)=-0.19066927821758206     ;f(b)=20                       ;f(x)=-0.06713014080489721     ;delta=0.013426028160979441     \n",
      "n=6 ;a=1.6419086121789064       ;b=2                        ;x=1.6431065276315286       ;f(a)=-0.06713014080489721     ;f(b)=20                       ;f(x)=-0.02353623251962844     ;delta=0.0047072465039256885    \n",
      "n=7 ;a=1.6431065276315286       ;b=2                        ;x=1.6435260303433803       ;f(a)=-0.02353623251962844     ;f(b)=20                       ;f(x)=-0.008239825857270233    ;delta=0.0016479651714540466    \n",
      "n=8 ;a=1.6435260303433803       ;b=2                        ;x=1.6436728340331694       ;f(a)=-0.008239825857270233    ;f(b)=20                       ;f(x)=-0.0028832050045721758   ;delta=0.0005766410009144351    \n",
      "n=9 ;a=1.6436728340331694       ;b=2                        ;x=1.6437241948423913       ;f(a)=-0.0028832050045721758   ;f(b)=20                       ;f(x)=-0.0010086831297133614   ;delta=0.00020173662594267228   \n",
      "n=10;a=1.6437241948423913       ;b=2                        ;x=1.643742162405922        ;f(a)=-0.0010086831297133614   ;f(b)=20                       ;f(x)=-0.0003528633978842066   ;delta=7.057267957684132e-05    \n",
      "n=11;a=1.643742162405922        ;b=2                        ;x=1.6437484478125823       ;f(a)=-0.0003528633978842066   ;f(b)=20                       ;f(x)=-0.0001234380032908433   ;delta=2.4687600658168663e-05   \n",
      "n=12;a=1.6437484478125823       ;b=2                        ;x=1.6437506465480256       ;f(a)=-0.0001234380032908433   ;f(b)=20                       ;f(x)=-4.318051458440664e-05   ;delta=8.636102916881328e-06    \n",
      "n=13;a=1.6437506465480256       ;b=2                        ;x=1.643751415697885        ;f(a)=-4.318051458440664e-05   ;f(b)=20                       ;f(x)=-1.5105168250428846e-05  ;delta=3.021033650085769e-06    \n",
      "n=14;a=1.643751415697885        ;b=2                        ;x=1.643751684757422        ;f(a)=-1.5105168250428846e-05  ;f(b)=20                       ;f(x)=-5.2840012312316276e-06  ;delta=1.0568002462463255e-06   \n",
      "n=15;a=1.643751684757422        ;b=2                        ;x=1.6437517788782237       ;f(a)=-5.2840012312316276e-06  ;f(b)=20                       ;f(x)=-1.8484176766975224e-06  ;delta=3.696835353395045e-07    \n",
      "n=16;a=1.6437517788782237       ;b=2                        ;x=1.6437518118029961       ;f(a)=-1.8484176766975224e-06  ;f(b)=20                       ;f(x)=-6.466023254603215e-07   ;delta=1.293204650920643e-07    \n",
      "n=17;a=1.6437518118029961       ;b=2                        ;x=1.6437518233205413       ;f(a)=-6.466023254603215e-07   ;f(b)=20                       ;f(x)=-2.2619051165406745e-07  ;delta=4.523810233081349e-08    \n",
      "n=18;a=1.6437518233205413       ;b=2                        ;x=1.643751827349539        ;f(a)=-2.2619051165406745e-07  ;f(b)=20                       ;f(x)=-7.912459665249116e-08   ;delta=1.5824919330498232e-08   \n",
      "n=19;a=1.643751827349539        ;b=2                        ;x=1.643751828758939        ;f(a)=-7.912459665249116e-08   ;f(b)=20                       ;f(x)=-2.767887785637413e-08   ;delta=5.535775571274826e-09    \n",
      "Root of the given equation: 1.643751828758939\n"
     ]
    }
   ],
   "source": [
    "def f(x):\n",
    "\treturn pow(x, 5) - 12; \n",
    "a = 1\n",
    "b = 2\n",
    "n = 20\n",
    "M1 = 80\n",
    "m1 = 5\n",
    "secant_iteration_v2 (a, b, n, M1, m1);"
   ]
  },
  {
   "cell_type": "markdown",
   "metadata": {},
   "source": [
    "## 2. Hậu nghiệm - Sai số tương đối"
   ]
  },
  {
   "cell_type": "markdown",
   "metadata": {},
   "source": [
    "Kiểm tra sai số theo 1 trong 2 công thức sai số sau:\n",
    "+ `|x_n - x*| <= |f(x_n)| / m_1 < epsilon`\n",
    "+ `|x_n - x*| <= (M_1 - m_1)/m_1 * |x_n - x_(n-1)| < epsilon`\n",
    "\n",
    "với `m_1 = min[a,b] |f'(x)|`, `M_1 = max[a,b] |f'(x)|`"
   ]
  },
  {
   "cell_type": "code",
   "execution_count": 46,
   "metadata": {},
   "outputs": [],
   "source": [
    "def secant_recursion_v1(a, b, E, M1, m1):\t#M1 and m1 are the maximum and minimum values of f'(x) in the interval [a,b]\n",
    "\n",
    "\tif (f(a) * f(b) >= 0): \n",
    "\t\tprint(\"Can not find a root in the given interval\");\n",
    "\t\treturn 0;\n",
    "\n",
    "\ti = 0; temp_x = 0\n",
    "\tnew_E = E * m1 / (M1 - m1)\n",
    "\n",
    "\twhile True: \n",
    "\t\t# calculate the intermediate value \n",
    "\t\tx = ((a * f(b) - b * f(a)) / (f(b) - f(a)))\n",
    "\n",
    "\t\tprint(f\"n={i:<2};a={a:<25};b={b:<25};x={x:<25};f(a)={f(a):<25};f(b)={f(b):<25};f(x)={f(x):<25};delta={abs(x-temp_x):<25}\")\n",
    "\n",
    "\t\t# update the value of interval \n",
    "\t\tif (f(x) == 0): \n",
    "\t\t\tbreak\n",
    "\t\telif (f(x) * sign(a) < 0):\n",
    "\t\t\tb = x\n",
    "\t\telse:\n",
    "\t\t\ta = x\n",
    "\t\t\t\n",
    "\t\t# stopping rule\n",
    "\t\tif (i != 0) and (abs(x - temp_x) < new_E):\n",
    "\t\t\tbreak\n",
    "\t\telse:\n",
    "\t\t\ttemp_x = x\n",
    "\t\t\ti += 1\n",
    "\t\t\n",
    "\tprint(f\"Root of the given equation: {x}\")\n",
    "\treturn x"
   ]
  },
  {
   "cell_type": "code",
   "execution_count": 49,
   "metadata": {},
   "outputs": [],
   "source": [
    "def secant_recursion_v2(a, b, E, M1, m1):\t#M1 and m1 are the maximum and minimum values of f'(x) in the interval [a,b]\n",
    "\n",
    "\tif (f(a) * f(b) >= 0): \n",
    "\t\tprint(\"Can not find a root in the given interval\");\n",
    "\t\treturn 0;\n",
    "\n",
    "\ti = 0; temp_x = 0;\n",
    "\tnew_E = E * m1\n",
    "\n",
    "\twhile True: \n",
    "\t\t# calculate the intermediate value \n",
    "\t\tx = ((a * f(b) - b * f(a)) / (f(b) - f(a)))\n",
    "\n",
    "\t\tprint(f\"n={i:<2};a={a:<25};b={b:<25};x={x:<25};f(a)={f(a):<25};f(b)={f(b):<25};f(x)={f(x):<25};delta={abs(x-temp_x):<25}\")\n",
    "\n",
    "\t\t# update the value of interval \n",
    "\t\tif (f(x) == 0): \n",
    "\t\t\tbreak\n",
    "\t\telif (f(x) * sign(a) < 0):\n",
    "\t\t\tb = x\n",
    "\t\telse:\n",
    "\t\t\ta = x\n",
    "\t\t\t\n",
    "\t\t# stopping rule\n",
    "\t\tif (i != 0) and (abs(f(x)) < new_E):\n",
    "\t\t\tbreak\n",
    "\t\telse:\n",
    "\t\t\ttemp_x = x\n",
    "\t\t\ti += 1\n",
    "\t\t\n",
    "\tprint(f\"Root of the given equation: {x}\")\n",
    "\treturn x"
   ]
  },
  {
   "cell_type": "code",
   "execution_count": 48,
   "metadata": {},
   "outputs": [
    {
     "name": "stdout",
     "output_type": "stream",
     "text": [
      "n=0 ;a=1                        ;b=2                        ;x=1.3548387096774193       ;f(a)=-11                      ;f(b)=20                       ;f(x)=-7.435029421585015       ;delta=1.3548387096774193       \n",
      "n=1 ;a=1.3548387096774193       ;b=2                        ;x=1.5296806280696107       ;f(a)=-7.435029421585015       ;f(b)=20                       ;f(x)=-3.6246332402866805      ;delta=0.17484191839219143      \n",
      "n=2 ;a=1.5296806280696107       ;b=2                        ;x=1.6018398532186635       ;f(a)=-3.6246332402866805      ;f(b)=20                       ;f(x)=-1.4538128781498827      ;delta=0.07215922514905282      \n",
      "n=3 ;a=1.6018398532186635       ;b=2                        ;x=1.6288210873817663       ;f(a)=-1.4538128781498827      ;f(b)=20                       ;f(x)=-0.5351885631016309      ;delta=0.02698123416310283      \n",
      "n=4 ;a=1.6288210873817663       ;b=2                        ;x=1.6384947608563174       ;f(a)=-0.5351885631016309      ;f(b)=20                       ;f(x)=-0.19066927821758206     ;delta=0.009673673474551059     \n",
      "n=5 ;a=1.6384947608563174       ;b=2                        ;x=1.6419086121789064       ;f(a)=-0.19066927821758206     ;f(b)=20                       ;f(x)=-0.06713014080489721     ;delta=0.003413851322588979     \n",
      "n=6 ;a=1.6419086121789064       ;b=2                        ;x=1.6431065276315286       ;f(a)=-0.06713014080489721     ;f(b)=20                       ;f(x)=-0.02353623251962844     ;delta=0.0011979154526222668    \n",
      "n=7 ;a=1.6431065276315286       ;b=2                        ;x=1.6435260303433803       ;f(a)=-0.02353623251962844     ;f(b)=20                       ;f(x)=-0.008239825857270233    ;delta=0.0004195027118516492    \n",
      "n=8 ;a=1.6435260303433803       ;b=2                        ;x=1.6436728340331694       ;f(a)=-0.008239825857270233    ;f(b)=20                       ;f(x)=-0.0028832050045721758   ;delta=0.00014680368978914338   \n",
      "n=9 ;a=1.6436728340331694       ;b=2                        ;x=1.6437241948423913       ;f(a)=-0.0028832050045721758   ;f(b)=20                       ;f(x)=-0.0010086831297133614   ;delta=5.1360809221856485e-05   \n",
      "n=10;a=1.6437241948423913       ;b=2                        ;x=1.643742162405922        ;f(a)=-0.0010086831297133614   ;f(b)=20                       ;f(x)=-0.0003528633978842066   ;delta=1.7967563530785213e-05   \n",
      "Root of the given equation: 1.643742162405922\n"
     ]
    },
    {
     "data": {
      "text/plain": [
       "1.643742162405922"
      ]
     },
     "execution_count": 48,
     "metadata": {},
     "output_type": "execute_result"
    }
   ],
   "source": [
    "def f(x):\n",
    "\treturn pow(x, 5) - 12; \n",
    "a = 1\n",
    "b = 2\n",
    "E = 0.0001\n",
    "M1 = 80\n",
    "m1 = 5\n",
    "secant_recursion_v2 (a, b, E, M1, m1)"
   ]
  },
  {
   "cell_type": "code",
   "execution_count": null,
   "metadata": {},
   "outputs": [
    {
     "name": "stdout",
     "output_type": "stream",
     "text": [
      "n=0 ;a=2                        ;b=3                        ;x=2.756792171024977        ;f(a)=-0.3068528194400547      ;f(b)=0.09861228866810978      ;f(x)=0.01406774690973056      ;delta=2.756792171024977        \n",
      "n=1 ;a=2                        ;b=2.756792171024977        ;x=2.7236177289929855       ;f(a)=-0.3068528194400547      ;f(b)=0.01406774690973056      ;f(x)=0.001961044002237511     ;delta=0.03317444203199171      \n",
      "n=2 ;a=2                        ;b=2.7236177289929855       ;x=2.7190225784011806       ;f(a)=-0.3068528194400547      ;f(b)=0.001961044002237511     ;f(x)=0.00027246955156079444   ;delta=0.004595150591804931     \n",
      "n=3 ;a=2                        ;b=2.7190225784011806       ;x=2.7183846896745885       ;f(a)=-0.3068528194400547      ;f(b)=0.00027246955156079444   ;f(x)=3.783981055760499e-05    ;delta=0.0006378887265920952    \n",
      "n=4 ;a=2                        ;b=2.7183846896745885       ;x=2.7182961123922715       ;f(a)=-0.3068528194400547      ;f(b)=3.783981055760499e-05    ;f(x)=5.25475156676336e-06     ;delta=8.857728231692619e-05    \n",
      "n=5 ;a=2                        ;b=2.7182961123922715       ;x=2.718283812023015        ;f(a)=-0.3068528194400547      ;f(b)=5.25475156676336e-06     ;f(x)=7.297121384919336e-07    ;delta=1.2300369256479371e-05   \n",
      "n=6 ;a=2                        ;b=2.718283812023015        ;x=2.7182821039104055       ;f(a)=-0.3068528194400547      ;f(b)=7.297121384919336e-07    ;f(x)=1.0133288741442925e-07   ;delta=1.7081126095774835e-06   \n",
      "n=7 ;a=2                        ;b=2.7182821039104055       ;x=2.718281866710123        ;f(a)=-0.3068528194400547      ;f(b)=1.0133288741442925e-07   ;f(x)=1.4071785070512988e-08   ;delta=2.3720028252682823e-07   \n",
      "n=8 ;a=2                        ;b=2.718281866710123        ;x=2.718281833770854        ;f(a)=-0.3068528194400547      ;f(b)=1.4071785070512988e-08   ;f(x)=1.9541050999549725e-09   ;delta=3.293926909009315e-08    \n",
      "Root of the given equation: 2.718281833770854\n"
     ]
    },
    {
     "data": {
      "text/plain": [
       "2.718281833770854"
      ]
     },
     "execution_count": 47,
     "metadata": {},
     "output_type": "execute_result"
    }
   ],
   "source": [
    "def f(x):\n",
    "\treturn math.log(x) - 1\n",
    "a = 2\n",
    "b = 3\n",
    "E = 0.5 * (10**(-7))\n",
    "M1 = 1/2.0\n",
    "m1 = 1/3.0\n",
    "secant_recursion_v1 (a, b, E, M1, m1)"
   ]
  }
 ],
 "metadata": {
  "kernelspec": {
   "display_name": "base",
   "language": "python",
   "name": "python3"
  },
  "language_info": {
   "codemirror_mode": {
    "name": "ipython",
    "version": 3
   },
   "file_extension": ".py",
   "mimetype": "text/x-python",
   "name": "python",
   "nbconvert_exporter": "python",
   "pygments_lexer": "ipython3",
   "version": "3.12.9"
  }
 },
 "nbformat": 4,
 "nbformat_minor": 2
}
