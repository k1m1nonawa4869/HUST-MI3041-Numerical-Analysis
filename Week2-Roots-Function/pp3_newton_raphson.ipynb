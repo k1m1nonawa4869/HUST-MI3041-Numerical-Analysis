{
 "cells": [
  {
   "cell_type": "markdown",
   "metadata": {},
   "source": [
    "Phương pháp tiếp tuyến (Newton-Raphson)\n",
    "\n",
    "# Điều kiện:\n",
    "\n",
    "    - (a,b) là khoảng cách ly nghiệm\n",
    "\n",
    "    - f'(x) xác định dấu không đổi trên [a,b]\n",
    "\n",
    "    - f''(x) xác định dấu không đổi trên [a,b]\n",
    "\n",
    "Điều kiện hội tụ:\n",
    "\n",
    "    - Chọn đúng điểm xuất phát ban đầu x_0 (điểm Fourier - f(x_0) * f''(x_0) > 0)"
   ]
  },
  {
   "cell_type": "markdown",
   "metadata": {},
   "source": [
    "# Thuật toán:\n",
    "\n",
    "1. Chọn đúng điểm xuất phát ban đầu x_0 (điểm Fourier - f(x_0) * f''(x_0) > 0)\n",
    "\n",
    "2. Xác định x theo công thức: \n",
    "\n",
    "`x_(k+1) = x_k - f(x_k) / f'(x_k)`\n",
    "\n",
    "3. Lặp lại bước (2) cho đến khi:\n",
    "\n",
    "   a. x_n là nghiệm của phương trình, hoặc\n",
    "\n",
    "   b. dãy {x_n} thỏa mãn điều kiện dừng\n",
    "\n",
    "5. In giá trị `x_n` (giá trị c sau n lần lặp)"
   ]
  },
  {
   "cell_type": "markdown",
   "metadata": {},
   "source": [
    "# Áp dụng"
   ]
  },
  {
   "cell_type": "code",
   "execution_count": 17,
   "metadata": {},
   "outputs": [],
   "source": [
    "import math\n",
    "import pandas as pd\n",
    "\n",
    "pd.set_option('display.precision', 15)  # Increase decimal precision\n",
    "pd.set_option('display.width', 150)     # Wider display\n",
    "pd.set_option('display.max_columns', None)  # Show all column"
   ]
  },
  {
   "cell_type": "markdown",
   "metadata": {},
   "source": [
    "## 1. Hậu nghiêm - Số lần lặp\n",
    "\n",
    "Kiểm tra sai số theo 1 trong 2 công thức sai số sau:\n",
    "+ `|x_n - x*| <= |f(x_n)| / m_1 < epsilon`\n",
    "+ `|x_n - x*| <= M_2/(2*m_1) * |x_n - x_(n-1)|^2 < epsilon`\n",
    "\n",
    "với `m_1 = min[a,b] |f'(x)|`, `M_2 = max[a,b] |f''(x)|`"
   ]
  },
  {
   "cell_type": "markdown",
   "metadata": {},
   "source": [
    "### Công thức 1"
   ]
  },
  {
   "cell_type": "code",
   "execution_count": 38,
   "metadata": {},
   "outputs": [],
   "source": [
    "def newton_iteration_v1 (f, df, d2f, a, b, n, rbl):\t\n",
    "\tM2 = max([d2f(x) for x in [a, b]]) #M2 is the maximum value of f''(x) in the interval [a,b]\n",
    "\tm1 = min([df(x) for x in [a, b]]) #m1 is the minimum value of f'(x) in the interval [a,b]\n",
    "\n",
    "\t#Starting values\n",
    "\tif f(a) * d2f(a) > 0:\n",
    "\t\tx = a\n",
    "\telif f(b) * d2f(b) > 0:\n",
    "\t\tx = b\n",
    "\telse:\n",
    "\t\tprint(\"The function does not have a root in the interval [a,b]\")\n",
    "\t\treturn\n",
    "\t\n",
    "\tresults = []\n",
    "\tresults.append({\n",
    "        'n': 0,\n",
    "        'x_n': x,\n",
    "        'f(x_n)': f(x),\n",
    "        'delta=M_2/(2*m_1) * |x_n - x_(n-1)|^2': None\n",
    "    })\n",
    "\n",
    "\t#Newton's method\n",
    "\ttemp_x = x; delta = x;\n",
    "\tfor i in range(n):\n",
    "\t\t# calculate the next value of x\n",
    "\t\tx = temp_x - f(temp_x) / df(temp_x)\n",
    "\t\tdelta = M2 / (2*m1) * (abs(x-temp_x)**2)\n",
    "\n",
    "\t\tresults.append({\n",
    "            'n': i+1,\n",
    "            'x_n': x,\n",
    "            'f(x_n)': f(x),\n",
    "            'delta=M_2/(2*m_1) * |x_n - x_(n-1)|^2': delta\n",
    "        })\n",
    "\n",
    "\t\ttemp_x = x\n",
    "\t\t\n",
    "\t\t# update the value of interval \n",
    "\t\tif (f(x) == 0): \n",
    "\t\t\tbreak\n",
    "\n",
    "\t#Print the final result\n",
    "\tdf_results = pd.DataFrame(results)\n",
    "\tprint(df_results.to_string(index=False))\n",
    "\n",
    "\tif rbl == None:\n",
    "\t\tprint(f\"The value of root is: {x}\")\n",
    "\telse:\n",
    "\t\ttotal_delta = delta + 0.5 * 10**(-rbl)\n",
    "\t\tprint(f\"The value of root with {rbl} decimal point is: {round(x, rbl)}\")\n",
    "\t\tprint(f\"Relative error is: {total_delta}\")"
   ]
  },
  {
   "cell_type": "code",
   "execution_count": 39,
   "metadata": {},
   "outputs": [
    {
     "name": "stdout",
     "output_type": "stream",
     "text": [
      " n               x_n             f(x_n)  delta=M_2/(2*m_1) * |x_n - x_(n-1)|^2\n",
      " 0 3.000000000000000 54.000000000000000                                    NaN\n",
      " 1 2.500000000000000 12.062500000000000                      0.421875000000000\n",
      " 2 2.307000000000000  1.326334418000997                      0.062857687500000\n",
      " 3 2.279994621743364  0.023107580939026                      0.001230677642448\n",
      " 4 2.279507213327209  0.000007408717718                      0.000000400894252\n",
      " 5 2.279507056954794  0.000000000000771                      0.000000000000041\n",
      "The value of root with 9 decimal point is: 2.279507057\n",
      "Relative error is: 5.000412633105506e-10\n"
     ]
    }
   ],
   "source": [
    "f = lambda x: x**4-27\n",
    "df = lambda x: 4*x**3\n",
    "d2f = lambda x: 12*x**2\n",
    "\n",
    "a = 2\n",
    "b = 3\n",
    "\n",
    "n = 5\n",
    "rbl = 9\n",
    "\n",
    "newton_iteration_v1 (f, df, d2f, a, b, n, rbl);"
   ]
  },
  {
   "cell_type": "markdown",
   "metadata": {},
   "source": [
    "### Công thức 2"
   ]
  },
  {
   "cell_type": "code",
   "execution_count": 40,
   "metadata": {},
   "outputs": [],
   "source": [
    "def newton_iteration_v2 (f, df, d2f, a, b, n, rbl):\t\n",
    "\tM2 = max([d2f(x) for x in [a, b]]) #M2 is the maximum value of f''(x) in the interval [a,b]\n",
    "\tm1 = min([df(x) for x in [a, b]]) #m1 is the minimum value of f'(x) in the interval [a,b]\n",
    "\n",
    "\t#Starting values\n",
    "\tif f(a) * d2f(a) > 0:\n",
    "\t\tx = a\n",
    "\telif f(b) * d2f(b) > 0:\n",
    "\t\tx = b\n",
    "\telse:\n",
    "\t\tprint(\"The function does not have a root in the interval [a,b]\")\n",
    "\t\treturn\n",
    "\t\n",
    "\tresults = []\n",
    "\tresults.append({\n",
    "        'n': 0,\n",
    "        'x_n': x,\n",
    "        'f(x_n)': f(x),\n",
    "        'delta=|f(x_n)| / m_1': abs(f(x)) / m1\n",
    "    })\n",
    "\n",
    "\t#Newton's method\n",
    "\ttemp_x = x; delta = x;\n",
    "\tfor i in range(n):\n",
    "\t\t# calculate the next value of x\n",
    "\t\tx = temp_x - f(temp_x) / df(temp_x)\n",
    "\t\tdelta = abs(f(x)) / m1\n",
    "\n",
    "\t\tresults.append({\n",
    "            'n': i+1,\n",
    "            'x_n': x,\n",
    "            'f(x_n)': f(x),\n",
    "            'delta=|f(x_n)| / m_1': delta\n",
    "        })\n",
    "\n",
    "\t\ttemp_x = x\n",
    "\t\t\n",
    "\t\t# update the value of interval \n",
    "\t\tif (f(x) == 0): \n",
    "\t\t\tbreak\n",
    "\n",
    "\t#Print the final result\n",
    "\tdf_results = pd.DataFrame(results)\n",
    "\tprint(df_results.to_string(index=False))\n",
    "\n",
    "\tif rbl == None:\n",
    "\t\tprint(f\"The value of root is: {x}\")\n",
    "\telse:\n",
    "\t\ttotal_delta = delta + 0.5 * 10**(-rbl)\n",
    "\t\tprint(f\"The value of root with {rbl} decimal point is: {round(x, rbl)}\")\n",
    "\t\tprint(f\"Relative error is: {total_delta}\")"
   ]
  },
  {
   "cell_type": "code",
   "execution_count": 41,
   "metadata": {},
   "outputs": [
    {
     "name": "stdout",
     "output_type": "stream",
     "text": [
      " n               x_n             f(x_n)  delta=|f(x_n)| / m_1\n",
      " 0 3.000000000000000 54.000000000000000     1.687500000000000\n",
      " 1 2.500000000000000 12.062500000000000     0.376953125000000\n",
      " 2 2.307000000000000  1.326334418000997     0.041447950562531\n",
      " 3 2.279994621743364  0.023107580939026     0.000722111904345\n",
      " 4 2.279507213327209  0.000007408717718     0.000000231522429\n",
      " 5 2.279507056954794  0.000000000000771     0.000000000000024\n",
      "The value of root with 9 decimal point is: 2.279507057\n",
      "Relative error is: 5.000240918396344e-10\n"
     ]
    }
   ],
   "source": [
    "f = lambda x: x**4-27\n",
    "df = lambda x: 4*x**3\n",
    "d2f = lambda x: 12*x**2\n",
    "\n",
    "a = 2\n",
    "b = 3\n",
    "\n",
    "n = 5\n",
    "rbl = 9\n",
    "\n",
    "newton_iteration_v2(f, df, d2f, a, b, n, rbl);"
   ]
  },
  {
   "cell_type": "markdown",
   "metadata": {},
   "source": [
    "## 2. Hậu nghiệm - Sai số tương đối"
   ]
  },
  {
   "cell_type": "markdown",
   "metadata": {},
   "source": [
    "Thiết lập điều kiện dừng theo 1 trong 2 công thức sai số sau:\n",
    "+ `|x_n - x*| <= |f(x_n)| / m_1 < epsilon` --> `|f(x_n)| < epsilon * m_1`\n",
    "+ `|x_n - x*| <= M_2/(2*m_1) * |x_n - x_(n-1)|^2 < epsilon` --> `|x_n - x_(n-1)| < sqrt(2 * epsilon * m_1 / M_2)`\n",
    "\n",
    "với `m_1 = min[a,b] |f'(x)|`, `M_2 = max[a,b] |f''(x)|`"
   ]
  },
  {
   "cell_type": "markdown",
   "metadata": {},
   "source": [
    "### Công thức 1:"
   ]
  },
  {
   "cell_type": "code",
   "execution_count": 55,
   "metadata": {},
   "outputs": [],
   "source": [
    "def newton_absolute_v1 (f, df, d2f, a, b, eps):\t\n",
    "\tM2 = max([d2f(x) for x in [a, b]]) #M2 is the maximum value of f''(x) in the interval [a,b]\n",
    "\tm1 = min([df(x) for x in [a, b]]) #m1 is the minimum value of f'(x) in the interval [a,b]\n",
    "\n",
    "\t#Starting values\n",
    "\tif f(a) * d2f(a) > 0:\n",
    "\t\tx = a\n",
    "\telif f(b) * d2f(b) > 0:\n",
    "\t\tx = b\n",
    "\telse:\n",
    "\t\tprint(\"The function does not have a root in the interval [a,b]\")\n",
    "\t\treturn\n",
    "\t\n",
    "\tresults = []\n",
    "\tresults.append({\n",
    "        'n': 0,\n",
    "        'x_n': x,\n",
    "        'f(x_n)': f(x),\n",
    "        'delta_x=|x_n - x_(n-1)|': None\n",
    "    })\n",
    "\n",
    "\t#Newton's method\n",
    "\ti=0; temp_x = x; delta_x = math.sqrt(eps * 2 * m1 / M2);\n",
    "\twhile True:\n",
    "\t\t# calculate the next value of x\n",
    "\t\tx = temp_x - f(temp_x) / df(temp_x)\n",
    "\t\tcurrent_delta_x = abs(x-temp_x)\n",
    "\n",
    "\t\tresults.append({\n",
    "            'n': i+1,\n",
    "            'x_n': x,\n",
    "            'f(x_n)': f(x),\n",
    "            'delta_x=|x_n - x_(n-1)|': current_delta_x\n",
    "        })\n",
    "\t\t\n",
    "\t\t# update the value of interval \n",
    "\t\tif (f(x) == 0): \n",
    "\t\t\tbreak\n",
    "\n",
    "\t\t#stop condition\n",
    "\t\tif current_delta_x < delta_x:\n",
    "\t\t\tbreak\n",
    "\t\telse:\n",
    "\t\t\ti += 1\n",
    "\t\t\ttemp_x = x\n",
    "\n",
    "\t#Print the final result\n",
    "\tdf_results = pd.DataFrame(results)\n",
    "\tprint(df_results.to_string(index=False))\n",
    "\n",
    "\n",
    "\tprint(f\"The value of root with relative error {eps} is: {x}\")"
   ]
  },
  {
   "cell_type": "code",
   "execution_count": 56,
   "metadata": {},
   "outputs": [
    {
     "name": "stdout",
     "output_type": "stream",
     "text": [
      " n               x_n             f(x_n)  delta_x=|x_n - x_(n-1)|\n",
      " 0 3.000000000000000 54.000000000000000                      NaN\n",
      " 1 2.500000000000000 12.062500000000000        0.500000000000000\n",
      " 2 2.307000000000000  1.326334418000997        0.193000000000000\n",
      " 3 2.279994621743364  0.023107580939026        0.027005378256636\n",
      " 4 2.279507213327209  0.000007408717718        0.000487408416155\n",
      " 5 2.279507056954794  0.000000000000771        0.000000156372415\n",
      "The value of root with relative error 5e-08 is: 2.279507056954794\n"
     ]
    }
   ],
   "source": [
    "f = lambda x: x**4-27\n",
    "df = lambda x: 4*x**3\n",
    "d2f = lambda x: 12*x**2\n",
    "\n",
    "a = 2\n",
    "b = 3\n",
    "\n",
    "eps = 0.5 * 10**(-7)\n",
    "\n",
    "newton_absolute_v1 (f, df, d2f, a, b, eps);"
   ]
  },
  {
   "cell_type": "markdown",
   "metadata": {},
   "source": [
    "### Công thức 2"
   ]
  },
  {
   "cell_type": "code",
   "execution_count": 57,
   "metadata": {},
   "outputs": [],
   "source": [
    "def newton_absolute_v2 (f, df, d2f, a, b, eps):\t\n",
    "\tM2 = max([d2f(x) for x in [a, b]]) #M2 is the maximum value of f''(x) in the interval [a,b]\n",
    "\tm1 = min([df(x) for x in [a, b]]) #m1 is the minimum value of f'(x) in the interval [a,b]\n",
    "\n",
    "\t#Starting values\n",
    "\tif f(a) * d2f(a) > 0:\n",
    "\t\tx = a\n",
    "\telif f(b) * d2f(b) > 0:\n",
    "\t\tx = b\n",
    "\telse:\n",
    "\t\tprint(\"The function does not have a root in the interval [a,b]\")\n",
    "\t\treturn\n",
    "\t\n",
    "\tresults = []\n",
    "\tresults.append({\n",
    "        'n': 0,\n",
    "        'x_n': x,\n",
    "        'f(x_n)': f(x),\n",
    "    })\n",
    "\n",
    "\t#Newton's method\n",
    "\ti=0; temp_x = x; delta_f = eps * m1;\n",
    "\twhile True:\n",
    "\t\t# calculate the next value of x\n",
    "\t\tx = temp_x - f(temp_x) / df(temp_x)\n",
    "\n",
    "\t\tresults.append({\n",
    "            'n': i+1,\n",
    "            'x_n': x,\n",
    "            'f(x_n)': f(x),\n",
    "        })\n",
    "\t\t\n",
    "\t\t# update the value of interval \n",
    "\t\tif (f(x) == 0): \n",
    "\t\t\tbreak\n",
    "\n",
    "\t\t#stop condition\n",
    "\t\tif abs(f(x)) < delta_f:\n",
    "\t\t\tbreak\n",
    "\t\telse:\n",
    "\t\t\ti += 1\n",
    "\t\t\ttemp_x = x\n",
    "\n",
    "\t#Print the final result\n",
    "\tdf_results = pd.DataFrame(results)\n",
    "\tprint(df_results.to_string(index=False))\n",
    "\n",
    "\n",
    "\tprint(f\"The value of root with relative error {eps} is: {x}\")"
   ]
  },
  {
   "cell_type": "code",
   "execution_count": 58,
   "metadata": {},
   "outputs": [
    {
     "name": "stdout",
     "output_type": "stream",
     "text": [
      " n               x_n             f(x_n)\n",
      " 0 3.000000000000000 54.000000000000000\n",
      " 1 2.500000000000000 12.062500000000000\n",
      " 2 2.307000000000000  1.326334418000997\n",
      " 3 2.279994621743364  0.023107580939026\n",
      " 4 2.279507213327209  0.000007408717718\n",
      " 5 2.279507056954794  0.000000000000771\n",
      "The value of root with relative error 5e-08 is: 2.279507056954794\n"
     ]
    }
   ],
   "source": [
    "f = lambda x: x**4-27\n",
    "df = lambda x: 4*x**3\n",
    "d2f = lambda x: 12*x**2\n",
    "\n",
    "a = 2\n",
    "b = 3\n",
    "\n",
    "eps = 0.5 * 10**(-7)\n",
    "\n",
    "newton_absolute_v2 (f, df, d2f, a, b, eps);"
   ]
  },
  {
   "cell_type": "markdown",
   "metadata": {},
   "source": [
    "## 3. Hậu nghiệm - Sai số tuyệt đối"
   ]
  },
  {
   "cell_type": "markdown",
   "metadata": {},
   "source": [
    "Thiết lập điều kiện dừng theo công thức:\n",
    "\n",
    "`|x_n - x*| / |x_n| <= M_2/(2*m_1) * |x_n - x_(n-1)|^2 / |x_n| < sigma` \n",
    "--> `|x_n - x_(n-1)| / |x_n| < sqrt(2 * sigma * m_1 / M_2)`\n",
    "\n",
    "với `m_1 = min[a,b] |f'(x)|`, `M_2 = max[a,b] |f''(x)|`"
   ]
  },
  {
   "cell_type": "code",
   "execution_count": 79,
   "metadata": {},
   "outputs": [],
   "source": [
    "def newton_relative (f, df, d2f, a, b, eta):\t\n",
    "\tM2 = max([d2f(x) for x in [a, b]]) #M2 is the maximum value of f''(x) in the interval [a,b]\n",
    "\tm1 = min([df(x) for x in [a, b]]) #m1 is the minimum value of f'(x) in the interval [a,b]\n",
    "\n",
    "\t#Starting values\n",
    "\tif f(a) * d2f(a) > 0:\n",
    "\t\tx = a\n",
    "\telif f(b) * d2f(b) > 0:\n",
    "\t\tx = b\n",
    "\telse:\n",
    "\t\tprint(\"The function does not have a root in the interval [a,b]\")\n",
    "\t\treturn\n",
    "\t\n",
    "\tresults = []\n",
    "\tresults.append({\n",
    "        'n': 0,\n",
    "        'x_n': x,\n",
    "        'f(x_n)': f(x),\n",
    "        'sigma_x=|x_n - x_(n-1)|/|x_n|': None\n",
    "    })\n",
    "\n",
    "\t#Newton's method\n",
    "\ti=0; temp_x = x; sigma_x = math.sqrt(eta * 2 * m1 / M2);\n",
    "\twhile True:\n",
    "\t\t# calculate the next value of x\n",
    "\t\tx = temp_x - f(temp_x) / df(temp_x)\n",
    "\t\tcurrent_sigma_x = abs(x-temp_x)/abs(x)\n",
    "\n",
    "\t\tresults.append({\n",
    "            'n': i+1,\n",
    "            'x_n': x,\n",
    "            'f(x_n)': f(x),\n",
    "\t\t\t'sigma_x=|x_n - x_(n-1)|/|x_n|': current_sigma_x\n",
    "        })\n",
    "\t\t\n",
    "\t\t# update the value of interval \n",
    "\t\tif (f(x) == 0): \n",
    "\t\t\tbreak\n",
    "\n",
    "\t\t#stop condition\n",
    "\t\tif current_sigma_x < sigma_x:\n",
    "\t\t\tbreak\n",
    "\t\telse:\n",
    "\t\t\ti += 1\n",
    "\t\t\ttemp_x = x\n",
    "\n",
    "\t#Print the final result\n",
    "\tdf_results = pd.DataFrame(results)\n",
    "\tprint(df_results.to_string(index=False))\n",
    "\n",
    "\tprint(f\"The value of root with relative error {eps} is: {x}\")"
   ]
  },
  {
   "cell_type": "code",
   "execution_count": 82,
   "metadata": {},
   "outputs": [
    {
     "name": "stdout",
     "output_type": "stream",
     "text": [
      " n               x_n             f(x_n)  sigma_x=|x_n - x_(n-1)|/|x_n|\n",
      " 0 3.000000000000000 54.000000000000000                            NaN\n",
      " 1 2.500000000000000 12.062500000000000              0.200000000000000\n",
      " 2 2.307000000000000  1.326334418000997              0.083658430862592\n",
      " 3 2.279994621743364  0.023107580939026              0.011844492087436\n",
      " 4 2.279507213327209  0.000007408717718              0.000213821835397\n",
      " 5 2.279507056954794  0.000000000000771              0.000000068599224\n",
      "The value of root with relative error 5e-08 is: 2.279507056954794\n"
     ]
    }
   ],
   "source": [
    "f = lambda x: x**4-27\n",
    "df = lambda x: 4*x**3\n",
    "d2f = lambda x: 12*x**2\n",
    "\n",
    "a = 2\n",
    "b = 3\n",
    "\n",
    "eta = 0.5 * 10**(-7)\n",
    "\n",
    "newton_relative (f, df, d2f, a, b, eta);"
   ]
  }
 ],
 "metadata": {
  "kernelspec": {
   "display_name": "base",
   "language": "python",
   "name": "python3"
  },
  "language_info": {
   "codemirror_mode": {
    "name": "ipython",
    "version": 3
   },
   "file_extension": ".py",
   "mimetype": "text/x-python",
   "name": "python",
   "nbconvert_exporter": "python",
   "pygments_lexer": "ipython3",
   "version": "3.12.9"
  }
 },
 "nbformat": 4,
 "nbformat_minor": 2
}
