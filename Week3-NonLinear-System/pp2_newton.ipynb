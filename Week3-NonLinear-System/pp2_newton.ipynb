{
 "cells": [
  {
   "cell_type": "code",
   "execution_count": 1,
   "metadata": {},
   "outputs": [],
   "source": [
    "import numpy as np\n",
    "import pandas as pd\n",
    "\n",
    "pd.set_option('display.precision', 15)  # Increase decimal precision\n",
    "pd.set_option('display.width', 150)     # Wider display\n",
    "pd.set_option('display.max_columns', None)  # Show all column"
   ]
  },
  {
   "cell_type": "markdown",
   "metadata": {},
   "source": [
    "# Phương pháp Newton cho Hệ phi tuyến\n",
    "\n",
    "$X_{k+1} = X_k - {J(X_k)}^{-1} F(X_k)$, với $J(X) = \\partial F(X) = \\dfrac{\\partial(f_1, f_2, \\cdots)}{\\partial(x_1, x_2, \\cdots)}$"
   ]
  },
  {
   "cell_type": "code",
   "execution_count": 2,
   "metadata": {},
   "outputs": [],
   "source": [
    "def newton_method(initial_values, tol=1e-6, max_iter=100, *funcs):\n",
    "    n = len(initial_values)  # Number of initial values (and functions)\n",
    "    x = np.array(initial_values, dtype=float)  # Convert initial values to a NumPy array\n",
    "    results = [[0] + list(x)]  # Initialize results with the initial values and a placeholder for the norm difference\n",
    "    \n",
    "    for i in range(max_iter):\n",
    "        F = np.array([func(*x) for func in funcs[:n]])\n",
    "        \n",
    "        # Create the Jacobian matrix using pandas\n",
    "        J = pd.DataFrame(funcs[n](*x))\n",
    "        \n",
    "        delta_x = np.linalg.solve(J.values, -F)\n",
    "        x_new = x + delta_x\n",
    "        \n",
    "        # Calculate the L1 norm (sum of absolute differences)\n",
    "        norm_diff = np.sum(np.abs(x_new - x))\n",
    "        \n",
    "        results.append([i+1] + list(x_new) + [norm_diff])\n",
    "        \n",
    "        if norm_diff < tol:\n",
    "            break\n",
    "        \n",
    "        x = x_new\n",
    "    \n",
    "    columns = ['Iteration'] + [f'x{j+1}' for j in range(n)] + ['norm_diff']\n",
    "    df = pd.DataFrame(results, columns=columns)\n",
    "    print(df.to_string(index=False))\n",
    "    \n",
    "    return x\n"
   ]
  },
  {
   "cell_type": "code",
   "execution_count": 3,
   "metadata": {},
   "outputs": [
    {
     "name": "stdout",
     "output_type": "stream",
     "text": [
      " Iteration                x1                 x2                 x3         norm_diff\n",
      "         0 0.000000000000000  0.000000000000000  0.000000000000000               NaN\n",
      "         1 0.500000000000000 -0.015860802469136 -0.506945000000000 1.022805802469136\n",
      "         2 0.500014260553104  0.002563369337975 -0.506878836312678 0.018504596047537\n",
      "         3 0.500000082559293  0.000905395145987 -0.506922354249314 0.001715670122435\n",
      "         4 0.499999965950188  0.000891747891180 -0.506922711272505 0.000014120887102\n",
      "         5 0.499999965942284  0.000891746966398 -0.506922711296698 0.000000000956880\n",
      "Approximate solution: [ 0.49999997  0.00089175 -0.50692271]\n"
     ]
    }
   ],
   "source": [
    "# Example functions\n",
    "def f1(x, y, z):\n",
    "    return 3*x - np.cos(y*z) - 0.5\n",
    "\n",
    "def f2(x, y, z):\n",
    "    return x**2 - 81*((y+0.1)**2) + np.sin(z) + 1.06\n",
    "\n",
    "def f3(x, y, z):\n",
    "    return np.exp(-x*y) + 20*z + 9.1389 \n",
    "\n",
    "# Jacobian matrix function\n",
    "def jacobian(x, y, z):\n",
    "    return [\n",
    "        [3, z*np.sin(y*z), y*np.sin(y*z)],\n",
    "        [2*x, -162*(y+0.1), np.cos(z)],\n",
    "        [-y*np.exp(-x*y), -x*np.exp(-x*y), 20]\n",
    "    ]\n",
    "\n",
    "# Store functions and Jacobian function\n",
    "funcs = [f1, f2, f3, jacobian]\n",
    "\n",
    "# Initial guess\n",
    "initial_values = [0, 0, 0]\n",
    "\n",
    "# Perform Newton-Raphson method\n",
    "solution = newton_method(initial_values, 1e-6, 100, *funcs)\n",
    "print(\"Approximate solution:\", solution)"
   ]
  },
  {
   "cell_type": "code",
   "execution_count": 10,
   "metadata": {},
   "outputs": [
    {
     "name": "stdout",
     "output_type": "stream",
     "text": [
      " Iteration                 x1                x2         norm_diff\n",
      "         0  0.000000000000000 0.000000000000000               NaN\n",
      "         1 -0.439841233722387 0.219920616861194 0.659761850583581\n",
      "         2 -0.303129538033102 0.147748272248819 0.208884040301660\n",
      "         3 -0.334494983091421 0.129949468700691 0.049164248606448\n",
      "         4 -0.339992496620061 0.133061031591377 0.008609076419326\n",
      "         5 -0.338384234814481 0.134706205687215 0.003253435901418\n",
      "         6 -0.337747302816152 0.134767044363135 0.000697770674249\n",
      "         7 -0.337752721726775 0.134663285752893 0.000109177520865\n",
      "         8 -0.337797594098482 0.134642229737423 0.000065928387177\n",
      "         9 -0.337804499995290 0.134645982680822 0.000010658840207\n",
      "        10 -0.337802520562311 0.134648046540042 0.000004043292200\n",
      "        11 -0.337801722088130 0.134648122354410 0.000000874288548\n",
      "Approximate solution: [-0.33780252  0.13464805]\n"
     ]
    }
   ],
   "source": [
    "def f1(x, y):\n",
    "    return np.sin(4 * np.pi * x * y) - 2 * x - y\n",
    "\n",
    "def f2(x, y):\n",
    "    return ((4 * np.pi - 1) / (4 * np.pi)) * (np.exp(2 * x) - np.exp(1)) + 4 * np.exp(1) * y**2 - 2 * np.exp(1) * x\n",
    "\n",
    "# Jacobian matrix function\n",
    "def jacobian(x, y):\n",
    "    return [\n",
    "        [4*np.pi*y*np.cos(4*np.pi*y*x) - 1, 4*np.pi*x*np.cos(4*np.pi*x*y) - 2],\n",
    "        [(4*np.pi - 1)/(4*np.pi) * (2 * np.exp(2*x)) - 2*np.exp(1), 8*np.exp(y)*y]\n",
    "    ]\n",
    "\n",
    "# Store functions and Jacobian function\n",
    "funcs = [f1, f2, jacobian]\n",
    "\n",
    "# Initial guess\n",
    "initial_values = [0, 0]\n",
    "\n",
    "# Perform Newton-Raphson method\n",
    "solution = newton_method(initial_values, 1e-6, 100, *funcs)\n",
    "print(\"Approximate solution:\", solution)"
   ]
  }
 ],
 "metadata": {
  "kernelspec": {
   "display_name": "base",
   "language": "python",
   "name": "python3"
  },
  "language_info": {
   "codemirror_mode": {
    "name": "ipython",
    "version": 3
   },
   "file_extension": ".py",
   "mimetype": "text/x-python",
   "name": "python",
   "nbconvert_exporter": "python",
   "pygments_lexer": "ipython3",
   "version": "3.12.9"
  }
 },
 "nbformat": 4,
 "nbformat_minor": 2
}
