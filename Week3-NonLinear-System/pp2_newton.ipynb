{
 "cells": [
  {
   "cell_type": "code",
   "execution_count": 1,
   "metadata": {},
   "outputs": [],
   "source": [
    "import numpy as np\n",
    "import pandas as pd\n",
    "\n",
    "pd.set_option('display.precision', 15)  # Increase decimal precision\n",
    "pd.set_option('display.width', 150)     # Wider display\n",
    "pd.set_option('display.max_columns', None)  # Show all column"
   ]
  },
  {
   "cell_type": "markdown",
   "metadata": {},
   "source": [
    "Phương pháp Newton cho Hệ phi tuyến"
   ]
  },
  {
   "cell_type": "code",
   "execution_count": 11,
   "metadata": {},
   "outputs": [],
   "source": [
    "def newton_method(initial_values, tol=1e-6, max_iter=100, *funcs):\n",
    "    n = len(initial_values)  # Number of initial values (and functions)\n",
    "    x = np.array(initial_values, dtype=float)  # Convert initial values to a NumPy array\n",
    "    results = [list(x) + [0]]  # Initialize results with the initial values and a placeholder for the norm difference\n",
    "    \n",
    "    for i in range(max_iter):\n",
    "        F = np.array([func(*x) for func in funcs[:n]])\n",
    "        \n",
    "        # Create the Jacobian matrix using pandas\n",
    "        J = pd.DataFrame(funcs[n](*x))\n",
    "        \n",
    "        delta_x = np.linalg.solve(J.values, -F)\n",
    "        x_new = x + delta_x\n",
    "        \n",
    "        # Calculate the L1 norm (sum of absolute differences)\n",
    "        norm_diff = np.sum(np.abs(x_new - x))\n",
    "        \n",
    "        results.append(list(x_new) + [norm_diff])\n",
    "        \n",
    "        if norm_diff < tol:\n",
    "            break\n",
    "        \n",
    "        x = x_new\n",
    "    \n",
    "    columns = [f'x{j+1}' for j in range(n)] + ['norm_diff']\n",
    "    df = pd.DataFrame(results, columns=columns)\n",
    "    print(df.to_string(index=False))\n",
    "    \n",
    "    return x\n"
   ]
  },
  {
   "cell_type": "code",
   "execution_count": 12,
   "metadata": {},
   "outputs": [
    {
     "name": "stdout",
     "output_type": "stream",
     "text": [
      "               x1                 x2                 x3         norm_diff\n",
      "0.000000000000000  0.000000000000000  0.000000000000000 0.000000000000000\n",
      "0.500000000000000 -0.015860802469136 -0.506945000000000 1.022805802469136\n",
      "0.500014260553104  0.002563369337975 -0.506878836312678 0.018504596047537\n",
      "0.500000082559293  0.000905395145987 -0.506922354249314 0.001715670122435\n",
      "0.499999965950188  0.000891747891180 -0.506922711272505 0.000014120887102\n",
      "0.499999965942284  0.000891746966398 -0.506922711296698 0.000000000956880\n",
      "Approximate solution: [ 0.49999997  0.00089175 -0.50692271]\n"
     ]
    }
   ],
   "source": [
    "# Example functions\n",
    "def f1(x, y, z):\n",
    "    return 3*x - np.cos(y*z) - 0.5\n",
    "\n",
    "def f2(x, y, z):\n",
    "    return x**2 - 81*((y+0.1)**2) + np.sin(z) + 1.06\n",
    "\n",
    "def f3(x, y, z):\n",
    "    return np.exp(-x*y) + 20*z + 9.1389 \n",
    "\n",
    "# Jacobian matrix function\n",
    "def jacobian(x, y, z):\n",
    "    return [\n",
    "        [3, z*np.sin(y*z), y*np.sin(y*z)],\n",
    "        [2*x, -162*(y+0.1), np.cos(z)],\n",
    "        [-y*np.exp(-x*y), -x*np.exp(-x*y), 20]\n",
    "    ]\n",
    "\n",
    "# Store functions and Jacobian function\n",
    "funcs = [f1, f2, f3, jacobian]\n",
    "\n",
    "# Initial guess\n",
    "initial_values = [0, 0, 0]\n",
    "\n",
    "# Perform Newton-Raphson method\n",
    "solution = newton_method(initial_values, 1e-6, 100, *funcs)\n",
    "print(\"Approximate solution:\", solution)"
   ]
  }
 ],
 "metadata": {
  "kernelspec": {
   "display_name": "base",
   "language": "python",
   "name": "python3"
  },
  "language_info": {
   "codemirror_mode": {
    "name": "ipython",
    "version": 3
   },
   "file_extension": ".py",
   "mimetype": "text/x-python",
   "name": "python",
   "nbconvert_exporter": "python",
   "pygments_lexer": "ipython3",
   "version": "3.12.9"
  }
 },
 "nbformat": 4,
 "nbformat_minor": 2
}
