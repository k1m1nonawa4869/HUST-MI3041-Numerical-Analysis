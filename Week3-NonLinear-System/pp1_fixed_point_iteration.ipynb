{
 "cells": [
  {
   "cell_type": "code",
   "execution_count": 1,
   "metadata": {},
   "outputs": [],
   "source": [
    "import numpy as np\n",
    "import pandas as pd\n",
    "\n",
    "pd.set_option('display.precision', 15)  # Increase decimal precision\n",
    "pd.set_option('display.width', 150)     # Wider display\n",
    "pd.set_option('display.max_columns', None)  # Show all column"
   ]
  },
  {
   "cell_type": "markdown",
   "metadata": {},
   "source": [
    "# Phương pháp Lặp đơn cho Hệ phi tuyến\n",
    "\n",
    "Điều kiện hội tụ: $||G|| \\leq q < 1$ --> đảm bảo nghiệm duy nhất\n",
    "\n",
    "Đánh giá sai số:\n",
    "\n",
    "* Tiên nghiệm: * Hậu nghiệm: $||x_n - x^*|| \\leq \\dfrac{q^n}{1-q} ||x_1-x_0||$\n",
    "\n",
    "* Hậu nghiệm: $||x_n - x^*|| \\leq \\dfrac{q}{1-q} ||x_n-x_{n-1}||$\n",
    "\n"
   ]
  },
  {
   "cell_type": "markdown",
   "metadata": {},
   "source": [
    "# Thuật toán\n",
    "\n",
    "1. **Khởi tạo**: \n",
    "\n",
    "- Chọn giá trị ban đầu $x_0$ và $y_0$.\n",
    "\n",
    "- Tạo phương trình lặp $x = g_1(x)$ tương đương với phương trình $f_1(x, y) = 0$.\n",
    "\n",
    "  Tạo phương trình lặp $y = g_2(y)$ tương đương với phương trình $f_2(x, y) = 0$.\n",
    "\n",
    "2. **Lặp**: Thực hiện các bước sau\n",
    "\n",
    "- Tính giá trị mới của $x$ và $y$:\n",
    "\n",
    "  $x_{k+1} = g_1(x_k, y_k)$, $\\quad\\quad$ $y_{k+1} = g_2(x_k, y_k)$\n",
    "      \n",
    "- Kiểm tra điều kiện hội tụ: Dừng nếu đạt được độ chính xác mong muốn, hoặc đạt đến số lần lặp tối đa.\n",
    "\n",
    "3. **Kết quả**: Nếu $\\exists \\lim\\limits_{k \\to \\infty} x_k = \\alpha$ và $g_1(x)$ liên tục thì $\\alpha = g_1(\\alpha)$. Tương tự $\\beta = g_2(\\beta)$"
   ]
  },
  {
   "cell_type": "markdown",
   "metadata": {},
   "source": [
    "# Áp dụng"
   ]
  },
  {
   "cell_type": "markdown",
   "metadata": {},
   "source": [
    "## 1. Chuẩn 1 (chuẩn cột)\n",
    "\n",
    "$||A||_{(1)} = \\max\\limits_{1\\leq j \\leq n} \\sum\\limits_{i=1}^{m} |a_{ij}|$\n",
    "\n"
   ]
  },
  {
   "cell_type": "markdown",
   "metadata": {},
   "source": [
    "### 1.1. Tiên nghiệm"
   ]
  },
  {
   "cell_type": "code",
   "execution_count": null,
   "metadata": {},
   "outputs": [],
   "source": [
    "def fixed_point_iteration(initial_values, tol=1e-6, max_iter=100, *funcs):\n",
    "    n = len(initial_values)\n",
    "    values = np.array(initial_values)\n",
    "    results = []\n",
    "\n",
    "    for i in range(max_iter):\n",
    "        new_values = np.array([funcs[j](*values) for j in range(n)])\n",
    "        \n",
    "        results.append([i+1] + new_values.tolist())\n",
    "        \n",
    "        if np.all(np.abs(new_values - values) < tol):\n",
    "            break\n",
    "        \n",
    "        values = new_values\n",
    "    \n",
    "    columns = ['Iteration'] + [f'x{j+1}' for j in range(n)]\n",
    "    df = pd.DataFrame(results, columns=columns)\n",
    "    print(df)\n",
    "    \n",
    "    return values\n"
   ]
  },
  {
   "cell_type": "markdown",
   "metadata": {},
   "source": [
    "### 1.2. Hậu nghiệm\n"
   ]
  },
  {
   "cell_type": "code",
   "execution_count": 2,
   "metadata": {},
   "outputs": [],
   "source": [
    "def fixed_point_iteration_v1(initial_values, q, eps, *funcs):\n",
    "    n = len(initial_values)\n",
    "    values = np.array(initial_values)\n",
    "    results = [[0] + initial_values]; i=0;\n",
    "\n",
    "    new_eps = eps * (1-q)/ q\n",
    "    print(f\"new_eps: {new_eps}\")\n",
    "\n",
    "    while True:\n",
    "        new_values = np.array([funcs[j](*values) for j in range(n)])\n",
    "        \n",
    "        # Calculate the differences\n",
    "        diffs = np.abs(new_values - values)\n",
    "        diff_sum = np.sum(diffs)\n",
    "        \n",
    "        # Append the iteration number, new values, differences, and diff_sum to the results list\n",
    "        results.append([i+1] + new_values.tolist() + diffs.tolist() + [diff_sum])\n",
    "        \n",
    "        # Check for convergence\n",
    "        if diff_sum < new_eps:\n",
    "            break\n",
    "        \n",
    "        values = new_values\n",
    "        i += 1  # Increment the iteration counter\n",
    "    \n",
    "    columns = ['Iteration'] + [f'x{j+1}' for j in range(n)] + [f'diff_x{j+1}' for j in range(n)] + ['diff_sum']\n",
    "    df = pd.DataFrame(results, columns=columns)\n",
    "    print(df.to_string(index=False))  # Print the DataFrame without the index\n",
    "    \n",
    "    return values"
   ]
  },
  {
   "cell_type": "code",
   "execution_count": 3,
   "metadata": {},
   "outputs": [
    {
     "name": "stdout",
     "output_type": "stream",
     "text": [
      "new_eps: 9.52380952380952e-11\n",
      " Iteration                x1                x2                 x3           diff_x1           diff_x2           diff_x3          diff_sum\n",
      "         0 1.000000000000000 0.000000000000000  0.500000000000000               NaN               NaN               NaN               NaN\n",
      "         1 0.500000000000000 0.077061945587866 -0.506945000000000 0.500000000000000 0.077061945587866 1.006945000000000 1.584006945587866\n",
      "         2 0.499745671434312 0.000890556858707 -0.505055095109852 0.000254328565688 0.076171388729159 0.001889904890148 0.078315622184994\n",
      "         3 0.499999966282951 0.000976105148869 -0.506922752354281 0.000254294848639 0.000085548290162 0.001867657244429 0.002207500383229\n",
      "         4 0.499999959193860 0.000891744791128 -0.506920603326837 0.000000007089091 0.000084360357741 0.000002149027444 0.000086516474276\n",
      "         5 0.499999965942733 0.000891859305896 -0.506922711351357 0.000000006748873 0.000000114514768 0.000002108024519 0.000002229288160\n",
      "         6 0.499999965933702 0.000891746963502 -0.506922708489463 0.000000000009031 0.000000112342393 0.000000002861893 0.000000115213318\n",
      "         7 0.499999965942284 0.000891747116028 -0.506922711296771 0.000000000008582 0.000000000152526 0.000000002807308 0.000000002968416\n",
      "         8 0.499999965942272 0.000891746966394 -0.506922711292959 0.000000000000012 0.000000000149634 0.000000000003812 0.000000000153458\n",
      "         9 0.499999965942284 0.000891746966597 -0.506922711296699 0.000000000000011 0.000000000000203 0.000000000003739 0.000000000003954\n",
      "Approximate solution: [ 0.49999997  0.00089175 -0.50692271]\n"
     ]
    }
   ],
   "source": [
    "def g1(x, y, z):\n",
    "    return 1/3 * (np.cos(y*z) + 0.5)\n",
    "\n",
    "def g2(x, y, z):\n",
    "    return 1/9 * np.sqrt(x**2 + np.sin(z) + 1.06) - 0.1\n",
    "\n",
    "def g3(x, y, z):\n",
    "    return -1/20 * np.exp(-x*y) - 9.1389/20\n",
    "\n",
    "# Store g functions\n",
    "def store_g_funcs(*g_funcs):\n",
    "    return g_funcs\n",
    "\n",
    "g_funcs = store_g_funcs(g1, g2, g3)\n",
    "\n",
    "# Initial guess\n",
    "initial_values = [1, 0, 0.5]\n",
    "eps = 0.5 * 1e-9\n",
    "q = 0.280 * 3\n",
    "\n",
    "# Perform fixed-point iteration\n",
    "solution = fixed_point_iteration_v1(initial_values, q, eps, *g_funcs)\n",
    "print(\"Approximate solution:\", solution)"
   ]
  },
  {
   "cell_type": "code",
   "execution_count": null,
   "metadata": {},
   "outputs": [],
   "source": []
  }
 ],
 "metadata": {
  "kernelspec": {
   "display_name": "base",
   "language": "python",
   "name": "python3"
  },
  "language_info": {
   "codemirror_mode": {
    "name": "ipython",
    "version": 3
   },
   "file_extension": ".py",
   "mimetype": "text/x-python",
   "name": "python",
   "nbconvert_exporter": "python",
   "pygments_lexer": "ipython3",
   "version": "3.12.9"
  }
 },
 "nbformat": 4,
 "nbformat_minor": 2
}
