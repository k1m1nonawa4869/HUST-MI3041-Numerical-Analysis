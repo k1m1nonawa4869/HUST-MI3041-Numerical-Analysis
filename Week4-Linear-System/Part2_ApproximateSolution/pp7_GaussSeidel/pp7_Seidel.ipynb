{
 "cells": [
  {
   "cell_type": "code",
   "execution_count": 95,
   "id": "a6d4d896",
   "metadata": {},
   "outputs": [],
   "source": [
    "from fractions import Fraction\n",
    "from typing import Tuple, Union\n",
    "import numpy as np\n",
    "import pandas as pd\n",
    "\n",
    "pd.set_option('display.precision', 12)  # Increase decimal precision\n",
    "pd.set_option('display.width', 300)     # Wider display\n",
    "pd.set_option('display.max_columns', None)  # Show all column"
   ]
  },
  {
   "cell_type": "code",
   "execution_count": 96,
   "id": "12c6a307",
   "metadata": {},
   "outputs": [],
   "source": [
    "def input_matrix(filename, convert_fractions=False):\n",
    "    \"\"\"\n",
    "    Reads a matrix from a text file and returns it as a NumPy array.\n",
    "    Supports fractional entries if present (though your files use decimals).\n",
    "    \"\"\"\n",
    "    matrix = []\n",
    "\n",
    "    with open(filename, 'r') as f:\n",
    "        for line in f:\n",
    "            tokens = line.strip().split()\n",
    "            if not tokens:\n",
    "                continue\n",
    "\n",
    "            row = []\n",
    "            for token in tokens:\n",
    "                if '/' in token:\n",
    "                    # convert fractions if any includes fraction sign\n",
    "                    val = Fraction(token)\n",
    "                    row.append(float(val) if convert_fractions else val)\n",
    "                else:\n",
    "                    # parse as float directly\n",
    "                    row.append(float(token))\n",
    "\n",
    "            matrix.append(row)\n",
    "            \n",
    "    dtype = float if convert_fractions else object\n",
    "    return np.array(matrix, dtype=dtype)\n"
   ]
  },
  {
   "cell_type": "code",
   "execution_count": 97,
   "id": "f4daee88",
   "metadata": {},
   "outputs": [],
   "source": [
    "def output_matrix(X: np.ndarray, precision: int = 12):\n",
    "    \"\"\"\n",
    "    Prints a NumPy array (vector or matrix) in a clean tabular format using pandas.\n",
    "    \n",
    "    Parameters:\n",
    "    - X: np.ndarray, 1D or 2D array.\n",
    "    - precision: number of decimal places to round floats to.\n",
    "    \"\"\"\n",
    "    # Wrap 1D arrays into a 2D DataFrame for consistent display\n",
    "    if X.ndim == 1:\n",
    "        df = pd.DataFrame(X, columns=[\"value\"])\n",
    "    elif X.ndim == 2:\n",
    "        df = pd.DataFrame(X)\n",
    "    else:\n",
    "        raise ValueError(\"Only 1D or 2D arrays are supported.\")\n",
    "    \n",
    "    # Round floats\n",
    "    df = df.round(precision)\n",
    "    # Print without index/header for cleaner look\n",
    "    print(df.to_string(index=False, header=False))"
   ]
  },
  {
   "cell_type": "markdown",
   "id": "389b4bfc",
   "metadata": {},
   "source": [
    "# Gauss-Sidel"
   ]
  },
  {
   "cell_type": "markdown",
   "id": "db317197",
   "metadata": {},
   "source": [
    "## Thuật toán"
   ]
  },
  {
   "cell_type": "code",
   "execution_count": 98,
   "id": "a59a1507",
   "metadata": {},
   "outputs": [],
   "source": [
    "def check_dominance(A: np.ndarray) -> int:\n",
    "    \"\"\"\n",
    "    Returns:\n",
    "      1 if A is row-dominant only,\n",
    "      2 if A is column-dominant only,\n",
    "      3 if both,\n",
    "      0 if neither.\n",
    "    \"\"\"\n",
    "    n = A.shape[0]\n",
    "    row_dom = all(abs(A[i,i]) > np.sum(np.abs(A[i,:])) - abs(A[i,i]) for i in range(n))\n",
    "    col_dom = all(abs(A[j,j]) > np.sum(np.abs(A[:,j])) - abs(A[j,j]) for j in range(n))\n",
    "    if row_dom and col_dom:\n",
    "        return 3\n",
    "    if row_dom:\n",
    "        return 1\n",
    "    if col_dom:\n",
    "        return 2\n",
    "    return 0\n"
   ]
  },
  {
   "cell_type": "markdown",
   "id": "1349d991",
   "metadata": {},
   "source": [
    "## 1. Ma trận chéo trội hàng"
   ]
  },
  {
   "cell_type": "markdown",
   "id": "37f29ffc",
   "metadata": {},
   "source": [
    "### Thuật toán"
   ]
  },
  {
   "cell_type": "code",
   "execution_count": 99,
   "id": "a478d659",
   "metadata": {},
   "outputs": [],
   "source": [
    "def convert_to_iteration(A: np.ndarray, B: np.ndarray) -> Tuple[np.ndarray, np.ndarray]:\n",
    "    \"\"\"\n",
    "    Converts the system Ax = B into the iterative form x_new = C x + D.\n",
    "    \"\"\"\n",
    "\n",
    "    # Step 1: Build diagonal matrix T where T[i,i] = 1 / A[i,i]\n",
    "    T = np.diag(1.0 / np.diag(A))\n",
    "    \n",
    "    # Step 2: Compute C = I - T * A\n",
    "    n = A.shape[0]\n",
    "    C = np.eye(n) - T.dot(A)\n",
    "    \n",
    "    # Step 3: Compute D = T * B\n",
    "    D = T.dot(B)\n",
    "    \n",
    "    return C, D"
   ]
  },
  {
   "cell_type": "code",
   "execution_count": 100,
   "id": "bf1a434b",
   "metadata": {},
   "outputs": [],
   "source": [
    "def fixed_point_gauss_seidel(\n",
    "    C: np.ndarray,\n",
    "    D: np.ndarray,\n",
    "    x0: Union[np.ndarray, list],\n",
    "    domiType: int,\n",
    "    eps: float,\n",
    "    eta: float\n",
    ") -> pd.DataFrame:\n",
    "    \"\"\"\n",
    "    Performs Gauss–Seidel fixed-point iteration for row-dominant systems.\n",
    "    Iteration form: x_new = L x_new + U x_old + D, where C = L + U and diag(C)=0.\n",
    "\n",
    "    Parameters:\n",
    "    - C: (n×n) iteration matrix\n",
    "    - D: (n,) constant vector\n",
    "    - x0: initial guess vector (length n)\n",
    "    - domiType: 1 or 3 for row-dominance\n",
    "    - eps: absolute error tolerance\n",
    "\n",
    "    Returns:\n",
    "    - DataFrame of iterates with columns x1...xn and 'error' (∞-norm of x_new−x_old).\n",
    "    \"\"\"\n",
    "\n",
    "    if (eps is None) == (eta is None):\n",
    "        raise ValueError(\"Specify exactly one of eps (exact) or eta (relative)\")\n",
    "    \n",
    "    '''# Check dominance type\n",
    "    if domiType not in (1, 3):\n",
    "        raise ValueError(\"domiType must be 1 or 3 for row-dominant systems\")\n",
    "    else:'''\n",
    "    vec_norm = lambda x: np.max(np.abs(x))\n",
    "\n",
    "    # Split C into strict lower (L) and strict upper (U) parts\n",
    "    n = C.shape[0]\n",
    "    L = np.tril(C, k=-1)\n",
    "    U = np.triu(C, k=1)\n",
    "\n",
    "    # Compute convergence factor q = max_row_k sum(|L[k]|)/(1 - sum(|U[k]|))\n",
    "    row_L = np.sum(np.abs(L), axis=1)\n",
    "    row_U = np.sum(np.abs(U), axis=1)\n",
    "    ratios = row_L / (1 - row_U)\n",
    "    q = np.max(ratios)\n",
    "\n",
    "    #Compute s\n",
    "    s=0\n",
    "\n",
    "    # Tolerance\n",
    "    tol = (eps if eps is not None else eta) * (1 - q) * (1 - s) / q\n",
    "    print(f\"q: {q:.12f}, s: {s:.12f}, threshold: {tol:.12f}\")\n",
    "\n",
    "    # Initialize\n",
    "    x_old = np.array(x0, dtype=float).flatten()\n",
    "    history = [x_old.copy()]\n",
    "    errors = [np.nan]\n",
    "\n",
    "    # Iterative updates\n",
    "    while True:\n",
    "        x_new = np.zeros_like(x_old)\n",
    "        for k in range(n):\n",
    "            x_new[k] = (L[k].dot(x_new)) + (U[k].dot(x_old)) + D[k]\n",
    "\n",
    "        if eps is not None:\n",
    "            err = vec_norm(x_new - x_old)\n",
    "        else:\n",
    "            err = vec_norm(x_new - x_old) / vec_norm(x_new)\n",
    "\n",
    "        history.append(x_new.copy())\n",
    "        errors.append(err)\n",
    "        x_old = x_new\n",
    "\n",
    "        if err <= tol:\n",
    "            break\n",
    "        \n",
    "    # Prepare DataFrame\n",
    "    cols = [f\"x{i+1}\" for i in range(n)]\n",
    "    df = pd.DataFrame(history, columns=cols)\n",
    "    df[\"error\"] = errors\n",
    "    df.index.name = \"Iteration\"\n",
    "    return df"
   ]
  },
  {
   "cell_type": "markdown",
   "id": "d3682e80",
   "metadata": {},
   "source": [
    "### Kết quả"
   ]
  },
  {
   "cell_type": "code",
   "execution_count": 101,
   "id": "9bf4fb55",
   "metadata": {},
   "outputs": [
    {
     "name": "stdout",
     "output_type": "stream",
     "text": [
      "\n",
      "Matrix A:\n",
      "-0.09  0.01  0.06 -0.05 -0.09\n",
      " 0.01 -0.01 -0.04  0.03 -0.06\n",
      " 0.06  -0.1  0.01  0.04  0.09\n",
      " 0.09 -0.03 -0.07  0.05 -0.07\n",
      "-0.08 -0.07  0.02 -0.01  0.07\n",
      "\n",
      "Check dominace of A: 0\n",
      "\n",
      "Matrix B:\n",
      "  6.0\n",
      " 10.0\n",
      "  1.0\n",
      "  5.0\n",
      "  2.0\n"
     ]
    }
   ],
   "source": [
    "#Original matrix Ax=B\n",
    "A = input_matrix('GS_input_A1.txt', convert_fractions=False)\n",
    "B = input_matrix('GS_input_B1.txt', convert_fractions=False).flatten() #remove flatten if B is multi-column matrix\n",
    "\n",
    "print(\"\\nMatrix A:\"); output_matrix(A)\n",
    "print(\"\\nCheck dominace of A:\", check_dominance(A));\n",
    "print(\"\\nMatrix B:\"); output_matrix(B)"
   ]
  },
  {
   "cell_type": "code",
   "execution_count": 102,
   "id": "a59f8bca",
   "metadata": {},
   "outputs": [
    {
     "name": "stdout",
     "output_type": "stream",
     "text": [
      "\n",
      "Matrix C:\n",
      "            0.0  0.111111111111  0.666666666667 -0.555555555556 -1.0\n",
      "            1.0             0.0            -4.0             3.0 -6.0\n",
      "           -6.0            10.0             0.0            -4.0 -9.0\n",
      "           -1.8             0.6             1.4             0.0  1.4\n",
      " 1.142857142857             1.0 -0.285714285714  0.142857142857  0.0\n",
      "\n",
      "Matrix D:\n",
      "-66.666666666667\n",
      "         -1000.0\n",
      "           100.0\n",
      "           100.0\n",
      " 28.571428571429\n"
     ]
    }
   ],
   "source": [
    "#Convert to recursion form x_new = Cx+D\n",
    "C, D = convert_to_iteration(A, B)\n",
    "\n",
    "print(\"\\nMatrix C:\"); output_matrix(C)\n",
    "print(\"\\nMatrix D:\"); output_matrix(D)"
   ]
  },
  {
   "cell_type": "code",
   "execution_count": 103,
   "id": "fc8819dc",
   "metadata": {},
   "outputs": [
    {
     "name": "stdout",
     "output_type": "stream",
     "text": [
      "\n",
      "Matrix C:\n",
      "-0.09  0.01  0.06 -0.05 -0.09\n",
      " 0.01 -0.01 -0.04  0.03 -0.06\n",
      " 0.06  -0.1  0.01  0.04  0.09\n",
      " 0.09 -0.03 -0.07  0.05 -0.07\n",
      "-0.08 -0.07  0.02 -0.01  0.07\n",
      "\n",
      "Check dominace of C: 0\n",
      "\n",
      "Matrix D:\n",
      "  6.0\n",
      " 10.0\n",
      "  1.0\n",
      "  5.0\n",
      "  2.0\n"
     ]
    }
   ],
   "source": [
    "C = input_matrix('GS_input_A1.txt', convert_fractions=False)\n",
    "D = input_matrix('GS_input_B1.txt', convert_fractions=False).flatten() #remove flatten if B is multi-column matrix\n",
    "\n",
    "print(\"\\nMatrix C:\"); output_matrix(C);\n",
    "print(\"\\nCheck dominace of C:\", check_dominance(C));\n",
    "print(\"\\nMatrix D:\"); output_matrix(D);"
   ]
  },
  {
   "cell_type": "code",
   "execution_count": 104,
   "id": "d5eb95a8",
   "metadata": {},
   "outputs": [
    {
     "name": "stdout",
     "output_type": "stream",
     "text": [
      "q: 0.204301075269, s: 0.000000000000, threshold: 0.000000000389\n",
      "               x1       x2      x3      x4      x5    error\n",
      "Iteration                                                  \n",
      "0          0.0000   0.0000  0.0000  0.0000  0.0000      NaN\n",
      "1          6.0000  10.0600  0.3540  5.2134  0.7707  10.0600\n",
      "2          5.7918  10.1539  0.6100  5.1200  0.7869   0.2560\n",
      "3          5.8113  10.1401  0.6103  5.1210  0.7863   0.0195\n",
      "4          5.8112  10.1402  0.6103  5.1210  0.7863   0.0001\n",
      "5          5.8112  10.1402  0.6103  5.1210  0.7863   0.0000\n",
      "6          5.8112  10.1402  0.6103  5.1210  0.7863   0.0000\n",
      "7          5.8112  10.1402  0.6103  5.1210  0.7863   0.0000\n",
      "8          5.8112  10.1402  0.6103  5.1210  0.7863   0.0000\n"
     ]
    }
   ],
   "source": [
    "#Calculate the result\n",
    "x0 = np.array([0,0,0,0,0]) #initial value\n",
    "domiType = check_dominance(C)\n",
    "eps = 1e-10\n",
    "eta = None\n",
    "\n",
    "df_history = fixed_point_gauss_seidel(C, D, x0, domiType, eps, eta)\n",
    "print(df_history.to_string(float_format=\"{: .4f}\".format))\n"
   ]
  },
  {
   "cell_type": "code",
   "execution_count": 105,
   "id": "a01509a7",
   "metadata": {},
   "outputs": [
    {
     "name": "stdout",
     "output_type": "stream",
     "text": [
      "Approximate solution:\n",
      "x1     5.811199249546\n",
      "x2    10.140155485857\n",
      "x3     0.610264112242\n",
      "x4     5.121044619181\n",
      "x5     0.786288012079\n"
     ]
    }
   ],
   "source": [
    "solution_series = df_history.filter(regex=r'^x\\d+$').iloc[-1]\n",
    "print(\"Approximate solution:\"),\n",
    "print(solution_series.to_string())"
   ]
  },
  {
   "cell_type": "markdown",
   "id": "f642c47e",
   "metadata": {},
   "source": [
    "## 2. Ma trận chéo trội Cột"
   ]
  },
  {
   "cell_type": "markdown",
   "id": "2304692b",
   "metadata": {},
   "source": [
    "### Thuật toán"
   ]
  },
  {
   "cell_type": "code",
   "execution_count": 106,
   "id": "9967c9a7",
   "metadata": {},
   "outputs": [],
   "source": [
    "def convert_to_iteration_2(A: np.ndarray, \n",
    "                           B: np.ndarray, \n",
    "                          ) -> Tuple[np.ndarray, np.ndarray]:\n",
    "    \"\"\"\n",
    "    Prepares iteration y_{k+1} = C y_k + D for column-dominant case.\n",
    "    \"\"\"\n",
    "\n",
    "    # 1. T = diag of 1 / diagonal entries of A\n",
    "    T = np.diag(1.0 / np.diag(A))\n",
    "\n",
    "    # 2. C = I - A * T\n",
    "    n = A.shape[0]\n",
    "    C = np.eye(n) - A.dot(T)\n",
    "    \n",
    "    # 3. D = B\n",
    "    D = B.copy()\n",
    "\n",
    "    return T, C, D"
   ]
  },
  {
   "cell_type": "code",
   "execution_count": 107,
   "id": "8c046acb",
   "metadata": {},
   "outputs": [],
   "source": [
    "def fixed_point_gauss_seidel_2(\n",
    "    T: np.ndarray,\n",
    "    C: np.ndarray,\n",
    "    D: np.ndarray,\n",
    "    x0: Union[np.ndarray, list],\n",
    "    domiType: int,\n",
    "    eps: float,\n",
    "    eta: float\n",
    ") -> pd.DataFrame:\n",
    "    \"\"\"\n",
    "    Performs Gauss–Seidel fixed-point iteration for column-dominant systems.\n",
    "    Iteration form: x_new = L x_new + U x_old + D, where C = L + U and diag(C)=0.\n",
    "\n",
    "    Parameters:\n",
    "    - C: (n×n) iteration matrix\n",
    "    - D: (n,) constant vector\n",
    "    - x0: initial guess vector (length n)\n",
    "    - domiType: 2 or 3 for column-dominance\n",
    "    - eps: absolute error tolerance\n",
    "\n",
    "    Returns:\n",
    "    - DataFrame of iterates with columns x1...xn and 'error' (∞-norm of x_new−x_old).\n",
    "    \"\"\"\n",
    "\n",
    "    if (eps is None) == (eta is None):\n",
    "        raise ValueError(\"Specify exactly one of eps (exact) or eta (relative)\")\n",
    "    \n",
    "    # Check dominance type\n",
    "    if domiType not in (2, 3):\n",
    "        raise ValueError(\"domiType must be 2 for column-dominant systems\")\n",
    "    else:\n",
    "        vec_norm = lambda x: np.sum(np.abs(x))\n",
    "\n",
    "    # Split C into strict lower (L) and strict upper (U) parts\n",
    "    n = C.shape[0]\n",
    "    L = np.tril(C, k=-1)\n",
    "    U = np.triu(C, k=1)\n",
    "\n",
    "    # Convergence factor q = max_col_k sum(|L[k]|)/(1 - sum(|U[k]|))\n",
    "    col_L = np.sum(np.abs(L), axis=0)\n",
    "    col_U = np.sum(np.abs(U), axis=0)\n",
    "    ratios = col_U / (1 - col_L)\n",
    "    q = np.max(ratios)\n",
    "\n",
    "    # Compute s = max_col_k (sum|L[k])\n",
    "    s = np.max(col_L)\n",
    "\n",
    "    #Tolerance\n",
    "    tol = (eps if eps is not None else eta) * (1 - q) * (1 - s) / q\n",
    "    print(f\"q: {q:.12f}, s: {s:.12f}, threshold: {tol:.12f}\")\n",
    "\n",
    "    # Initial y\n",
    "    T_inv = np.diag(1.0 / np.diag(T))\n",
    "    x_old = np.array(x0, dtype=float).flatten()\n",
    "    y_old = T_inv.dot(np.array(x0, dtype=float).flatten())\n",
    "    history = [np.concatenate([y_old, x_old])]\n",
    "    errors = [np.nan]\n",
    "    \n",
    "    # Iterative updates\n",
    "    while True:\n",
    "        y_new = y_old.copy()\n",
    "        for k in range(n):\n",
    "            y_new[k] = L[k].dot(y_new) + U[k].dot(y_old) + D[k]\n",
    "\n",
    "        x_new = T.dot(y_new)\n",
    "        if eps is not None:\n",
    "            err = vec_norm(x_new - x_old)\n",
    "        else:\n",
    "            err = vec_norm(x_new - x_old) / vec_norm(x_new)\n",
    "            \n",
    "        # Record both y and x\n",
    "        history.append(np.concatenate([y_new, x_new]))\n",
    "        errors.append(err)\n",
    "        y_old = y_new; x_old = x_new;\n",
    "\n",
    "        if err <= tol:\n",
    "            break\n",
    "            \n",
    "    # Prepare DataFrame\n",
    "    df = pd.DataFrame(history, columns=[f\"y{i+1}\" for i in range(n)] + [f\"x{i+1}\" for i in range(n)])\n",
    "    df['error'] = errors\n",
    "    df.index.name = 'Iteration'\n",
    "    return df\n"
   ]
  },
  {
   "cell_type": "code",
   "execution_count": 108,
   "id": "9140dd24",
   "metadata": {},
   "outputs": [
    {
     "name": "stdout",
     "output_type": "stream",
     "text": [
      "\n",
      "Matrix A:\n",
      "-0.09  0.01  0.06 -0.05 -0.09\n",
      " 0.01 -0.01 -0.04  0.03 -0.06\n",
      " 0.06  -0.1  0.01  0.04  0.09\n",
      " 0.09 -0.03 -0.07  0.05 -0.07\n",
      "-0.08 -0.07  0.02 -0.01  0.07\n",
      "\n",
      "Check dominace of A: 0\n",
      "\n",
      "Matrix B:\n",
      "  6.0\n",
      " 10.0\n",
      "  1.0\n",
      "  5.0\n",
      "  2.0\n"
     ]
    }
   ],
   "source": [
    "#Original matrix Ax=B\n",
    "A = input_matrix('GS_input_A1.txt', convert_fractions=False)\n",
    "B = input_matrix('GS_input_B1.txt', convert_fractions=False).flatten() #remove flatten if B is multi-column matrix\n",
    "\n",
    "print(\"\\nMatrix A:\"); output_matrix(A)\n",
    "print(\"\\nCheck dominace of A:\", check_dominance(A));\n",
    "print(\"\\nMatrix B:\"); output_matrix(B)"
   ]
  },
  {
   "cell_type": "code",
   "execution_count": 109,
   "id": "28503f51",
   "metadata": {},
   "outputs": [
    {
     "name": "stdout",
     "output_type": "stream",
     "text": [
      "\n",
      "Matrix C:\n",
      "            0.0   1.0 -6.0  1.0  1.285714285714\n",
      " 0.111111111111   0.0  4.0 -0.6  0.857142857143\n",
      " 0.666666666667 -10.0  0.0 -0.8 -1.285714285714\n",
      "            1.0  -3.0  7.0  0.0             1.0\n",
      "-0.888888888889  -7.0 -2.0  0.2             0.0\n",
      "\n",
      "Matrix D:\n",
      "  6.0\n",
      " 10.0\n",
      "  1.0\n",
      "  5.0\n",
      "  2.0\n",
      "\n",
      "Matrix T:\n",
      "-11.111111111111      0      0     0                0\n",
      "               0 -100.0      0     0                0\n",
      "               0      0  100.0     0                0\n",
      "               0      0      0  20.0                0\n",
      "               0      0      0     0  14.285714285714\n"
     ]
    }
   ],
   "source": [
    "#Convert to recursion form x_new = Cx+D\n",
    "T, C, D = convert_to_iteration_2(A, B)\n",
    "\n",
    "print(\"\\nMatrix C:\"); output_matrix(C)\n",
    "print(\"\\nMatrix D:\"); output_matrix(D)\n",
    "print(\"\\nMatrix T:\"); output_matrix(T)"
   ]
  },
  {
   "cell_type": "code",
   "execution_count": 110,
   "id": "78e378ea",
   "metadata": {},
   "outputs": [
    {
     "ename": "ValueError",
     "evalue": "domiType must be 2 for column-dominant systems",
     "output_type": "error",
     "traceback": [
      "\u001b[1;31m---------------------------------------------------------------------------\u001b[0m",
      "\u001b[1;31mValueError\u001b[0m                                Traceback (most recent call last)",
      "Cell \u001b[1;32mIn[110], line 7\u001b[0m\n\u001b[0;32m      4\u001b[0m eps \u001b[38;5;241m=\u001b[39m \u001b[38;5;241m1e-6\u001b[39m\n\u001b[0;32m      5\u001b[0m eta \u001b[38;5;241m=\u001b[39m \u001b[38;5;28;01mNone\u001b[39;00m\n\u001b[1;32m----> 7\u001b[0m df_history \u001b[38;5;241m=\u001b[39m \u001b[43mfixed_point_gauss_seidel_2\u001b[49m\u001b[43m(\u001b[49m\u001b[43mT\u001b[49m\u001b[43m,\u001b[49m\u001b[43m \u001b[49m\u001b[43mC\u001b[49m\u001b[43m,\u001b[49m\u001b[43m \u001b[49m\u001b[43mD\u001b[49m\u001b[43m,\u001b[49m\u001b[43m \u001b[49m\u001b[43mx0\u001b[49m\u001b[43m,\u001b[49m\u001b[43m \u001b[49m\u001b[43mdomiType\u001b[49m\u001b[43m,\u001b[49m\u001b[43m \u001b[49m\u001b[43meps\u001b[49m\u001b[43m,\u001b[49m\u001b[43m \u001b[49m\u001b[43meta\u001b[49m\u001b[43m)\u001b[49m\n\u001b[0;32m      8\u001b[0m \u001b[38;5;28mprint\u001b[39m(df_history)\n",
      "Cell \u001b[1;32mIn[107], line 30\u001b[0m, in \u001b[0;36mfixed_point_gauss_seidel_2\u001b[1;34m(T, C, D, x0, domiType, eps, eta)\u001b[0m\n\u001b[0;32m     28\u001b[0m \u001b[38;5;66;03m# Check dominance type\u001b[39;00m\n\u001b[0;32m     29\u001b[0m \u001b[38;5;28;01mif\u001b[39;00m domiType \u001b[38;5;129;01mnot\u001b[39;00m \u001b[38;5;129;01min\u001b[39;00m (\u001b[38;5;241m2\u001b[39m, \u001b[38;5;241m3\u001b[39m):\n\u001b[1;32m---> 30\u001b[0m     \u001b[38;5;28;01mraise\u001b[39;00m \u001b[38;5;167;01mValueError\u001b[39;00m(\u001b[38;5;124m\"\u001b[39m\u001b[38;5;124mdomiType must be 2 for column-dominant systems\u001b[39m\u001b[38;5;124m\"\u001b[39m)\n\u001b[0;32m     31\u001b[0m \u001b[38;5;28;01melse\u001b[39;00m:\n\u001b[0;32m     32\u001b[0m     vec_norm \u001b[38;5;241m=\u001b[39m \u001b[38;5;28;01mlambda\u001b[39;00m x: np\u001b[38;5;241m.\u001b[39msum(np\u001b[38;5;241m.\u001b[39mabs(x))\n",
      "\u001b[1;31mValueError\u001b[0m: domiType must be 2 for column-dominant systems"
     ]
    }
   ],
   "source": [
    "#Calculate the result\n",
    "domiType = check_dominance(A)\n",
    "x0 = [1,1,1,1,1,1,1] #initial value\n",
    "eps = 1e-6\n",
    "eta = None\n",
    "\n",
    "df_history = fixed_point_gauss_seidel_2(T, C, D, x0, domiType, eps, eta)\n",
    "print(df_history)\n"
   ]
  },
  {
   "cell_type": "code",
   "execution_count": null,
   "id": "1d430185",
   "metadata": {},
   "outputs": [
    {
     "name": "stdout",
     "output_type": "stream",
     "text": [
      "Approximate solution:\n",
      "x1    16.558751049137\n",
      "x2    18.109085406080\n",
      "x3    24.209755108068\n",
      "x4    23.516446984085\n",
      "x5    24.400610659231\n",
      "x6    22.600444805442\n",
      "x7    26.953745901867\n"
     ]
    }
   ],
   "source": [
    "solution_series = df_history.filter(regex=r'^x\\d+$').iloc[-1]\n",
    "print(\"Approximate solution:\"),\n",
    "print(solution_series.to_string())"
   ]
  }
 ],
 "metadata": {
  "kernelspec": {
   "display_name": "ds-env",
   "language": "python",
   "name": "python3"
  },
  "language_info": {
   "codemirror_mode": {
    "name": "ipython",
    "version": 3
   },
   "file_extension": ".py",
   "mimetype": "text/x-python",
   "name": "python",
   "nbconvert_exporter": "python",
   "pygments_lexer": "ipython3",
   "version": "3.13.3"
  }
 },
 "nbformat": 4,
 "nbformat_minor": 5
}
