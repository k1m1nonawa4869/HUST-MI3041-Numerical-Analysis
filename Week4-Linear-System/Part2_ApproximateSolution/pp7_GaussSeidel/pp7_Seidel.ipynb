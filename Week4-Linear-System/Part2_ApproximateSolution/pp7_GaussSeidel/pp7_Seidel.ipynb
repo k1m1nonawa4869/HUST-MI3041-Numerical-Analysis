{
 "cells": [
  {
   "cell_type": "code",
   "execution_count": 1,
   "id": "a6d4d896",
   "metadata": {},
   "outputs": [],
   "source": [
    "from fractions import Fraction\n",
    "from typing import Tuple, Union\n",
    "import numpy as np\n",
    "import pandas as pd\n",
    "\n",
    "pd.set_option('display.precision', 12)  # Increase decimal precision\n",
    "pd.set_option('display.width', 300)     # Wider display\n",
    "pd.set_option('display.max_columns', None)  # Show all column"
   ]
  },
  {
   "cell_type": "code",
   "execution_count": 2,
   "id": "12c6a307",
   "metadata": {},
   "outputs": [],
   "source": [
    "def input_matrix(filename, convert_fractions=False):\n",
    "    \"\"\"\n",
    "    Reads a matrix from a text file and returns it as a NumPy array.\n",
    "    Supports fractional entries if present (though your files use decimals).\n",
    "    \"\"\"\n",
    "    matrix = []\n",
    "\n",
    "    with open(filename, 'r') as f:\n",
    "        for line in f:\n",
    "            tokens = line.strip().split()\n",
    "            if not tokens:\n",
    "                continue\n",
    "\n",
    "            row = []\n",
    "            for token in tokens:\n",
    "                if '/' in token:\n",
    "                    # convert fractions if any includes fraction sign\n",
    "                    val = Fraction(token)\n",
    "                    row.append(float(val) if convert_fractions else val)\n",
    "                else:\n",
    "                    # parse as float directly\n",
    "                    row.append(float(token))\n",
    "\n",
    "            matrix.append(row)\n",
    "            \n",
    "    dtype = float if convert_fractions else object\n",
    "    return np.array(matrix, dtype=dtype)\n"
   ]
  },
  {
   "cell_type": "code",
   "execution_count": 3,
   "id": "f4daee88",
   "metadata": {},
   "outputs": [],
   "source": [
    "def output_matrix(X: np.ndarray, precision: int = 12):\n",
    "    \"\"\"\n",
    "    Prints a NumPy array (vector or matrix) in a clean tabular format using pandas.\n",
    "    \n",
    "    Parameters:\n",
    "    - X: np.ndarray, 1D or 2D array.\n",
    "    - precision: number of decimal places to round floats to.\n",
    "    \"\"\"\n",
    "    # Wrap 1D arrays into a 2D DataFrame for consistent display\n",
    "    if X.ndim == 1:\n",
    "        df = pd.DataFrame(X, columns=[\"value\"])\n",
    "    elif X.ndim == 2:\n",
    "        df = pd.DataFrame(X)\n",
    "    else:\n",
    "        raise ValueError(\"Only 1D or 2D arrays are supported.\")\n",
    "    \n",
    "    # Round floats\n",
    "    df = df.round(precision)\n",
    "    # Print without index/header for cleaner look\n",
    "    print(df.to_string(index=False, header=False))"
   ]
  },
  {
   "cell_type": "markdown",
   "id": "389b4bfc",
   "metadata": {},
   "source": [
    "# Gauss-Sidel"
   ]
  },
  {
   "cell_type": "markdown",
   "id": "db317197",
   "metadata": {},
   "source": [
    "## Thuật toán"
   ]
  },
  {
   "cell_type": "code",
   "execution_count": 4,
   "id": "a59a1507",
   "metadata": {},
   "outputs": [],
   "source": [
    "def check_dominance(A: np.ndarray) -> int:\n",
    "    \"\"\"\n",
    "    Returns:\n",
    "      1 if A is row-dominant only,\n",
    "      2 if A is column-dominant only,\n",
    "      3 if both,\n",
    "      0 if neither.\n",
    "    \"\"\"\n",
    "    n = A.shape[0]\n",
    "    row_dom = all(abs(A[i,i]) > np.sum(np.abs(A[i,:])) - abs(A[i,i]) for i in range(n))\n",
    "    col_dom = all(abs(A[j,j]) > np.sum(np.abs(A[:,j])) - abs(A[j,j]) for j in range(n))\n",
    "    if row_dom and col_dom:\n",
    "        return 3\n",
    "    if row_dom:\n",
    "        return 1\n",
    "    if col_dom:\n",
    "        return 2\n",
    "    return 0\n"
   ]
  },
  {
   "cell_type": "markdown",
   "id": "1349d991",
   "metadata": {},
   "source": [
    "## 1. Ma trận chéo trội hàng"
   ]
  },
  {
   "cell_type": "markdown",
   "id": "37f29ffc",
   "metadata": {},
   "source": [
    "### Thuật toán"
   ]
  },
  {
   "cell_type": "code",
   "execution_count": 5,
   "id": "a478d659",
   "metadata": {},
   "outputs": [],
   "source": [
    "def convert_to_iteration(A: np.ndarray, B: np.ndarray) -> Tuple[np.ndarray, np.ndarray]:\n",
    "    \"\"\"\n",
    "    Converts the system Ax = B into the iterative form x_new = C x + D.\n",
    "    \"\"\"\n",
    "\n",
    "    # Step 1: Build diagonal matrix T where T[i,i] = 1 / A[i,i]\n",
    "    T = np.diag(1.0 / np.diag(A))\n",
    "    \n",
    "    # Step 2: Compute C = I - T * A\n",
    "    n = A.shape[0]\n",
    "    C = np.eye(n) - T.dot(A)\n",
    "    \n",
    "    # Step 3: Compute D = T * B\n",
    "    D = T.dot(B)\n",
    "    \n",
    "    return C, D"
   ]
  },
  {
   "cell_type": "code",
   "execution_count": 6,
   "id": "bf1a434b",
   "metadata": {},
   "outputs": [],
   "source": [
    "def fixed_point_gauss_seidel(\n",
    "    C: np.ndarray,\n",
    "    D: np.ndarray,\n",
    "    x0: Union[np.ndarray, list],\n",
    "    domiType: int,\n",
    "    eps: float,\n",
    "    eta: float\n",
    ") -> pd.DataFrame:\n",
    "    \"\"\"\n",
    "    Performs Gauss–Seidel fixed-point iteration for row-dominant systems.\n",
    "    Iteration form: x_new = L x_new + U x_old + D, where C = L + U and diag(C)=0.\n",
    "\n",
    "    Parameters:\n",
    "    - C: (n×n) iteration matrix\n",
    "    - D: (n,) constant vector\n",
    "    - x0: initial guess vector (length n)\n",
    "    - domiType: 1 or 3 for row-dominance\n",
    "    - eps: absolute error tolerance\n",
    "\n",
    "    Returns:\n",
    "    - DataFrame of iterates with columns x1...xn and 'error' (∞-norm of x_new−x_old).\n",
    "    \"\"\"\n",
    "\n",
    "    if (eps is None) == (eta is None):\n",
    "        raise ValueError(\"Specify exactly one of eps (exact) or eta (relative)\")\n",
    "    \n",
    "    # Check dominance type\n",
    "    if domiType not in (1, 3):\n",
    "        raise ValueError(\"domiType must be 1 or 3 for row-dominant systems\")\n",
    "    else:\n",
    "        vec_norm = lambda x: np.max(np.abs(x))\n",
    "\n",
    "    # Split C into strict lower (L) and strict upper (U) parts\n",
    "    n = C.shape[0]\n",
    "    L = np.tril(C, k=-1)\n",
    "    U = np.triu(C, k=1)\n",
    "\n",
    "    # Compute convergence factor q = max_row_k sum(|L[k]|)/(1 - sum(|U[k]|))\n",
    "    row_L = np.sum(np.abs(L), axis=1)\n",
    "    row_U = np.sum(np.abs(U), axis=1)\n",
    "    ratios = row_L / (1 - row_U)\n",
    "    q = np.max(ratios)\n",
    "\n",
    "    #Compute s\n",
    "    s=0\n",
    "\n",
    "    # Tolerance\n",
    "    tol = (eps if eps is not None else eta) * (1 - q) * (1 - s) / q\n",
    "    print(f\"q: {q:.12f}, s: {s:.12f}, threshold: {tol:.12f}\")\n",
    "\n",
    "    # Initialize\n",
    "    x_old = np.array(x0, dtype=float).flatten()\n",
    "    history = [x_old.copy()]\n",
    "    errors = [np.nan]\n",
    "\n",
    "    # Iterative updates\n",
    "    while True:\n",
    "        x_new = np.zeros_like(x_old)\n",
    "        for k in range(n):\n",
    "            x_new[k] = (L[k].dot(x_new)) + (U[k].dot(x_old)) + D[k]\n",
    "\n",
    "        if eps is not None:\n",
    "            err = vec_norm(x_new - x_old)\n",
    "        else:\n",
    "            err = vec_norm(x_new - x_old) / vec_norm(x_new)\n",
    "\n",
    "        history.append(x_new.copy())\n",
    "        errors.append(err)\n",
    "        x_old = x_new\n",
    "\n",
    "        if err <= tol:\n",
    "            break\n",
    "        \n",
    "    # Prepare DataFrame\n",
    "    cols = [f\"x{i+1}\" for i in range(n)]\n",
    "    df = pd.DataFrame(history, columns=cols)\n",
    "    df[\"error\"] = errors\n",
    "    df.index.name = \"Iteration\"\n",
    "    return df"
   ]
  },
  {
   "cell_type": "markdown",
   "id": "d3682e80",
   "metadata": {},
   "source": [
    "### Kết quả"
   ]
  },
  {
   "cell_type": "code",
   "execution_count": 7,
   "id": "9bf4fb55",
   "metadata": {},
   "outputs": [
    {
     "name": "stdout",
     "output_type": "stream",
     "text": [
      "\n",
      "Matrix A:\n",
      " 4.0  1.0  0.2  0.5  0.3  0.4   0.1\n",
      " 1.0  5.0  0.6  0.2  0.4  0.7   0.3\n",
      " 0.2  0.6  6.0  0.8  0.3  0.4   0.2\n",
      " 0.5  0.2  0.8  7.0  0.6  0.3   0.1\n",
      " 0.3  0.4  0.3  0.6  8.0  0.7   0.2\n",
      " 0.4  0.7  0.4  0.3  0.7  9.0   0.5\n",
      " 0.1  0.3  0.2  0.1  0.2  0.5  10.0\n",
      "\n",
      "Check dominace of A: 3\n",
      "\n",
      "Matrix B:\n",
      " 120.0\n",
      " 160.0\n",
      " 200.0\n",
      " 220.0\n",
      " 250.0\n",
      " 270.0\n",
      " 300.0\n"
     ]
    }
   ],
   "source": [
    "#Original matrix Ax=B\n",
    "A = input_matrix('GS_input_A1.txt', convert_fractions=False)\n",
    "B = input_matrix('GS_input_B1.txt', convert_fractions=False).flatten() #remove flatten if B is multi-column matrix\n",
    "\n",
    "print(\"\\nMatrix A:\"); output_matrix(A)\n",
    "print(\"\\nCheck dominace of A:\", check_dominance(A));\n",
    "print(\"\\nMatrix B:\"); output_matrix(B)"
   ]
  },
  {
   "cell_type": "code",
   "execution_count": 8,
   "id": "a59f8bca",
   "metadata": {},
   "outputs": [
    {
     "name": "stdout",
     "output_type": "stream",
     "text": [
      "\n",
      "Matrix C:\n",
      "            0.0           -0.25           -0.05          -0.125          -0.075            -0.1          -0.025\n",
      "           -0.2             0.0           -0.12           -0.04           -0.08           -0.14           -0.06\n",
      "-0.033333333333            -0.1             0.0 -0.133333333333           -0.05 -0.066666666667 -0.033333333333\n",
      "-0.071428571429 -0.028571428571 -0.114285714286             0.0 -0.085714285714 -0.042857142857 -0.014285714286\n",
      "        -0.0375           -0.05         -0.0375          -0.075             0.0         -0.0875          -0.025\n",
      "-0.044444444444 -0.077777777778 -0.044444444444 -0.033333333333 -0.077777777778             0.0 -0.055555555556\n",
      "          -0.01           -0.03           -0.02           -0.01           -0.02           -0.05             0.0\n",
      "\n",
      "Matrix D:\n",
      "            30.0\n",
      "            32.0\n",
      " 33.333333333333\n",
      " 31.428571428571\n",
      "           31.25\n",
      "            30.0\n",
      "            30.0\n"
     ]
    }
   ],
   "source": [
    "#Convert to recursion form x_new = Cx+D\n",
    "C, D = convert_to_iteration(A, B)\n",
    "\n",
    "print(\"\\nMatrix C:\"); output_matrix(C)\n",
    "print(\"\\nMatrix D:\"); output_matrix(D)"
   ]
  },
  {
   "cell_type": "code",
   "execution_count": 9,
   "id": "d5eb95a8",
   "metadata": {},
   "outputs": [
    {
     "name": "stdout",
     "output_type": "stream",
     "text": [
      "q: 0.357142857143, s: 0.000000000000, threshold: 0.000001800000\n",
      "                        x1               x2               x3               x4               x5               x6               x7            error\n",
      "Iteration                                                                                                                                        \n",
      "0           1.000000000000   1.000000000000   1.000000000000   1.000000000000   1.000000000000   1.000000000000   1.000000000000              NaN\n",
      "1          29.375000000000  25.685000000000  29.502333333333  25.081947619048  25.764203928571  22.490004403439  26.455049558399  28.502333333333\n",
      "2          14.125697907006  17.834262609566  24.065411984332  23.609562900443  24.526151406802  22.751208064742  26.978227842579  15.249302092994\n",
      "3          16.597930527788  18.082227028142  24.181575523458  23.500064694850  24.388965917828  22.602136576398  26.955035579284   2.472232620782\n",
      "4          16.569594388976  18.111570942717  24.211755879822  23.516279975938  24.399836979672  22.599674729376  26.953578534411   0.030180356364\n",
      "5          16.558189763564  18.109144010120  24.209885827988  23.516572170535  24.400686049840  22.600458644782  26.953743690560   0.011404625412\n",
      "6          16.558707274273  18.109065643275  24.209737235296  23.516445693368  24.400612898042  22.600449073773  26.953747044670   0.000517510709\n",
      "7          16.558756464898  18.109085686198  24.209754638792  23.516446250550  24.400610110439  22.600444567042  26.953745878923   0.000049190625\n",
      "8          16.558751203232  18.109085551720  24.209755232025  23.516447011165  24.400610658665  22.600444781757  26.953745894403   0.000005261666\n",
      "9          16.558751049137  18.109085406080  24.209755108068  23.516446984085  24.400610659231  22.600444805442  26.953745901867   0.000000154094\n"
     ]
    }
   ],
   "source": [
    "#Calculate the result\n",
    "x0 = np.array([1,1,1,1,1,1,1]) #initial value\n",
    "domiType = check_dominance(A)\n",
    "eps = 1e-6\n",
    "eta = None\n",
    "\n",
    "df_history = fixed_point_gauss_seidel(C, D, x0, domiType, eps, eta)\n",
    "print(df_history.to_string(float_format=\"{: .12f}\".format))\n"
   ]
  },
  {
   "cell_type": "code",
   "execution_count": 10,
   "id": "a01509a7",
   "metadata": {},
   "outputs": [
    {
     "name": "stdout",
     "output_type": "stream",
     "text": [
      "Approximate solution:\n",
      "x1    16.558751049137\n",
      "x2    18.109085406080\n",
      "x3    24.209755108068\n",
      "x4    23.516446984085\n",
      "x5    24.400610659231\n",
      "x6    22.600444805442\n",
      "x7    26.953745901867\n"
     ]
    }
   ],
   "source": [
    "solution_series = df_history.filter(regex=r'^x\\d+$').iloc[-1]\n",
    "print(\"Approximate solution:\"),\n",
    "print(solution_series.to_string())"
   ]
  },
  {
   "cell_type": "markdown",
   "id": "f642c47e",
   "metadata": {},
   "source": [
    "## 2. Ma trận chéo trội Cột"
   ]
  },
  {
   "cell_type": "markdown",
   "id": "2304692b",
   "metadata": {},
   "source": [
    "### Thuật toán"
   ]
  },
  {
   "cell_type": "code",
   "execution_count": 11,
   "id": "9967c9a7",
   "metadata": {},
   "outputs": [],
   "source": [
    "def convert_to_iteration_2(A: np.ndarray, \n",
    "                           B: np.ndarray, \n",
    "                          ) -> Tuple[np.ndarray, np.ndarray]:\n",
    "    \"\"\"\n",
    "    Prepares iteration y_{k+1} = C y_k + D for column-dominant case.\n",
    "    \"\"\"\n",
    "\n",
    "    # 1. T = diag of 1 / diagonal entries of A\n",
    "    T = np.diag(1.0 / np.diag(A))\n",
    "\n",
    "    # 2. C = I - A * T\n",
    "    n = A.shape[0]\n",
    "    C = np.eye(n) - A.dot(T)\n",
    "    \n",
    "    # 3. D = B\n",
    "    D = B.copy()\n",
    "\n",
    "    return T, C, D"
   ]
  },
  {
   "cell_type": "code",
   "execution_count": 12,
   "id": "8c046acb",
   "metadata": {},
   "outputs": [],
   "source": [
    "def fixed_point_gauss_seidel_2(\n",
    "    T: np.ndarray,\n",
    "    C: np.ndarray,\n",
    "    D: np.ndarray,\n",
    "    x0: Union[np.ndarray, list],\n",
    "    domiType: int,\n",
    "    eps: float,\n",
    "    eta: float\n",
    ") -> pd.DataFrame:\n",
    "    \"\"\"\n",
    "    Performs Gauss–Seidel fixed-point iteration for column-dominant systems.\n",
    "    Iteration form: x_new = L x_new + U x_old + D, where C = L + U and diag(C)=0.\n",
    "\n",
    "    Parameters:\n",
    "    - C: (n×n) iteration matrix\n",
    "    - D: (n,) constant vector\n",
    "    - x0: initial guess vector (length n)\n",
    "    - domiType: 2 or 3 for column-dominance\n",
    "    - eps: absolute error tolerance\n",
    "\n",
    "    Returns:\n",
    "    - DataFrame of iterates with columns x1...xn and 'error' (∞-norm of x_new−x_old).\n",
    "    \"\"\"\n",
    "\n",
    "    if (eps is None) == (eta is None):\n",
    "        raise ValueError(\"Specify exactly one of eps (exact) or eta (relative)\")\n",
    "    \n",
    "    # Check dominance type\n",
    "    if domiType not in (2, 3):\n",
    "        raise ValueError(\"domiType must be 2 for column-dominant systems\")\n",
    "    else:\n",
    "        vec_norm = lambda x: np.sum(np.abs(x))\n",
    "\n",
    "    # Split C into strict lower (L) and strict upper (U) parts\n",
    "    n = C.shape[0]\n",
    "    L = np.tril(C, k=-1)\n",
    "    U = np.triu(C, k=1)\n",
    "\n",
    "    # Convergence factor q = max_col_k sum(|L[k]|)/(1 - sum(|U[k]|))\n",
    "    col_L = np.sum(np.abs(L), axis=0)\n",
    "    col_U = np.sum(np.abs(U), axis=0)\n",
    "    ratios = col_U / (1 - col_L)\n",
    "    q = np.max(ratios)\n",
    "\n",
    "    # Compute s = max_col_k (sum|L[k])\n",
    "    s = np.max(col_L)\n",
    "\n",
    "    #Tolerance\n",
    "    tol = (eps if eps is not None else eta) * (1 - q) * (1 - s) / q\n",
    "    print(f\"q: {q:.12f}, s: {s:.12f}, threshold: {tol:.12f}\")\n",
    "\n",
    "    # Initial y\n",
    "    T_inv = np.diag(1.0 / np.diag(T))\n",
    "    x_old = np.array(x0, dtype=float).flatten()\n",
    "    y_old = T_inv.dot(np.array(x0, dtype=float).flatten())\n",
    "    history = [np.concatenate([y_old, x_old])]\n",
    "    errors = [np.nan]\n",
    "    \n",
    "    # Iterative updates\n",
    "    while True:\n",
    "        y_new = y_old.copy()\n",
    "        for k in range(n):\n",
    "            y_new[k] = L[k].dot(y_new) + U[k].dot(y_old) + D[k]\n",
    "\n",
    "        x_new = T.dot(y_new)\n",
    "        if eps is not None:\n",
    "            err = vec_norm(x_new - x_old)\n",
    "        else:\n",
    "            err = vec_norm(x_new - x_old) / vec_norm(x_new)\n",
    "            \n",
    "        # Record both y and x\n",
    "        history.append(np.concatenate([y_new, x_new]))\n",
    "        errors.append(err)\n",
    "        y_old = y_new; x_old = x_new;\n",
    "\n",
    "        if err <= tol:\n",
    "            break\n",
    "            \n",
    "    # Prepare DataFrame\n",
    "    df = pd.DataFrame(history, columns=[f\"y{i+1}\" for i in range(n)] + [f\"x{i+1}\" for i in range(n)])\n",
    "    df['error'] = errors\n",
    "    df.index.name = 'Iteration'\n",
    "    return df\n"
   ]
  },
  {
   "cell_type": "code",
   "execution_count": 13,
   "id": "9140dd24",
   "metadata": {},
   "outputs": [
    {
     "name": "stdout",
     "output_type": "stream",
     "text": [
      "\n",
      "Matrix A:\n",
      " 4.0  1.0  0.2  0.5  0.3  0.4   0.1\n",
      " 1.0  5.0  0.6  0.2  0.4  0.7   0.3\n",
      " 0.2  0.6  6.0  0.8  0.3  0.4   0.2\n",
      " 0.5  0.2  0.8  7.0  0.6  0.3   0.1\n",
      " 0.3  0.4  0.3  0.6  8.0  0.7   0.2\n",
      " 0.4  0.7  0.4  0.3  0.7  9.0   0.5\n",
      " 0.1  0.3  0.2  0.1  0.2  0.5  10.0\n",
      "\n",
      "Check dominace of A: 3\n",
      "\n",
      "Matrix B:\n",
      " 120.0\n",
      " 160.0\n",
      " 200.0\n",
      " 220.0\n",
      " 250.0\n",
      " 270.0\n",
      " 300.0\n"
     ]
    }
   ],
   "source": [
    "#Original matrix Ax=B\n",
    "A = input_matrix('GS_input_A1.txt', convert_fractions=False)\n",
    "B = input_matrix('GS_input_B1.txt', convert_fractions=False).flatten() #remove flatten if B is multi-column matrix\n",
    "\n",
    "print(\"\\nMatrix A:\"); output_matrix(A)\n",
    "print(\"\\nCheck dominace of A:\", check_dominance(A));\n",
    "print(\"\\nMatrix B:\"); output_matrix(B)"
   ]
  },
  {
   "cell_type": "code",
   "execution_count": 14,
   "id": "28503f51",
   "metadata": {},
   "outputs": [
    {
     "name": "stdout",
     "output_type": "stream",
     "text": [
      "\n",
      "Matrix C:\n",
      "   0.0  -0.2 -0.033333333333 -0.071428571429 -0.0375 -0.044444444444 -0.01\n",
      " -0.25   0.0            -0.1 -0.028571428571   -0.05 -0.077777777778 -0.03\n",
      " -0.05 -0.12             0.0 -0.114285714286 -0.0375 -0.044444444444 -0.02\n",
      "-0.125 -0.04 -0.133333333333             0.0  -0.075 -0.033333333333 -0.01\n",
      "-0.075 -0.08           -0.05 -0.085714285714     0.0 -0.077777777778 -0.02\n",
      "  -0.1 -0.14 -0.066666666667 -0.042857142857 -0.0875             0.0 -0.05\n",
      "-0.025 -0.06 -0.033333333333 -0.014285714286  -0.025 -0.055555555556   0.0\n",
      "\n",
      "Matrix D:\n",
      " 120.0\n",
      " 160.0\n",
      " 200.0\n",
      " 220.0\n",
      " 250.0\n",
      " 270.0\n",
      " 300.0\n",
      "\n",
      "Matrix T:\n",
      " 0.25    0               0               0      0               0    0\n",
      "    0  0.2               0               0      0               0    0\n",
      "    0    0  0.166666666667               0      0               0    0\n",
      "    0    0               0  0.142857142857      0               0    0\n",
      "    0    0               0               0  0.125               0    0\n",
      "    0    0               0               0      0  0.111111111111    0\n",
      "    0    0               0               0      0               0  0.1\n"
     ]
    }
   ],
   "source": [
    "#Convert to recursion form x_new = Cx+D\n",
    "T, C, D = convert_to_iteration_2(A, B)\n",
    "\n",
    "print(\"\\nMatrix C:\"); output_matrix(C)\n",
    "print(\"\\nMatrix D:\"); output_matrix(D)\n",
    "print(\"\\nMatrix T:\"); output_matrix(T)"
   ]
  },
  {
   "cell_type": "code",
   "execution_count": 15,
   "id": "78e378ea",
   "metadata": {},
   "outputs": [
    {
     "name": "stdout",
     "output_type": "stream",
     "text": [
      "q: 0.357142857143, s: 0.625000000000, threshold: 0.000000675000\n",
      "                         y1                y2                y3                y4                y5                y6                y7               x1               x2               x3               x4               x5               x6               x7             error\n",
      "Iteration                                                                                                                                                                                                                                                                       \n",
      "0            4.000000000000    5.000000000000    6.000000000000    7.000000000000    8.000000000000    9.000000000000   10.000000000000   1.000000000000   1.000000000000   1.000000000000   1.000000000000   1.000000000000   1.000000000000   1.000000000000               NaN\n",
      "1          117.500000000000  128.425000000000  177.014000000000  175.573633333333  206.113631428571  202.410039630952  264.550495583995  29.375000000000  25.685000000000  29.502333333333  25.081947619048  25.764203928571  22.490004403439  26.455049558399  177.353538842791\n",
      "2           56.502791628022   89.171313047829  144.392471905994  165.266940303104  196.209211254419  204.760872582674  269.782278425788  14.125697907006  17.834262609566  24.065411984332  23.609562900443  24.526151406802  22.751208064742  26.978227842579   32.031780018285\n",
      "3           66.391722111151   90.411135140711  145.089453140749  164.500452863949  195.111727342625  203.419229187578  269.550355792838  16.597930527788  18.082227028142  24.181575523458  23.500064694850  24.388965917828  22.602136576398  26.955035579284    3.255308024691\n",
      "4           66.278377555905   90.557854713584  145.270535278931  164.613959831567  195.198695837376  203.397072564385  269.535785344107  16.569594388976  18.111570942717  24.211755879822  23.516279975938  24.399836979672  22.599674729376  26.953578534411    0.118865644576\n",
      "5           66.232759054257   90.545720050600  145.259314967931  164.616005193746  195.205488398720  203.404127803041  269.537436905597  16.558189763564  18.109144010120  24.209885827988  23.516572170535  24.400686049840  22.600458644782  26.953743690560    0.017791946163\n",
      "6           66.234829097094   90.545328216375  145.258423411775  164.615119853577  195.204903184339  203.404041663960  269.537470446699  16.558707274273  18.109065643275  24.209737235296  23.516445693368  24.400612898042  22.600449073773  26.953747044670    0.000957024331\n",
      "7           66.235025859593   90.545428430991  145.258527832751  164.615123753853  195.204880883508  203.404001103378  269.537458789229  16.558756464898  18.109085686198  24.209754638792  23.516446250550  24.400610110439  22.600444567042  26.953745878923    0.000095654308\n",
      "8           66.235004812927   90.545427758601  145.258531392148  164.615129078152  195.204885269322  203.404003035817  269.537458944028  16.558751203232  18.109085551720  24.209755232025  23.516447011165  24.400610658665  22.600444781757  26.953745894403    0.000007528413\n",
      "9           66.235004196550   90.545427030398  145.258530648410  164.615128888594  195.204885273845  203.404003248974  269.537459018673  16.558751049137  18.109085406080  24.209755108068  23.516446984085  24.400610659231  22.600444805442  26.953745901867    0.000000482485\n"
     ]
    }
   ],
   "source": [
    "#Calculate the result\n",
    "domiType = check_dominance(A)\n",
    "x0 = [1,1,1,1,1,1,1] #initial value\n",
    "eps = 1e-6\n",
    "eta = None\n",
    "\n",
    "df_history = fixed_point_gauss_seidel_2(T, C, D, x0, domiType, eps, eta)\n",
    "print(df_history)\n"
   ]
  },
  {
   "cell_type": "code",
   "execution_count": 16,
   "id": "1d430185",
   "metadata": {},
   "outputs": [
    {
     "name": "stdout",
     "output_type": "stream",
     "text": [
      "Approximate solution:\n",
      "x1    16.558751049137\n",
      "x2    18.109085406080\n",
      "x3    24.209755108068\n",
      "x4    23.516446984085\n",
      "x5    24.400610659231\n",
      "x6    22.600444805442\n",
      "x7    26.953745901867\n"
     ]
    }
   ],
   "source": [
    "solution_series = df_history.filter(regex=r'^x\\d+$').iloc[-1]\n",
    "print(\"Approximate solution:\"),\n",
    "print(solution_series.to_string())"
   ]
  }
 ],
 "metadata": {
  "kernelspec": {
   "display_name": "ds-env",
   "language": "python",
   "name": "python3"
  },
  "language_info": {
   "codemirror_mode": {
    "name": "ipython",
    "version": 3
   },
   "file_extension": ".py",
   "mimetype": "text/x-python",
   "name": "python",
   "nbconvert_exporter": "python",
   "pygments_lexer": "ipython3",
   "version": "3.13.3"
  }
 },
 "nbformat": 4,
 "nbformat_minor": 5
}
