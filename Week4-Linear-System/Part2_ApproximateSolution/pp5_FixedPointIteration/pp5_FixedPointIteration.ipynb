{
 "cells": [
  {
   "cell_type": "code",
   "execution_count": 1,
   "id": "4013dff3",
   "metadata": {},
   "outputs": [],
   "source": [
    "from fractions import Fraction\n",
    "from typing import Tuple, Union\n",
    "import numpy as np\n",
    "import pandas as pd\n",
    "\n",
    "pd.set_option('display.precision', 12)  # Increase decimal precision\n",
    "pd.set_option('display.width', 300)     # Wider display\n",
    "pd.set_option('display.max_columns', None)  # Show all column"
   ]
  },
  {
   "cell_type": "code",
   "execution_count": 2,
   "id": "7ec97cf8",
   "metadata": {},
   "outputs": [],
   "source": [
    "def input_matrix(filename, convert_fractions=False):\n",
    "    \"\"\"\n",
    "    Reads a matrix from a text file and returns it as a NumPy array.\n",
    "    Supports fractional entries if present.\n",
    "    \"\"\"\n",
    "    matrix = []\n",
    "\n",
    "    with open(filename, 'r') as f:\n",
    "        for line in f:\n",
    "            tokens = line.strip().split()\n",
    "            if not tokens:\n",
    "                continue\n",
    "\n",
    "            row = []\n",
    "            for token in tokens:\n",
    "                if '/' in token:\n",
    "                    # convert fractions if any includes fraction sign\n",
    "                    val = Fraction(token)\n",
    "                    row.append(float(val) if convert_fractions else val)\n",
    "                else:\n",
    "                    # parse as float directly\n",
    "                    row.append(float(token))\n",
    "\n",
    "            matrix.append(row)\n",
    "            \n",
    "    dtype = float if convert_fractions else object\n",
    "    return np.array(matrix, dtype=dtype)"
   ]
  },
  {
   "cell_type": "code",
   "execution_count": 3,
   "id": "f7ca10db",
   "metadata": {},
   "outputs": [],
   "source": [
    "def output_matrix(X: np.ndarray, precision: int = 12):\n",
    "    \"\"\"\n",
    "    Prints a NumPy array (vector or matrix) in a clean tabular format using pandas.\n",
    "    \n",
    "    Parameters:\n",
    "    - X: np.ndarray, 1D or 2D array.\n",
    "    - precision: number of decimal places to round floats to.\n",
    "    \"\"\"\n",
    "    # Wrap 1D arrays into a 2D DataFrame for consistent display\n",
    "    if X.ndim == 1:\n",
    "        df = pd.DataFrame(X, columns=[\"value\"])\n",
    "    elif X.ndim == 2:\n",
    "        df = pd.DataFrame(X)\n",
    "    else:\n",
    "        raise ValueError(\"Only 1D or 2D arrays are supported.\")\n",
    "    \n",
    "    # Round floats\n",
    "    # df = df.round(precision)\n",
    "    # Print without index/header for cleaner look\n",
    "    print(df.to_string(index=False, header=False))"
   ]
  },
  {
   "cell_type": "markdown",
   "id": "7ebf0562",
   "metadata": {},
   "source": [
    "Lặp đơn"
   ]
  },
  {
   "cell_type": "code",
   "execution_count": 4,
   "id": "d641f129",
   "metadata": {},
   "outputs": [],
   "source": [
    "def check_norm (A: np.ndarray):\n",
    "    tmp = np.abs(A);\n",
    "    print(\"Norm column: \", np.linalg.norm(tmp, ord=1))\n",
    "    print(\"Norm 2: \", np.linalg.norm(tmp, ord=2))\n",
    "    print(\"Norm row: \", np.linalg.norm(tmp, ord=np.inf))\n",
    "    print(\"Norm max: \", 3*np.max(tmp))"
   ]
  },
  {
   "cell_type": "markdown",
   "id": "907da1e6",
   "metadata": {},
   "source": [
    "# Thuật toán"
   ]
  },
  {
   "cell_type": "code",
   "execution_count": 5,
   "id": "0e8be65d",
   "metadata": {},
   "outputs": [],
   "source": [
    "def fixed_point_matrix_iteration(A, B, initial_values, q, eps, eta, norm):\n",
    "    \"\"\"\n",
    "    Perform fixed-point iteration for system of linear equations using x_new = Ax + B\n",
    "    \n",
    "    Parameters:\n",
    "    A (numpy.ndarray): Coefficient matrix\n",
    "    B (numpy.ndarray): Constant vector\n",
    "    initial_values (numpy.ndarray): Initial guess for x\n",
    "    q (float): Contraction coefficient\n",
    "    eps (float): Tolerance for convergence\n",
    "    norm (int): Type of norm to use (1 for L1 norm, -1 for max norm)\n",
    "    \n",
    "    Returns:\n",
    "    numpy.ndarray: Solution vector\n",
    "    \"\"\"\n",
    "    if (eps is None) == (eta is None):\n",
    "        raise ValueError(\"Specify exactly one of eps (exact) or eta (relative)\")\n",
    "    \n",
    "    if norm == 1:\n",
    "        vec_norm = lambda x: np.sum(np.abs(x))\n",
    "    elif norm == -1:\n",
    "        vec_norm = lambda x: np.max(np.abs(x))\n",
    "    \n",
    "    n = len(initial_values)\n",
    "    values = np.array(initial_values)\n",
    "    results = [[0] + initial_values.tolist()]\n",
    "\n",
    "    #Calculate the shrinking speed q:\n",
    "    new_eps = (eps if eps is not None else eta) * (1-q) / q\n",
    "    print(f\"new_eps: {new_eps:.12f}\")\n",
    "\n",
    "    while True:\n",
    "        # Calculate new values using matrix operation x_new = Ax + B\n",
    "        new_values = np.dot(A, values) + B\n",
    "        \n",
    "        # Calculate the differences\n",
    "        if eps is not None:\n",
    "            total_diff = vec_norm(new_values - values)\n",
    "        else:\n",
    "            total_diff = vec_norm(new_values - values) / vec_norm(new_values)\n",
    "        \n",
    "        # Append results\n",
    "        results.append(new_values.tolist() + [total_diff])\n",
    "        values = new_values\n",
    "        \n",
    "        # Check for convergence\n",
    "        if total_diff < new_eps:\n",
    "            break\n",
    "        \n",
    "    columns = [f'x{j+1}' for j in range(n)] + ['total_diff']\n",
    "    df = pd.DataFrame(results, columns=columns)\n",
    "    df.index.name = \"Iteration\"\n",
    "    return df"
   ]
  },
  {
   "cell_type": "markdown",
   "id": "9f9347d9",
   "metadata": {},
   "source": [
    "# Kết quả"
   ]
  },
  {
   "cell_type": "code",
   "execution_count": 6,
   "id": "fa869b50",
   "metadata": {},
   "outputs": [
    {
     "name": "stdout",
     "output_type": "stream",
     "text": [
      "\n",
      "Matrix A:\n",
      "-0.09  0.01  0.06 -0.05 -0.09\n",
      " 0.01 -0.01 -0.04  0.03 -0.06\n",
      " 0.06 -0.10  0.01  0.04  0.09\n",
      " 0.09 -0.03 -0.07  0.05 -0.07\n",
      "-0.08 -0.07  0.02 -0.01  0.07\n",
      "Norm column:  0.38\n",
      "Norm 2:  0.2807851528100389\n",
      "Norm row:  0.31\n",
      "Norm max:  0.30000000000000004\n",
      "\n",
      "Matrix B:\n",
      "74000.0\n",
      "56000.0\n",
      "10500.0\n",
      "25000.0\n",
      "17500.0\n"
     ]
    }
   ],
   "source": [
    "#Original matrix Ax=B\n",
    "A = input_matrix('FXP_input_A.txt', convert_fractions=True)\n",
    "B = input_matrix('FXP_input_B.txt', convert_fractions=True).flatten() #remove flatten if B is multi-column matrix\n",
    "\n",
    "print(\"\\nMatrix A:\"); output_matrix(A)\n",
    "check_norm(A)\n",
    "print(\"\\nMatrix B:\"); output_matrix(B)"
   ]
  },
  {
   "cell_type": "code",
   "execution_count": 7,
   "id": "c413fd2c",
   "metadata": {},
   "outputs": [
    {
     "name": "stdout",
     "output_type": "stream",
     "text": [
      "new_eps: 0.000001631579\n"
     ]
    },
    {
     "ename": "ValueError",
     "evalue": "shapes (5,5) and (7,) not aligned: 5 (dim 1) != 7 (dim 0)",
     "output_type": "error",
     "traceback": [
      "\u001b[1;31m---------------------------------------------------------------------------\u001b[0m",
      "\u001b[1;31mValueError\u001b[0m                                Traceback (most recent call last)",
      "Cell \u001b[1;32mIn[7], line 9\u001b[0m\n\u001b[0;32m      6\u001b[0m norm \u001b[38;5;241m=\u001b[39m \u001b[38;5;241m1\u001b[39m\n\u001b[0;32m      8\u001b[0m \u001b[38;5;66;03m# Call the function\u001b[39;00m\n\u001b[1;32m----> 9\u001b[0m df_history \u001b[38;5;241m=\u001b[39m \u001b[43mfixed_point_matrix_iteration\u001b[49m\u001b[43m \u001b[49m\u001b[43m(\u001b[49m\u001b[43mA\u001b[49m\u001b[43m,\u001b[49m\u001b[43m \u001b[49m\u001b[43mB\u001b[49m\u001b[43m,\u001b[49m\u001b[43m \u001b[49m\u001b[43minitial_guess\u001b[49m\u001b[43m,\u001b[49m\u001b[43m \u001b[49m\u001b[43mq\u001b[49m\u001b[43m,\u001b[49m\u001b[43m \u001b[49m\u001b[43meps\u001b[49m\u001b[43m,\u001b[49m\u001b[43m \u001b[49m\u001b[43meta\u001b[49m\u001b[43m,\u001b[49m\u001b[43m \u001b[49m\u001b[43mnorm\u001b[49m\u001b[43m)\u001b[49m\n\u001b[0;32m     10\u001b[0m \u001b[38;5;28mprint\u001b[39m(df_history)\n",
      "Cell \u001b[1;32mIn[5], line 34\u001b[0m, in \u001b[0;36mfixed_point_matrix_iteration\u001b[1;34m(A, B, initial_values, q, eps, eta, norm)\u001b[0m\n\u001b[0;32m     30\u001b[0m \u001b[38;5;28mprint\u001b[39m(\u001b[38;5;124mf\u001b[39m\u001b[38;5;124m\"\u001b[39m\u001b[38;5;124mnew_eps: \u001b[39m\u001b[38;5;132;01m{\u001b[39;00mnew_eps\u001b[38;5;132;01m:\u001b[39;00m\u001b[38;5;124m.12f\u001b[39m\u001b[38;5;132;01m}\u001b[39;00m\u001b[38;5;124m\"\u001b[39m)\n\u001b[0;32m     32\u001b[0m \u001b[38;5;28;01mwhile\u001b[39;00m \u001b[38;5;28;01mTrue\u001b[39;00m:\n\u001b[0;32m     33\u001b[0m     \u001b[38;5;66;03m# Calculate new values using matrix operation x_new = Ax + B\u001b[39;00m\n\u001b[1;32m---> 34\u001b[0m     new_values \u001b[38;5;241m=\u001b[39m \u001b[43mnp\u001b[49m\u001b[38;5;241;43m.\u001b[39;49m\u001b[43mdot\u001b[49m\u001b[43m(\u001b[49m\u001b[43mA\u001b[49m\u001b[43m,\u001b[49m\u001b[43m \u001b[49m\u001b[43mvalues\u001b[49m\u001b[43m)\u001b[49m \u001b[38;5;241m+\u001b[39m B\n\u001b[0;32m     36\u001b[0m     \u001b[38;5;66;03m# Calculate the differences\u001b[39;00m\n\u001b[0;32m     37\u001b[0m     \u001b[38;5;28;01mif\u001b[39;00m eps \u001b[38;5;129;01mis\u001b[39;00m \u001b[38;5;129;01mnot\u001b[39;00m \u001b[38;5;28;01mNone\u001b[39;00m:\n",
      "\u001b[1;31mValueError\u001b[0m: shapes (5,5) and (7,) not aligned: 5 (dim 1) != 7 (dim 0)"
     ]
    }
   ],
   "source": [
    "# Initial guess (zero vector or any other initial guess)\n",
    "initial_guess = np.array([0, 0, 0, 0, 0, 0, 0])\n",
    "q = np.linalg.norm(np.abs(A), ord=1)\n",
    "eps = 1e-6\n",
    "eta = None\n",
    "norm = 1\n",
    "\n",
    "# Call the function\n",
    "df_history = fixed_point_matrix_iteration (A, B, initial_guess, q, eps, eta, norm)\n",
    "print(df_history)"
   ]
  },
  {
   "cell_type": "code",
   "execution_count": null,
   "id": "a642f207",
   "metadata": {},
   "outputs": [
    {
     "name": "stdout",
     "output_type": "stream",
     "text": [
      "Approximate solution:\n",
      "x1     99575.653397644855\n",
      "x2     97703.022863484832\n",
      "x3     51230.523166375737\n",
      "x4    131569.921928706754\n",
      "x5     49488.491372352932\n",
      "x6    329554.452569977555\n",
      "x7     13835.335715011599\n"
     ]
    }
   ],
   "source": [
    "solution_series = df_history.filter(regex=r'^x\\d+$').iloc[-1]\n",
    "print(\"Approximate solution:\"),\n",
    "print(solution_series.to_string())"
   ]
  }
 ],
 "metadata": {
  "kernelspec": {
   "display_name": "ds-env",
   "language": "python",
   "name": "python3"
  },
  "language_info": {
   "codemirror_mode": {
    "name": "ipython",
    "version": 3
   },
   "file_extension": ".py",
   "mimetype": "text/x-python",
   "name": "python",
   "nbconvert_exporter": "python",
   "pygments_lexer": "ipython3",
   "version": "3.13.3"
  }
 },
 "nbformat": 4,
 "nbformat_minor": 5
}
