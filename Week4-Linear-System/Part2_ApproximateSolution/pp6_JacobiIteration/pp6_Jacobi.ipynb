{
 "cells": [
  {
   "cell_type": "code",
   "execution_count": 64,
   "id": "81479e4b",
   "metadata": {},
   "outputs": [],
   "source": [
    "from fractions import Fraction\n",
    "from typing import Tuple, Union\n",
    "import numpy as np\n",
    "import pandas as pd\n",
    "\n",
    "pd.set_option('display.precision', 7)  # Increase decimal precision\n",
    "pd.set_option('display.width', 300)     # Wider display\n",
    "pd.set_option('display.max_columns', None)  # Show all column"
   ]
  },
  {
   "cell_type": "code",
   "execution_count": 65,
   "id": "ecaf9d9a",
   "metadata": {},
   "outputs": [],
   "source": [
    "def input_matrix(filename, convert_fractions=False):\n",
    "    \"\"\"\n",
    "    Reads a matrix from a text file and returns it as a NumPy array.\n",
    "    Supports fractional entries if present.\n",
    "    \"\"\"\n",
    "    matrix = []\n",
    "\n",
    "    with open(filename, 'r') as f:\n",
    "        for line in f:\n",
    "            tokens = line.strip().split()\n",
    "            if not tokens:\n",
    "                continue\n",
    "\n",
    "            row = []\n",
    "            for token in tokens:\n",
    "                if '/' in token:\n",
    "                    # convert fractions if any includes fraction sign\n",
    "                    val = Fraction(token)\n",
    "                    row.append(float(val) if convert_fractions else val)\n",
    "                else:\n",
    "                    # parse as float directly\n",
    "                    row.append(float(token))\n",
    "\n",
    "            matrix.append(row)\n",
    "            \n",
    "    dtype = float if convert_fractions else object\n",
    "    return np.array(matrix, dtype=dtype)"
   ]
  },
  {
   "cell_type": "code",
   "execution_count": 66,
   "id": "e2c2d575",
   "metadata": {},
   "outputs": [],
   "source": [
    "def output_matrix(X: np.ndarray, precision: int = 12):\n",
    "    \"\"\"\n",
    "    Prints a NumPy array (vector or matrix) in a clean tabular format using pandas.\n",
    "    \n",
    "    Parameters:\n",
    "    - X: np.ndarray, 1D or 2D array.\n",
    "    - precision: number of decimal places to round floats to.\n",
    "    \"\"\"\n",
    "    # Wrap 1D arrays into a 2D DataFrame for consistent display\n",
    "    if X.ndim == 1:\n",
    "        df = pd.DataFrame(X, columns=[\"value\"])\n",
    "    elif X.ndim == 2:\n",
    "        df = pd.DataFrame(X)\n",
    "    else:\n",
    "        raise ValueError(\"Only 1D or 2D arrays are supported.\")\n",
    "    \n",
    "    # Round floats\n",
    "    # df = df.round(precision)\n",
    "    # Print without index/header for cleaner look\n",
    "    print(df.to_string(index=False, header=False))"
   ]
  },
  {
   "cell_type": "markdown",
   "id": "70c786c9",
   "metadata": {},
   "source": [
    "# Lặp Jacobi"
   ]
  },
  {
   "cell_type": "code",
   "execution_count": 67,
   "id": "2f9c49db",
   "metadata": {},
   "outputs": [],
   "source": [
    "def check_dominance(A: np.ndarray) -> int:\n",
    "    \"\"\"\n",
    "    Returns:\n",
    "      1 if A is row-dominant only,\n",
    "      2 if A is column-dominant only,\n",
    "      3 if both,\n",
    "      0 if neither.\n",
    "    \"\"\"\n",
    "    n = A.shape[0]\n",
    "    row_dom = all(abs(A[i,i]) > np.sum(np.abs(A[i,:])) - abs(A[i,i]) for i in range(n))\n",
    "    col_dom = all(abs(A[j,j]) > np.sum(np.abs(A[:,j])) - abs(A[j,j]) for j in range(n))\n",
    "    if row_dom and col_dom:\n",
    "        return 3\n",
    "    if row_dom:\n",
    "        return 1\n",
    "    if col_dom:\n",
    "        return 2\n",
    "    return 0"
   ]
  },
  {
   "cell_type": "markdown",
   "id": "2535f912",
   "metadata": {},
   "source": [
    "## 1. Ma trận chéo trội Hàng"
   ]
  },
  {
   "cell_type": "markdown",
   "id": "ffec7102",
   "metadata": {},
   "source": [
    "### Thuật toán"
   ]
  },
  {
   "cell_type": "code",
   "execution_count": 68,
   "id": "e1870401",
   "metadata": {},
   "outputs": [],
   "source": [
    "def convert_to_iteration(A: np.ndarray, B: np.ndarray) -> Tuple[np.ndarray, np.ndarray]:\n",
    "    \"\"\"\n",
    "    Converts the system Ax = B into the iterative form x_new = C x + D.\n",
    "    \"\"\"\n",
    "\n",
    "    # Step 1: Build diagonal matrix T where T[i,i] = 1 / A[i,i]\n",
    "    T = np.diag(1.0 / np.diag(A))\n",
    "    \n",
    "    # Step 2: Compute C = I - T * A\n",
    "    n = A.shape[0]\n",
    "    C = np.eye(n) - T.dot(A)\n",
    "    \n",
    "    # Step 3: Compute D = T * B\n",
    "    D = T.dot(B)\n",
    "    \n",
    "    return C, D"
   ]
  },
  {
   "cell_type": "code",
   "execution_count": 69,
   "id": "c5bb16dc",
   "metadata": {},
   "outputs": [],
   "source": [
    "def fixed_point_matrix_iteration(\n",
    "    A: np.ndarray,\n",
    "    C: np.ndarray,\n",
    "    D: np.ndarray,\n",
    "    x0: Union[np.ndarray, list],\n",
    "    domiType: int,\n",
    "    eps: float,\n",
    "    eta: float\n",
    ") -> pd.DataFrame:\n",
    "    \"\"\"\n",
    "    Performs fixed-point iteration x_{k+1}=C x_k + D and returns history with errors.\n",
    "    Convergence based on:\n",
    "      - exact error if eps is provided (||x_new - x_old|| <= eps*(1-q)/(α*q))\n",
    "      - relative error if eta is provided (||x_new-x_old||/||x_new|| <= eta*(1-q)/(α*q))\n",
    "\n",
    "    Parameters:\n",
    "    - C, D: iteration matrix and constant\n",
    "    - x0: initial guess\n",
    "    - domiType: 1 or 3 (row), 2 (column)\n",
    "    - eps: absolute tolerance (use exact error)\n",
    "    - eta: relative tolerance (use ||Δx||/||x_new||)\n",
    "    \"\"\"\n",
    "    # Validate tolerance inputs\n",
    "    if (eps is None) == (eta is None):\n",
    "        raise ValueError(\"Specify exactly one of eps (exact) or eta (relative)\")\n",
    "\n",
    "    # Set norms and α, q based on dominance type\n",
    "    if domiType in (1, 3):\n",
    "        vec_norm = lambda x: np.max(np.abs(x))\n",
    "        q = np.max(np.sum(np.abs(C), axis=1))\n",
    "        alpha = 1.0\n",
    "    else:\n",
    "        raise ValueError(\"domiType must be 1 or 3 for row-dominant iteration\")\n",
    "\n",
    "    # Convergence threshold\n",
    "    tol = (eps if eps is not None else eta) * (1 - q) / (alpha * q)\n",
    "    print(f\"Shrinking value: {q:.12f}, Additional value: {alpha:.12f}, Threshold: {tol:.12f}\")\n",
    "\n",
    "    # Initialize\n",
    "    x_old = np.array(x0, dtype=float).flatten()\n",
    "    history = [x_old.copy()]\n",
    "    errors = [np.nan]\n",
    "\n",
    "    # Iteration loop\n",
    "    while True:\n",
    "        x_new = C.dot(x_old) + D\n",
    "        if eps is not None:\n",
    "            err = vec_norm(x_new - x_old)\n",
    "        else:\n",
    "            err = vec_norm(x_new - x_old) / vec_norm(x_new)\n",
    "\n",
    "        # Prepare DataFrame for display\n",
    "        history.append(x_new.copy())\n",
    "        errors.append(err)\n",
    "        x_old = x_new\n",
    "        if err <= tol:\n",
    "            break\n",
    "        \n",
    "    # Compile DataFrame\n",
    "    n = len(x_new)\n",
    "    df = pd.DataFrame(history, columns=[f\"x{i+1}\" for i in range(n)])\n",
    "    df[\"error\"] = errors\n",
    "    df.index.name = \"Iteration\"\n",
    "    return df"
   ]
  },
  {
   "cell_type": "markdown",
   "id": "84abca97",
   "metadata": {},
   "source": [
    "### Kết quả"
   ]
  },
  {
   "cell_type": "code",
   "execution_count": 70,
   "id": "f2a5befc",
   "metadata": {},
   "outputs": [
    {
     "name": "stdout",
     "output_type": "stream",
     "text": [
      "\n",
      "Matrix A:\n",
      " 14.4   0.2   0.6  -0.1   0.9   0.4   0.9\n",
      "  0.4  16.3  -0.4  -0.7  -0.5   0.1  -0.6\n",
      "  0.7   0.9  18.6  -0.3   0.6  -0.2   0.4\n",
      " -0.3  -1.0  -0.1  19.7  -0.7   0.3  -0.6\n",
      "  0.6  -0.1  -1.0  -0.6  20.6   0.3  -0.8\n",
      "  0.4  -0.2  -0.7   0.5  -0.9  22.9   0.2\n",
      " -1.0  -0.1   0.5  -0.5   0.2   0.3  23.9\n",
      "\n",
      "Check dominace of A: 3\n",
      "\n",
      "Matrix B:\n",
      "-10.0\n",
      " -3.0\n",
      " -7.0\n",
      "  6.0\n",
      " -4.0\n",
      "  1.0\n",
      " -7.0\n"
     ]
    }
   ],
   "source": [
    "#Original matrix Ax=B\n",
    "A = input_matrix('JCB_input_A1.txt', convert_fractions=False)\n",
    "B = input_matrix('JCB_input_B1.txt', convert_fractions=False).flatten() #remove flatten if B is multi-column matrix\n",
    "\n",
    "print(\"\\nMatrix A:\"); output_matrix(A)\n",
    "print(\"\\nCheck dominace of A:\", check_dominance(A));\n",
    "print(\"\\nMatrix B:\"); output_matrix(B)"
   ]
  },
  {
   "cell_type": "code",
   "execution_count": 71,
   "id": "161b639c",
   "metadata": {},
   "outputs": [
    {
     "name": "stdout",
     "output_type": "stream",
     "text": [
      "\n",
      "Matrix C:\n",
      "       0.0 -0.0138889 -0.0416667  0.0069444    -0.0625 -0.0277778    -0.0625\n",
      "-0.0245399        0.0  0.0245399  0.0429448  0.0306748  -0.006135  0.0368098\n",
      "-0.0376344 -0.0483871        0.0   0.016129 -0.0322581  0.0107527 -0.0215054\n",
      " 0.0152284  0.0507614  0.0050761        0.0   0.035533 -0.0152284  0.0304569\n",
      "-0.0291262  0.0048544  0.0485437  0.0291262        0.0 -0.0145631   0.038835\n",
      "-0.0174672  0.0087336  0.0305677 -0.0218341  0.0393013        0.0 -0.0087336\n",
      "  0.041841  0.0041841 -0.0209205  0.0209205 -0.0083682 -0.0125523        0.0\n",
      "\n",
      "Matrix D:\n",
      "-0.6944444\n",
      "-0.1840491\n",
      "-0.3763441\n",
      " 0.3045685\n",
      "-0.1941748\n",
      " 0.0436681\n",
      " -0.292887\n"
     ]
    }
   ],
   "source": [
    "#Convert to recursion form x_new = Cx+D\n",
    "C, D = convert_to_iteration(A, B)\n",
    "\n",
    "print(\"\\nMatrix C:\"); output_matrix(C)\n",
    "print(\"\\nMatrix D:\"); output_matrix(D)"
   ]
  },
  {
   "cell_type": "code",
   "execution_count": 73,
   "id": "71de52ec",
   "metadata": {},
   "outputs": [
    {
     "name": "stdout",
     "output_type": "stream",
     "text": [
      "Shrinking value: 0.215277777778, Additional value: 1.000000000000, Threshold: 0.000003645161\n",
      "                  x1         x2         x3         x4         x5         x6         x7      error\n",
      "Iteration                                                                                        \n",
      "0          0.0000000  0.0000000  0.0000000  0.0000000  0.0000000  0.0000000  0.0000000        NaN\n",
      "1         -0.6944444 -0.1840491 -0.3763441  0.3045685 -0.1941748  0.0436681 -0.2928870  1.0000000\n",
      "2         -0.6448638 -0.1801686 -0.3233592  0.2662552 -0.1962501  0.0309634 -0.3073916  0.0821645\n",
      "3         -0.6460023 -0.1822500 -0.3257886  0.2671542 -0.1965974  0.0326326 -0.3070340  0.0037607\n",
      "4         -0.6459129 -0.1822509 -0.3256091  0.2669920 -0.1966765  0.0325236 -0.3070388  0.0002779\n",
      "5         -0.6459133 -0.1822575 -0.3256135  0.2669929 -0.1966738  0.0325280 -0.3070401  0.0000104\n",
      "6         -0.6459132 -0.1822576 -0.3256132  0.2669925 -0.1966741  0.0325279 -0.3070401  0.0000006\n"
     ]
    }
   ],
   "source": [
    "#Calculate the result\n",
    "x0 = np.array([0,0,0,0,0,0,0]) #initial value\n",
    "domiType = check_dominance(A)\n",
    "eps = None\n",
    "eta = 1e-6\n",
    "\n",
    "df_history = fixed_point_matrix_iteration(A, C, D, x0, domiType, eps, eta)\n",
    "print(df_history)\n"
   ]
  },
  {
   "cell_type": "code",
   "execution_count": null,
   "id": "fb73d0f0",
   "metadata": {},
   "outputs": [
    {
     "name": "stdout",
     "output_type": "stream",
     "text": [
      "Approximate solution:\n",
      "x1     1.5200001\n",
      "x2    -1.5400002\n",
      "x3     2.5000001\n",
      "x4    -2.1400004\n",
      "x5     1.4999999\n",
      "x6     0.9999998\n",
      "x7     0.9999995\n",
      "x8     2.0000001\n",
      "x9    -3.1500004\n",
      "x10    2.9999992\n"
     ]
    }
   ],
   "source": [
    "solution_series = df_history.filter(regex=r'^x\\d+$').iloc[-1]\n",
    "print(\"Approximate solution:\"),\n",
    "print(solution_series.to_string())"
   ]
  },
  {
   "cell_type": "markdown",
   "id": "e6cb6683",
   "metadata": {},
   "source": [
    "## 2. Ma trận chéo trội Cột"
   ]
  },
  {
   "cell_type": "markdown",
   "id": "0f581738",
   "metadata": {},
   "source": [
    "### Thuật toán"
   ]
  },
  {
   "cell_type": "code",
   "execution_count": null,
   "id": "54b6ff88",
   "metadata": {},
   "outputs": [],
   "source": [
    "def convert_to_iteration_2(A: np.ndarray, \n",
    "                           B: np.ndarray, \n",
    "                          ) -> Tuple[np.ndarray, np.ndarray]:\n",
    "    \"\"\"\n",
    "    Prepares iteration y_{k+1} = C y_k + D for column-dominant case.\n",
    "    \"\"\"\n",
    "\n",
    "    # 1. T = diag of 1 / diagonal entries of A\n",
    "    T = np.diag(1.0 / np.diag(A))\n",
    "\n",
    "    # 2. C = I - A * T\n",
    "    n = A.shape[0]\n",
    "    C = np.eye(n) - A.dot(T)\n",
    "    \n",
    "    # 3. D = B\n",
    "    D = B.copy()\n",
    "\n",
    "    return T, C, D"
   ]
  },
  {
   "cell_type": "code",
   "execution_count": null,
   "id": "34f43335",
   "metadata": {},
   "outputs": [],
   "source": [
    "def fixed_point_matrix_iteration_2(\n",
    "    A: np.ndarray,\n",
    "    T: np.ndarray,\n",
    "    C: np.ndarray, #main input\n",
    "    D: np.ndarray,\n",
    "    x0: Union[np.ndarray, list],\n",
    "    domiType: int,\n",
    "    eps: float,\n",
    "    eta: float\n",
    ") -> np.ndarray:\n",
    "    \"\"\"\n",
    "    Iterates y_{k+1} = C y_k + D for column-dominant systems.\n",
    "    \n",
    "    Parameters:\n",
    "    - C: (n×n) iteration matrix\n",
    "    - D: (n,) constant vector\n",
    "    - y0: initial guess (n,)\n",
    "    - domiType: dominance type (must be 2 or 3 for column-dominant)\n",
    "    - eps: relative error tolerance\n",
    "    \n",
    "    Uses:\n",
    "    - vector norm: 1-norm\n",
    "    - matrix norm: column-sum norm\n",
    "    - alpha = max|diag(A)| / min|diag(A)| from original A\n",
    "    \n",
    "    Prints each iteration's y and error, stops when\n",
    "      ||y_new - y_old||_1 <= eps * (1 - q) / (alpha * q)\n",
    "    \n",
    "    Returns:\n",
    "    - y_new: approximate solution vector\n",
    "    \"\"\"\n",
    "     # Validate tolerance inputs\n",
    "    if (eps is None) == (eta is None):\n",
    "        raise ValueError(\"Specify exactly one of eps (exact) or eta (relative)\")\n",
    "\n",
    "    # Set norms and α, q based on dominance type\n",
    "    if domiType in (2,3):\n",
    "        vec_norm = lambda x: np.sum(np.abs(x))\n",
    "        q = np.max(np.sum(np.abs(C), axis=0))  # column-sum norm\n",
    "        diag_vals = np.abs(np.diag(A))         # A should be defined globally\n",
    "        alpha = np.max(diag_vals) / np.min(diag_vals)\n",
    "    else:\n",
    "        raise ValueError(\"domiType must be 2 for column-dominant iteration\")\n",
    "\n",
    "    # Convergence threshold\n",
    "    tol = (eps if eps is not None else eta) * (1 - q) / (alpha * q)\n",
    "    print(f\"Shrinking value: {q:.12f}, Additional value: {alpha:.12f}, Threshold: {tol:.12f}\")\n",
    "\n",
    "    # Initialize\n",
    "    x_old = np.array(x0, dtype=float).flatten()\n",
    "    T_inv = np.diag(np.diag(A)); y_old = T_inv.dot(x_old)\n",
    "    history = [np.concatenate([y_old, x_old])]\n",
    "    errors = [np.nan]\n",
    "\n",
    "    while True:\n",
    "        y_new = C.dot(y_old) + D\n",
    "        x_new = T.dot(y_new)\n",
    "        if eps is not None:\n",
    "            err = vec_norm(x_new - x_old)\n",
    "        else:\n",
    "            err = vec_norm(x_new - x_old) / vec_norm(x_new)\n",
    "\n",
    "        # Prepare DataFrame for display\n",
    "        history.append(np.concatenate([y_new, x_new]))\n",
    "        errors.append(err)\n",
    "        y_old = y_new; x_old = x_new;\n",
    "        if err <= tol:\n",
    "            break\n",
    "        \n",
    "    # Compile DataFrame\n",
    "    n = len(x_new)\n",
    "    df = pd.DataFrame(history, columns=[f\"y{i+1}\" for i in range(n)] + [f\"x{i+1}\" for i in range(n)])\n",
    "    df[\"error\"] = errors\n",
    "    df.index.name = \"Iteration\"\n",
    "    return df"
   ]
  },
  {
   "cell_type": "markdown",
   "id": "db549969",
   "metadata": {},
   "source": [
    "### Kết quả"
   ]
  },
  {
   "cell_type": "code",
   "execution_count": null,
   "id": "0b69c51f",
   "metadata": {},
   "outputs": [
    {
     "name": "stdout",
     "output_type": "stream",
     "text": [
      "\n",
      "Matrix A:\n",
      " 14.4   0.2   0.6  -0.1   0.9   0.4   0.9\n",
      "  0.4  16.3  -0.4  -0.7  -0.5   0.1  -0.6\n",
      "  0.7   0.9  18.6  -0.3   0.6  -0.2   0.4\n",
      " -0.3  -1.0  -0.1  19.7  -0.7   0.3  -0.6\n",
      "  0.6  -0.1  -1.0  -0.6  20.6   0.3  -0.8\n",
      "  0.4  -0.2  -0.7   0.5  -0.9  22.9   0.2\n",
      " -1.0  -0.1   0.5  -0.5   0.2   0.3  23.9\n",
      "\n",
      "Check dominace of A: 3\n",
      "\n",
      "Matrix B:\n",
      "-10.0\n",
      " -3.0\n",
      " -7.0\n",
      "  6.0\n",
      " -4.0\n",
      "  1.0\n",
      " -7.0\n"
     ]
    }
   ],
   "source": [
    "#Original matrix Ax=B\n",
    "A = input_matrix('JCB_input_A1.txt', convert_fractions=False)\n",
    "B = input_matrix('JCB_input_B1.txt', convert_fractions=False).flatten() #remove flatten if B is multi-column matrix\n",
    "\n",
    "print(\"\\nMatrix A:\"); output_matrix(A)\n",
    "print(\"\\nCheck dominace of A:\", check_dominance(A));\n",
    "print(\"\\nMatrix B:\"); output_matrix(B)"
   ]
  },
  {
   "cell_type": "code",
   "execution_count": null,
   "id": "869633b1",
   "metadata": {},
   "outputs": [
    {
     "name": "stdout",
     "output_type": "stream",
     "text": [
      "\n",
      "Matrix C:\n",
      "       0.0 -0.0122699 -0.0322581  0.0050761 -0.0436893 -0.0174672 -0.0376569\n",
      "-0.0277778        0.0  0.0215054   0.035533  0.0242718 -0.0043668  0.0251046\n",
      "-0.0486111 -0.0552147        0.0  0.0152284 -0.0291262  0.0087336 -0.0167364\n",
      " 0.0208333  0.0613497  0.0053763        0.0  0.0339806 -0.0131004  0.0251046\n",
      "-0.0416667   0.006135  0.0537634  0.0304569        0.0 -0.0131004  0.0334728\n",
      "-0.0277778  0.0122699  0.0376344 -0.0253807  0.0436893        0.0 -0.0083682\n",
      " 0.0694444   0.006135 -0.0268817  0.0253807 -0.0097087 -0.0131004        0.0\n",
      "\n",
      "Matrix D:\n",
      "-10.0\n",
      " -3.0\n",
      " -7.0\n",
      "  6.0\n",
      " -4.0\n",
      "  1.0\n",
      " -7.0\n"
     ]
    }
   ],
   "source": [
    "#Convert to recursion form x_new = Cx+D\n",
    "T, C, D = convert_to_iteration_2(A, B)\n",
    "\n",
    "print(\"\\nMatrix C:\"); output_matrix(C)\n",
    "print(\"\\nMatrix D:\"); output_matrix(D)"
   ]
  },
  {
   "cell_type": "code",
   "execution_count": null,
   "id": "4bbdc539",
   "metadata": {},
   "outputs": [
    {
     "name": "stdout",
     "output_type": "stream",
     "text": [
      "Shrinking value: 0.236111111111, Additional value: 1.659722222222, Threshold: 0.000001949299\n",
      "                   y1         y2         y3         y4         y5         y6         y7         x1         x2         x3         x4         x5         x6         x7      error\n",
      "Iteration                                                                                                                                                                      \n",
      "0           0.0000000  0.0000000  0.0000000  0.0000000  0.0000000  0.0000000  0.0000000  0.0000000  0.0000000  0.0000000  0.0000000  0.0000000  0.0000000  0.0000000        NaN\n",
      "1         -10.0000000 -3.0000000 -7.0000000  6.0000000 -4.0000000  1.0000000 -7.0000000 -0.6944444 -0.1840491 -0.3763441  0.3045685 -0.1941748  0.0436681 -0.2928870  2.0901360\n",
      "2          -9.2860385 -2.9367483 -6.0144809  5.2452282 -4.0427513  0.7090630 -7.3466585 -0.6448638 -0.1801686 -0.3233592  0.2662552 -0.1962501  0.0309634 -0.3073916  0.1740438\n",
      "3          -9.3024332 -2.9706758 -6.0596677  5.2629373 -4.0499069  0.7472860 -7.3381125 -0.6460023 -0.1822500 -0.3257886  0.2671542 -0.1965974  0.0326326 -0.3070340  0.0089224\n",
      "4          -9.3011462 -2.9706890 -6.0563285  5.2597420 -4.0515367  0.7447909 -7.3382262 -0.6459129 -0.1822509 -0.3256091  0.2669920 -0.1966765  0.0325236 -0.3070388  0.0006247\n",
      "5          -9.3011509 -2.9707979 -6.0564114  5.2597604 -4.0514793  0.7448915 -7.3382593 -0.6459133 -0.1822575 -0.3256135  0.2669929 -0.1966738  0.0325280 -0.3070401  0.0000210\n",
      "6          -9.3011498 -2.9707988 -6.0564051  5.2597530 -4.0514861  0.7448895 -7.3382594 -0.6459132 -0.1822576 -0.3256132  0.2669925 -0.1966741  0.0325279 -0.3070401  0.0000013\n"
     ]
    }
   ],
   "source": [
    "#Calculate the result\n",
    "domiType = check_dominance(A)\n",
    "x0 = [0,0,0,0,0,0,0] #initial value\n",
    "eps = 1e-6\n",
    "eta = None\n",
    "\n",
    "df_history = fixed_point_matrix_iteration_2(A, T, C, D, x0, domiType, eps, eta)\n",
    "print(df_history)\n"
   ]
  },
  {
   "cell_type": "code",
   "execution_count": null,
   "id": "c988eabb",
   "metadata": {},
   "outputs": [
    {
     "name": "stdout",
     "output_type": "stream",
     "text": [
      "Approximate solution:\n",
      "x1   -0.6459132\n",
      "x2   -0.1822576\n",
      "x3   -0.3256132\n",
      "x4    0.2669925\n",
      "x5   -0.1966741\n",
      "x6    0.0325279\n",
      "x7   -0.3070401\n"
     ]
    }
   ],
   "source": [
    "solution_series = df_history.filter(regex=r'^x\\d+$').iloc[-1]\n",
    "print(\"Approximate solution:\"),\n",
    "print(solution_series.to_string())"
   ]
  }
 ],
 "metadata": {
  "kernelspec": {
   "display_name": "Python 3",
   "language": "python",
   "name": "python3"
  },
  "language_info": {
   "codemirror_mode": {
    "name": "ipython",
    "version": 3
   },
   "file_extension": ".py",
   "mimetype": "text/x-python",
   "name": "python",
   "nbconvert_exporter": "python",
   "pygments_lexer": "ipython3",
   "version": "3.12.10"
  }
 },
 "nbformat": 4,
 "nbformat_minor": 5
}
