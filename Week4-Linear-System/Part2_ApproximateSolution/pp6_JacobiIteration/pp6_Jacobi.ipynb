{
 "cells": [
  {
   "cell_type": "code",
   "execution_count": 17,
   "id": "81479e4b",
   "metadata": {},
   "outputs": [],
   "source": [
    "from fractions import Fraction\n",
    "from typing import Tuple, Union\n",
    "import numpy as np\n",
    "import pandas as pd\n",
    "\n",
    "pd.set_option('display.precision', 12)  # Increase decimal precision\n",
    "pd.set_option('display.width', 300)     # Wider display\n",
    "pd.set_option('display.max_columns', None)  # Show all column"
   ]
  },
  {
   "cell_type": "code",
   "execution_count": 18,
   "id": "ecaf9d9a",
   "metadata": {},
   "outputs": [],
   "source": [
    "def input_matrix(filename, convert_fractions=False):\n",
    "    \"\"\"\n",
    "    Reads a matrix from a text file and returns it as a NumPy array.\n",
    "    Supports fractional entries if present.\n",
    "    \"\"\"\n",
    "    matrix = []\n",
    "\n",
    "    with open(filename, 'r') as f:\n",
    "        for line in f:\n",
    "            tokens = line.strip().split()\n",
    "            if not tokens:\n",
    "                continue\n",
    "\n",
    "            row = []\n",
    "            for token in tokens:\n",
    "                if '/' in token:\n",
    "                    # convert fractions if any includes fraction sign\n",
    "                    val = Fraction(token)\n",
    "                    row.append(float(val) if convert_fractions else val)\n",
    "                else:\n",
    "                    # parse as float directly\n",
    "                    row.append(float(token))\n",
    "\n",
    "            matrix.append(row)\n",
    "            \n",
    "    dtype = float if convert_fractions else object\n",
    "    return np.array(matrix, dtype=dtype)"
   ]
  },
  {
   "cell_type": "code",
   "execution_count": 19,
   "id": "e2c2d575",
   "metadata": {},
   "outputs": [],
   "source": [
    "def output_matrix(X: np.ndarray, precision: int = 12):\n",
    "    \"\"\"\n",
    "    Prints a NumPy array (vector or matrix) in a clean tabular format using pandas.\n",
    "    \n",
    "    Parameters:\n",
    "    - X: np.ndarray, 1D or 2D array.\n",
    "    - precision: number of decimal places to round floats to.\n",
    "    \"\"\"\n",
    "    # Wrap 1D arrays into a 2D DataFrame for consistent display\n",
    "    if X.ndim == 1:\n",
    "        df = pd.DataFrame(X, columns=[\"value\"])\n",
    "    elif X.ndim == 2:\n",
    "        df = pd.DataFrame(X)\n",
    "    else:\n",
    "        raise ValueError(\"Only 1D or 2D arrays are supported.\")\n",
    "    \n",
    "    # Round floats\n",
    "    # df = df.round(precision)\n",
    "    # Print without index/header for cleaner look\n",
    "    print(df.to_string(index=False, header=False))"
   ]
  },
  {
   "cell_type": "markdown",
   "id": "70c786c9",
   "metadata": {},
   "source": [
    "# Lặp Jacobi"
   ]
  },
  {
   "cell_type": "code",
   "execution_count": 20,
   "id": "2f9c49db",
   "metadata": {},
   "outputs": [],
   "source": [
    "def check_dominance(A: np.ndarray) -> int:\n",
    "    \"\"\"\n",
    "    Returns:\n",
    "      1 if A is row-dominant only,\n",
    "      2 if A is column-dominant only,\n",
    "      3 if both,\n",
    "      0 if neither.\n",
    "    \"\"\"\n",
    "    n = A.shape[0]\n",
    "    row_dom = all(abs(A[i,i]) > np.sum(np.abs(A[i,:])) - abs(A[i,i]) for i in range(n))\n",
    "    col_dom = all(abs(A[j,j]) > np.sum(np.abs(A[:,j])) - abs(A[j,j]) for j in range(n))\n",
    "    if row_dom and col_dom:\n",
    "        return 3\n",
    "    if row_dom:\n",
    "        return 1\n",
    "    if col_dom:\n",
    "        return 2\n",
    "    return 0"
   ]
  },
  {
   "cell_type": "markdown",
   "id": "2535f912",
   "metadata": {},
   "source": [
    "## 1. Ma trận chéo trội Hàng"
   ]
  },
  {
   "cell_type": "markdown",
   "id": "ffec7102",
   "metadata": {},
   "source": [
    "### Thuật toán"
   ]
  },
  {
   "cell_type": "code",
   "execution_count": 21,
   "id": "e1870401",
   "metadata": {},
   "outputs": [],
   "source": [
    "def convert_to_iteration(A: np.ndarray, B: np.ndarray) -> Tuple[np.ndarray, np.ndarray]:\n",
    "    \"\"\"\n",
    "    Converts the system Ax = B into the iterative form x_new = C x + D.\n",
    "    \"\"\"\n",
    "\n",
    "    # Step 1: Build diagonal matrix T where T[i,i] = 1 / A[i,i]\n",
    "    T = np.diag(1.0 / np.diag(A))\n",
    "    \n",
    "    # Step 2: Compute C = I - T * A\n",
    "    n = A.shape[0]\n",
    "    C = np.eye(n) - T.dot(A)\n",
    "    \n",
    "    # Step 3: Compute D = T * B\n",
    "    D = T.dot(B)\n",
    "    \n",
    "    return C, D"
   ]
  },
  {
   "cell_type": "code",
   "execution_count": 22,
   "id": "c5bb16dc",
   "metadata": {},
   "outputs": [],
   "source": [
    "def fixed_point_matrix_iteration(\n",
    "    A: np.ndarray,\n",
    "    C: np.ndarray,\n",
    "    D: np.ndarray,\n",
    "    x0: Union[np.ndarray, list],\n",
    "    domiType: int,\n",
    "    eps: float,\n",
    "    eta: float\n",
    ") -> pd.DataFrame:\n",
    "    \"\"\"\n",
    "    Performs fixed-point iteration x_{k+1}=C x_k + D and returns history with errors.\n",
    "    Convergence based on:\n",
    "      - exact error if eps is provided (||x_new - x_old|| <= eps*(1-q)/(α*q))\n",
    "      - relative error if eta is provided (||x_new-x_old||/||x_new|| <= eta*(1-q)/(α*q))\n",
    "\n",
    "    Parameters:\n",
    "    - C, D: iteration matrix and constant\n",
    "    - x0: initial guess\n",
    "    - domiType: 1 or 3 (row), 2 (column)\n",
    "    - eps: absolute tolerance (use exact error)\n",
    "    - eta: relative tolerance (use ||Δx||/||x_new||)\n",
    "    \"\"\"\n",
    "    # Validate tolerance inputs\n",
    "    if (eps is None) == (eta is None):\n",
    "        raise ValueError(\"Specify exactly one of eps (exact) or eta (relative)\")\n",
    "\n",
    "    # Set norms and α, q based on dominance type\n",
    "    if domiType in (1, 3):\n",
    "        vec_norm = lambda x: np.max(np.abs(x))\n",
    "        q = np.max(np.sum(np.abs(C), axis=1))\n",
    "        alpha = 1.0\n",
    "    else:\n",
    "        raise ValueError(\"domiType must be 1 or 3 for row-dominant iteration\")\n",
    "\n",
    "    # Convergence threshold\n",
    "    tol = (eps if eps is not None else eta) * (1 - q) / (alpha * q)\n",
    "    print(f\"Shrinking value: {q:.12f}, Additional value: {alpha:.12f}, Threshold: {tol:.12f}\")\n",
    "\n",
    "    # Initialize\n",
    "    x_old = np.array(x0, dtype=float).flatten()\n",
    "    history = [x_old.copy()]\n",
    "    errors = [np.nan]\n",
    "\n",
    "    # Iteration loop\n",
    "    while True:\n",
    "        x_new = C.dot(x_old) + D\n",
    "        if eps is not None:\n",
    "            err = vec_norm(x_new - x_old)\n",
    "        else:\n",
    "            err = vec_norm(x_new - x_old) / vec_norm(x_new)\n",
    "\n",
    "        # Prepare DataFrame for display\n",
    "        history.append(x_new.copy())\n",
    "        errors.append(err)\n",
    "        x_old = x_new\n",
    "        if err <= tol:\n",
    "            break\n",
    "        \n",
    "    # Compile DataFrame\n",
    "    n = len(x_new)\n",
    "    df = pd.DataFrame(history, columns=[f\"x{i+1}\" for i in range(n)])\n",
    "    df[\"error\"] = errors\n",
    "    df.index.name = \"Iteration\"\n",
    "    return df"
   ]
  },
  {
   "cell_type": "markdown",
   "id": "84abca97",
   "metadata": {},
   "source": [
    "### Kết quả"
   ]
  },
  {
   "cell_type": "code",
   "execution_count": 23,
   "id": "f2a5befc",
   "metadata": {},
   "outputs": [
    {
     "name": "stdout",
     "output_type": "stream",
     "text": [
      "\n",
      "Matrix A:\n",
      "  130.75     3.75     5.25     11.25    18.25      6.5     12.0     15.5     2.75     20.0\n",
      "    -7.0    156.0      4.0       8.0  17.6667  -3.6667     -3.0      4.0      9.0  21.6667\n",
      "     2.8      4.2     89.0       5.4     10.8     12.6     -7.8      8.0     14.8     13.0\n",
      " 16.5714  14.8571  25.4286  140.4286  25.7143   2.1429   5.5714  10.5714   5.4286   6.4286\n",
      "  6.1667    -19.0   9.8333   12.1667    114.0  -6.1667     14.5   3.6667    -10.5 -14.1667\n",
      "  -0.875   11.125    7.125     6.375   13.375    81.75     -6.0    1.875   -15.75    -8.75\n",
      " -7.5714  -1.4286   5.2857    9.8571    -18.0   7.1429  96.8571 -10.1429  -8.8571 -12.8571\n",
      "    17.2     11.0     15.6       2.8      2.2     14.2     15.6    106.8      5.2      6.4\n",
      " 15.8333   4.8333  -5.8333       5.5  -9.6667   7.6667   5.6667      9.5  81.1667     -3.0\n",
      "  0.9167     -2.0  -2.5833    2.9167   3.9167  10.6667   2.1667   9.5833  -3.5833  52.0833\n",
      "\n",
      "Check dominace of A: 1\n",
      "\n",
      "Matrix B:\n",
      " 310.2275\n",
      "-193.5166\n",
      "  238.112\n",
      "-165.0229\n",
      " 214.4215\n",
      " 108.6325\n",
      "  28.8543\n",
      "  291.732\n",
      "-256.5717\n",
      " 197.1857\n"
     ]
    }
   ],
   "source": [
    "#Original matrix Ax=B\n",
    "A = input_matrix('JCB_input_A.txt', convert_fractions=False)\n",
    "B = input_matrix('JCB_input_B.txt', convert_fractions=False).flatten() #remove flatten if B is multi-column matrix\n",
    "\n",
    "print(\"\\nMatrix A:\"); output_matrix(A)\n",
    "print(\"\\nCheck dominace of A:\", check_dominance(A));\n",
    "print(\"\\nMatrix B:\"); output_matrix(B)"
   ]
  },
  {
   "cell_type": "code",
   "execution_count": 24,
   "id": "161b639c",
   "metadata": {},
   "outputs": [
    {
     "name": "stdout",
     "output_type": "stream",
     "text": [
      "\n",
      "Matrix C:\n",
      "            0.0 -0.028680688337 -0.040152963671  -0.08604206501 -0.139579349904 -0.049713193117 -0.091778202677 -0.118546845124  -0.02103250478 -0.152963671128\n",
      " 0.044871794872             0.0 -0.025641025641 -0.051282051282 -0.113248076923  0.023504487179  0.019230769231 -0.025641025641 -0.057692307692 -0.138889102564\n",
      "-0.031460674157 -0.047191011236             0.0 -0.060674157303 -0.121348314607 -0.141573033708  0.087640449438 -0.089887640449 -0.166292134831  -0.14606741573\n",
      "-0.118005876296 -0.105798249075 -0.181078498255             0.0 -0.183112984107 -0.015259712053  -0.03967425439 -0.075279537074 -0.038657367516 -0.045778424053\n",
      "-0.054093859649  0.166666666667 -0.086257017544 -0.106725438596             0.0  0.054093859649 -0.127192982456 -0.032164035088  0.092105263158  0.124269298246\n",
      " 0.010703363914 -0.136085626911 -0.087155963303 -0.077981651376 -0.163608562691             0.0  0.073394495413 -0.022935779817  0.192660550459  0.107033639144\n",
      " 0.078170831049  0.014749564048 -0.054572148041 -0.101769514057  0.185840790195 -0.073746787794             0.0  0.104720252826  0.091445025713   0.13274297909\n",
      "-0.161048689139 -0.102996254682  -0.14606741573 -0.026217228464 -0.020599250936 -0.132958801498  -0.14606741573             0.0 -0.048689138577 -0.059925093633\n",
      "-0.195071377794 -0.059547819488   0.07186814297 -0.067761779153  0.119096871007 -0.094456224043 -0.069815577078 -0.117043073083             0.0  0.036960970447\n",
      "-0.017600651264  0.038400024576  0.049599391744  -0.05600067584 -0.075200688128 -0.204800771072 -0.041600666624  -0.18399947776  0.068799404032             0.0\n",
      "\n",
      "Matrix D:\n",
      " 2.372676864245\n",
      "-1.240491025641\n",
      " 2.675415730337\n",
      "-1.175137400786\n",
      " 1.880890350877\n",
      " 1.328837920489\n",
      " 0.297905884029\n",
      " 2.731573033708\n",
      "-3.161046340433\n",
      " 3.785967863019\n"
     ]
    }
   ],
   "source": [
    "#Convert to recursion form x_new = Cx+D\n",
    "C, D = convert_to_iteration(A, B)\n",
    "\n",
    "print(\"\\nMatrix C:\"); output_matrix(C)\n",
    "print(\"\\nMatrix D:\"); output_matrix(D)"
   ]
  },
  {
   "cell_type": "code",
   "execution_count": 25,
   "id": "71de52ec",
   "metadata": {},
   "outputs": [
    {
     "name": "stdout",
     "output_type": "stream",
     "text": [
      "Shrinking value: 0.892134831461, Additional value: 1.000000000000, Threshold: 0.000000120907\n",
      "                       x1              x2              x3              x4              x5              x6              x7              x8              x9             x10           error\n",
      "Iteration                                                                                                                                                                                \n",
      "0          0.000000000000  0.000000000000  0.000000000000  0.000000000000  0.000000000000  0.000000000000  0.000000000000  0.000000000000  0.000000000000  0.000000000000             NaN\n",
      "1          2.372676864245 -1.240491025641  2.675415730337 -1.175137400786  1.880890350877  1.328837920489  0.297905884029  2.731573033708 -3.161046340433  3.785967863019  1.000000000000\n",
      "2          1.209554697354 -1.731908259876  2.067464277633 -2.441607485884  1.565900857901  0.829208380800  1.189771612046  1.785334420966 -3.380198572453  2.749009321837  0.374673279676\n",
      "3          1.619379918694 -1.481556106586  2.664174696561 -1.985180874243  1.475442122827  1.020866204332  0.975194940644  2.160729430411 -3.062081562411  3.039319354440  0.194870844152\n",
      "4          1.476160196994 -1.559549968565  2.447762922526 -2.199775273954  1.485778477218  0.986386248163  1.007903045514  1.944653840476 -3.192081544854  2.975047164249  0.067796442852\n",
      "5          1.541000924959 -1.528807532065  2.525891913199 -2.113865801217  1.503060248338  1.004803347599  0.990622966667  2.022764051871 -3.135391998740  3.011593913534  0.027399914515\n",
      "6          1.511806087915 -1.544512807617  2.489183358876 -2.151421968226  1.499213464268  0.996751331490  1.003206904196  1.990259890688 -3.156344049176  2.995872741128  0.011898629054\n",
      "7          1.523442893431 -1.538241537206  2.504533530379 -2.135363536316  1.500475607194  1.001283311107  0.998990651986  2.004199761823 -3.147159874757  3.002020054901  0.005102515458\n",
      "8          1.518464455721 -1.540795055204  2.498054669626 -2.141998655369  1.499796336633  0.999556040837  1.000536843943  1.998188328117 -3.151176033518  2.999137401297  0.002105600887\n",
      "9          1.520645558382 -1.539659787581  2.500826121142 -2.139138678051  1.500082154190  1.000212537911  0.999760546073  2.000759493237 -3.149497487459  3.000347490101  0.000908074170\n",
      "10         1.519729147041 -1.540142347074  2.499647740668 -2.140363416660  1.499965624593  0.999907015108  1.000093567371  1.999677477245 -3.150215162534  2.999848736879  0.000388779352\n",
      "11         1.520116226440 -1.539939606533  2.500149689816 -2.139846024292  1.500014960344  1.000037758863  0.999959493580  2.000138207776 -3.149909420875  3.000063670518  0.000164256269\n",
      "12         1.519950732856 -1.540026037960  2.499936654058 -2.140066095650  1.499993473047  0.999983647111  1.000016958986  1.999941522404 -3.150039081568  2.999971916682  0.000069863057\n",
      "13         1.520021194882 -1.539989181911  2.500027239917 -2.139972346439  1.500002628305  1.000006809747  0.999992133670  2.000025019143 -3.149983880270  3.000010845025  0.000029761807\n",
      "14         1.519991269289 -1.540004852674  2.499988658795 -2.140012210416  1.499998787224  0.999996909305  1.000002653478  1.999989523218 -3.150007360653  2.999994298107  0.000012655201\n",
      "15         1.520003993551 -1.539998194353  2.500005060425 -2.139995260507  1.500000425766  1.000001112636  0.999998200927  2.000004630982 -3.149997375153  3.000001336503  0.000005380928\n",
      "16         1.519998578969 -1.540001026586  2.499998086749 -2.140002469520  1.499999725594  0.999999327221  1.000000097781  1.999998205638 -3.150001622723  2.999998340872  0.000002288574\n",
      "17         1.520000882154 -1.539999821372  2.500001053585 -2.139999402908  1.500000022695  1.000000086832  0.999999289587  2.000000938051 -3.149999816383  2.999999614661  0.000000973528\n",
      "18         1.519999902791 -1.540000333882  2.499999791713 -2.140000707202  1.499999896447  0.999999763508  0.999999633012  1.999999775891 -3.150000584686  2.999999073047  0.000000414062\n",
      "19         1.520000319335 -1.540000115934  2.500000328378 -2.140000152503  1.499999950191  0.999999900985  0.999999487023  2.000000270206 -3.150000257896  2.999999303460  0.000000176095\n",
      "20         1.520000142154 -1.540000208642  2.500000100122 -2.140000388434  1.499999927330  0.999999842530  0.999999549144  2.000000059962 -3.150000396881  2.999999205458  0.000000074899\n"
     ]
    }
   ],
   "source": [
    "#Calculate the result\n",
    "x0 = np.array([0,0,0,0,0,0,0,0,0,0]) #initial value\n",
    "domiType = check_dominance(A)\n",
    "eps = None\n",
    "eta = 1e-6\n",
    "\n",
    "df_history = fixed_point_matrix_iteration(A, C, D, x0, domiType, eps, eta)\n",
    "print(df_history)\n"
   ]
  },
  {
   "cell_type": "code",
   "execution_count": 26,
   "id": "fb73d0f0",
   "metadata": {},
   "outputs": [
    {
     "name": "stdout",
     "output_type": "stream",
     "text": [
      "Approximate solution:\n",
      "x1     1.520000142154\n",
      "x2    -1.540000208642\n",
      "x3     2.500000100122\n",
      "x4    -2.140000388434\n",
      "x5     1.499999927330\n",
      "x6     0.999999842530\n",
      "x7     0.999999549144\n",
      "x8     2.000000059962\n",
      "x9    -3.150000396881\n",
      "x10    2.999999205458\n"
     ]
    }
   ],
   "source": [
    "solution_series = df_history.filter(regex=r'^x\\d+$').iloc[-1]\n",
    "print(\"Approximate solution:\"),\n",
    "print(solution_series.to_string())"
   ]
  },
  {
   "cell_type": "markdown",
   "id": "e6cb6683",
   "metadata": {},
   "source": [
    "## 2. Ma trận chéo trội Cột"
   ]
  },
  {
   "cell_type": "markdown",
   "id": "0f581738",
   "metadata": {},
   "source": [
    "### Thuật toán"
   ]
  },
  {
   "cell_type": "code",
   "execution_count": 27,
   "id": "54b6ff88",
   "metadata": {},
   "outputs": [],
   "source": [
    "def convert_to_iteration_2(A: np.ndarray, \n",
    "                           B: np.ndarray, \n",
    "                          ) -> Tuple[np.ndarray, np.ndarray]:\n",
    "    \"\"\"\n",
    "    Prepares iteration y_{k+1} = C y_k + D for column-dominant case.\n",
    "    \"\"\"\n",
    "\n",
    "    # 1. T = diag of 1 / diagonal entries of A\n",
    "    T = np.diag(1.0 / np.diag(A))\n",
    "\n",
    "    # 2. C = I - A * T\n",
    "    n = A.shape[0]\n",
    "    C = np.eye(n) - A.dot(T)\n",
    "    \n",
    "    # 3. D = B\n",
    "    D = B.copy()\n",
    "\n",
    "    return T, C, D"
   ]
  },
  {
   "cell_type": "code",
   "execution_count": 28,
   "id": "34f43335",
   "metadata": {},
   "outputs": [],
   "source": [
    "def fixed_point_matrix_iteration_2(\n",
    "    A: np.ndarray,\n",
    "    T: np.ndarray,\n",
    "    C: np.ndarray, #main input\n",
    "    D: np.ndarray,\n",
    "    x0: Union[np.ndarray, list],\n",
    "    domiType: int,\n",
    "    eps: float,\n",
    "    eta: float\n",
    ") -> np.ndarray:\n",
    "    \"\"\"\n",
    "    Iterates y_{k+1} = C y_k + D for column-dominant systems.\n",
    "    \n",
    "    Parameters:\n",
    "    - C: (n×n) iteration matrix\n",
    "    - D: (n,) constant vector\n",
    "    - y0: initial guess (n,)\n",
    "    - domiType: dominance type (must be 2 or 3 for column-dominant)\n",
    "    - eps: relative error tolerance\n",
    "    \n",
    "    Uses:\n",
    "    - vector norm: 1-norm\n",
    "    - matrix norm: column-sum norm\n",
    "    - alpha = max|diag(A)| / min|diag(A)| from original A\n",
    "    \n",
    "    Prints each iteration's y and error, stops when\n",
    "      ||y_new - y_old||_1 <= eps * (1 - q) / (alpha * q)\n",
    "    \n",
    "    Returns:\n",
    "    - y_new: approximate solution vector\n",
    "    \"\"\"\n",
    "     # Validate tolerance inputs\n",
    "    if (eps is None) == (eta is None):\n",
    "        raise ValueError(\"Specify exactly one of eps (exact) or eta (relative)\")\n",
    "\n",
    "    # Set norms and α, q based on dominance type\n",
    "    if domiType in (2,3):\n",
    "        vec_norm = lambda x: np.sum(np.abs(x))\n",
    "        q = np.max(np.sum(np.abs(C), axis=0))  # column-sum norm\n",
    "        diag_vals = np.abs(np.diag(A))         # A should be defined globally\n",
    "        alpha = np.max(diag_vals) / np.min(diag_vals)\n",
    "    else:\n",
    "        raise ValueError(\"domiType must be 2 for column-dominant iteration\")\n",
    "\n",
    "    # Convergence threshold\n",
    "    tol = (eps if eps is not None else eta) * (1 - q) / (alpha * q)\n",
    "    print(f\"Shrinking value: {q:.12f}, Additional value: {alpha:.12f}, Threshold: {tol:.12f}\")\n",
    "\n",
    "    # Initialize\n",
    "    x_old = np.array(x0, dtype=float).flatten()\n",
    "    T_inv = np.diag(np.diag(A)); y_old = T_inv.dot(x_old)\n",
    "    history = [np.concatenate([y_old, x_old])]\n",
    "    errors = [np.nan]\n",
    "\n",
    "    while True:\n",
    "        y_new = C.dot(y_old) + D\n",
    "        x_new = T.dot(y_new)\n",
    "        if eps is not None:\n",
    "            err = vec_norm(x_new - x_old)\n",
    "        else:\n",
    "            err = vec_norm(x_new - x_old) / vec_norm(x_new)\n",
    "\n",
    "        # Prepare DataFrame for display\n",
    "        history.append(np.concatenate([y_new, x_new]))\n",
    "        errors.append(err)\n",
    "        y_old = y_new; x_old = x_new;\n",
    "        if err <= tol:\n",
    "            break\n",
    "        \n",
    "    # Compile DataFrame\n",
    "    n = len(x_new)\n",
    "    df = pd.DataFrame(history, columns=[f\"y{i+1}\" for i in range(n)] + [f\"x{i+1}\" for i in range(n)])\n",
    "    df[\"error\"] = errors\n",
    "    df.index.name = \"Iteration\"\n",
    "    return df"
   ]
  },
  {
   "cell_type": "markdown",
   "id": "db549969",
   "metadata": {},
   "source": [
    "### Kết quả"
   ]
  },
  {
   "cell_type": "code",
   "execution_count": 29,
   "id": "0b69c51f",
   "metadata": {},
   "outputs": [
    {
     "name": "stdout",
     "output_type": "stream",
     "text": [
      "\n",
      "Matrix A:\n",
      " 34.4721   7.1502   7.7019   2.1981   8.4253\n",
      "  3.1972  32.5598   4.5293   9.6084   2.1885\n",
      "  8.7633   8.9285  26.2682   2.0614   6.7754\n",
      "  8.4911   6.9724   7.4731  31.1989   2.5773\n",
      "  7.2342   7.8641   0.2359   8.7465  21.4682\n",
      "\n",
      "Check dominace of A: 2\n",
      "\n",
      "Matrix B:\n",
      " 4.9119\n",
      " 5.7773\n",
      " 6.2444\n",
      " 7.7651\n",
      " 7.6242\n"
     ]
    }
   ],
   "source": [
    "#Original matrix Ax=B\n",
    "A = input_matrix('JCB_input_A1.txt', convert_fractions=False)\n",
    "B = input_matrix('JCB_input_B1.txt', convert_fractions=False).flatten() #remove flatten if B is multi-column matrix\n",
    "\n",
    "print(\"\\nMatrix A:\"); output_matrix(A)\n",
    "print(\"\\nCheck dominace of A:\", check_dominance(A));\n",
    "print(\"\\nMatrix B:\"); output_matrix(B)"
   ]
  },
  {
   "cell_type": "code",
   "execution_count": 30,
   "id": "869633b1",
   "metadata": {},
   "outputs": [
    {
     "name": "stdout",
     "output_type": "stream",
     "text": [
      "\n",
      "Matrix C:\n",
      "            0.0 -0.219602086008 -0.293202427269 -0.070454407046 -0.392454886763\n",
      "-0.092747468242             0.0 -0.172425213757 -0.307972396463  -0.10194147623\n",
      "-0.254214277633 -0.274218514856             0.0 -0.066072842312 -0.315601680625\n",
      "-0.246318036905 -0.214141364505 -0.284492275832             0.0 -0.120051983865\n",
      "-0.209856666696 -0.241527896363 -0.008980440228  -0.28034642247             0.0\n",
      "\n",
      "Matrix D:\n",
      " 4.9119\n",
      " 5.7773\n",
      " 6.2444\n",
      " 7.7651\n",
      " 7.6242\n"
     ]
    }
   ],
   "source": [
    "#Convert to recursion form x_new = Cx+D\n",
    "T, C, D = convert_to_iteration_2(A, B)\n",
    "\n",
    "print(\"\\nMatrix C:\"); output_matrix(C)\n",
    "print(\"\\nMatrix D:\"); output_matrix(D)"
   ]
  },
  {
   "cell_type": "code",
   "execution_count": 31,
   "id": "4bbdc539",
   "metadata": {},
   "outputs": [
    {
     "name": "stdout",
     "output_type": "stream",
     "text": [
      "Shrinking value: 0.949489861731, Additional value: 1.605728472811, Threshold: 0.000000033130\n",
      "                        y1               y2               y3               y4               y5              x1              x2              x3              x4              x5           error\n",
      "Iteration                                                                                                                                                                                     \n",
      "0          34.472100000000  32.559800000000  26.268200000000  31.198900000000  21.468200000000  1.000000000000  1.000000000000  1.000000000000  1.000000000000  1.000000000000             NaN\n",
      "1         -20.563600000000 -13.746100000000 -20.284200000000 -17.748800000000 -16.456500000000 -0.596528787048 -0.422180111671 -0.772196039318 -0.568891851956 -0.766552389115  8.126349179108\n",
      "2          21.586863933489  18.325769732746  21.607808567430  23.520227888212  20.417648796270  0.626212616391  0.562834222960  0.822584286987  0.753880037059  0.951064774703  6.842925117209\n",
      "3         -15.118048936718  -9.275544195693 -12.266446963834 -10.074873162129  -8.119991299718 -0.438558977745 -0.284877185846 -0.466969452183 -0.322923986491 -0.378233447598  5.608138987962\n",
      "4          14.441930358752  13.225052235285  15.859508250099  17.939756304121  15.971738775621  0.418945476451  0.406177317898  0.603753140683  0.575012462110  0.743971957389  4.639423404393\n",
      "...                    ...              ...              ...              ...              ...             ...             ...             ...             ...             ...             ...\n",
      "98          0.907742008920   2.956269968151   3.211701207132   5.372305660332   5.184733743591  0.026332657683  0.090795089901  0.122265751256  0.172195354975  0.241507613288  0.000000066887\n",
      "99          0.907741654590   2.956269699270   3.211700872929   5.372305328087   5.184733458289  0.026332647404  0.090795081643  0.122265738533  0.172195344326  0.241507599999  0.000000055198\n",
      "100         0.907741947002   2.956269921165   3.211701148730   5.372305602273   5.184733693735  0.026332655887  0.090795088458  0.122265749032  0.172195353114  0.241507610966  0.000000045553\n",
      "101         0.907741705688   2.956269738046   3.211700921124   5.372305376000   5.184733499433  0.026332648887  0.090795082834  0.122265740368  0.172195345862  0.241507601915  0.000000037592\n",
      "102         0.907741904833   2.956269889165   3.211701108957   5.372305562732   5.184733659781  0.026332654664  0.090795087475  0.122265747518  0.172195351847  0.241507609384  0.000000031023\n",
      "\n",
      "[103 rows x 11 columns]\n"
     ]
    }
   ],
   "source": [
    "#Calculate the result\n",
    "domiType = check_dominance(A)\n",
    "x0 = [1,1,1,1,1] #initial value\n",
    "eps = 1e-6\n",
    "eta = None\n",
    "\n",
    "df_history = fixed_point_matrix_iteration_2(A, T, C, D, x0, domiType, eps, eta)\n",
    "print(df_history)\n"
   ]
  },
  {
   "cell_type": "code",
   "execution_count": 32,
   "id": "c988eabb",
   "metadata": {},
   "outputs": [
    {
     "name": "stdout",
     "output_type": "stream",
     "text": [
      "Approximate solution:\n",
      "x1    0.026332654664\n",
      "x2    0.090795087475\n",
      "x3    0.122265747518\n",
      "x4    0.172195351847\n",
      "x5    0.241507609384\n"
     ]
    }
   ],
   "source": [
    "solution_series = df_history.filter(regex=r'^x\\d+$').iloc[-1]\n",
    "print(\"Approximate solution:\"),\n",
    "print(solution_series.to_string())"
   ]
  }
 ],
 "metadata": {
  "kernelspec": {
   "display_name": "base",
   "language": "python",
   "name": "python3"
  },
  "language_info": {
   "codemirror_mode": {
    "name": "ipython",
    "version": 3
   },
   "file_extension": ".py",
   "mimetype": "text/x-python",
   "name": "python",
   "nbconvert_exporter": "python",
   "pygments_lexer": "ipython3",
   "version": "3.12.9"
  }
 },
 "nbformat": 4,
 "nbformat_minor": 5
}
