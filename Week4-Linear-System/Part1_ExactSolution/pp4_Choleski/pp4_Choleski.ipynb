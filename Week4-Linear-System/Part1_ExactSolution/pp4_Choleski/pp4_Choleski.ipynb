{
 "cells": [
  {
   "cell_type": "markdown",
   "metadata": {},
   "source": [
    "Phân tách Choleski\n"
   ]
  },
  {
   "cell_type": "code",
   "execution_count": 10,
   "metadata": {},
   "outputs": [],
   "source": [
    "import numpy as np\n",
    "\n",
    "def read_matrix_from_file(filename):\n",
    "    \"\"\"\n",
    "    Read a matrix from a text file and display it.\n",
    "    \n",
    "    Parameters:\n",
    "    filename (str): Path to the text file containing the matrix\n",
    "    \n",
    "    Returns:\n",
    "    numpy.ndarray: The matrix read from the file\n",
    "    \"\"\"\n",
    "    try:\n",
    "        # Read the matrix from the file\n",
    "        matrix = np.loadtxt(filename)\n",
    "        \n",
    "        # Display the matrix\n",
    "        print(\"Matrix read from file:\")\n",
    "        print(matrix)\n",
    "        \n",
    "        return matrix\n",
    "    \n",
    "    except FileNotFoundError:\n",
    "        print(f\"Error: File '{filename}' not found.\")\n",
    "        return None\n",
    "    except Exception as e:\n",
    "        print(f\"Error reading file: {str(e)}\")\n",
    "        return None"
   ]
  },
  {
   "cell_type": "markdown",
   "metadata": {},
   "source": [
    "Phân tách Choleski giải AX=B\n",
    "\n",
    "Điều kiện: A là ma trận đối xứng\n",
    "\n",
    "Chú ý: Muốn tìm ma trận nghịch đảo ta biến đổi AX = I --> (A^T * A) * X = M * X = A^T --> A^-1 = M^-1 * A^T\n",
    "(Choleski M = U^T * U trước)"
   ]
  },
  {
   "cell_type": "code",
   "execution_count": 11,
   "metadata": {},
   "outputs": [],
   "source": [
    "def cholesky_decomposition(A):\n",
    "    \"\"\"\n",
    "    Perform Cholesky decomposition on matrix A.\n",
    "    \n",
    "    Parameters:\n",
    "    A (numpy.ndarray): Input symmetric positive-definite matrix\n",
    "    \n",
    "    Returns:\n",
    "    numpy.ndarray: Lower triangular matrix L where A = L × L^T\n",
    "    \"\"\"\n",
    "    n = len(A)\n",
    "    L = np.zeros((n, n))\n",
    "    \n",
    "    for i in range(n):\n",
    "        for j in range(i + 1):\n",
    "            if i == j:\n",
    "                # Diagonal elements\n",
    "                sum_sq = sum(L[i][k] ** 2 for k in range(j))\n",
    "                L[i][j] = np.sqrt(A[i][i] - sum_sq)\n",
    "            else:\n",
    "                # Non-diagonal elements\n",
    "                sum_mult = sum(L[i][k] * L[j][k] for k in range(j))\n",
    "                L[i][j] = (A[i][j] - sum_mult) / L[j][j]\n",
    "    \n",
    "    return L\n"
   ]
  },
  {
   "cell_type": "code",
   "execution_count": 12,
   "metadata": {},
   "outputs": [],
   "source": [
    "def verify_cholesky_decomposition(A, L):\n",
    "    \"\"\"\n",
    "    Verify Cholesky decomposition by multiplying L and L^T and comparing with original matrix.\n",
    "    \n",
    "    Parameters:\n",
    "    A (numpy.ndarray): Original matrix\n",
    "    L (numpy.ndarray): Lower triangular matrix\n",
    "    \"\"\"\n",
    "    print(\"\\nLower triangular matrix L:\")\n",
    "    print(L)\n",
    "    print(\"\\nUpper triangular matrix L^T:\")\n",
    "    print(L.T)\n",
    "    \n",
    "    # Multiply L and L^T\n",
    "    LLT = np.dot(L, L.T)\n",
    "    print(\"\\nL × L^T:\")\n",
    "    print(LLT)\n",
    "    \n",
    "    print(\"\\nOriginal matrix A:\")\n",
    "    print(A)\n",
    "    \n",
    "    # Check if L×L^T equals A\n",
    "    if np.allclose(LLT, A):\n",
    "        print(\"\\nVerification successful: L×L^T = A\")\n",
    "    else:\n",
    "        print(\"\\nVerification failed: L×L^T ≠ A\")"
   ]
  },
  {
   "cell_type": "code",
   "execution_count": 13,
   "metadata": {},
   "outputs": [
    {
     "name": "stdout",
     "output_type": "stream",
     "text": [
      "Matrix read from file:\n",
      "[[ 2.  3. -5.]\n",
      " [ 1.  4.  2.]\n",
      " [ 3.  7.  1.]]\n",
      "Error: Matrix must be symmetric for Cholesky decomposition\n"
     ]
    }
   ],
   "source": [
    "# Example usage\n",
    "A = read_matrix_from_file('CLSK_input_A.txt')\n",
    "if A is not None:\n",
    "    # Check if matrix is symmetric\n",
    "    if not np.allclose(A, A.T):\n",
    "        print(\"Error: Matrix must be symmetric for Cholesky decomposition\")\n",
    "    else:\n",
    "        L = cholesky_decomposition(A)\n",
    "        verify_cholesky_decomposition(A, L)"
   ]
  }
 ],
 "metadata": {
  "kernelspec": {
   "display_name": "base",
   "language": "python",
   "name": "python3"
  },
  "language_info": {
   "codemirror_mode": {
    "name": "ipython",
    "version": 3
   },
   "file_extension": ".py",
   "mimetype": "text/x-python",
   "name": "python",
   "nbconvert_exporter": "python",
   "pygments_lexer": "ipython3",
   "version": "3.12.9"
  }
 },
 "nbformat": 4,
 "nbformat_minor": 2
}
