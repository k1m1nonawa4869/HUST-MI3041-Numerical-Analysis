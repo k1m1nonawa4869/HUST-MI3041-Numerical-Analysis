{
 "cells": [
  {
   "cell_type": "markdown",
   "id": "68cc809e",
   "metadata": {},
   "source": [
    "Credit: Đoàn Vĩnh Nhân - Toán Tin K68 - 20237376"
   ]
  },
  {
   "cell_type": "markdown",
   "id": "966e3db4-2050-4695-8a67-3e6a16c08edd",
   "metadata": {},
   "source": [
    "### Phương pháp Gauss - Jordan\n",
    "+ Input: Ma trận $A_{m\\times n},B_{m\\times q}$\n",
    "+ Output: ma trận $X_{n\\times (q+k)}$, với $k$ là số hàng bằng 0 sau khi khử $AB$. Các phần tử trên cột q+1, q+2,...q+k đặc trưng cho sự phụ thuộc của các phần tử còn lại của $X$ vào các phần tử tự do.\n",
    "\n",
    "Ý tưởng thuật toán: khử ma trận tương tự gauss nhưng khác biệt ở cách chọn phần tử khử. Hạn chế sai số trong quá trình khử do chia cho số gần bằng 0\n",
    "\n",
    "1. Xét ma trận mở rộng A|B, chọn phần tử khử a trong ma trận\n",
    "   + Ưu tiên 1: $|a|=1$\n",
    "   + Ưu tiên 2: $|a| = \\max\\{|a_{ij}|\\}$\n",
    "   + Chọn phần tử khử thứ k có hàng và cột khác với k-1 phần tử trước đó\n",
    "\n",
    "2. Cho $t$ chạy từ $1$ đến $m,\\, t \\ne p$ thực hiện: $$ L_t- \\dfrac{a_{tq}}{a_{pq}}L_p\\Rightarrow L_t \\quad (*)$$\n",
    "\n",
    "\n",
    "Thuật toán\n",
    "\n",
    "1. Tạo 2 danh sách rowuse, coluse rỗng, dùng lưu hàng, cột của các phần tử khử đã chọn.\n",
    "2. Tìm kiếm phần tử khử theo ưu tiên (1), (2) ở trong những hàng, cột khác các phần tử trong rowuse, coluse\n",
    "3. Khử ma trận A|B theo công thức (*). Lưu vị trí cột, hàng của phần tử khử vào rowused,colused.\n",
    "4. Nếu rowuse == row hoặc coluse == col hoặc pivot == 0 (trường hợp có hàng bằng 0) đến bước 5, nếu không quay lại bước 2\n",
    "5. Chuẩn hoá A|B : chia từng hàng cho pivot (nếu có) và sắp xếp về dạng bậc thang\n",
    "\n",
    "6. Trả về kết quả nghiệm (vô nghiệm, nghiệm duy nhất, nghiệm tổng quát của trường hợp vô số nghiệm)\n",
    "+ Chuyển các cột không có phần tử khử của $A$ ra sau $B$ (Các phần tử tự do)\n",
    "+ Loại bỏ các hàng bằng 0\n",
    "+ Trả về B (giờ đây B chính là X do các ma trận A giờ đây đã là ma trận đơn vị)"
   ]
  },
  {
   "cell_type": "code",
   "execution_count": 1,
   "id": "6b634fc3-63f3-4490-bfbe-4988dd367f9f",
   "metadata": {},
   "outputs": [],
   "source": [
    "from sympy import Matrix, zeros, N\n",
    "import numpy as np\n",
    "\n",
    "#Hàm này được thêm vào để loại bỏ các giá trị nhỏ hơn 10⁻¹⁰, đảm bảo chúng được coi là 0.\n",
    "def chop_small_values(mat):\n",
    "    if isinstance(mat, Matrix):\n",
    "        return mat.applyfunc(lambda x: 0 if abs(x) < 1e-10 else x)\n",
    "    else:\n",
    "        return 0 if abs(mat) < 1e-10 else mat\n",
    "\n",
    "#Hàm tìm kiếm phần tử khử, trả về giá trị và vị trí của phần tử khử\n",
    "def findpivot(AB,rowA,colA,rowused,colused):\n",
    "    #Hàng và cột chưa dùng\n",
    "    row = list(set(range(rowA)) - set(rowused))\n",
    "    col = list(set(range(colA)) - set(colused))\n",
    "    \n",
    "    #Ưu tiên 1 và ưu tiên 2\n",
    "    firts_prioritize_element = [AB[i, j] for i in row for j in col\n",
    "                                if np.abs(float(AB[i, j])) == float(int(1))]\n",
    "    if firts_prioritize_element:\n",
    "        pivot = min(firts_prioritize_element, key=abs)\n",
    "    else:\n",
    "        second_prioritize_element = [AB[i, j] for i in row for j in col]\n",
    "        pivot = max(second_prioritize_element, key=abs)\n",
    "    positions = [[i, j] for i in row for j in col if AB[i, j] == pivot]\n",
    "    return pivot, positions\n",
    "#Hàm khử gauss_jordan\n",
    "def gauss_jordan(A,B):\n",
    "\n",
    "    A, B = Matrix(N(A)), Matrix(N(B))\n",
    "    rowused = []\n",
    "    colused = []\n",
    "    rowA, colA = A.shape\n",
    "    AB = chop_small_values(A.row_join(B))\n",
    "    display(AB)\n",
    "    standardization = []\n",
    "\n",
    "    #Tìm pivot và khử theo công thức (1)\n",
    "    while ((len(rowused)!=rowA) and (len(colused)!=colA)):\n",
    "        pivot = findpivot(AB,rowA,colA,rowused,colused)[0]\n",
    "        if (abs(pivot) < 1e-10): break\n",
    "        pivotrow, pivotcol = findpivot(AB,rowA,colA,rowused,colused)[1][0]\n",
    "        for i in [x for x in range(rowA) if x!=pivotrow]:\n",
    "            AB[i,:] = AB[i,:] - AB[pivotrow,:]*AB[i,pivotcol]/pivot\n",
    "        rowused.append(pivotrow)\n",
    "        colused.append(pivotcol)\n",
    "        standardization.append([pivotrow,pivotcol])\n",
    "        print(\"Khử\")\n",
    "        AB = chop_small_values(AB)\n",
    "        display(AB)\n",
    "\n",
    "    #Chuẩn hoá, chia các hàng cho pivot\n",
    "    print(\"Chuẩn hoá\")\n",
    "    for i in range(len(standardization)):\n",
    "        pivotrow, pivotcol = standardization[i]\n",
    "        AB[pivotrow,:] = AB[pivotrow,:]/AB[pivotrow,pivotcol]\n",
    "    return chop_small_values(AB), colused\n",
    "#Danh sách các vị trí khác 0 đầu tiên của từng hàng, dùng để sắp xếp AB theo cấu trúc bậc thang\n",
    "def indexpivot(AB):\n",
    "    rowAB, colAB = AB.shape\n",
    "    index = []\n",
    "    for row in range(rowAB):\n",
    "        for col in range(colAB):\n",
    "            if abs(AB[row, col]) > 1e-10: \n",
    "                index.append(col)\n",
    "                break\n",
    "            if col == colAB - 1:\n",
    "                index.append(col + 1)\n",
    "    return index\n",
    "#Giải AX=B\n",
    "def gauss_jordan_solve(A, B):\n",
    "    #Ma trận đã khử AB\n",
    "    A, B = Matrix(N(A)), Matrix(N(B))\n",
    "    AB,colused = gauss_jordan(A, B)\n",
    "    display(AB)\n",
    "    #Kiểm tra trường hợp vô nghiệm\n",
    "    for i in indexpivot(AB):\n",
    "        if i >= A.shape[1] and i < AB.shape[1]:\n",
    "            print(\"Hệ vô nghiệm\")\n",
    "            return \n",
    "    \n",
    "    print(f\"Số phần tử tự do là {len(list(set(range(A.shape[1]))-set(colused)))}: X{sorted([x+1 for x in list(set(range(A.shape[1]))-set(colused))])}.\")\n",
    "\n",
    "    return"
   ]
  },
  {
   "cell_type": "code",
   "execution_count": 2,
   "id": "e9ab8bac-bbee-43ac-bd02-ce771e8f600f",
   "metadata": {
    "scrolled": true
   },
   "outputs": [
    {
     "name": "stdout",
     "output_type": "stream",
     "text": [
      "A =\n"
     ]
    },
    {
     "data": {
      "text/latex": [
       "$\\displaystyle \\left[\\begin{matrix}-3.0 & 5.0 & 5.0 & -11.0 & 0.0\\\\-2.0 & 11.0 & 17.0 & -35.0 & 2.0\\\\-4.0 & -9.0 & 2.0 & 6.0 & 12.0\\\\9.0 & -3.0 & 25.0 & -39.0 & 16.0\\\\6.0 & 4.0 & -1.0 & -7.0 & -6.0\\end{matrix}\\right]$"
      ],
      "text/plain": [
       "Matrix([\n",
       "[-3.0,  5.0,  5.0, -11.0,  0.0],\n",
       "[-2.0, 11.0, 17.0, -35.0,  2.0],\n",
       "[-4.0, -9.0,  2.0,   6.0, 12.0],\n",
       "[ 9.0, -3.0, 25.0, -39.0, 16.0],\n",
       "[ 6.0,  4.0, -1.0,  -7.0, -6.0]])"
      ]
     },
     "metadata": {},
     "output_type": "display_data"
    },
    {
     "name": "stdout",
     "output_type": "stream",
     "text": [
      "B =\n"
     ]
    },
    {
     "data": {
      "text/latex": [
       "$\\displaystyle \\left[\\begin{matrix}-4.0 & -1.0\\\\-7.0 & 6.0\\\\7.0 & -8.0\\\\8.0 & 19.0\\\\-2.0 & 10.0\\end{matrix}\\right]$"
      ],
      "text/plain": [
       "Matrix([\n",
       "[-4.0, -1.0],\n",
       "[-7.0,  6.0],\n",
       "[ 7.0, -8.0],\n",
       "[ 8.0, 19.0],\n",
       "[-2.0, 10.0]])"
      ]
     },
     "metadata": {},
     "output_type": "display_data"
    },
    {
     "name": "stdout",
     "output_type": "stream",
     "text": [
      "A|B=\n"
     ]
    },
    {
     "data": {
      "text/latex": [
       "$\\displaystyle \\left[\\begin{matrix}-3.0 & 5.0 & 5.0 & -11.0 & 0 & -4.0 & -1.0\\\\-2.0 & 11.0 & 17.0 & -35.0 & 2.0 & -7.0 & 6.0\\\\-4.0 & -9.0 & 2.0 & 6.0 & 12.0 & 7.0 & -8.0\\\\9.0 & -3.0 & 25.0 & -39.0 & 16.0 & 8.0 & 19.0\\\\6.0 & 4.0 & -1.0 & -7.0 & -6.0 & -2.0 & 10.0\\end{matrix}\\right]$"
      ],
      "text/plain": [
       "Matrix([\n",
       "[-3.0,  5.0,  5.0, -11.0,    0, -4.0, -1.0],\n",
       "[-2.0, 11.0, 17.0, -35.0,  2.0, -7.0,  6.0],\n",
       "[-4.0, -9.0,  2.0,   6.0, 12.0,  7.0, -8.0],\n",
       "[ 9.0, -3.0, 25.0, -39.0, 16.0,  8.0, 19.0],\n",
       "[ 6.0,  4.0, -1.0,  -7.0, -6.0, -2.0, 10.0]])"
      ]
     },
     "metadata": {},
     "output_type": "display_data"
    },
    {
     "name": "stdout",
     "output_type": "stream",
     "text": [
      "Khử\n"
     ]
    },
    {
     "data": {
      "text/latex": [
       "$\\displaystyle \\left[\\begin{matrix}27.0 & 25.0 & 0 & -46.0 & -30.0 & -14.0 & 49.0\\\\100.0 & 79.0 & 0 & -154.0 & -100.0 & -41.0 & 176.0\\\\8.0 & -1.0 & 0 & -8.0 & 0 & 3.0 & 12.0\\\\159.0 & 97.0 & 0 & -214.0 & -134.0 & -42.0 & 269.0\\\\6.0 & 4.0 & -1.0 & -7.0 & -6.0 & -2.0 & 10.0\\end{matrix}\\right]$"
      ],
      "text/plain": [
       "Matrix([\n",
       "[ 27.0, 25.0,    0,  -46.0,  -30.0, -14.0,  49.0],\n",
       "[100.0, 79.0,    0, -154.0, -100.0, -41.0, 176.0],\n",
       "[  8.0, -1.0,    0,   -8.0,      0,   3.0,  12.0],\n",
       "[159.0, 97.0,    0, -214.0, -134.0, -42.0, 269.0],\n",
       "[  6.0,  4.0, -1.0,   -7.0,   -6.0,  -2.0,  10.0]])"
      ]
     },
     "metadata": {},
     "output_type": "display_data"
    },
    {
     "name": "stdout",
     "output_type": "stream",
     "text": [
      "Khử\n"
     ]
    },
    {
     "data": {
      "text/latex": [
       "$\\displaystyle \\left[\\begin{matrix}227.0 & 0 & 0 & -246.0 & -30.0 & 61.0 & 349.0\\\\732.0 & 0 & 0 & -786.0 & -100.0 & 196.0 & 1124.0\\\\8.0 & -1.0 & 0 & -8.0 & 0 & 3.0 & 12.0\\\\935.0 & 0 & 0 & -990.0 & -134.0 & 249.0 & 1433.0\\\\38.0 & 0 & -1.0 & -39.0 & -6.0 & 10.0 & 58.0\\end{matrix}\\right]$"
      ],
      "text/plain": [
       "Matrix([\n",
       "[227.0,    0,    0, -246.0,  -30.0,  61.0,  349.0],\n",
       "[732.0,    0,    0, -786.0, -100.0, 196.0, 1124.0],\n",
       "[  8.0, -1.0,    0,   -8.0,      0,   3.0,   12.0],\n",
       "[935.0,    0,    0, -990.0, -134.0, 249.0, 1433.0],\n",
       "[ 38.0,    0, -1.0,  -39.0,   -6.0,  10.0,   58.0]])"
      ]
     },
     "metadata": {},
     "output_type": "display_data"
    },
    {
     "name": "stdout",
     "output_type": "stream",
     "text": [
      "Khử\n"
     ]
    },
    {
     "data": {
      "text/latex": [
       "$\\displaystyle \\left[\\begin{matrix}-5.33333333333334 & 0 & 0 & 0 & 3.2969696969697 & -0.872727272727275 & -7.07878787878786\\\\-10.3333333333334 & 0 & 0 & 0 & 6.38787878787879 & -1.69090909090909 & -13.7151515151515\\\\0.444444444444445 & -1.0 & 0 & 0 & 1.08282828282828 & 0.987878787878788 & 0.420202020202019\\\\935.0 & 0 & 0 & -990.0 & -134.0 & 249.0 & 1433.0\\\\1.16666666666666 & 0 & -1.0 & 0 & -0.721212121212122 & 0.190909090909091 & 1.54848484848485\\end{matrix}\\right]$"
      ],
      "text/plain": [
       "Matrix([\n",
       "[-5.33333333333334,    0,    0,      0,    3.2969696969697, -0.872727272727275, -7.07878787878786],\n",
       "[-10.3333333333334,    0,    0,      0,   6.38787878787879,  -1.69090909090909, -13.7151515151515],\n",
       "[0.444444444444445, -1.0,    0,      0,   1.08282828282828,  0.987878787878788, 0.420202020202019],\n",
       "[            935.0,    0,    0, -990.0,             -134.0,              249.0,            1433.0],\n",
       "[ 1.16666666666666,    0, -1.0,      0, -0.721212121212122,  0.190909090909091,  1.54848484848485]])"
      ]
     },
     "metadata": {},
     "output_type": "display_data"
    },
    {
     "name": "stdout",
     "output_type": "stream",
     "text": [
      "Khử\n"
     ]
    },
    {
     "data": {
      "text/latex": [
       "$\\displaystyle \\left[\\begin{matrix}0 & 0 & 0 & 0 & 0 & 0 & 0\\\\-10.3333333333334 & 0 & 0 & 0 & 6.38787878787879 & -1.69090909090909 & -13.7151515151515\\\\0 & -1.0 & 0 & 0 & 1.35757575757576 & 0.915151515151515 & -0.16969696969697\\\\0 & 0 & 0 & -990.0 & 443.999999999998 & 96.0000000000009 & 192.000000000002\\\\0 & 0 & -1.0 & 0 & 0 & 0 & 0\\end{matrix}\\right]$"
      ],
      "text/plain": [
       "Matrix([\n",
       "[                0,    0,    0,      0,                0,                 0,                 0],\n",
       "[-10.3333333333334,    0,    0,      0, 6.38787878787879, -1.69090909090909, -13.7151515151515],\n",
       "[                0, -1.0,    0,      0, 1.35757575757576, 0.915151515151515, -0.16969696969697],\n",
       "[                0,    0,    0, -990.0, 443.999999999998,  96.0000000000009,  192.000000000002],\n",
       "[                0,    0, -1.0,      0,                0,                 0,                 0]])"
      ]
     },
     "metadata": {},
     "output_type": "display_data"
    },
    {
     "name": "stdout",
     "output_type": "stream",
     "text": [
      "Chuẩn hoá\n"
     ]
    },
    {
     "data": {
      "text/latex": [
       "$\\displaystyle \\left[\\begin{matrix}0 & 0 & 0 & 0 & 0 & 0 & 0\\\\1.0 & 0 & 0 & 0 & -0.618181818181816 & 0.163636363636363 & 1.32727272727273\\\\0 & 1.0 & 0 & 0 & -1.35757575757576 & -0.915151515151515 & 0.16969696969697\\\\0 & 0 & 0 & 1.0 & -0.448484848484847 & -0.0969696969696978 & -0.193939393939396\\\\0 & 0 & 1.0 & 0 & 0 & 0 & 0\\end{matrix}\\right]$"
      ],
      "text/plain": [
       "Matrix([\n",
       "[  0,   0,   0,   0,                  0,                   0,                  0],\n",
       "[1.0,   0,   0,   0, -0.618181818181816,   0.163636363636363,   1.32727272727273],\n",
       "[  0, 1.0,   0,   0,  -1.35757575757576,  -0.915151515151515,   0.16969696969697],\n",
       "[  0,   0,   0, 1.0, -0.448484848484847, -0.0969696969696978, -0.193939393939396],\n",
       "[  0,   0, 1.0,   0,                  0,                   0,                  0]])"
      ]
     },
     "metadata": {},
     "output_type": "display_data"
    },
    {
     "name": "stdout",
     "output_type": "stream",
     "text": [
      "Số phần tử tự do là 1: X[5].\n"
     ]
    }
   ],
   "source": [
    "A = Matrix(np.loadtxt(\"GJ_input_A.txt\"))\n",
    "print(\"A =\")\n",
    "display(A)\n",
    "print(\"B =\")\n",
    "B = Matrix(np.loadtxt(\"GJ_input_B.txt\"))\n",
    "display(B)\n",
    "print(\"A|B=\")\n",
    "gauss_jordan_solve(A,B)"
   ]
  }
 ],
 "metadata": {
  "kernelspec": {
   "display_name": "base",
   "language": "python",
   "name": "python3"
  },
  "language_info": {
   "codemirror_mode": {
    "name": "ipython",
    "version": 3
   },
   "file_extension": ".py",
   "mimetype": "text/x-python",
   "name": "python",
   "nbconvert_exporter": "python",
   "pygments_lexer": "ipython3",
   "version": "3.12.9"
  }
 },
 "nbformat": 4,
 "nbformat_minor": 5
}
