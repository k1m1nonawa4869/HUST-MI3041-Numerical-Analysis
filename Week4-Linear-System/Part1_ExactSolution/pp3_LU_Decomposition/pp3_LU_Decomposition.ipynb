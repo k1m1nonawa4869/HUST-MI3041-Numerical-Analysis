{
 "cells": [
  {
   "cell_type": "code",
   "execution_count": 15,
   "metadata": {},
   "outputs": [],
   "source": [
    "from fractions import Fraction\n",
    "from typing import Tuple, Union\n",
    "import numpy as np\n",
    "import pandas as pd\n",
    "\n",
    "pd.set_option('display.precision', 12)  # Increase decimal precision\n",
    "pd.set_option('display.width', 300)     # Wider display\n",
    "pd.set_option('display.max_columns', None)  # Show all column"
   ]
  },
  {
   "cell_type": "code",
   "execution_count": 16,
   "metadata": {},
   "outputs": [],
   "source": [
    "def input_matrix(filename, convert_fractions=False):\n",
    "    \"\"\"\n",
    "    Reads a matrix from a text file and returns it as a NumPy array.\n",
    "    Supports fractional entries if present (though your files use decimals).\n",
    "    \"\"\"\n",
    "    matrix = []\n",
    "\n",
    "    with open(filename, 'r') as f:\n",
    "        for line in f:\n",
    "            tokens = line.strip().split()\n",
    "            if not tokens:\n",
    "                continue\n",
    "\n",
    "            row = []\n",
    "            for token in tokens:\n",
    "                if '/' in token:\n",
    "                    # convert fractions if any includes fraction sign\n",
    "                    val = Fraction(token)\n",
    "                    row.append(float(val) if convert_fractions else val)\n",
    "                else:\n",
    "                    # parse as float directly\n",
    "                    row.append(float(token))\n",
    "\n",
    "            matrix.append(row)\n",
    "            \n",
    "    dtype = float if convert_fractions else object\n",
    "    return np.array(matrix, dtype=dtype)\n"
   ]
  },
  {
   "cell_type": "code",
   "execution_count": 17,
   "metadata": {},
   "outputs": [],
   "source": [
    "def output_matrix(X: np.ndarray, precision: int = 12):\n",
    "    \"\"\"\n",
    "    Prints a NumPy array (vector or matrix) in a clean tabular format using pandas.\n",
    "    \n",
    "    Parameters:\n",
    "    - X: np.ndarray, 1D or 2D array.\n",
    "    - precision: number of decimal places to round floats to.\n",
    "    \"\"\"\n",
    "    # Wrap 1D arrays into a 2D DataFrame for consistent display\n",
    "    if X.ndim == 1:\n",
    "        df = pd.DataFrame(X, columns=[\"value\"])\n",
    "    elif X.ndim == 2:\n",
    "        df = pd.DataFrame(X)\n",
    "    else:\n",
    "        raise ValueError(\"Only 1D or 2D arrays are supported.\")\n",
    "    \n",
    "    # Round floats\n",
    "    df = df.round(precision)\n",
    "    # Print without index/header for cleaner look\n",
    "    print(df.to_string(index=False, header=False))"
   ]
  },
  {
   "cell_type": "markdown",
   "metadata": {},
   "source": [
    "# Phân tách LU\n"
   ]
  },
  {
   "cell_type": "markdown",
   "metadata": {},
   "source": [
    "## Thuật toán"
   ]
  },
  {
   "cell_type": "markdown",
   "metadata": {},
   "source": [
    "Ax = B\n",
    "\n",
    "- Viết A = LU --> LUx = B\n",
    "- Đặt y=Ux --> Ly=B --> y = L^-1 B\n",
    "và x=U^-1y"
   ]
  },
  {
   "cell_type": "code",
   "execution_count": 18,
   "metadata": {},
   "outputs": [],
   "source": [
    "def lu_decomposition(A):\n",
    "    \"\"\"\n",
    "    Perform LU decomposition on matrix A with U having unit diagonal.\n",
    "    \n",
    "    Parameters:\n",
    "    A (numpy.ndarray): Input square matrix\n",
    "    \n",
    "    Returns:\n",
    "    tuple: (L, U) matrices where U has diagonal elements = 1\n",
    "    \"\"\"\n",
    "    n = len(A)\n",
    "    L = np.zeros((n, n))\n",
    "    U = np.zeros((n, n))\n",
    "    \n",
    "    # Set diagonal of U to 1\n",
    "    np.fill_diagonal(U, 1)\n",
    "    \n",
    "    # LU decomposition\n",
    "    for i in range(n):\n",
    "        # Lower triangular matrix\n",
    "        L[i][i] = A[i][i] - sum(L[i][j] * U[j][i] for j in range(i))\n",
    "        \n",
    "        for k in range(i + 1, n):\n",
    "            # Lower triangular elements\n",
    "            L[k][i] = A[k][i] - sum(L[k][j] * U[j][i] for j in range(i))\n",
    "            \n",
    "            # Upper triangular elements (normalized)\n",
    "            U[i][k] = (A[i][k] - sum(L[i][j] * U[j][k] for j in range(i))) / L[i][i]\n",
    "\n",
    "        print(f\"Step {i + 1}:\")\n",
    "        print(\"L:\", L, \"\\n\", \"U:\", U, \"\\n\")\n",
    "    \n",
    "    return L, U"
   ]
  },
  {
   "cell_type": "code",
   "execution_count": 19,
   "metadata": {},
   "outputs": [],
   "source": [
    "def verify_lu_decomposition(A, L, U):\n",
    "    \"\"\"\n",
    "    Verify LU decomposition by multiplying L and U and comparing with original matrix.\n",
    "    \n",
    "    Parameters:\n",
    "    A (numpy.ndarray): Original matrix\n",
    "    L (numpy.ndarray): Lower triangular matrix\n",
    "    U (numpy.ndarray): Upper triangular matrix\n",
    "    \"\"\"\n",
    "    print(\"\\nLower triangular matrix L:\")\n",
    "    print(L)\n",
    "    print(\"\\nUpper triangular matrix U:\")\n",
    "    print(U)\n",
    "    \n",
    "    # Multiply L and U\n",
    "    LU = np.dot(L, U)\n",
    "    print(\"\\nL × U:\")\n",
    "    print(LU)\n",
    "    \n",
    "    # Check if LU equals A\n",
    "    if np.allclose(LU, A):\n",
    "        print(\"\\nVerification successful: LU = A\")\n",
    "    else:\n",
    "        print(\"\\nVerification failed: LU ≠ A\")"
   ]
  },
  {
   "cell_type": "markdown",
   "metadata": {},
   "source": [
    "## Kết quả"
   ]
  },
  {
   "cell_type": "code",
   "execution_count": 20,
   "metadata": {},
   "outputs": [
    {
     "name": "stdout",
     "output_type": "stream",
     "text": [
      "\n",
      "Matrix A:\n",
      " 2.0  3.0 -5.0\n",
      " 1.0  4.0  2.0\n",
      " 3.0  7.0  1.0\n"
     ]
    }
   ],
   "source": [
    "#Original matrix Ax=B\n",
    "A = input_matrix('LU_input_A.txt', convert_fractions=False)\n",
    "\n",
    "print(\"\\nMatrix A:\"); output_matrix(A)"
   ]
  },
  {
   "cell_type": "code",
   "execution_count": 21,
   "metadata": {},
   "outputs": [
    {
     "name": "stdout",
     "output_type": "stream",
     "text": [
      "Step 1:\n",
      "L: [[2. 0. 0.]\n",
      " [1. 0. 0.]\n",
      " [3. 0. 0.]] \n",
      " U: [[ 1.   1.5 -2.5]\n",
      " [ 0.   1.   0. ]\n",
      " [ 0.   0.   1. ]] \n",
      "\n",
      "Step 2:\n",
      "L: [[2.  0.  0. ]\n",
      " [1.  2.5 0. ]\n",
      " [3.  2.5 0. ]] \n",
      " U: [[ 1.   1.5 -2.5]\n",
      " [ 0.   1.   1.8]\n",
      " [ 0.   0.   1. ]] \n",
      "\n",
      "Step 3:\n",
      "L: [[2.  0.  0. ]\n",
      " [1.  2.5 0. ]\n",
      " [3.  2.5 4. ]] \n",
      " U: [[ 1.   1.5 -2.5]\n",
      " [ 0.   1.   1.8]\n",
      " [ 0.   0.   1. ]] \n",
      "\n",
      "\n",
      "Lower triangular matrix L:\n",
      "[[2.  0.  0. ]\n",
      " [1.  2.5 0. ]\n",
      " [3.  2.5 4. ]]\n",
      "\n",
      "Upper triangular matrix U:\n",
      "[[ 1.   1.5 -2.5]\n",
      " [ 0.   1.   1.8]\n",
      " [ 0.   0.   1. ]]\n",
      "\n",
      "L × U:\n",
      "[[ 2.  3. -5.]\n",
      " [ 1.  4.  2.]\n",
      " [ 3.  7.  1.]]\n"
     ]
    },
    {
     "ename": "TypeError",
     "evalue": "ufunc 'isfinite' not supported for the input types, and the inputs could not be safely coerced to any supported types according to the casting rule ''safe''",
     "output_type": "error",
     "traceback": [
      "\u001b[31m---------------------------------------------------------------------------\u001b[39m",
      "\u001b[31mTypeError\u001b[39m                                 Traceback (most recent call last)",
      "\u001b[36mCell\u001b[39m\u001b[36m \u001b[39m\u001b[32mIn[21]\u001b[39m\u001b[32m, line 3\u001b[39m\n\u001b[32m      1\u001b[39m \u001b[38;5;28;01mif\u001b[39;00m A \u001b[38;5;129;01mis\u001b[39;00m \u001b[38;5;129;01mnot\u001b[39;00m \u001b[38;5;28;01mNone\u001b[39;00m:\n\u001b[32m      2\u001b[39m     L, U = lu_decomposition(A)\n\u001b[32m----> \u001b[39m\u001b[32m3\u001b[39m     \u001b[43mverify_lu_decomposition\u001b[49m\u001b[43m(\u001b[49m\u001b[43mA\u001b[49m\u001b[43m,\u001b[49m\u001b[43m \u001b[49m\u001b[43mL\u001b[49m\u001b[43m,\u001b[49m\u001b[43m \u001b[49m\u001b[43mU\u001b[49m\u001b[43m)\u001b[49m\n",
      "\u001b[36mCell\u001b[39m\u001b[36m \u001b[39m\u001b[32mIn[19]\u001b[39m\u001b[32m, line 21\u001b[39m, in \u001b[36mverify_lu_decomposition\u001b[39m\u001b[34m(A, L, U)\u001b[39m\n\u001b[32m     18\u001b[39m \u001b[38;5;28mprint\u001b[39m(LU)\n\u001b[32m     20\u001b[39m \u001b[38;5;66;03m# Check if LU equals A\u001b[39;00m\n\u001b[32m---> \u001b[39m\u001b[32m21\u001b[39m \u001b[38;5;28;01mif\u001b[39;00m \u001b[43mnp\u001b[49m\u001b[43m.\u001b[49m\u001b[43mallclose\u001b[49m\u001b[43m(\u001b[49m\u001b[43mLU\u001b[49m\u001b[43m,\u001b[49m\u001b[43m \u001b[49m\u001b[43mA\u001b[49m\u001b[43m)\u001b[49m:\n\u001b[32m     22\u001b[39m     \u001b[38;5;28mprint\u001b[39m(\u001b[33m\"\u001b[39m\u001b[38;5;130;01m\\n\u001b[39;00m\u001b[33mVerification successful: LU = A\u001b[39m\u001b[33m\"\u001b[39m)\n\u001b[32m     23\u001b[39m \u001b[38;5;28;01melse\u001b[39;00m:\n",
      "\u001b[36mFile \u001b[39m\u001b[32mc:\\Users\\thisis4nges\\miniforge3\\Lib\\site-packages\\numpy\\_core\\numeric.py:2329\u001b[39m, in \u001b[36mallclose\u001b[39m\u001b[34m(a, b, rtol, atol, equal_nan)\u001b[39m\n\u001b[32m   2243\u001b[39m \u001b[38;5;129m@array_function_dispatch\u001b[39m(_allclose_dispatcher)\n\u001b[32m   2244\u001b[39m \u001b[38;5;28;01mdef\u001b[39;00m\u001b[38;5;250m \u001b[39m\u001b[34mallclose\u001b[39m(a, b, rtol=\u001b[32m1.e-5\u001b[39m, atol=\u001b[32m1.e-8\u001b[39m, equal_nan=\u001b[38;5;28;01mFalse\u001b[39;00m):\n\u001b[32m   2245\u001b[39m \u001b[38;5;250m    \u001b[39m\u001b[33;03m\"\"\"\u001b[39;00m\n\u001b[32m   2246\u001b[39m \u001b[33;03m    Returns True if two arrays are element-wise equal within a tolerance.\u001b[39;00m\n\u001b[32m   2247\u001b[39m \n\u001b[32m   (...)\u001b[39m\u001b[32m   2327\u001b[39m \n\u001b[32m   2328\u001b[39m \u001b[33;03m    \"\"\"\u001b[39;00m\n\u001b[32m-> \u001b[39m\u001b[32m2329\u001b[39m     res = \u001b[38;5;28mall\u001b[39m(\u001b[43misclose\u001b[49m\u001b[43m(\u001b[49m\u001b[43ma\u001b[49m\u001b[43m,\u001b[49m\u001b[43m \u001b[49m\u001b[43mb\u001b[49m\u001b[43m,\u001b[49m\u001b[43m \u001b[49m\u001b[43mrtol\u001b[49m\u001b[43m=\u001b[49m\u001b[43mrtol\u001b[49m\u001b[43m,\u001b[49m\u001b[43m \u001b[49m\u001b[43matol\u001b[49m\u001b[43m=\u001b[49m\u001b[43matol\u001b[49m\u001b[43m,\u001b[49m\u001b[43m \u001b[49m\u001b[43mequal_nan\u001b[49m\u001b[43m=\u001b[49m\u001b[43mequal_nan\u001b[49m\u001b[43m)\u001b[49m)\n\u001b[32m   2330\u001b[39m     \u001b[38;5;28;01mreturn\u001b[39;00m builtins.bool(res)\n",
      "\u001b[36mFile \u001b[39m\u001b[32mc:\\Users\\thisis4nges\\miniforge3\\Lib\\site-packages\\numpy\\_core\\numeric.py:2448\u001b[39m, in \u001b[36misclose\u001b[39m\u001b[34m(a, b, rtol, atol, equal_nan)\u001b[39m\n\u001b[32m   2444\u001b[39m     y = \u001b[38;5;28mfloat\u001b[39m(y)\n\u001b[32m   2446\u001b[39m \u001b[38;5;28;01mwith\u001b[39;00m errstate(invalid=\u001b[33m'\u001b[39m\u001b[33mignore\u001b[39m\u001b[33m'\u001b[39m):\n\u001b[32m   2447\u001b[39m     result = (less_equal(\u001b[38;5;28mabs\u001b[39m(x-y), atol + rtol * \u001b[38;5;28mabs\u001b[39m(y))\n\u001b[32m-> \u001b[39m\u001b[32m2448\u001b[39m               & \u001b[43misfinite\u001b[49m\u001b[43m(\u001b[49m\u001b[43my\u001b[49m\u001b[43m)\u001b[49m\n\u001b[32m   2449\u001b[39m               | (x == y))\n\u001b[32m   2450\u001b[39m     \u001b[38;5;28;01mif\u001b[39;00m equal_nan:\n\u001b[32m   2451\u001b[39m         result |= isnan(x) & isnan(y)\n",
      "\u001b[31mTypeError\u001b[39m: ufunc 'isfinite' not supported for the input types, and the inputs could not be safely coerced to any supported types according to the casting rule ''safe''"
     ]
    }
   ],
   "source": [
    "if A is not None:\n",
    "    L, U = lu_decomposition(A)\n",
    "    verify_lu_decomposition(A, L, U)"
   ]
  }
 ],
 "metadata": {
  "kernelspec": {
   "display_name": "Python 3",
   "language": "python",
   "name": "python3"
  },
  "language_info": {
   "codemirror_mode": {
    "name": "ipython",
    "version": 3
   },
   "file_extension": ".py",
   "mimetype": "text/x-python",
   "name": "python",
   "nbconvert_exporter": "python",
   "pygments_lexer": "ipython3",
   "version": "3.12.10"
  }
 },
 "nbformat": 4,
 "nbformat_minor": 2
}
