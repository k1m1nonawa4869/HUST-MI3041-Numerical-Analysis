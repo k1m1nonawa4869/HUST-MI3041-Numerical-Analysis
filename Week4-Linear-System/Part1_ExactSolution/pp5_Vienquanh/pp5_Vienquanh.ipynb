{
 "cells": [
  {
   "cell_type": "code",
   "execution_count": 1,
   "id": "d26781b9",
   "metadata": {},
   "outputs": [],
   "source": [
    "from fractions import Fraction\n",
    "from typing import Tuple, Union\n",
    "import numpy as np\n",
    "import pandas as pd\n",
    "\n",
    "pd.set_option('display.precision', 12)  # Increase decimal precision\n",
    "pd.set_option('display.width', 300)     # Wider display\n",
    "pd.set_option('display.max_columns', None)  # Show all column"
   ]
  },
  {
   "cell_type": "code",
   "execution_count": 2,
   "id": "6613a538",
   "metadata": {},
   "outputs": [],
   "source": [
    "def input_matrix(filename, convert_fractions=False):\n",
    "    \"\"\"\n",
    "    Reads a matrix from a text file and returns it as a NumPy array.\n",
    "    Supports fractional entries if present (though your files use decimals).\n",
    "    \"\"\"\n",
    "    matrix = []\n",
    "\n",
    "    with open(filename, 'r') as f:\n",
    "        for line in f:\n",
    "            tokens = line.strip().split()\n",
    "            if not tokens:\n",
    "                continue\n",
    "\n",
    "            row = []\n",
    "            for token in tokens:\n",
    "                if '/' in token:\n",
    "                    # convert fractions if any includes fraction sign\n",
    "                    val = Fraction(token)\n",
    "                    row.append(float(val) if convert_fractions else val)\n",
    "                else:\n",
    "                    # parse as float directly\n",
    "                    row.append(float(token))\n",
    "\n",
    "            matrix.append(row)\n",
    "            \n",
    "    dtype = float if convert_fractions else object\n",
    "    return np.array(matrix, dtype=dtype)\n"
   ]
  },
  {
   "cell_type": "code",
   "execution_count": 3,
   "id": "e2aca88c",
   "metadata": {},
   "outputs": [],
   "source": [
    "def output_matrix(X: np.ndarray, precision: int = 12):\n",
    "    \"\"\"\n",
    "    Prints a NumPy array (vector or matrix) in a clean tabular format using pandas.\n",
    "    \n",
    "    Parameters:\n",
    "    - X: np.ndarray, 1D or 2D array.\n",
    "    - precision: number of decimal places to round floats to.\n",
    "    \"\"\"\n",
    "    # Wrap 1D arrays into a 2D DataFrame for consistent display\n",
    "    if X.ndim == 1:\n",
    "        df = pd.DataFrame(X, columns=[\"value\"])\n",
    "    elif X.ndim == 2:\n",
    "        df = pd.DataFrame(X)\n",
    "    else:\n",
    "        raise ValueError(\"Only 1D or 2D arrays are supported.\")\n",
    "    \n",
    "    # Round floats\n",
    "    df = df.round(precision)\n",
    "    # Print without index/header for cleaner look\n",
    "    print(df.to_string(index=False, header=False))"
   ]
  },
  {
   "cell_type": "markdown",
   "id": "481bd7c4",
   "metadata": {},
   "source": [
    "Phương pháp Viền quanh tìm ma trận nghịch đảo"
   ]
  },
  {
   "cell_type": "markdown",
   "id": "e768bab2",
   "metadata": {},
   "source": [
    "## Thuật toán"
   ]
  },
  {
   "cell_type": "code",
   "execution_count": 4,
   "id": "37e02aac",
   "metadata": {},
   "outputs": [],
   "source": [
    "def compute_theta(A: np.ndarray, B_prev: np.ndarray, k: int) -> float:\n",
    "    row = A[k-1, :k-1]\n",
    "    col = A[:k-1, k-1]\n",
    "    a_kk = A[k-1, k-1]\n",
    "    theta = float(row @ B_prev @ col - a_kk)\n",
    "    if np.isclose(theta, 0):\n",
    "        raise ZeroDivisionError(f\"θ_{k} is zero; block singular at size {k}.\")\n",
    "    return theta"
   ]
  },
  {
   "cell_type": "code",
   "execution_count": 5,
   "id": "93bd52d2",
   "metadata": {},
   "outputs": [],
   "source": [
    "def compute_b_nn(A: np.ndarray, B_prev: np.ndarray, k: int) -> float:\n",
    "    # b_{k,k} = -1/θ_k\n",
    "    theta = compute_theta(A, B_prev, k)\n",
    "    return -1.0 / theta"
   ]
  },
  {
   "cell_type": "code",
   "execution_count": 6,
   "id": "8708aa92",
   "metadata": {},
   "outputs": [],
   "source": [
    "def compute_beta_col(A: np.ndarray, B_prev: np.ndarray, k: int) -> np.ndarray:\n",
    "    # β_{1,k-1}: last column block (excluding b_{k,k})\n",
    "    alpha_col = A[:k-1, k-1]\n",
    "    theta = compute_theta(A, B_prev, k)\n",
    "    return B_prev.dot(alpha_col) / theta"
   ]
  },
  {
   "cell_type": "code",
   "execution_count": 7,
   "id": "34835c20",
   "metadata": {},
   "outputs": [],
   "source": [
    "def compute_beta_row(A: np.ndarray, B_prev: np.ndarray, k: int) -> np.ndarray:\n",
    "    # β_{k-1,1}: last row block (excluding b_{k,k})\n",
    "    alpha_row = A[k-1, :k-1]\n",
    "    theta = compute_theta(A, B_prev, k)\n",
    "    return alpha_row.dot(B_prev) / theta"
   ]
  },
  {
   "cell_type": "code",
   "execution_count": 8,
   "id": "de393245",
   "metadata": {},
   "outputs": [],
   "source": [
    "def update_top_left_block(A: np.ndarray, B_prev: np.ndarray, k: int, beta_row: np.ndarray) -> np.ndarray:\n",
    "    # B_new = B_prev @ (I - α_col ⊗ β_row)\n",
    "    alpha_col = A[:k-1, k-1]\n",
    "    I = np.eye(k-1)\n",
    "    return B_prev.dot(I - np.outer(alpha_col, beta_row))"
   ]
  },
  {
   "cell_type": "code",
   "execution_count": 9,
   "id": "825fe392",
   "metadata": {},
   "outputs": [],
   "source": [
    "def block_matrix_recursion(A: np.ndarray) -> np.ndarray:\n",
    "    \"\"\"\n",
    "    Computes A^{-1} via block recursive inversion on leading principal minors.\n",
    "    \"\"\"\n",
    "    n = A.shape[0]\n",
    "    # Base case k=1\n",
    "    theta1 = A[0,0]\n",
    "    if np.isclose(theta1, 0):\n",
    "        raise ZeroDivisionError(\"θ_1 is zero; A[0,0] is singular.\")\n",
    "    B_prev = np.array([[1.0/theta1]])\n",
    "    # Recursively build inverse for k=2..n\n",
    "    for k in range(2, n+1):\n",
    "        print(f\"Theta {k}:\", compute_theta(A, B_prev, k))\n",
    "        # Compute new blocks\n",
    "        beta_col = compute_beta_col(A, B_prev, k)\n",
    "        beta_row = compute_beta_row(A, B_prev, k)\n",
    "        b_kk = compute_b_nn(A, B_prev, k)\n",
    "        # Update top-left (k-1)x(k-1)\n",
    "        B_tl = update_top_left_block(A, B_prev, k, beta_row)\n",
    "        # Assemble B_k\n",
    "        Bk = np.zeros((k, k))\n",
    "        Bk[:k-1, :k-1] = B_tl\n",
    "        Bk[:k-1, k-1] = beta_col\n",
    "        Bk[k-1, :k-1] = beta_row\n",
    "        Bk[k-1, k-1] = b_kk\n",
    "        B_prev = Bk\n",
    "        print(f\"Size {k}:\\n\", B_prev, \"\\n\")\n",
    "    return B_prev"
   ]
  },
  {
   "cell_type": "code",
   "execution_count": 10,
   "id": "4051698d",
   "metadata": {},
   "outputs": [],
   "source": [
    "def inverse_via_ata(A: np.ndarray) -> np.ndarray:\n",
    "    \"\"\"\n",
    "    Computes A^{-1} indirectly by inverting M = A^T A via block recursion,\n",
    "    then A^{-1} = M^{-1} A^T.\n",
    "    \"\"\"\n",
    "    M = A.T.dot(A)\n",
    "    M_inv = block_matrix_recursion(M)\n",
    "    return M_inv.dot(A.T)"
   ]
  },
  {
   "cell_type": "markdown",
   "id": "b5f159eb",
   "metadata": {},
   "source": [
    "## Kết quả"
   ]
  },
  {
   "cell_type": "code",
   "execution_count": 11,
   "id": "c14aa894",
   "metadata": {},
   "outputs": [
    {
     "name": "stdout",
     "output_type": "stream",
     "text": [
      "\n",
      "Matrix A:\n",
      " 10.0 -2.0 -5.0 -7.0 -9.0 -9.0\n",
      "-10.0 -5.0 -7.0  7.0 -5.0  8.0\n",
      "  6.0  6.0 -8.0  3.0 -8.0  9.0\n",
      "  7.0 -1.0  8.0 -3.0 -7.0  0.0\n",
      "  8.0  9.0  2.0  0.0 -5.0  0.0\n",
      " -9.0 -7.0  1.0 -2.0 -2.0 -3.0\n",
      "\n",
      "Matrix M = A^T * A:\n",
      " 430.0  194.0   35.0 -125.0 -159.0  -89.0\n",
      " 194.0  196.0    0.0   14.0  -29.0   53.0\n",
      "  35.0    0.0  207.0  -64.0   76.0  -86.0\n",
      "-125.0   14.0  -64.0  120.0   29.0  152.0\n",
      "-159.0  -29.0   76.0   29.0  248.0  -25.0\n",
      " -89.0   53.0  -86.0  152.0  -25.0  235.0\n"
     ]
    }
   ],
   "source": [
    "#Original matrix Ax=B\n",
    "A = input_matrix('BLMT_input_A.txt', convert_fractions=False)\n",
    "\n",
    "print(\"\\nMatrix A:\"); output_matrix(A)\n",
    "print(\"\\nMatrix M = A^T * A:\"); output_matrix(A.T.dot(A))"
   ]
  },
  {
   "cell_type": "code",
   "execution_count": 12,
   "id": "eea76469",
   "metadata": {},
   "outputs": [
    {
     "name": "stdout",
     "output_type": "stream",
     "text": [
      "Theta 2: -108.47441860465116\n",
      "Size 2:\n",
      " [[ 0.00420204 -0.00415916]\n",
      " [-0.00415916  0.00921876]] \n",
      "\n",
      "Theta 3: -201.85249978561015\n",
      "Size 3:\n",
      " [[ 0.0043092  -0.00426523 -0.00072861]\n",
      " [-0.00426523  0.00932375  0.00072117]\n",
      " [-0.00072861  0.00072117  0.00495411]] \n",
      "\n",
      "Theta 4: -28.571058228347155\n",
      "Size 4:\n",
      " [[ 0.01496363 -0.01619028  0.00344043  0.01931087]\n",
      " [-0.01619028  0.02267096 -0.00394506 -0.02161385]\n",
      " [ 0.00344043 -0.00394506  0.00658544  0.00755627]\n",
      " [ 0.01931087 -0.02161385  0.00755627  0.03500045]] \n",
      "\n",
      "Theta 5: -106.65300179638507\n",
      "Size 5:\n",
      " [[ 0.02606694 -0.02629327  0.00051205  0.02802791  0.01020328]\n",
      " [-0.02629327  0.03186375 -0.0012805  -0.02954556 -0.00928404]\n",
      " [ 0.00051205 -0.0012805   0.00735777  0.00525725 -0.00269101]\n",
      " [ 0.02802791 -0.02954556  0.00525725  0.04184406  0.00801044]\n",
      " [ 0.01020328 -0.00928404 -0.00269101  0.00801044  0.0093762 ]] \n",
      "\n",
      "Theta 6: -18.66271256916687\n",
      "Size 6:\n",
      " [[ 0.02935248 -0.02788308  0.0021065   0.04988769  0.00774149 -0.01326833]\n",
      " [-0.02788308  0.03263303 -0.00205202 -0.04012307 -0.00809283  0.00642028]\n",
      " [ 0.0021065  -0.00205202  0.00813154  0.01586562 -0.00388569 -0.00643902]\n",
      " [ 0.04988769 -0.04012307  0.01586562  0.18728415 -0.00836861 -0.08827844]\n",
      " [ 0.00774149 -0.00809283 -0.00388569 -0.00836861  0.01122076  0.00994166]\n",
      " [-0.01326833  0.00642028 -0.00643902 -0.08827844  0.00994166  0.05358278]] \n",
      "\n",
      "Inverse of A result:\n",
      " [[0.039286241410789305 0.035504802304669125 -0.03971946013021134\n",
      "  0.04634893649587548 -0.050622359005756595 -0.1423376318105535]\n",
      " [-0.03792235408592231 -0.059005209557597464 0.04707187877528935\n",
      "  -0.06721176605642518 0.10699272411210667 0.09763547309670746]\n",
      " [-0.03362569902641961 0.011250020499308261 -0.043994249260658105\n",
      "  0.06145282699130296 0.03407531719263313 -0.001105596037893522]\n",
      " [0.05862938890194658 0.23728359563337098 -0.2340419716508212\n",
      "  0.012989728479827017 0.11156816976706992 -0.24525782663598006]\n",
      " [-0.018852530707963985 -0.044901685316481574 0.003580545882918687\n",
      "  -0.022241749711643194 -0.07477874413036428 -0.052438597737969855]\n",
      " [-0.06709970317001251 -0.09334018465776889 0.14830019734000865\n",
      "  0.04443293446234346 -0.11095045727123942 0.06395920910934519]]\n"
     ]
    }
   ],
   "source": [
    "A_inv = inverse_via_ata(A)\n",
    "print(\"Inverse of A result:\\n\", A_inv)"
   ]
  }
 ],
 "metadata": {
  "kernelspec": {
   "display_name": "ds-env",
   "language": "python",
   "name": "python3"
  },
  "language_info": {
   "codemirror_mode": {
    "name": "ipython",
    "version": 3
   },
   "file_extension": ".py",
   "mimetype": "text/x-python",
   "name": "python",
   "nbconvert_exporter": "python",
   "pygments_lexer": "ipython3",
   "version": "3.13.3"
  }
 },
 "nbformat": 4,
 "nbformat_minor": 5
}
