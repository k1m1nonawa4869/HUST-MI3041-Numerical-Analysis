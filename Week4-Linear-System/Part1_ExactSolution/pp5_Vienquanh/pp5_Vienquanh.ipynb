{
 "cells": [
  {
   "cell_type": "code",
   "execution_count": 1,
   "id": "d26781b9",
   "metadata": {},
   "outputs": [],
   "source": [
    "from fractions import Fraction\n",
    "from typing import Tuple, Union\n",
    "import numpy as np\n",
    "import pandas as pd\n",
    "\n",
    "pd.set_option('display.precision', 12)  # Increase decimal precision\n",
    "pd.set_option('display.width', 300)     # Wider display\n",
    "pd.set_option('display.max_columns', None)  # Show all column"
   ]
  },
  {
   "cell_type": "code",
   "execution_count": 2,
   "id": "6613a538",
   "metadata": {},
   "outputs": [],
   "source": [
    "def input_matrix(filename, convert_fractions=False):\n",
    "    \"\"\"\n",
    "    Reads a matrix from a text file and returns it as a NumPy array.\n",
    "    Supports fractional entries if present (though your files use decimals).\n",
    "    \"\"\"\n",
    "    matrix = []\n",
    "\n",
    "    with open(filename, 'r') as f:\n",
    "        for line in f:\n",
    "            tokens = line.strip().split()\n",
    "            if not tokens:\n",
    "                continue\n",
    "\n",
    "            row = []\n",
    "            for token in tokens:\n",
    "                if '/' in token:\n",
    "                    # convert fractions if any includes fraction sign\n",
    "                    val = Fraction(token)\n",
    "                    row.append(float(val) if convert_fractions else val)\n",
    "                else:\n",
    "                    # parse as float directly\n",
    "                    row.append(float(token))\n",
    "\n",
    "            matrix.append(row)\n",
    "            \n",
    "    dtype = float if convert_fractions else object\n",
    "    return np.array(matrix, dtype=dtype)\n"
   ]
  },
  {
   "cell_type": "code",
   "execution_count": 3,
   "id": "e2aca88c",
   "metadata": {},
   "outputs": [],
   "source": [
    "def output_matrix(X: np.ndarray, precision: int = 12):\n",
    "    \"\"\"\n",
    "    Prints a NumPy array (vector or matrix) in a clean tabular format using pandas.\n",
    "    \n",
    "    Parameters:\n",
    "    - X: np.ndarray, 1D or 2D array.\n",
    "    - precision: number of decimal places to round floats to.\n",
    "    \"\"\"\n",
    "    # Wrap 1D arrays into a 2D DataFrame for consistent display\n",
    "    if X.ndim == 1:\n",
    "        df = pd.DataFrame(X, columns=[\"value\"])\n",
    "    elif X.ndim == 2:\n",
    "        df = pd.DataFrame(X)\n",
    "    else:\n",
    "        raise ValueError(\"Only 1D or 2D arrays are supported.\")\n",
    "    \n",
    "    # Round floats\n",
    "    df = df.round(precision)\n",
    "    # Print without index/header for cleaner look\n",
    "    print(df.to_string(index=False, header=False))"
   ]
  },
  {
   "cell_type": "markdown",
   "id": "481bd7c4",
   "metadata": {},
   "source": [
    "Phương pháp Viền quanh tìm ma trận nghịch đảo"
   ]
  },
  {
   "cell_type": "markdown",
   "id": "e768bab2",
   "metadata": {},
   "source": [
    "## Thuật toán"
   ]
  },
  {
   "cell_type": "code",
   "execution_count": 4,
   "id": "37e02aac",
   "metadata": {},
   "outputs": [],
   "source": [
    "def compute_theta(A: np.ndarray, B_prev: np.ndarray, k: int) -> float:\n",
    "    row = A[k-1, :k-1]\n",
    "    col = A[:k-1, k-1]\n",
    "    a_kk = A[k-1, k-1]\n",
    "    theta = float(row @ B_prev @ col - a_kk)\n",
    "    if np.isclose(theta, 0):\n",
    "        raise ZeroDivisionError(f\"θ_{k} is zero; block singular at size {k}.\")\n",
    "    return theta"
   ]
  },
  {
   "cell_type": "code",
   "execution_count": 5,
   "id": "93bd52d2",
   "metadata": {},
   "outputs": [],
   "source": [
    "def compute_b_nn(A: np.ndarray, B_prev: np.ndarray, k: int) -> float:\n",
    "    # b_{k,k} = -1/θ_k\n",
    "    theta = compute_theta(A, B_prev, k)\n",
    "    return -1.0 / theta"
   ]
  },
  {
   "cell_type": "code",
   "execution_count": 6,
   "id": "8708aa92",
   "metadata": {},
   "outputs": [],
   "source": [
    "def compute_beta_col(A: np.ndarray, B_prev: np.ndarray, k: int) -> np.ndarray:\n",
    "    # β_{1,k-1}: last column block (excluding b_{k,k})\n",
    "    alpha_col = A[:k-1, k-1]\n",
    "    theta = compute_theta(A, B_prev, k)\n",
    "    return B_prev.dot(alpha_col) / theta"
   ]
  },
  {
   "cell_type": "code",
   "execution_count": 7,
   "id": "34835c20",
   "metadata": {},
   "outputs": [],
   "source": [
    "def compute_beta_row(A: np.ndarray, B_prev: np.ndarray, k: int) -> np.ndarray:\n",
    "    # β_{k-1,1}: last row block (excluding b_{k,k})\n",
    "    alpha_row = A[k-1, :k-1]\n",
    "    theta = compute_theta(A, B_prev, k)\n",
    "    return alpha_row.dot(B_prev) / theta"
   ]
  },
  {
   "cell_type": "code",
   "execution_count": 8,
   "id": "de393245",
   "metadata": {},
   "outputs": [],
   "source": [
    "def update_top_left_block(A: np.ndarray, B_prev: np.ndarray, k: int, beta_row: np.ndarray) -> np.ndarray:\n",
    "    # B_new = B_prev @ (I - α_col ⊗ β_row)\n",
    "    alpha_col = A[:k-1, k-1]\n",
    "    I = np.eye(k-1)\n",
    "    return B_prev.dot(I - np.outer(alpha_col, beta_row))"
   ]
  },
  {
   "cell_type": "code",
   "execution_count": 9,
   "id": "825fe392",
   "metadata": {},
   "outputs": [],
   "source": [
    "def block_matrix_recursion(A: np.ndarray) -> np.ndarray:\n",
    "    \"\"\"\n",
    "    Computes A^{-1} via block recursive inversion on leading principal minors.\n",
    "    \"\"\"\n",
    "    n = A.shape[0]\n",
    "    # Base case k=1\n",
    "    theta1 = A[0,0]\n",
    "    if np.isclose(theta1, 0):\n",
    "        raise ZeroDivisionError(\"θ_1 is zero; A[0,0] is singular.\")\n",
    "    B_prev = np.array([[1.0/theta1]])\n",
    "    # Recursively build inverse for k=2..n\n",
    "    for k in range(2, n+1):\n",
    "        print(f\"Theta {k}:\", compute_theta(A, B_prev, k))\n",
    "        # Compute new blocks\n",
    "        beta_col = compute_beta_col(A, B_prev, k)\n",
    "        beta_row = compute_beta_row(A, B_prev, k)\n",
    "        b_kk = compute_b_nn(A, B_prev, k)\n",
    "        # Update top-left (k-1)x(k-1)\n",
    "        B_tl = update_top_left_block(A, B_prev, k, beta_row)\n",
    "        # Assemble B_k\n",
    "        Bk = np.zeros((k, k))\n",
    "        Bk[:k-1, :k-1] = B_tl\n",
    "        Bk[:k-1, k-1] = beta_col\n",
    "        Bk[k-1, :k-1] = beta_row\n",
    "        Bk[k-1, k-1] = b_kk\n",
    "        B_prev = Bk\n",
    "        print(f\"Size {k}:\\n\", B_prev, \"\\n\")\n",
    "    return B_prev"
   ]
  },
  {
   "cell_type": "code",
   "execution_count": 10,
   "id": "4051698d",
   "metadata": {},
   "outputs": [],
   "source": [
    "def inverse_via_ata(A: np.ndarray) -> np.ndarray:\n",
    "    \"\"\"\n",
    "    Computes A^{-1} indirectly by inverting M = A^T A via block recursion,\n",
    "    then A^{-1} = M^{-1} A^T.\n",
    "    \"\"\"\n",
    "    M = A.T.dot(A)\n",
    "    M_inv = block_matrix_recursion(M)\n",
    "    return M_inv.dot(A.T)"
   ]
  },
  {
   "cell_type": "markdown",
   "id": "b5f159eb",
   "metadata": {},
   "source": [
    "## Kết quả"
   ]
  },
  {
   "cell_type": "code",
   "execution_count": 11,
   "id": "c14aa894",
   "metadata": {},
   "outputs": [
    {
     "name": "stdout",
     "output_type": "stream",
     "text": [
      "\n",
      "Matrix A:\n",
      " 0.0  0.0  0.0  1.0\n",
      " 1.0  2.0  3.0  4.0\n",
      "-2.0  3.0  5.0 -1.0\n",
      " 3.0  1.0 -4.0  8.0\n",
      "\n",
      "Matrix M = A^T * A:\n",
      " 14.0  -1.0 -19.0  30.0\n",
      " -1.0  14.0  17.0  13.0\n",
      "-19.0  17.0  50.0 -25.0\n",
      " 30.0  13.0 -25.0  82.0\n"
     ]
    }
   ],
   "source": [
    "#Original matrix Ax=B\n",
    "A = input_matrix('BLMT_input_A.txt', convert_fractions=False)\n",
    "\n",
    "print(\"\\nMatrix A:\"); output_matrix(A)\n",
    "print(\"\\nMatrix M = A^T * A:\"); output_matrix(A.T.dot(A))"
   ]
  },
  {
   "cell_type": "code",
   "execution_count": 12,
   "id": "eea76469",
   "metadata": {},
   "outputs": [
    {
     "name": "stdout",
     "output_type": "stream",
     "text": [
      "Theta 2: -13.928571428571429\n",
      "Size 2:\n",
      " [[0.07179487 0.00512821]\n",
      " [0.00512821 0.07179487]] \n",
      "\n",
      "Theta 3: -6.646153846153851\n",
      "Size 3:\n",
      " [[ 0.31712963 -0.21064815  0.19212963]\n",
      " [-0.21064815  0.26157407 -0.16898148]\n",
      " [ 0.19212963 -0.16898148  0.15046296]] \n",
      "\n",
      "Theta 4: -1.0000000000000284\n",
      "Size 4:\n",
      " [[ 4.20679012  2.36419753 -0.19135802 -1.97222222]\n",
      " [ 2.36419753  1.96604938 -0.42283951 -1.30555556]\n",
      " [-0.19135802 -0.42283951  0.1882716   0.19444444]\n",
      " [-1.97222222 -1.30555556  0.19444444  1.        ]] \n",
      "\n",
      "Inverse of A result:\n",
      " [[-1.9722222222221664 0.4722222222222321 -0.3055555555555447\n",
      "  -0.027777777777778567]\n",
      " [-1.305555555555517 -0.1944444444444411 0.3611111111111158\n",
      "  0.3055555555555518]\n",
      " [0.19444444444443823 0.3055555555555548 -0.1388888888888893\n",
      "  -0.19444444444444442]\n",
      " [0.9999999999999716 -1.3322676295501878e-15 -5.440092820663267e-15\n",
      "  4.440892098500626e-15]]\n"
     ]
    }
   ],
   "source": [
    "A_inv = inverse_via_ata(A)\n",
    "print(\"Inverse of A result:\\n\", A_inv)"
   ]
  }
 ],
 "metadata": {
  "kernelspec": {
   "display_name": "base",
   "language": "python",
   "name": "python3"
  },
  "language_info": {
   "codemirror_mode": {
    "name": "ipython",
    "version": 3
   },
   "file_extension": ".py",
   "mimetype": "text/x-python",
   "name": "python",
   "nbconvert_exporter": "python",
   "pygments_lexer": "ipython3",
   "version": "3.12.10"
  }
 },
 "nbformat": 4,
 "nbformat_minor": 5
}
