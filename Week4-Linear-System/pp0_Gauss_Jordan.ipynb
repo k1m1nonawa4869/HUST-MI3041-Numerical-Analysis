{
 "cells": [
  {
   "cell_type": "code",
   "execution_count": 8,
   "metadata": {},
   "outputs": [],
   "source": [
    "import numpy as np\n",
    "import pandas as pd"
   ]
  },
  {
   "cell_type": "markdown",
   "metadata": {},
   "source": [
    "# Phương pháp Gauss-Jordan\n",
    "\n",
    "Ý tưởng:\n",
    "\n",
    "* Quy trình thuận (QTT): Dùng phép khử dần, ẩn khỏi các phương trình để đưa ma trận bổ sung về dạng bậc thang.\n",
    "\n",
    "* Quy trình nghịch (QTN): Dùng phép thế từ hệ bậc thang để tìm dần giá trị các ẩn."
   ]
  },
  {
   "cell_type": "markdown",
   "metadata": {},
   "source": [
    "# Thuật toán:\n",
    "\n",
    "* Khởi tạo $i=1$; $j=1$; $res=[0,0,...,0]_{1×m}$\n",
    "\n",
    "* Kiểm tra nếu $a_{ij} \\neq 0 \\Rightarrow ind[i] = j \\Rightarrow$ B3, trái lại thì sang B6\n",
    "\n",
    "* Nếu $i = m$ thì kết thúc QTT\n",
    "\n",
    "     Nếu không, thì sang B4\n",
    "\n",
    "* Cho k chạy từ i+1 đến m, thực hiện biến đổi $L_k - \\frac{a_{kj}}{a_{ij}} \\times L_i \\Rightarrow L_k$\n",
    "\n",
    "* Nếu $j = n$ thì QTT kết thúc, trái lại $i = i + 1$; $j = j + 1 \\Rightarrow$ B2\n",
    "\n",
    "* Cho $t = i + 1$.\n",
    "\n",
    "* Kiểm tra nếu $a_{tj} \\neq 0$ thì đổi chỗ 2 hàng t và i, và $ind[i] = j \\Rightarrow$ B3, trái lại sang B8\n",
    "\n",
    "* Nếu $t = m$; $j = n$ thì QTT kết thúc\n",
    "\n",
    "     Nếu $t = m$; $j < n$ thì $j = j + 1 \\Rightarrow$ B2,\n",
    "\n",
    "     Nếu $t < m$ thì $t = t + 1 \\Rightarrow$ B7"
   ]
  },
  {
   "cell_type": "code",
   "execution_count": 9,
   "metadata": {},
   "outputs": [],
   "source": [
    "def gauss_jordan(A, b):\n",
    "    n = len(b)\n",
    "    M = np.hstack((A, b.reshape(-1, 1))) #create augmented matrix\n",
    "\n",
    "    print(\"Initial augmented matrix:\")\n",
    "    print(pd.DataFrame(M))\n",
    "    print()\n",
    "\n",
    "    for i in range(n):\n",
    "        # Make the diagonal contain all 1's\n",
    "        M[i] = M[i] / M[i][i]\n",
    "        print(f\"After making row {i} have a leading 1:\")\n",
    "        print(pd.DataFrame(M))\n",
    "        print()\n",
    "        \n",
    "        # Make the other rows contain 0's\n",
    "        for j in range(n):\n",
    "            if i != j:\n",
    "                M[j] = M[j] - M[j][i] * M[i]\n",
    "                print(f\"After making column {i}, row {j} have a 0:\")\n",
    "                print(pd.DataFrame(M))\n",
    "                print()\n",
    "\n",
    "    return M[:, -1]"
   ]
  },
  {
   "cell_type": "code",
   "execution_count": 10,
   "metadata": {},
   "outputs": [
    {
     "name": "stdout",
     "output_type": "stream",
     "text": [
      "Initial augmented matrix:\n",
      "     0    1    2     3\n",
      "0  2.0  1.0 -1.0   8.0\n",
      "1 -3.0 -1.0  2.0 -11.0\n",
      "2 -2.0  1.0  2.0  -3.0\n",
      "\n",
      "After making row 0 have a leading 1:\n",
      "     0    1    2     3\n",
      "0  1.0  0.5 -0.5   4.0\n",
      "1 -3.0 -1.0  2.0 -11.0\n",
      "2 -2.0  1.0  2.0  -3.0\n",
      "\n",
      "After making column 0, row 1 have a 0:\n",
      "     0    1    2    3\n",
      "0  1.0  0.5 -0.5  4.0\n",
      "1  0.0  0.5  0.5  1.0\n",
      "2 -2.0  1.0  2.0 -3.0\n",
      "\n",
      "After making column 0, row 2 have a 0:\n",
      "     0    1    2    3\n",
      "0  1.0  0.5 -0.5  4.0\n",
      "1  0.0  0.5  0.5  1.0\n",
      "2  0.0  2.0  1.0  5.0\n",
      "\n",
      "After making row 1 have a leading 1:\n",
      "     0    1    2    3\n",
      "0  1.0  0.5 -0.5  4.0\n",
      "1  0.0  1.0  1.0  2.0\n",
      "2  0.0  2.0  1.0  5.0\n",
      "\n",
      "After making column 1, row 0 have a 0:\n",
      "     0    1    2    3\n",
      "0  1.0  0.0 -1.0  3.0\n",
      "1  0.0  1.0  1.0  2.0\n",
      "2  0.0  2.0  1.0  5.0\n",
      "\n",
      "After making column 1, row 2 have a 0:\n",
      "     0    1    2    3\n",
      "0  1.0  0.0 -1.0  3.0\n",
      "1  0.0  1.0  1.0  2.0\n",
      "2  0.0  0.0 -1.0  1.0\n",
      "\n",
      "After making row 2 have a leading 1:\n",
      "     0    1    2    3\n",
      "0  1.0  0.0 -1.0  3.0\n",
      "1  0.0  1.0  1.0  2.0\n",
      "2 -0.0 -0.0  1.0 -1.0\n",
      "\n",
      "After making column 2, row 0 have a 0:\n",
      "     0    1    2    3\n",
      "0  1.0  0.0  0.0  2.0\n",
      "1  0.0  1.0  1.0  2.0\n",
      "2 -0.0 -0.0  1.0 -1.0\n",
      "\n",
      "After making column 2, row 1 have a 0:\n",
      "     0    1    2    3\n",
      "0  1.0  0.0  0.0  2.0\n",
      "1  0.0  1.0  0.0  3.0\n",
      "2 -0.0 -0.0  1.0 -1.0\n",
      "\n",
      "Solution:\n",
      "[ 2.  3. -1.]\n"
     ]
    }
   ],
   "source": [
    "# Example usage\n",
    "A = np.array([[2, 1, -1], [-3, -1, 2], [-2, 1, 2]], dtype=float)\n",
    "b = np.array([8, -11, -3], dtype=float)\n",
    "\n",
    "solution = gauss_jordan(A, b)\n",
    "print(\"Solution:\")\n",
    "print(solution)"
   ]
  }
 ],
 "metadata": {
  "kernelspec": {
   "display_name": "base",
   "language": "python",
   "name": "python3"
  },
  "language_info": {
   "codemirror_mode": {
    "name": "ipython",
    "version": 3
   },
   "file_extension": ".py",
   "mimetype": "text/x-python",
   "name": "python",
   "nbconvert_exporter": "python",
   "pygments_lexer": "ipython3",
   "version": "3.12.9"
  }
 },
 "nbformat": 4,
 "nbformat_minor": 2
}
