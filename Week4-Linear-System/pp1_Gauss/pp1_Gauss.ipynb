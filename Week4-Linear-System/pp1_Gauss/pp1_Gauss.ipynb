{
 "cells": [
  {
   "cell_type": "markdown",
   "id": "deda898e",
   "metadata": {},
   "source": [
    "Credit: Đoàn Vĩnh Nhân - Toán Tin K68 - 20237376"
   ]
  },
  {
   "cell_type": "markdown",
   "id": "6bcb748c-26a9-4a47-bfd7-c94e7dfa3479",
   "metadata": {},
   "source": [
    "### Phương pháp khử Gauss\n",
    "+ Input: ma trận $A_{m\\times n}, B_{m\\times q}$\n",
    "+ Output: ma trận $X_{n\\times (q+k)}$, với $k$ là số cột bằng 0 sau khi khử $AB$. Các phần tử trên cột q đặc trưng cho sự phụ thuộc của các phần tử còn lại của $X$ vào các phần tử tự do.\n",
    "\n",
    "Ví dụ với nghiệm:\n",
    "$$\\begin{array}{ccccc}\n",
    "&&&&X_3&X_4\\\\\n",
    "&1&2&3&4&5\\\\\n",
    "&2&3&4&5&6\\\\\n",
    "&3&4&5&6&7\n",
    "\\end{array}$$\n",
    "Khi đó $X=\\begin{bmatrix}X_1&X_2&X_3&X_4&X5\\end{bmatrix}^\\top$\n",
    "\\begin{array}{ll}\n",
    "X_1&=\\begin{pmatrix}1&2&3\\end{pmatrix} + 4X_4 + 5X_5\\\\\n",
    "X_2&=\\begin{pmatrix}2&3&4\\end{pmatrix} + 5X_4 + 6X_5\\\\\n",
    "X_3&=\\begin{pmatrix}3&4&5\\end{pmatrix} + 6X_4 + 7X_5\\\\\n",
    "X_4&=\\begin{pmatrix}t_{41}&t_{42}&t_{43}\\end{pmatrix}, \\quad t \\in \\mathbb{R}\\\\\n",
    "X_5&=\\begin{pmatrix}t_{51}&t_{52}&t_{53}\\end{pmatrix}, \\quad t \\in \\mathbb{R}\\\\\n",
    "\\end{array}\n",
    "Thuật toán\n",
    "1. Khử ma trận $AB$\n",
    "   + Bước 1: Tạo ma trận mở rộng $A|B$, tạo 1 danh sách index: lưu vị trí cột của các phần tử khác 0 đầu tiên trong từng hàng. Hoặc nếu là hàng đó bằng 0, lưu $n$\n",
    "   + Bước 2: Sắp xếp lại index theo thứ tự không giảm, sắp xếp các hàng của ma trận mở rộng AB theo index => Để có ma trận bậc thang\n",
    "   + Step 3: Khử ma trận, theo từng hàng => nếu chưa đến hàng cuối quay lại Step 2, nếu xong chuyển đến B2\n",
    "2. Kiểm tra index của AB, nếu tồn tại phần tử chỉ đến cột của B trong AB => Kết luận vô nghiệm và dừng (trường hợp $rank(A)<rank(AB)$, hàng A bằng 0 nhưng hàng B có phần tử khác 0)\n",
    "3. Chuyển các cột có phần tử trên đường chéo chính bằng $0$ của $A$ ra sau $B$\n",
    "   + Bước 1: Dùng danh sách index, tìm kiếm những cột có phần tử trên đường chéo chính bằng 0\n",
    "   + Bước 2: Chuyển các cột đó ra sau ma trận B\n",
    "4. Giải tìm $X$ với $A$ mới và $B$ mới (Ma trận A giờ đây là ma trận tam giác trên)\n",
    "   + Bước 1: Tạo ma trận không $X_{n\\times (q+k)}$\n",
    "   + Bước 2: Dùng vòng lặp col và row, tính toán từng phần tử của ma trận $X$"
   ]
  },
  {
   "cell_type": "markdown",
   "id": "40402de8-dccb-4a48-8d96-d858cbeb725c",
   "metadata": {},
   "source": [
    "Ví dụ:\n",
    "     $\\begin{bmatrix}4&0&0\\\\0&2&1\\\\0&0&1\\\\5&2&1\\\\0&0&0\\\\0&3&2\\end{bmatrix}$, index $= [0 ,1 ,2, 0, 3,1] $\n",
    "$\\Rightarrow$ Sắp xếp lại:\n",
    "     $\\begin{bmatrix}4&0&0\\\\5&2&1\\\\0&2&1\\\\0&3&2\\\\0&0&1\\\\0&0&0\\end{bmatrix}$\n",
    "          index $=[0 ,0 ,1, 1, 2, 3]$"
   ]
  },
  {
   "cell_type": "code",
   "execution_count": 1,
   "id": "c08facff-2544-4fb0-b612-543a2954c83f",
   "metadata": {},
   "outputs": [],
   "source": [
    "from sympy import Matrix, zeros, N\n",
    "import numpy as np\n",
    "\n",
    "# Hàm này được thêm vào để loại bỏ các giá trị nhỏ hơn 10⁻¹⁰, đảm bảo chúng được coi là 0.\n",
    "def chop_small_values(mat):\n",
    "    if isinstance(mat, Matrix):\n",
    "        return mat.applyfunc(lambda x: 0 if abs(x) < 1e-10 else x)\n",
    "    else:\n",
    "        return 0 if abs(mat) < 1e-10 else mat\n",
    "#Danh sách các vị trí khác 0 đầu tiên của từng hàng, dùng để sắp xếp AB theo cấu trúc bậc thang\n",
    "def indexpivot(AB):\n",
    "    rowAB, colAB = AB.shape\n",
    "    index = []\n",
    "    for row in range(rowAB):\n",
    "        for col in range(colAB):\n",
    "            if abs(AB[row, col]) > 1e-10: \n",
    "                index.append(col)\n",
    "                break\n",
    "            if col == colAB - 1:\n",
    "                index.append(col + 1)\n",
    "    return index\n",
    "    \n",
    "#Vị trí các cột có phần tử ở đường chéo chính bằng 0\n",
    "def missingindex(A):\n",
    "    colA = A.shape[1]\n",
    "    index = indexpivot(A)\n",
    "    return list(set(range(colA)) - set(index))\n",
    "    \n",
    "#Khử gauss\n",
    "def gauss(A, B):\n",
    "    A, B = Matrix(N(A)), Matrix(N(B))\n",
    "    AB = chop_small_values(A.row_join(B))\n",
    "    rowAB, colAB = AB.shape\n",
    "    \n",
    "    #Sắp xếp lại AB theo cấu trúc bậc thang trong trường hợp input không phải là bậc thang    \n",
    "    index = indexpivot(AB)\n",
    "    sorted_order = sorted(range(len(index)), key=lambda k: index[k])\n",
    "    index = sorted(index)\n",
    "    AB = chop_small_values(AB[list(sorted_order), :])\n",
    "    display(AB)\n",
    "\n",
    "    #Khử Gauss (Vừa khử, vừa sắp xếp lại AB theo cấu trúc bậc thang)\n",
    "    for i in range(len(index)):\n",
    "        if index[i] != colAB:\n",
    "            for j in range(i + 1, len(index)):\n",
    "                AB[j, :] = chop_small_values(Matrix(AB[j, :] - AB[i, :] / AB[i, index[i]] * AB[j, index[i]]))\n",
    "            index = indexpivot(AB)\n",
    "            sorted_order = sorted(range(len(index)), key=lambda k: index[k])\n",
    "            index = sorted(index)\n",
    "            AB = chop_small_values(AB[list(sorted_order), :])\n",
    "            print(\"Bước khử\")\n",
    "            display(AB)\n",
    "    print(\"Ma trận sau khi khử:\")\n",
    "    display(AB)\n",
    "    return AB\n",
    "\n",
    "#Giải AX=B\n",
    "def gauss_solve(A, B):\n",
    "    #Ma trận đã khử AB\n",
    "    A, B = Matrix(N(A)), Matrix(N(B))\n",
    "    AB = gauss(A, B)\n",
    "\n",
    "    #Kiểm tra trường hợp vô nghiệm\n",
    "    for i in indexpivot(AB):\n",
    "        if i >= A.shape[1] and i < AB.shape[1]:\n",
    "            print(\"Hệ vô nghiệm\")\n",
    "            return \n",
    "\n",
    "    #Ma trận A, B mới từ ma trận đã khử    \n",
    "    A = AB[:, :A.shape[1]]\n",
    "    B = AB[:, A.shape[1]:]\n",
    "    colB = B.shape[1]\n",
    "\n",
    "    #Chuyển những cột có phần tử trên đường chéo chính bằng 0 sang B\n",
    "    missindex = missingindex(A)\n",
    "    if missindex:\n",
    "        print(f\"index: {[x + 1 for x in indexpivot(A)]}\")\n",
    "        print(f\"missing index: {[x + 1 for x in missindex]}\")\n",
    "        for i in missindex:\n",
    "            move_col = -1 * A[:, i]\n",
    "            B = B.row_join(move_col)\n",
    "        A = A[:, [i for i in range(A.shape[1]) if i not in missindex]]\n",
    "        print(\"Ma trận sau khi chuyển cột:\")\n",
    "        display(chop_small_values(A.row_join(B)))\n",
    "\n",
    "    #Tính toán ma trận X    \n",
    "    X = zeros(A.shape[1], B.shape[1])\n",
    "    rowX, colX = X.shape\n",
    "    index = indexpivot(A)\n",
    "    \n",
    "    for col in range(colX):\n",
    "        for row in range(rowX - 1, -1, -1):\n",
    "            sum_val = sum(A[row, k] * X[k, col] for k in range(index[row], rowX))\n",
    "            X[row, col] = chop_small_values((B[row, col] - sum_val) / A[row, index[row]])\n",
    "    \n",
    "    print(f\"Số phần tử tự do là {len(missindex)}: X{[x + 1 for x in missindex]}. Nghiệm:\")\n",
    "    return X"
   ]
  },
  {
   "cell_type": "code",
   "execution_count": 2,
   "id": "57d9ab76-c8d4-488d-b9a3-abf0f0f7407f",
   "metadata": {},
   "outputs": [
    {
     "name": "stdout",
     "output_type": "stream",
     "text": [
      "A =\n"
     ]
    },
    {
     "data": {
      "text/latex": [
       "$\\displaystyle \\left[\\begin{matrix}130.75 & 3.75 & 5.25 & 11.25\\\\0.0 & 0.0 & 0.0 & 0.0\\\\0.0 & 0.0 & 0.0 & 0.0\\\\16.5714 & 14.8571 & 25.4286 & 140.4286\\end{matrix}\\right]$"
      ],
      "text/plain": [
       "Matrix([\n",
       "[ 130.75,    3.75,    5.25,    11.25],\n",
       "[    0.0,     0.0,     0.0,      0.0],\n",
       "[    0.0,     0.0,     0.0,      0.0],\n",
       "[16.5714, 14.8571, 25.4286, 140.4286]])"
      ]
     },
     "metadata": {},
     "output_type": "display_data"
    },
    {
     "name": "stdout",
     "output_type": "stream",
     "text": [
      "B =\n"
     ]
    },
    {
     "data": {
      "text/latex": [
       "$\\displaystyle \\left[\\begin{matrix}310.2275\\\\0.0\\\\0.0\\\\-165.0229\\end{matrix}\\right]$"
      ],
      "text/plain": [
       "Matrix([\n",
       "[ 310.2275],\n",
       "[      0.0],\n",
       "[      0.0],\n",
       "[-165.0229]])"
      ]
     },
     "metadata": {},
     "output_type": "display_data"
    },
    {
     "name": "stdout",
     "output_type": "stream",
     "text": [
      "A|B=\n"
     ]
    },
    {
     "data": {
      "text/latex": [
       "$\\displaystyle \\left[\\begin{matrix}130.75 & 3.75 & 5.25 & 11.25 & 310.2275\\\\16.5714 & 14.8571 & 25.4286 & 140.4286 & -165.0229\\\\0 & 0 & 0 & 0 & 0\\\\0 & 0 & 0 & 0 & 0\\end{matrix}\\right]$"
      ],
      "text/plain": [
       "Matrix([\n",
       "[ 130.75,    3.75,    5.25,    11.25,  310.2275],\n",
       "[16.5714, 14.8571, 25.4286, 140.4286, -165.0229],\n",
       "[      0,       0,       0,        0,         0],\n",
       "[      0,       0,       0,        0,         0]])"
      ]
     },
     "metadata": {},
     "output_type": "display_data"
    },
    {
     "name": "stdout",
     "output_type": "stream",
     "text": [
      "Bước khử\n"
     ]
    },
    {
     "data": {
      "text/latex": [
       "$\\displaystyle \\left[\\begin{matrix}130.75 & 3.75 & 5.25 & 11.25 & 310.2275\\\\0 & 14.3818208413002 & 24.7632091778203 & 139.002762523901 & -204.341477388145\\\\0 & 0 & 0 & 0 & 0\\\\0 & 0 & 0 & 0 & 0\\end{matrix}\\right]$"
      ],
      "text/plain": [
       "Matrix([\n",
       "[130.75,             3.75,             5.25,            11.25,          310.2275],\n",
       "[     0, 14.3818208413002, 24.7632091778203, 139.002762523901, -204.341477388145],\n",
       "[     0,                0,                0,                0,                 0],\n",
       "[     0,                0,                0,                0,                 0]])"
      ]
     },
     "metadata": {},
     "output_type": "display_data"
    },
    {
     "name": "stdout",
     "output_type": "stream",
     "text": [
      "Bước khử\n"
     ]
    },
    {
     "data": {
      "text/latex": [
       "$\\displaystyle \\left[\\begin{matrix}130.75 & 3.75 & 5.25 & 11.25 & 310.2275\\\\0 & 14.3818208413002 & 24.7632091778203 & 139.002762523901 & -204.341477388145\\\\0 & 0 & 0 & 0 & 0\\\\0 & 0 & 0 & 0 & 0\\end{matrix}\\right]$"
      ],
      "text/plain": [
       "Matrix([\n",
       "[130.75,             3.75,             5.25,            11.25,          310.2275],\n",
       "[     0, 14.3818208413002, 24.7632091778203, 139.002762523901, -204.341477388145],\n",
       "[     0,                0,                0,                0,                 0],\n",
       "[     0,                0,                0,                0,                 0]])"
      ]
     },
     "metadata": {},
     "output_type": "display_data"
    },
    {
     "name": "stdout",
     "output_type": "stream",
     "text": [
      "Ma trận sau khi khử:\n"
     ]
    },
    {
     "data": {
      "text/latex": [
       "$\\displaystyle \\left[\\begin{matrix}130.75 & 3.75 & 5.25 & 11.25 & 310.2275\\\\0 & 14.3818208413002 & 24.7632091778203 & 139.002762523901 & -204.341477388145\\\\0 & 0 & 0 & 0 & 0\\\\0 & 0 & 0 & 0 & 0\\end{matrix}\\right]$"
      ],
      "text/plain": [
       "Matrix([\n",
       "[130.75,             3.75,             5.25,            11.25,          310.2275],\n",
       "[     0, 14.3818208413002, 24.7632091778203, 139.002762523901, -204.341477388145],\n",
       "[     0,                0,                0,                0,                 0],\n",
       "[     0,                0,                0,                0,                 0]])"
      ]
     },
     "metadata": {},
     "output_type": "display_data"
    },
    {
     "name": "stdout",
     "output_type": "stream",
     "text": [
      "index: [1, 2, 5, 5]\n",
      "missing index: [3, 4]\n",
      "Ma trận sau khi chuyển cột:\n"
     ]
    },
    {
     "data": {
      "text/latex": [
       "$\\displaystyle \\left[\\begin{matrix}130.75 & 3.75 & 310.2275 & -5.25 & -11.25\\\\0 & 14.3818208413002 & -204.341477388145 & -24.7632091778203 & -139.002762523901\\\\0 & 0 & 0 & 0 & 0\\\\0 & 0 & 0 & 0 & 0\\end{matrix}\\right]$"
      ],
      "text/plain": [
       "Matrix([\n",
       "[130.75,             3.75,          310.2275,             -5.25,            -11.25],\n",
       "[     0, 14.3818208413002, -204.341477388145, -24.7632091778203, -139.002762523901],\n",
       "[     0,                0,                 0,                 0,                 0],\n",
       "[     0,                0,                 0,                 0,                 0]])"
      ]
     },
     "metadata": {},
     "output_type": "display_data"
    },
    {
     "name": "stdout",
     "output_type": "stream",
     "text": [
      "Số phần tử tự do là 2: X[3, 4]. Nghiệm:\n"
     ]
    },
    {
     "data": {
      "text/latex": [
       "$\\displaystyle \\left[\\begin{matrix}2.78018119153851 & 0.00923062220984498 & 0.191161701735659\\\\-14.2083175449759 & -1.7218410277166 & -9.66517133384996\\end{matrix}\\right]$"
      ],
      "text/plain": [
       "Matrix([\n",
       "[ 2.78018119153851, 0.00923062220984498, 0.191161701735659],\n",
       "[-14.2083175449759,    -1.7218410277166, -9.66517133384996]])"
      ]
     },
     "metadata": {},
     "output_type": "display_data"
    }
   ],
   "source": [
    "A = Matrix(np.loadtxt(\"G_input_A.txt\"))\n",
    "print(\"A =\")\n",
    "display(A)\n",
    "print(\"B =\")\n",
    "B = Matrix(np.loadtxt(\"G_input_B.txt\"))\n",
    "display(B)\n",
    "print(\"A|B=\")\n",
    "X = gauss_solve(A,B)\n",
    "display(X)"
   ]
  }
 ],
 "metadata": {
  "kernelspec": {
   "display_name": "base",
   "language": "python",
   "name": "python3"
  },
  "language_info": {
   "codemirror_mode": {
    "name": "ipython",
    "version": 3
   },
   "file_extension": ".py",
   "mimetype": "text/x-python",
   "name": "python",
   "nbconvert_exporter": "python",
   "pygments_lexer": "ipython3",
   "version": "3.12.9"
  }
 },
 "nbformat": 4,
 "nbformat_minor": 5
}
